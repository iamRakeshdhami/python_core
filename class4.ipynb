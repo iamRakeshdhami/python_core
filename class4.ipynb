{
 "cells": [
  {
   "cell_type": "code",
   "execution_count": 4,
   "id": "788ad17e",
   "metadata": {},
   "outputs": [
    {
     "name": "stdout",
     "output_type": "stream",
     "text": [
      "     name  marks\n",
      "e   pappu     33\n",
      "f  gabbar     20\n",
      "g      pk     72\n",
      "h  rancho     84\n"
     ]
    }
   ],
   "source": [
    "import pandas as pd\n",
    "x = pd.DataFrame({\"name\":[\"ram\",\"shyam\",\"sita\",\"gita\",\"pappu\",\"gabbar\",\"pk\",\"rancho\"],\"marks\":[55,30,98,57,33,20,72,84],\"result\":[\"pass\",\"fail\",\"pass\",\"pass\",\"pass\",\"fail\",\"pass\",\"pass\"]},index=[\"a\",\"b\",\"c\",\"d\",\"e\",\"f\",\"g\",\"h\"])\n",
    "z =x.iloc[4:10,0:2]\n",
    "print(z)"
   ]
  },
  {
   "cell_type": "code",
   "execution_count": 10,
   "id": "35c07121",
   "metadata": {},
   "outputs": [],
   "source": [
    "import pandas as pd"
   ]
  },
  {
   "cell_type": "code",
   "execution_count": 11,
   "id": "0c13c84f",
   "metadata": {},
   "outputs": [
    {
     "name": "stdout",
     "output_type": "stream",
     "text": [
      "    name  marks\n",
      "a    ram     55\n",
      "b  shyam     30\n",
      "c   sita     98\n",
      "d   gita     57\n"
     ]
    }
   ],
   "source": [
    "# if you pass index than it put it in loc method:\n",
    "a = pd.DataFrame({\"name\":[\"ram\",\"shyam\",\"sita\",\"gita\",\"pappu\",\"gabbar\",\"pk\",\"rancho\"],\"marks\":[55,30,98,57,33,20,72,84],\"result\":[\"pass\",\"fail\",\"pass\",\"pass\",\"pass\",\"fail\",\"pass\",\"pass\"]},index=[\"a\",\"b\",\"c\",\"d\",\"e\",\"f\",\"g\",\"h\"])\n",
    "#print(a)\n",
    "b = a.loc[\"a\":\"d\",('name','marks')]\n",
    "print(b)"
   ]
  },
  {
   "cell_type": "code",
   "execution_count": 18,
   "id": "c0d8e84e",
   "metadata": {},
   "outputs": [
    {
     "name": "stdout",
     "output_type": "stream",
     "text": [
      "     name result\n",
      "a     ram   pass\n",
      "b   shyam   fail\n",
      "c    sita   pass\n",
      "d    gita   pass\n",
      "e   pappu   pass\n",
      "f  gabbar   fail\n",
      "g      pk   pass\n",
      "h  rancho   pass\n"
     ]
    }
   ],
   "source": [
    "# drop column and drop rows;\n",
    "# axis  = 1,show we can drop column wise data\n",
    "# axis= 0,  we can drop row wise data\n",
    "x = pd.DataFrame({\"name\":[\"ram\",\"shyam\",\"sita\",\"gita\",\"pappu\",\"gabbar\",\"pk\",\"rancho\"],\"marks\":[55,30,98,57,33,20,72,84],\"result\":[\"pass\",\"fail\",\"pass\",\"pass\",\"pass\",\"fail\",\"pass\",\"pass\"]},index=[\"a\",\"b\",\"c\",\"d\",\"e\",\"f\",\"g\",\"h\"])\n",
    "z = x.drop(\"marks\",axis=1)\n",
    "print(z)"
   ]
  },
  {
   "cell_type": "code",
   "execution_count": 19,
   "id": "fa3b99c6",
   "metadata": {},
   "outputs": [
    {
     "name": "stdout",
     "output_type": "stream",
     "text": [
      "     name  marks result\n",
      "b   shyam     30   fail\n",
      "d    gita     57   pass\n",
      "f  gabbar     20   fail\n",
      "g      pk     72   pass\n",
      "h  rancho     84   pass\n"
     ]
    }
   ],
   "source": [
    "x = pd.DataFrame({\"name\":[\"ram\",\"shyam\",\"sita\",\"gita\",\"pappu\",\"gabbar\",\"pk\",\"rancho\"],\"marks\":[55,30,98,57,33,20,72,84],\"result\":[\"pass\",\"fail\",\"pass\",\"pass\",\"pass\",\"fail\",\"pass\",\"pass\"]},index=[\"a\",\"b\",\"c\",\"d\",\"e\",\"f\",\"g\",\"h\"])\n",
    "z =x.drop([\"c\",\"a\",\"e\"],axis=0)\n",
    "print(z)"
   ]
  },
  {
   "cell_type": "raw",
   "id": "93f2f574",
   "metadata": {},
   "source": []
  },
  {
   "cell_type": "code",
   "execution_count": 20,
   "id": "28a70661",
   "metadata": {},
   "outputs": [
    {
     "name": "stdout",
     "output_type": "stream",
     "text": [
      "name      sita\n",
      "marks       98\n",
      "result    pass\n",
      "dtype: object\n"
     ]
    }
   ],
   "source": [
    "d = x.max()\n",
    "print(d)"
   ]
  },
  {
   "cell_type": "code",
   "execution_count": 21,
   "id": "f13848f5",
   "metadata": {},
   "outputs": [
    {
     "name": "stdout",
     "output_type": "stream",
     "text": [
      "name      gabbar\n",
      "marks         20\n",
      "result      fail\n",
      "dtype: object\n"
     ]
    }
   ],
   "source": [
    "b =x.min()\n",
    "print(b)"
   ]
  },
  {
   "cell_type": "code",
   "execution_count": 22,
   "id": "e25678b0",
   "metadata": {},
   "outputs": [
    {
     "name": "stdout",
     "output_type": "stream",
     "text": [
      "     name  marks result\n",
      "a     ram     55   pass\n",
      "b   shyam     30   fail\n",
      "c    sita     98   pass\n",
      "d    gita     57   pass\n",
      "e   pappu     33   pass\n",
      "f  gabbar     20   fail\n",
      "g      pk     72   pass\n",
      "h  rancho     84   pass\n"
     ]
    }
   ],
   "source": [
    "print(x)"
   ]
  },
  {
   "cell_type": "code",
   "execution_count": 27,
   "id": "d6199511",
   "metadata": {},
   "outputs": [
    {
     "name": "stdout",
     "output_type": "stream",
     "text": [
      "  Name  Marks\n",
      "1  abc     78\n",
      "2  xyz     76\n",
      "3  awd     92\n",
      "4  www     56\n",
      "5  fff     34\n",
      "6  ttt     89\n"
     ]
    }
   ],
   "source": [
    "x = pd.DataFrame({\"Name\":[\"abc\",\"xyz\",\"awd\"],\"Marks\":[78,76,92]},index =[1,2,3])\n",
    "y = pd.DataFrame({\"Name\":[\"www\",\"fff\",\"ttt\"],\"Marks\":[56,34,89]},index =[4,5,6])\n",
    "z = (x,y)\n",
    "w =pd.concat(z)\n",
    "print(w)\n"
   ]
  },
  {
   "cell_type": "code",
   "execution_count": 29,
   "id": "4ae47435",
   "metadata": {},
   "outputs": [
    {
     "name": "stdout",
     "output_type": "stream",
     "text": [
      "    Name  Marks\n",
      "1    abc     78\n",
      "2    xyz     76\n",
      "3    awd     92\n",
      "4    www     56\n",
      "5    fff     34\n",
      "6    ttt     89\n",
      "7   amit     76\n",
      "8   Arun     89\n",
      "9  kiran     87\n"
     ]
    }
   ],
   "source": [
    "x = pd.DataFrame({\"Name\":[\"abc\",\"xyz\",\"awd\"],\"Marks\":[78,76,92]},index =[1,2,3])\n",
    "y = pd.DataFrame({\"Name\":[\"www\",\"fff\",\"ttt\"],\"Marks\":[56,34,89]},index =[4,5,6])\n",
    "z = pd.DataFrame({\"Name\":[\"amit\",\"Arun\",\"kiran\"],\"Marks\":[76,89,87]},index =[7,8,9])\n",
    "t =(x,y,z)\n",
    "w = pd.concat(t)\n",
    "print(w)\n"
   ]
  },
  {
   "cell_type": "code",
   "execution_count": 32,
   "id": "fb715647",
   "metadata": {},
   "outputs": [
    {
     "name": "stdout",
     "output_type": "stream",
     "text": [
      "    Name  Marks\n",
      "7   amit     76\n",
      "8   Arun     89\n",
      "9  kiran     87\n",
      "1    abc     78\n",
      "2    xyz     76\n",
      "3    awd     92\n",
      "4    www     56\n",
      "5    fff     34\n",
      "6    ttt     89\n"
     ]
    }
   ],
   "source": [
    "p =(z,x,y)\n",
    "a = pd.concat(p)\n",
    "print(a)"
   ]
  },
  {
   "cell_type": "code",
   "execution_count": 1,
   "id": "1f64641e",
   "metadata": {},
   "outputs": [],
   "source": [
    "import pandas as pd"
   ]
  },
  {
   "cell_type": "code",
   "execution_count": 4,
   "id": "53a1dbec",
   "metadata": {},
   "outputs": [
    {
     "name": "stdout",
     "output_type": "stream",
     "text": [
      "  Name  Marks\n",
      "1  abc     78\n",
      "2  xyz     76\n",
      "3  awd     92\n",
      "4  www     56\n",
      "5  fff     34\n",
      "6  ttt     89\n"
     ]
    },
    {
     "name": "stderr",
     "output_type": "stream",
     "text": [
      "C:\\Users\\acer\\AppData\\Local\\Temp\\ipykernel_5484\\1461333198.py:3: FutureWarning: The frame.append method is deprecated and will be removed from pandas in a future version. Use pandas.concat instead.\n",
      "  z = x.append(y)\n"
     ]
    }
   ],
   "source": [
    "\n",
    "x = pd.DataFrame({\"Name\":[\"abc\",\"xyz\",\"awd\"],\"Marks\":[78,76,92]},index =[1,2,3])\n",
    "y = pd.DataFrame({\"Name\":[\"www\",\"fff\",\"ttt\"],\"Marks\":[56,34,89]},index =[4,5,6])\n",
    "z = x.append(y)\n",
    "print(z)"
   ]
  },
  {
   "cell_type": "code",
   "execution_count": 5,
   "id": "6f8a883f",
   "metadata": {},
   "outputs": [],
   "source": [
    " # use of merge"
   ]
  },
  {
   "cell_type": "code",
   "execution_count": 9,
   "id": "aba4d829",
   "metadata": {},
   "outputs": [
    {
     "name": "stdout",
     "output_type": "stream",
     "text": [
      "   Name_1  Marks\n",
      "0   akash     78\n",
      "1  arvind     76\n",
      "2   sahil     92\n",
      "3   binni     55\n",
      "4  dabbie     55\n",
      "   Name_2  Marks\n",
      "0   vinod     56\n",
      "1   rahul     34\n",
      "2   akash     89\n",
      "3   omkar     74\n",
      "4  dabbie     33\n"
     ]
    }
   ],
   "source": [
    "x = pd.DataFrame({\"Name_1\":[\"akash\",\"arvind\",\"sahil\",\"binni\",\"dabbie\"],\"Marks\":[78,76,92,55,55]})\n",
    "y = pd.DataFrame({\"Name_2\":[\"vinod\",\"rahul\",\"akash\",\"omkar\",\"dabbie\"],\"Marks\":[56,34,89,74,33]})\n",
    "print(x)\n",
    "print(y)"
   ]
  },
  {
   "cell_type": "code",
   "execution_count": 10,
   "id": "a503b39c",
   "metadata": {},
   "outputs": [
    {
     "name": "stdout",
     "output_type": "stream",
     "text": [
      "   Name_1  Marks_x  Name_2  Marks_y\n",
      "0   akash       78   akash       89\n",
      "1  dabbie       55  dabbie       33\n"
     ]
    }
   ],
   "source": [
    "z =pd.merge(left =x,right =y,how =\"inner\",left_on =\"Name_1\",right_on=\"Name_2\")\n",
    "print(z)"
   ]
  },
  {
   "cell_type": "code",
   "execution_count": 13,
   "id": "9a1f458b",
   "metadata": {},
   "outputs": [
    {
     "name": "stdout",
     "output_type": "stream",
     "text": [
      "   Name_1  Marks_x  Name_2  Marks_y  True\n",
      "0   akash       78   akash       89  both\n",
      "1  dabbie       55  dabbie       33  both\n"
     ]
    }
   ],
   "source": [
    "z =pd.merge(left =x,right =y,how =\"inner\",left_on =\"Name_1\",right_on=\"Name_2\",indicator =\"True\")\n",
    "print(z)"
   ]
  },
  {
   "cell_type": "code",
   "execution_count": 17,
   "id": "e47f0f1b",
   "metadata": {},
   "outputs": [
    {
     "name": "stdout",
     "output_type": "stream",
     "text": [
      "   Name_1  Marks_x  Name_2  Marks_y      _merge\n",
      "0   akash     78.0   akash     89.0        both\n",
      "1  arvind     76.0     NaN      NaN   left_only\n",
      "2   sahil     92.0     NaN      NaN   left_only\n",
      "3   binni     55.0     NaN      NaN   left_only\n",
      "4  dabbie     55.0  dabbie     33.0        both\n",
      "5     NaN      NaN   vinod     56.0  right_only\n",
      "6     NaN      NaN   rahul     34.0  right_only\n",
      "7     NaN      NaN   omkar     74.0  right_only\n"
     ]
    }
   ],
   "source": [
    "a = pd.DataFrame({\"Name_1\":[\"akash\",\"arvind\",\"sahil\",\"binni\",\"dabbie\"],\"Marks\":[78,76,92,55,55]})\n",
    "b = pd.DataFrame({\"Name_2\":[\"vinod\",\"rahul\",\"akash\",\"omkar\",\"dabbie\"],\"Marks\":[56,34,89,74,33]})\n",
    "c = pd.merge(left =a,right =b,how =\"outer\",left_on =\"Name_1\",right_on=\"Name_2\",indicator =True)\n",
    "print(c)"
   ]
  },
  {
   "cell_type": "code",
   "execution_count": 18,
   "id": "de682d54",
   "metadata": {},
   "outputs": [
    {
     "name": "stdout",
     "output_type": "stream",
     "text": [
      "   Name_1  Marks_x  Name_2  Marks_y      _merge\n",
      "0     NaN      NaN   vinod       56  right_only\n",
      "1     NaN      NaN   rahul       34  right_only\n",
      "2   akash     78.0   akash       89        both\n",
      "3     NaN      NaN   omkar       74  right_only\n",
      "4  dabbie     55.0  dabbie       33        both\n"
     ]
    }
   ],
   "source": [
    "a = pd.DataFrame({\"Name_1\":[\"akash\",\"arvind\",\"sahil\",\"binni\",\"dabbie\"],\"Marks\":[78,76,92,55,55]})\n",
    "b = pd.DataFrame({\"Name_2\":[\"vinod\",\"rahul\",\"akash\",\"omkar\",\"dabbie\"],\"Marks\":[56,34,89,74,33]})\n",
    "c = pd.merge(left =a,right =b,how =\"right\",left_on =\"Name_1\",right_on=\"Name_2\",indicator =True)\n",
    "print(c)"
   ]
  },
  {
   "cell_type": "code",
   "execution_count": 19,
   "id": "f513d04b",
   "metadata": {},
   "outputs": [
    {
     "name": "stdout",
     "output_type": "stream",
     "text": [
      "   Name_1  Marks_x  Name_2  Marks_y     _merge\n",
      "0   akash       78   akash     89.0       both\n",
      "1  arvind       76     NaN      NaN  left_only\n",
      "2   sahil       92     NaN      NaN  left_only\n",
      "3   binni       55     NaN      NaN  left_only\n",
      "4  dabbie       55  dabbie     33.0       both\n"
     ]
    }
   ],
   "source": [
    "a = pd.DataFrame({\"Name_1\":[\"akash\",\"arvind\",\"sahil\",\"binni\",\"dabbie\"],\"Marks\":[78,76,92,55,55]})\n",
    "b = pd.DataFrame({\"Name_2\":[\"vinod\",\"rahul\",\"akash\",\"omkar\",\"dabbie\"],\"Marks\":[56,34,89,74,33]})\n",
    "c = pd.merge(left =a,right =b,how =\"left\",left_on =\"Name_1\",right_on=\"Name_2\",indicator =True)\n",
    "print(c)"
   ]
  },
  {
   "cell_type": "code",
   "execution_count": 21,
   "id": "f1436c20",
   "metadata": {},
   "outputs": [
    {
     "name": "stdout",
     "output_type": "stream",
     "text": [
      "     Name  Marks_x  Marks_y _merge\n",
      "0   akash       78       89   both\n",
      "1  dabbie       55       33   both\n"
     ]
    }
   ],
   "source": [
    "a = pd.DataFrame({\"Name\":[\"akash\",\"arvind\",\"sahil\",\"binni\",\"dabbie\"],\"Marks\":[78,76,92,55,55]})\n",
    "b = pd.DataFrame({\"Name\":[\"vinod\",\"rahul\",\"akash\",\"omkar\",\"dabbie\"],\"Marks\":[56,34,89,74,33]})\n",
    "c = pd.merge(left =a,right =b,how =\"inner\",left_on =\"Name\",right_on=\"Name\",indicator =True)\n",
    "print(c)"
   ]
  },
  {
   "cell_type": "code",
   "execution_count": 22,
   "id": "ad874e88",
   "metadata": {},
   "outputs": [],
   "source": [
    "# group by aggrigate"
   ]
  },
  {
   "cell_type": "code",
   "execution_count": 28,
   "id": "f04c5493",
   "metadata": {},
   "outputs": [
    {
     "name": "stdout",
     "output_type": "stream",
     "text": [
      "<pandas.core.groupby.generic.DataFrameGroupBy object at 0x000001F405CA7E50>\n",
      "company                   google        tata       yahoo\n",
      "sales of india count    2.000000    2.000000    2.000000\n",
      "               mean   125.000000   95.000000  125.000000\n",
      "               std     35.355339    7.071068    7.071068\n",
      "               min    100.000000   90.000000  120.000000\n",
      "               25%    112.500000   92.500000  122.500000\n",
      "               50%    125.000000   95.000000  125.000000\n",
      "               75%    137.500000   97.500000  127.500000\n",
      "               max    150.000000  100.000000  130.000000\n"
     ]
    }
   ],
   "source": [
    "a = pd.DataFrame({\"company\":[\"google\",\"google\",\"yahoo\",\"yahoo\",\"tata\",\"tata\"],\"person\":[\"sonu\",\"rakesh\",\"dabbie\",\"mukesh\",\"saurav\",\"pk\"],\"sales of india\":[150,100,130,120,100,90]})\n",
    "z =(a.groupby(\"company\"))\n",
    "print(z)\n",
    "print(z.describe().transpose())"
   ]
  },
  {
   "cell_type": "code",
   "execution_count": 29,
   "id": "c3b05b1f",
   "metadata": {},
   "outputs": [
    {
     "data": {
      "text/html": [
       "<div>\n",
       "<style scoped>\n",
       "    .dataframe tbody tr th:only-of-type {\n",
       "        vertical-align: middle;\n",
       "    }\n",
       "\n",
       "    .dataframe tbody tr th {\n",
       "        vertical-align: top;\n",
       "    }\n",
       "\n",
       "    .dataframe thead tr th {\n",
       "        text-align: left;\n",
       "    }\n",
       "\n",
       "    .dataframe thead tr:last-of-type th {\n",
       "        text-align: right;\n",
       "    }\n",
       "</style>\n",
       "<table border=\"1\" class=\"dataframe\">\n",
       "  <thead>\n",
       "    <tr>\n",
       "      <th></th>\n",
       "      <th colspan=\"8\" halign=\"left\">sales of india</th>\n",
       "    </tr>\n",
       "    <tr>\n",
       "      <th></th>\n",
       "      <th>count</th>\n",
       "      <th>mean</th>\n",
       "      <th>std</th>\n",
       "      <th>min</th>\n",
       "      <th>25%</th>\n",
       "      <th>50%</th>\n",
       "      <th>75%</th>\n",
       "      <th>max</th>\n",
       "    </tr>\n",
       "    <tr>\n",
       "      <th>company</th>\n",
       "      <th></th>\n",
       "      <th></th>\n",
       "      <th></th>\n",
       "      <th></th>\n",
       "      <th></th>\n",
       "      <th></th>\n",
       "      <th></th>\n",
       "      <th></th>\n",
       "    </tr>\n",
       "  </thead>\n",
       "  <tbody>\n",
       "    <tr>\n",
       "      <th>google</th>\n",
       "      <td>2.0</td>\n",
       "      <td>125.0</td>\n",
       "      <td>35.355339</td>\n",
       "      <td>100.0</td>\n",
       "      <td>112.5</td>\n",
       "      <td>125.0</td>\n",
       "      <td>137.5</td>\n",
       "      <td>150.0</td>\n",
       "    </tr>\n",
       "    <tr>\n",
       "      <th>tata</th>\n",
       "      <td>2.0</td>\n",
       "      <td>95.0</td>\n",
       "      <td>7.071068</td>\n",
       "      <td>90.0</td>\n",
       "      <td>92.5</td>\n",
       "      <td>95.0</td>\n",
       "      <td>97.5</td>\n",
       "      <td>100.0</td>\n",
       "    </tr>\n",
       "    <tr>\n",
       "      <th>yahoo</th>\n",
       "      <td>2.0</td>\n",
       "      <td>125.0</td>\n",
       "      <td>7.071068</td>\n",
       "      <td>120.0</td>\n",
       "      <td>122.5</td>\n",
       "      <td>125.0</td>\n",
       "      <td>127.5</td>\n",
       "      <td>130.0</td>\n",
       "    </tr>\n",
       "  </tbody>\n",
       "</table>\n",
       "</div>"
      ],
      "text/plain": [
       "        sales of india                                                     \n",
       "                 count   mean        std    min    25%    50%    75%    max\n",
       "company                                                                    \n",
       "google             2.0  125.0  35.355339  100.0  112.5  125.0  137.5  150.0\n",
       "tata               2.0   95.0   7.071068   90.0   92.5   95.0   97.5  100.0\n",
       "yahoo              2.0  125.0   7.071068  120.0  122.5  125.0  127.5  130.0"
      ]
     },
     "execution_count": 29,
     "metadata": {},
     "output_type": "execute_result"
    }
   ],
   "source": [
    "z.describe()"
   ]
  },
  {
   "cell_type": "code",
   "execution_count": 39,
   "id": "a9961d5f",
   "metadata": {},
   "outputs": [
    {
     "data": {
      "text/html": [
       "<div>\n",
       "<style scoped>\n",
       "    .dataframe tbody tr th:only-of-type {\n",
       "        vertical-align: middle;\n",
       "    }\n",
       "\n",
       "    .dataframe tbody tr th {\n",
       "        vertical-align: top;\n",
       "    }\n",
       "\n",
       "    .dataframe thead th {\n",
       "        text-align: right;\n",
       "    }\n",
       "</style>\n",
       "<table border=\"1\" class=\"dataframe\">\n",
       "  <thead>\n",
       "    <tr style=\"text-align: right;\">\n",
       "      <th></th>\n",
       "      <th>sales of india</th>\n",
       "    </tr>\n",
       "    <tr>\n",
       "      <th>company</th>\n",
       "      <th></th>\n",
       "    </tr>\n",
       "  </thead>\n",
       "  <tbody>\n",
       "    <tr>\n",
       "      <th>google</th>\n",
       "      <td>100</td>\n",
       "    </tr>\n",
       "    <tr>\n",
       "      <th>tata</th>\n",
       "      <td>90</td>\n",
       "    </tr>\n",
       "    <tr>\n",
       "      <th>yahoo</th>\n",
       "      <td>120</td>\n",
       "    </tr>\n",
       "  </tbody>\n",
       "</table>\n",
       "</div>"
      ],
      "text/plain": [
       "         sales of india\n",
       "company                \n",
       "google              100\n",
       "tata                 90\n",
       "yahoo               120"
      ]
     },
     "execution_count": 39,
     "metadata": {},
     "output_type": "execute_result"
    }
   ],
   "source": [
    "z.min()"
   ]
  },
  {
   "cell_type": "code",
   "execution_count": 32,
   "id": "5ec85de1",
   "metadata": {},
   "outputs": [
    {
     "data": {
      "text/html": [
       "<div>\n",
       "<style scoped>\n",
       "    .dataframe tbody tr th:only-of-type {\n",
       "        vertical-align: middle;\n",
       "    }\n",
       "\n",
       "    .dataframe tbody tr th {\n",
       "        vertical-align: top;\n",
       "    }\n",
       "\n",
       "    .dataframe thead th {\n",
       "        text-align: right;\n",
       "    }\n",
       "</style>\n",
       "<table border=\"1\" class=\"dataframe\">\n",
       "  <thead>\n",
       "    <tr style=\"text-align: right;\">\n",
       "      <th></th>\n",
       "      <th>sales of india</th>\n",
       "    </tr>\n",
       "    <tr>\n",
       "      <th>company</th>\n",
       "      <th></th>\n",
       "    </tr>\n",
       "  </thead>\n",
       "  <tbody>\n",
       "    <tr>\n",
       "      <th>google</th>\n",
       "      <td>125.0</td>\n",
       "    </tr>\n",
       "    <tr>\n",
       "      <th>tata</th>\n",
       "      <td>95.0</td>\n",
       "    </tr>\n",
       "    <tr>\n",
       "      <th>yahoo</th>\n",
       "      <td>125.0</td>\n",
       "    </tr>\n",
       "  </tbody>\n",
       "</table>\n",
       "</div>"
      ],
      "text/plain": [
       "         sales of india\n",
       "company                \n",
       "google            125.0\n",
       "tata               95.0\n",
       "yahoo             125.0"
      ]
     },
     "execution_count": 32,
     "metadata": {},
     "output_type": "execute_result"
    }
   ],
   "source": [
    "z.mean()"
   ]
  },
  {
   "cell_type": "code",
   "execution_count": 43,
   "id": "c07a5417",
   "metadata": {},
   "outputs": [
    {
     "data": {
      "text/plain": [
       "person            rakesh\n",
       "sales of india       100\n",
       "Name: google, dtype: object"
      ]
     },
     "execution_count": 43,
     "metadata": {},
     "output_type": "execute_result"
    }
   ],
   "source": [
    "z.min().transpose()[\"google\"]"
   ]
  },
  {
   "cell_type": "code",
   "execution_count": 33,
   "id": "f3c3f5a0",
   "metadata": {},
   "outputs": [
    {
     "data": {
      "text/html": [
       "<div>\n",
       "<style scoped>\n",
       "    .dataframe tbody tr th:only-of-type {\n",
       "        vertical-align: middle;\n",
       "    }\n",
       "\n",
       "    .dataframe tbody tr th {\n",
       "        vertical-align: top;\n",
       "    }\n",
       "\n",
       "    .dataframe thead th {\n",
       "        text-align: right;\n",
       "    }\n",
       "</style>\n",
       "<table border=\"1\" class=\"dataframe\">\n",
       "  <thead>\n",
       "    <tr style=\"text-align: right;\">\n",
       "      <th></th>\n",
       "      <th>name</th>\n",
       "      <th>Marks</th>\n",
       "    </tr>\n",
       "    <tr>\n",
       "      <th>class</th>\n",
       "      <th></th>\n",
       "      <th></th>\n",
       "    </tr>\n",
       "  </thead>\n",
       "  <tbody>\n",
       "    <tr>\n",
       "      <th>fail</th>\n",
       "      <td>jay</td>\n",
       "      <td>20</td>\n",
       "    </tr>\n",
       "    <tr>\n",
       "      <th>pass</th>\n",
       "      <td>basanti</td>\n",
       "      <td>76</td>\n",
       "    </tr>\n",
       "  </tbody>\n",
       "</table>\n",
       "</div>"
      ],
      "text/plain": [
       "          name  Marks\n",
       "class                \n",
       "fail       jay     20\n",
       "pass   basanti     76"
      ]
     },
     "execution_count": 33,
     "metadata": {},
     "output_type": "execute_result"
    }
   ],
   "source": [
    "a = pd.DataFrame({\"class\":[\"pass\",\"pass\",\"pass\",\"fail\",\"fail\"],\"name\":[\"gabbar singh\",\"shambha\",\"basanti\",\"jay\",\"veeru\"],\"Marks\":[78,76,92,30,20]})\n",
    "b=a.groupby(\"class\")\n",
    "\n",
    "b.min()\n",
    "\n"
   ]
  },
  {
   "cell_type": "raw",
   "id": "024108b3",
   "metadata": {},
   "source": [
    "b.describe().transpose()"
   ]
  },
  {
   "cell_type": "code",
   "execution_count": 34,
   "id": "60dfa6d0",
   "metadata": {},
   "outputs": [
    {
     "data": {
      "text/html": [
       "<div>\n",
       "<style scoped>\n",
       "    .dataframe tbody tr th:only-of-type {\n",
       "        vertical-align: middle;\n",
       "    }\n",
       "\n",
       "    .dataframe tbody tr th {\n",
       "        vertical-align: top;\n",
       "    }\n",
       "\n",
       "    .dataframe thead th {\n",
       "        text-align: right;\n",
       "    }\n",
       "</style>\n",
       "<table border=\"1\" class=\"dataframe\">\n",
       "  <thead>\n",
       "    <tr style=\"text-align: right;\">\n",
       "      <th></th>\n",
       "      <th>name</th>\n",
       "      <th>Marks</th>\n",
       "    </tr>\n",
       "    <tr>\n",
       "      <th>class</th>\n",
       "      <th></th>\n",
       "      <th></th>\n",
       "    </tr>\n",
       "  </thead>\n",
       "  <tbody>\n",
       "    <tr>\n",
       "      <th>fail</th>\n",
       "      <td>veeru</td>\n",
       "      <td>30</td>\n",
       "    </tr>\n",
       "    <tr>\n",
       "      <th>pass</th>\n",
       "      <td>shambha</td>\n",
       "      <td>92</td>\n",
       "    </tr>\n",
       "  </tbody>\n",
       "</table>\n",
       "</div>"
      ],
      "text/plain": [
       "          name  Marks\n",
       "class                \n",
       "fail     veeru     30\n",
       "pass   shambha     92"
      ]
     },
     "execution_count": 34,
     "metadata": {},
     "output_type": "execute_result"
    }
   ],
   "source": [
    "b.max()"
   ]
  },
  {
   "cell_type": "code",
   "execution_count": 39,
   "id": "82cdf8ed",
   "metadata": {},
   "outputs": [
    {
     "data": {
      "text/plain": [
       "90"
      ]
     },
     "execution_count": 39,
     "metadata": {},
     "output_type": "execute_result"
    }
   ],
   "source": [
    "a=[10,50,60,80,90]\n",
    "min(a)\n",
    "max(a)\n"
   ]
  },
  {
   "cell_type": "code",
   "execution_count": null,
   "id": "7f581012",
   "metadata": {},
   "outputs": [],
   "source": []
  }
 ],
 "metadata": {
  "kernelspec": {
   "display_name": "Python 3 (ipykernel)",
   "language": "python",
   "name": "python3"
  },
  "language_info": {
   "codemirror_mode": {
    "name": "ipython",
    "version": 3
   },
   "file_extension": ".py",
   "mimetype": "text/x-python",
   "name": "python",
   "nbconvert_exporter": "python",
   "pygments_lexer": "ipython3",
   "version": "3.10.2"
  }
 },
 "nbformat": 4,
 "nbformat_minor": 5
}
