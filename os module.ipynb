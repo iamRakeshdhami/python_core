{
 "cells": [
  {
   "cell_type": "code",
   "execution_count": 1,
   "id": "251359c8",
   "metadata": {},
   "outputs": [
    {
     "ename": "SyntaxError",
     "evalue": "(unicode error) 'unicodeescape' codec can't decode bytes in position 2-3: truncated \\UXXXXXXXX escape (Temp/ipykernel_4052/3381184390.py, line 1)",
     "output_type": "error",
     "traceback": [
      "\u001b[1;36m  File \u001b[1;32m\"C:\\Users\\Hp\\AppData\\Local\\Temp/ipykernel_4052/3381184390.py\"\u001b[1;36m, line \u001b[1;32m1\u001b[0m\n\u001b[1;33m    \"C:\\Users\\Hp\\Downloads\\tree.dot\"\u001b[0m\n\u001b[1;37m                                    ^\u001b[0m\n\u001b[1;31mSyntaxError\u001b[0m\u001b[1;31m:\u001b[0m (unicode error) 'unicodeescape' codec can't decode bytes in position 2-3: truncated \\UXXXXXXXX escape\n"
     ]
    }
   ],
   "source": [
    "\"C:\\Users\\Hp\\Downloads\\tree.dot\""
   ]
  },
  {
   "cell_type": "code",
   "execution_count": 2,
   "id": "2537231d",
   "metadata": {},
   "outputs": [
    {
     "data": {
      "text/plain": [
       "'C:\\\\Users\\\\Hp\\\\Downloads\\\\tree.dot'"
      ]
     },
     "execution_count": 2,
     "metadata": {},
     "output_type": "execute_result"
    }
   ],
   "source": [
    "\"C:\\\\Users\\\\Hp\\\\Downloads\\\\tree.dot\""
   ]
  },
  {
   "cell_type": "code",
   "execution_count": 3,
   "id": "cd3467da",
   "metadata": {},
   "outputs": [
    {
     "data": {
      "text/plain": [
       "'C:\\\\Users\\\\Hp\\\\Downloads\\\\tree.dot'"
      ]
     },
     "execution_count": 3,
     "metadata": {},
     "output_type": "execute_result"
    }
   ],
   "source": [
    "r\"C:\\Users\\Hp\\Downloads\\tree.dot\""
   ]
  },
  {
   "cell_type": "code",
   "execution_count": 4,
   "id": "6f15b776",
   "metadata": {},
   "outputs": [],
   "source": [
    "import os"
   ]
  },
  {
   "cell_type": "code",
   "execution_count": 5,
   "id": "f9347578",
   "metadata": {},
   "outputs": [
    {
     "data": {
      "text/plain": [
       "'C:\\\\Users\\\\Hp\\\\Downloads'"
      ]
     },
     "execution_count": 5,
     "metadata": {},
     "output_type": "execute_result"
    }
   ],
   "source": [
    "os.getcwd()"
   ]
  },
  {
   "cell_type": "code",
   "execution_count": 6,
   "id": "8c7aa54c",
   "metadata": {},
   "outputs": [
    {
     "data": {
      "text/plain": [
       "['.ipynb_checkpoints',\n",
       " '10 am weekend  while for.ipynb',\n",
       " '2-D-Kalman-Filter-master',\n",
       " '2-D-Kalman-Filter-master.zip',\n",
       " '21+2+2022 9 am  svm .webm',\n",
       " '4050_assignment(1).html',\n",
       " '9 am 17.webm',\n",
       " '9 am tree.webm',\n",
       " 'archive',\n",
       " 'archive.zip',\n",
       " 'Bayes.webm',\n",
       " \"built in function , comprehensions' .ipynb\",\n",
       " 'class first.pdf',\n",
       " 'class-2.pdf',\n",
       " 'Cost+Benefit+Analysis.xlsx',\n",
       " 'Credit Card Transactions Fraud Detection Dataset.zip',\n",
       " 'desktop.ini',\n",
       " 'digits',\n",
       " 'dtype.png',\n",
       " 'face',\n",
       " 'face.zip',\n",
       " 'first.py',\n",
       " 'for loop.ipynb',\n",
       " 'greet.py',\n",
       " 'have.txt',\n",
       " 'hgh.py',\n",
       " 'if else.pdf',\n",
       " 'Kalman',\n",
       " 'KNN.webm',\n",
       " 'MachineLearning__R__Brett_Lantz.pdf',\n",
       " 'mask data',\n",
       " 'method for data types.ipynb',\n",
       " 'module.py',\n",
       " 'modules .ipynb',\n",
       " 'most_useful_function_in_numpy_python.ipynb',\n",
       " 'mydata.csv',\n",
       " 'mydata.txt',\n",
       " 'MySQL',\n",
       " 'Naive Bayes',\n",
       " 'nifti',\n",
       " 'Nifti code.ipynb',\n",
       " 'P1-nyc-park-crime-stats-q1-2018.pdf',\n",
       " 'P1-NYC-Parks-and-Public-Spaces-Spatial-Files',\n",
       " 'P1-NYC-Parks-and-Public-Spaces-Spatial-Files.zip',\n",
       " 'P1-Tableau-Course-Conclusion.pptx',\n",
       " 'py programming 12 pm.ipynb',\n",
       " 'PyAudio-0.2.11-cp39-cp39-win_amd64.whl',\n",
       " 'python operators .ipynb',\n",
       " 'python problem (1).docx',\n",
       " 'python problem.docx',\n",
       " 'Python-programming .ipynb',\n",
       " 'QQPLOT.CSV',\n",
       " 's.pdf',\n",
       " 'satender.ipynb',\n",
       " 'satender.py',\n",
       " 'satender2.py',\n",
       " 'second.py',\n",
       " 'speech-recognition_________________-.ipynb',\n",
       " 'speech____.py',\n",
       " 'String Data Type.ipynb',\n",
       " 'String data Type.pdf',\n",
       " 'Tableau Full course-20200617T142315Z-001',\n",
       " 'tree.dot',\n",
       " 'tree.ipynb',\n",
       " 'tree.png',\n",
       " 'Untitled.ipynb',\n",
       " 'Untitled1.ipynb',\n",
       " 'variable type.ipynb',\n",
       " 'while loop.ipynb',\n",
       " '__pycache__']"
      ]
     },
     "execution_count": 6,
     "metadata": {},
     "output_type": "execute_result"
    }
   ],
   "source": [
    "os.listdir()"
   ]
  },
  {
   "cell_type": "code",
   "execution_count": 8,
   "id": "63eb944f",
   "metadata": {},
   "outputs": [],
   "source": [
    "# os.listdir('C://Users//Hp//Desktop')"
   ]
  },
  {
   "cell_type": "code",
   "execution_count": 9,
   "id": "8a03a42b",
   "metadata": {},
   "outputs": [],
   "source": [
    "os.chdir('C://Users//Hp//Desktop')"
   ]
  },
  {
   "cell_type": "code",
   "execution_count": 10,
   "id": "ac80a741",
   "metadata": {},
   "outputs": [
    {
     "data": {
      "text/plain": [
       "'C:\\\\Users\\\\Hp\\\\Desktop'"
      ]
     },
     "execution_count": 10,
     "metadata": {},
     "output_type": "execute_result"
    }
   ],
   "source": [
    "os.getcwd()"
   ]
  },
  {
   "cell_type": "code",
   "execution_count": 11,
   "id": "c6f0c79e",
   "metadata": {},
   "outputs": [
    {
     "data": {
      "text/plain": [
       "['.ipynb_checkpoints',\n",
       " '03-Constant-Quasi-Constant-Duplicates',\n",
       " '05-ANN-Artificial-Neural-Networks.pptx',\n",
       " 'Abc.py',\n",
       " 'B parameter.png',\n",
       " 'decision Tree',\n",
       " 'desktop.ini',\n",
       " 'Digital Image Proccessing',\n",
       " 'djnagoClass',\n",
       " 'Exercises',\n",
       " 'face.py',\n",
       " 'feature-engineering-for-machine-learning-master',\n",
       " 'How to Give a Proper Self-Introduction in a Data Science Interview.txt',\n",
       " 'KalmanFilter__.py',\n",
       " 'MachineLearning__KNN.pdf',\n",
       " 'MRI',\n",
       " 'Naiye beyes',\n",
       " 'Naiye beyes.zip',\n",
       " 'natural language proccessing',\n",
       " 'project',\n",
       " 'python gui',\n",
       " 'Python module',\n",
       " 'Python module.zip',\n",
       " 'python-course',\n",
       " 'Py_DS_ML',\n",
       " 'R time.txt',\n",
       " 'rr.jpg',\n",
       " 'scikit-learn LinearRegression .ipynb',\n",
       " 'Stat-Sandeep',\n",
       " 'store procedure.txt',\n",
       " 'Table-of-Time-Series-Forecasting.png',\n",
       " 'Tableau.docx',\n",
       " 'Tensor Flow Google Developers',\n",
       " 'time series analysis',\n",
       " 'titanic.csv',\n",
       " 'tkinter',\n",
       " 'URLs+and+Views.jpg',\n",
       " 'venv',\n",
       " 'walframalpha.jpeg',\n",
       " 'ww.png']"
      ]
     },
     "execution_count": 11,
     "metadata": {},
     "output_type": "execute_result"
    }
   ],
   "source": [
    "os.listdir()"
   ]
  },
  {
   "cell_type": "code",
   "execution_count": 12,
   "id": "b883f5dc",
   "metadata": {},
   "outputs": [],
   "source": [
    "os.mkdir('DataScience')"
   ]
  },
  {
   "cell_type": "code",
   "execution_count": 13,
   "id": "3159e8f4",
   "metadata": {},
   "outputs": [],
   "source": [
    "os.mkdir('C:\\\\Users\\\\Hp\\\\Downloads\\\\Datasciencedojo')"
   ]
  },
  {
   "cell_type": "code",
   "execution_count": 14,
   "id": "4b2c18bb",
   "metadata": {},
   "outputs": [],
   "source": [
    "os.rmdir('C:\\\\Users\\\\Hp\\\\Downloads\\\\Datasciencedojo')"
   ]
  },
  {
   "cell_type": "code",
   "execution_count": 15,
   "id": "30fc0f25",
   "metadata": {},
   "outputs": [],
   "source": [
    "os.rmdir('DataScience')"
   ]
  },
  {
   "cell_type": "code",
   "execution_count": 16,
   "id": "719d9261",
   "metadata": {},
   "outputs": [],
   "source": [
    "os.chdir('C:\\\\Users\\\\Hp\\\\Downloads')"
   ]
  },
  {
   "cell_type": "code",
   "execution_count": 17,
   "id": "1dc37b5d",
   "metadata": {},
   "outputs": [],
   "source": [
    " s = '10 am weekend  while for.ipynb'\n",
    "\n",
    "os.rename(s, 'aaaaaaaaaaaaaaaaa.ipynb')"
   ]
  },
  {
   "cell_type": "code",
   "execution_count": 18,
   "id": "58ea8622",
   "metadata": {},
   "outputs": [],
   "source": [
    "os.remove('aaaaaaaaaaaaaaaaa.ipynb')"
   ]
  },
  {
   "cell_type": "code",
   "execution_count": 19,
   "id": "ad6c9669",
   "metadata": {},
   "outputs": [
    {
     "name": "stdout",
     "output_type": "stream",
     "text": [
      ".ipynb_checkpoints\n",
      "2-D-Kalman-Filter-master\n",
      "2-D-Kalman-Filter-master.zip\n",
      "21+2+2022 9 am  svm .webm\n",
      "4050_assignment(1).html\n",
      "9 am 17.webm\n",
      "9 am tree.webm\n",
      "archive\n",
      "archive.zip\n",
      "Bayes.webm\n",
      "built in function , comprehensions' .ipynb\n",
      "class first.pdf\n",
      "class-2.pdf\n",
      "Cost+Benefit+Analysis.xlsx\n",
      "Credit Card Transactions Fraud Detection Dataset.zip\n",
      "desktop.ini\n",
      "digits\n",
      "dtype.png\n",
      "face\n",
      "face.zip\n",
      "first.py\n",
      "for loop.ipynb\n",
      "greet.py\n",
      "have.txt\n",
      "hgh.py\n",
      "if else.pdf\n",
      "Kalman\n",
      "KNN.webm\n",
      "MachineLearning__R__Brett_Lantz.pdf\n",
      "mask data\n",
      "method for data types.ipynb\n",
      "module.py\n",
      "modules .ipynb\n",
      "most_useful_function_in_numpy_python.ipynb\n",
      "mydata.csv\n",
      "mydata.txt\n",
      "MySQL\n",
      "Naive Bayes\n",
      "nifti\n",
      "Nifti code.ipynb\n",
      "P1-nyc-park-crime-stats-q1-2018.pdf\n",
      "P1-NYC-Parks-and-Public-Spaces-Spatial-Files\n",
      "P1-NYC-Parks-and-Public-Spaces-Spatial-Files.zip\n",
      "P1-Tableau-Course-Conclusion.pptx\n",
      "py programming 12 pm.ipynb\n",
      "PyAudio-0.2.11-cp39-cp39-win_amd64.whl\n",
      "python operators .ipynb\n",
      "python problem (1).docx\n",
      "python problem.docx\n",
      "Python-programming .ipynb\n",
      "QQPLOT.CSV\n",
      "s.pdf\n",
      "satender.ipynb\n",
      "satender.py\n",
      "satender2.py\n",
      "second.py\n",
      "speech-recognition_________________-.ipynb\n",
      "speech____.py\n",
      "String Data Type.ipynb\n",
      "String data Type.pdf\n",
      "Tableau Full course-20200617T142315Z-001\n",
      "tree.dot\n",
      "tree.ipynb\n",
      "tree.png\n",
      "Untitled.ipynb\n",
      "Untitled1.ipynb\n",
      "variable type.ipynb\n",
      "while loop.ipynb\n",
      "__pycache__\n"
     ]
    }
   ],
   "source": [
    "# for data in os.listdir():\n",
    "#     print(data)\n",
    "#     os.remove(data)"
   ]
  },
  {
   "cell_type": "code",
   "execution_count": 20,
   "id": "03114ff6",
   "metadata": {},
   "outputs": [
    {
     "data": {
      "text/plain": [
       "os.stat_result(st_mode=33206, st_ino=13510798882306608, st_dev=3569990260, st_nlink=1, st_uid=0, st_gid=0, st_size=672, st_atime=1645337673, st_mtime=1642573093, st_ctime=1642484097)"
      ]
     },
     "execution_count": 20,
     "metadata": {},
     "output_type": "execute_result"
    }
   ],
   "source": [
    "os.stat('speech____.py')"
   ]
  },
  {
   "cell_type": "code",
   "execution_count": 21,
   "id": "83840090",
   "metadata": {},
   "outputs": [],
   "source": [
    "dt = os.stat('speech____.py')"
   ]
  },
  {
   "cell_type": "code",
   "execution_count": 22,
   "id": "5d1a8bda",
   "metadata": {},
   "outputs": [
    {
     "data": {
      "text/plain": [
       "1642573093.027672"
      ]
     },
     "execution_count": 22,
     "metadata": {},
     "output_type": "execute_result"
    }
   ],
   "source": [
    "dt.st_mtime"
   ]
  },
  {
   "cell_type": "code",
   "execution_count": 23,
   "id": "aa5393c3",
   "metadata": {},
   "outputs": [],
   "source": [
    "import time"
   ]
  },
  {
   "cell_type": "code",
   "execution_count": 24,
   "id": "11b791e5",
   "metadata": {},
   "outputs": [
    {
     "data": {
      "text/plain": [
       "'Wed Jan 19 11:48:13 2022'"
      ]
     },
     "execution_count": 24,
     "metadata": {},
     "output_type": "execute_result"
    }
   ],
   "source": [
    "time.ctime(dt.st_mtime)"
   ]
  },
  {
   "cell_type": "code",
   "execution_count": 25,
   "id": "77b96c07",
   "metadata": {},
   "outputs": [
    {
     "data": {
      "text/plain": [
       "'Tue Jan 18 11:04:57 2022'"
      ]
     },
     "execution_count": 25,
     "metadata": {},
     "output_type": "execute_result"
    }
   ],
   "source": [
    "time.ctime(dt.st_ctime)"
   ]
  },
  {
   "cell_type": "code",
   "execution_count": 26,
   "id": "4700b766",
   "metadata": {},
   "outputs": [
    {
     "data": {
      "text/plain": [
       "'Tue Feb 22 15:10:40 2022'"
      ]
     },
     "execution_count": 26,
     "metadata": {},
     "output_type": "execute_result"
    }
   ],
   "source": [
    "time.ctime(dt.st_atime)"
   ]
  },
  {
   "cell_type": "code",
   "execution_count": 27,
   "id": "33761dd2",
   "metadata": {},
   "outputs": [],
   "source": [
    "import datetime"
   ]
  },
  {
   "cell_type": "code",
   "execution_count": 28,
   "id": "a0a0cd33",
   "metadata": {},
   "outputs": [],
   "source": [
    "dt = datetime.date(2022,2,21)"
   ]
  },
  {
   "cell_type": "code",
   "execution_count": 29,
   "id": "44506efc",
   "metadata": {},
   "outputs": [
    {
     "data": {
      "text/plain": [
       "datetime.date(2022, 2, 21)"
      ]
     },
     "execution_count": 29,
     "metadata": {},
     "output_type": "execute_result"
    }
   ],
   "source": [
    "dt"
   ]
  },
  {
   "cell_type": "code",
   "execution_count": 30,
   "id": "f525edef",
   "metadata": {},
   "outputs": [
    {
     "name": "stdout",
     "output_type": "stream",
     "text": [
      ".ipynb_checkpoints : Mon Feb 14 09:29:39 2022\n",
      "2-D-Kalman-Filter-master : Sun Jan 16 20:11:51 2022\n",
      "2-D-Kalman-Filter-master.zip : Sun Jan 16 20:11:38 2022\n",
      "21+2+2022 9 am  svm .webm : Mon Feb 21 10:16:51 2022\n",
      "4050_assignment(1).html : Wed Jan 19 21:08:51 2022\n",
      "9 am 17.webm : Thu Feb 17 10:32:19 2022\n",
      "9 am tree.webm : Tue Feb 22 10:25:54 2022\n",
      "archive : Thu Feb 17 21:15:20 2022\n",
      "archive.zip : Thu Feb 17 21:12:00 2022\n",
      "Bayes.webm : Wed Feb 16 11:50:48 2022\n",
      "built in function , comprehensions' .ipynb : Thu Feb 17 14:40:08 2022\n",
      "class first.pdf : Mon Feb 14 13:40:31 2022\n",
      "class-2.pdf : Tue Feb 15 13:43:47 2022\n",
      "Cost+Benefit+Analysis.xlsx : Mon Feb 21 17:05:19 2022\n",
      "Credit Card Transactions Fraud Detection Dataset.zip : Mon Feb 21 17:07:23 2022\n",
      "desktop.ini : Sat Jul 31 05:02:12 2021\n",
      "digits : Mon Jan 31 10:06:55 2022\n",
      "dtype.png : Thu Feb 17 12:29:30 2022\n",
      "face : Sat Aug 14 13:54:27 2021\n",
      "face.zip : Sun Oct  3 16:43:39 2021\n",
      "first.py : Mon Feb 14 13:01:41 2022\n",
      "for loop.ipynb : Mon Feb 14 09:29:39 2022\n",
      "greet.py : Mon Feb 14 14:04:47 2022\n",
      "have.txt : Thu Jan 20 11:12:32 2022\n",
      "hgh.py : Mon Feb 14 14:11:55 2022\n",
      "if else.pdf : Sun Feb 20 13:48:01 2022\n",
      "Kalman : Thu Dec 23 15:55:03 2021\n",
      "KNN.webm : Tue Feb 15 10:32:20 2022\n",
      "MachineLearning__R__Brett_Lantz.pdf : Tue Feb 15 10:27:37 2022\n",
      "mask data : Thu Feb 17 21:15:05 2022\n",
      "method for data types.ipynb : Tue Feb 15 14:36:17 2022\n",
      "module.py : Mon Feb 21 15:03:22 2022\n",
      "modules .ipynb : Mon Feb 21 12:39:38 2022\n",
      "most_useful_function_in_numpy_python.ipynb : Mon Dec 13 10:05:53 2021\n",
      "mydata.csv : Thu Jan 20 11:22:49 2022\n",
      "mydata.txt : Thu Feb 17 13:30:20 2022\n",
      "MySQL : Sun Feb 13 11:33:15 2022\n",
      "Naive Bayes : Thu Feb 17 10:17:30 2022\n",
      "nifti : Fri Jan 14 11:14:34 2022\n",
      "Nifti code.ipynb : Fri Jan 14 11:39:57 2022\n",
      "P1-nyc-park-crime-stats-q1-2018.pdf : Sun Jan 16 10:44:31 2022\n",
      "P1-NYC-Parks-and-Public-Spaces-Spatial-Files : Sun Jan 16 11:12:17 2022\n",
      "P1-NYC-Parks-and-Public-Spaces-Spatial-Files.zip : Sun Jan 16 11:09:58 2022\n",
      "P1-Tableau-Course-Conclusion.pptx : Sun Jan 16 10:21:56 2022\n",
      "py programming 12 pm.ipynb : Sun Feb 20 10:15:02 2022\n",
      "PyAudio-0.2.11-cp39-cp39-win_amd64.whl : Mon Jan 17 11:31:48 2022\n",
      "python operators .ipynb : Mon Feb 14 13:11:36 2022\n",
      "python problem (1).docx : Sun Jan 16 17:27:02 2022\n",
      "python problem.docx : Sat Jan 15 10:06:18 2022\n",
      "Python-programming .ipynb : Sat Feb 19 10:18:48 2022\n",
      "QQPLOT.CSV : Thu Jan 20 11:21:37 2022\n",
      "s.pdf : Mon Feb 21 14:11:42 2022\n",
      "satender.ipynb : Tue Feb 15 12:38:52 2022\n",
      "satender.py : Tue Feb 15 12:33:04 2022\n",
      "satender2.py : Tue Feb 15 12:35:47 2022\n",
      "second.py : Mon Feb 14 13:04:14 2022\n",
      "speech-recognition_________________-.ipynb : Mon Jan 17 10:46:09 2022\n",
      "speech____.py : Tue Jan 18 11:04:57 2022\n",
      "String Data Type.ipynb : Thu Feb 17 12:05:05 2022\n",
      "String data Type.pdf : Thu Feb 17 13:42:43 2022\n",
      "Tableau Full course-20200617T142315Z-001 : Sat Dec 25 10:23:58 2021\n",
      "tree.dot : Tue Feb 22 09:25:17 2022\n",
      "tree.ipynb : Tue Feb 22 09:12:35 2022\n",
      "tree.png : Tue Feb 22 09:32:46 2022\n",
      "Untitled.ipynb : Tue Feb 22 14:49:26 2022\n",
      "Untitled1.ipynb : Thu Feb 17 16:26:26 2022\n",
      "variable type.ipynb : Wed Feb 16 14:54:11 2022\n",
      "while loop.ipynb : Thu Jan 27 14:36:14 2022\n",
      "__pycache__ : Mon Feb 21 15:03:41 2022\n"
     ]
    }
   ],
   "source": [
    "for data in os.listdir():\n",
    "    st = os.stat(data)\n",
    "    dt = time.ctime(st.st_ctime)\n",
    "    print(data , ':', dt)\n",
    "    \n",
    "    "
   ]
  },
  {
   "cell_type": "code",
   "execution_count": 31,
   "id": "23b5f437",
   "metadata": {},
   "outputs": [
    {
     "data": {
      "text/plain": [
       "time.struct_time(tm_year=2022, tm_mon=2, tm_mday=22, tm_hour=15, tm_min=20, tm_sec=40, tm_wday=1, tm_yday=53, tm_isdst=0)"
      ]
     },
     "execution_count": 31,
     "metadata": {},
     "output_type": "execute_result"
    }
   ],
   "source": [
    "time.localtime()"
   ]
  },
  {
   "cell_type": "code",
   "execution_count": 32,
   "id": "f0454e9f",
   "metadata": {},
   "outputs": [],
   "source": [
    "x = time.localtime()"
   ]
  },
  {
   "cell_type": "code",
   "execution_count": 35,
   "id": "6263ee98",
   "metadata": {},
   "outputs": [
    {
     "data": {
      "text/plain": [
       "datetime.date(2022, 2, 22)"
      ]
     },
     "execution_count": 35,
     "metadata": {},
     "output_type": "execute_result"
    }
   ],
   "source": [
    "datetime.date(x.tm_year,x.tm_mon,x.tm_mday)"
   ]
  },
  {
   "cell_type": "code",
   "execution_count": 36,
   "id": "6fe5c751",
   "metadata": {},
   "outputs": [],
   "source": [
    "y  = datetime.date(x.tm_year,x.tm_mon,x.tm_mday)"
   ]
  },
  {
   "cell_type": "code",
   "execution_count": 39,
   "id": "f0fff7bd",
   "metadata": {},
   "outputs": [],
   "source": [
    "dt = datetime.date(2022,2,22)"
   ]
  },
  {
   "cell_type": "code",
   "execution_count": 40,
   "id": "6c6021c9",
   "metadata": {},
   "outputs": [
    {
     "data": {
      "text/plain": [
       "True"
      ]
     },
     "execution_count": 40,
     "metadata": {},
     "output_type": "execute_result"
    }
   ],
   "source": [
    "dt == y"
   ]
  },
  {
   "cell_type": "code",
   "execution_count": 44,
   "id": "9eb6cd65",
   "metadata": {},
   "outputs": [
    {
     "data": {
      "text/plain": [
       "1"
      ]
     },
     "execution_count": 44,
     "metadata": {},
     "output_type": "execute_result"
    }
   ],
   "source": [
    "os.system('py speech____.py')"
   ]
  },
  {
   "cell_type": "code",
   "execution_count": 43,
   "id": "93dde1bb",
   "metadata": {},
   "outputs": [],
   "source": [
    "# os.system('osk')"
   ]
  },
  {
   "cell_type": "code",
   "execution_count": 45,
   "id": "aec91d53",
   "metadata": {},
   "outputs": [
    {
     "data": {
      "text/plain": [
       "'dsfds.py'"
      ]
     },
     "execution_count": 45,
     "metadata": {},
     "output_type": "execute_result"
    }
   ],
   "source": [
    "os.path.basename(\"dfsd\\\\dsfsd\\\\sdfsdf\\\\sdfsdf\\\\dsfds.py\")"
   ]
  },
  {
   "cell_type": "code",
   "execution_count": 46,
   "id": "49150844",
   "metadata": {},
   "outputs": [
    {
     "data": {
      "text/plain": [
       "'dfsd\\\\dsfsd\\\\sdfsdf\\\\sdfsdf'"
      ]
     },
     "execution_count": 46,
     "metadata": {},
     "output_type": "execute_result"
    }
   ],
   "source": [
    "os.path.dirname(\"dfsd\\\\dsfsd\\\\sdfsdf\\\\sdfsdf\\\\dsfds.py\")"
   ]
  },
  {
   "cell_type": "code",
   "execution_count": 47,
   "id": "de8f71f6",
   "metadata": {},
   "outputs": [
    {
     "data": {
      "text/plain": [
       "('dfsd\\\\dsfsd\\\\sdfsdf\\\\sdfsdf', 'dsfds.py')"
      ]
     },
     "execution_count": 47,
     "metadata": {},
     "output_type": "execute_result"
    }
   ],
   "source": [
    "os.path.split(\"dfsd\\\\dsfsd\\\\sdfsdf\\\\sdfsdf\\\\dsfds.py\")"
   ]
  },
  {
   "cell_type": "code",
   "execution_count": 49,
   "id": "a33d043a",
   "metadata": {},
   "outputs": [
    {
     "data": {
      "text/plain": [
       "'\"dfsd\\\\dsfsd\\\\sdfsdf\\\\sdfsdf\\\\hellp.py'"
      ]
     },
     "execution_count": 49,
     "metadata": {},
     "output_type": "execute_result"
    }
   ],
   "source": [
    "os.path.join('\"dfsd\\\\dsfsd\\\\sdfsdf\\\\sdfsdf', 'hellp.py')"
   ]
  },
  {
   "cell_type": "code",
   "execution_count": null,
   "id": "53c17340",
   "metadata": {},
   "outputs": [],
   "source": []
  }
 ],
 "metadata": {
  "kernelspec": {
   "display_name": "Python 3 (ipykernel)",
   "language": "python",
   "name": "python3"
  },
  "language_info": {
   "codemirror_mode": {
    "name": "ipython",
    "version": 3
   },
   "file_extension": ".py",
   "mimetype": "text/x-python",
   "name": "python",
   "nbconvert_exporter": "python",
   "pygments_lexer": "ipython3",
   "version": "3.9.6"
  }
 },
 "nbformat": 4,
 "nbformat_minor": 5
}
