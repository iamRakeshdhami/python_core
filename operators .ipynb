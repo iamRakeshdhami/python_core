{
 "cells": [
  {
   "cell_type": "code",
   "execution_count": 70,
   "id": "e5dc5506",
   "metadata": {},
   "outputs": [],
   "source": [
    "e ={101: 43, 102: 25, 103: 43, 104: 31, 105: 26, 106: 28, 107: 29,\n",
    "    108: 43, 109: 25, 110: 22, 111: 22, 112: 25, 113: 30, 115: 45, 116: 23,\n",
    "    117: 29, 118: 28, 119: 30, 120: 28, 121: 42, 122: 39, 123: 29, 124: 42,\n",
    "    125: 43, 126: 42, 127: 40, 128: 27, 129: 23, 130: 30, 131: 37, 132: 20, \n",
    "    133: 36, 134: 27, 135: 27, 136: 22, 137: 28, 138: 23, 139: 45, 140: 39,\n",
    "    141: 29, 142: 33, 143: 39, 145: 34, 146: 26, 147: 30, 148: 38, 149: 29,\n",
    "    150: 24, 151: 28, 152: 34, 153: 42, 154: 29, 155: 23, 156: 31, 158: 25, \n",
    "    160: 45, 161: 42, 162: 27, 163: 24, 164: 20, 166: 24, 167: 28, 168: 20,\n",
    "    169: 33, 170: 34, 171: 37, 172: 45, 173: 35, 174: 23, 175: 44, 176: 27,\n",
    "    177: 30, 178: 26, 179: 27} "
   ]
  },
  {
   "cell_type": "code",
   "execution_count": 71,
   "id": "fceadf67",
   "metadata": {},
   "outputs": [
    {
     "data": {
      "text/plain": [
       "74"
      ]
     },
     "execution_count": 71,
     "metadata": {},
     "output_type": "execute_result"
    }
   ],
   "source": [
    "len(e)"
   ]
  },
  {
   "cell_type": "code",
   "execution_count": 72,
   "id": "eab38ee7",
   "metadata": {},
   "outputs": [
    {
     "data": {
      "text/plain": [
       "dict_keys([101, 102, 103, 104, 105, 106, 107, 108, 109, 110, 111, 112, 113, 115, 116, 117, 118, 119, 120, 121, 122, 123, 124, 125, 126, 127, 128, 129, 130, 131, 132, 133, 134, 135, 136, 137, 138, 139, 140, 141, 142, 143, 145, 146, 147, 148, 149, 150, 151, 152, 153, 154, 155, 156, 158, 160, 161, 162, 163, 164, 166, 167, 168, 169, 170, 171, 172, 173, 174, 175, 176, 177, 178, 179])"
      ]
     },
     "execution_count": 72,
     "metadata": {},
     "output_type": "execute_result"
    }
   ],
   "source": [
    "eid = e.keys()\n",
    "eid"
   ]
  },
  {
   "cell_type": "code",
   "execution_count": 74,
   "id": "66dd17b6",
   "metadata": {},
   "outputs": [
    {
     "data": {
      "text/plain": [
       "dict_values([43, 25, 43, 31, 26, 28, 29, 43, 25, 22, 22, 25, 30, 45, 23, 29, 28, 30, 28, 42, 39, 29, 42, 43, 42, 40, 27, 23, 30, 37, 20, 36, 27, 27, 22, 28, 23, 45, 39, 29, 33, 39, 34, 26, 30, 38, 29, 24, 28, 34, 42, 29, 23, 31, 25, 45, 42, 27, 24, 20, 24, 28, 20, 33, 34, 37, 45, 35, 23, 44, 27, 30, 26, 27])"
      ]
     },
     "execution_count": 74,
     "metadata": {},
     "output_type": "execute_result"
    }
   ],
   "source": [
    "eage = e.values()\n",
    "eage"
   ]
  },
  {
   "cell_type": "code",
   "execution_count": 75,
   "id": "9d15aedc",
   "metadata": {},
   "outputs": [
    {
     "data": {
      "text/plain": [
       "45"
      ]
     },
     "execution_count": 75,
     "metadata": {},
     "output_type": "execute_result"
    }
   ],
   "source": [
    "max(eage)"
   ]
  },
  {
   "cell_type": "code",
   "execution_count": 76,
   "id": "eaef489d",
   "metadata": {},
   "outputs": [
    {
     "ename": "KeyError",
     "evalue": "159",
     "output_type": "error",
     "traceback": [
      "\u001b[1;31m---------------------------------------------------------------------------\u001b[0m",
      "\u001b[1;31mKeyError\u001b[0m                                  Traceback (most recent call last)",
      "\u001b[1;32m~\\AppData\\Local\\Temp/ipykernel_11256/2569408545.py\u001b[0m in \u001b[0;36m<module>\u001b[1;34m\u001b[0m\n\u001b[1;32m----> 1\u001b[1;33m \u001b[0me\u001b[0m\u001b[1;33m[\u001b[0m\u001b[1;36m159\u001b[0m\u001b[1;33m]\u001b[0m\u001b[1;33m\u001b[0m\u001b[1;33m\u001b[0m\u001b[0m\n\u001b[0m",
      "\u001b[1;31mKeyError\u001b[0m: 159"
     ]
    }
   ],
   "source": [
    "e[159]"
   ]
  },
  {
   "cell_type": "code",
   "execution_count": 77,
   "id": "9ce54576",
   "metadata": {},
   "outputs": [
    {
     "data": {
      "text/plain": [
       "31.364864864864863"
      ]
     },
     "execution_count": 77,
     "metadata": {},
     "output_type": "execute_result"
    }
   ],
   "source": [
    "sum(eage)/len(e)"
   ]
  },
  {
   "cell_type": "code",
   "execution_count": 78,
   "id": "509096c3",
   "metadata": {},
   "outputs": [
    {
     "data": {
      "text/plain": [
       "31"
      ]
     },
     "execution_count": 78,
     "metadata": {},
     "output_type": "execute_result"
    }
   ],
   "source": [
    "round(sum(eage)/len(e))"
   ]
  },
  {
   "cell_type": "code",
   "execution_count": 79,
   "id": "6ed7681c",
   "metadata": {},
   "outputs": [
    {
     "data": {
      "text/plain": [
       "31.36"
      ]
     },
     "execution_count": 79,
     "metadata": {},
     "output_type": "execute_result"
    }
   ],
   "source": [
    "round(sum(eage)/len(e),2)"
   ]
  },
  {
   "cell_type": "code",
   "execution_count": 80,
   "id": "a31c7e33",
   "metadata": {},
   "outputs": [],
   "source": [
    "e[104] = e[140] = e[164] = 27"
   ]
  },
  {
   "cell_type": "code",
   "execution_count": 81,
   "id": "caefdbcf",
   "metadata": {},
   "outputs": [],
   "source": [
    "del e[143]"
   ]
  },
  {
   "cell_type": "code",
   "execution_count": 84,
   "id": "d92ec617",
   "metadata": {},
   "outputs": [
    {
     "data": {
      "text/plain": [
       "31.137"
      ]
     },
     "execution_count": 84,
     "metadata": {},
     "output_type": "execute_result"
    }
   ],
   "source": [
    "round(sum(e.values())/len(e),3)"
   ]
  },
  {
   "cell_type": "code",
   "execution_count": 85,
   "id": "edf78997",
   "metadata": {},
   "outputs": [],
   "source": [
    "#####################"
   ]
  },
  {
   "cell_type": "code",
   "execution_count": 86,
   "id": "e1d49584",
   "metadata": {},
   "outputs": [],
   "source": [
    "keys = e.keys()\n",
    "values = e.values()"
   ]
  },
  {
   "cell_type": "code",
   "execution_count": 88,
   "id": "1984a68e",
   "metadata": {},
   "outputs": [
    {
     "data": {
      "text/plain": [
       "23"
      ]
     },
     "execution_count": 88,
     "metadata": {},
     "output_type": "execute_result"
    }
   ],
   "source": [
    "len(set(values))"
   ]
  },
  {
   "cell_type": "code",
   "execution_count": 90,
   "id": "f8b49b83",
   "metadata": {},
   "outputs": [
    {
     "data": {
      "text/plain": [
       "[(0, 43),\n",
       " (1, 25),\n",
       " (2, 43),\n",
       " (3, 27),\n",
       " (4, 26),\n",
       " (5, 28),\n",
       " (6, 29),\n",
       " (7, 43),\n",
       " (8, 25),\n",
       " (9, 22),\n",
       " (10, 22),\n",
       " (11, 25),\n",
       " (12, 30),\n",
       " (13, 45),\n",
       " (14, 23),\n",
       " (15, 29),\n",
       " (16, 28),\n",
       " (17, 30),\n",
       " (18, 28),\n",
       " (19, 42),\n",
       " (20, 39),\n",
       " (21, 29),\n",
       " (22, 42),\n",
       " (23, 43),\n",
       " (24, 42),\n",
       " (25, 40),\n",
       " (26, 27),\n",
       " (27, 23),\n",
       " (28, 30),\n",
       " (29, 37),\n",
       " (30, 20),\n",
       " (31, 36),\n",
       " (32, 27),\n",
       " (33, 27),\n",
       " (34, 22),\n",
       " (35, 28),\n",
       " (36, 23),\n",
       " (37, 45),\n",
       " (38, 27),\n",
       " (39, 29),\n",
       " (40, 33),\n",
       " (41, 34),\n",
       " (42, 26),\n",
       " (43, 30),\n",
       " (44, 38),\n",
       " (45, 29),\n",
       " (46, 24),\n",
       " (47, 28),\n",
       " (48, 34),\n",
       " (49, 42),\n",
       " (50, 29),\n",
       " (51, 23),\n",
       " (52, 31),\n",
       " (53, 25),\n",
       " (54, 45),\n",
       " (55, 42),\n",
       " (56, 27),\n",
       " (57, 24),\n",
       " (58, 27),\n",
       " (59, 24),\n",
       " (60, 28),\n",
       " (61, 20),\n",
       " (62, 33),\n",
       " (63, 34),\n",
       " (64, 37),\n",
       " (65, 45),\n",
       " (66, 35),\n",
       " (67, 23),\n",
       " (68, 44),\n",
       " (69, 27),\n",
       " (70, 30),\n",
       " (71, 26),\n",
       " (72, 27)]"
      ]
     },
     "execution_count": 90,
     "metadata": {},
     "output_type": "execute_result"
    }
   ],
   "source": [
    "list(enumerate(values))"
   ]
  },
  {
   "cell_type": "code",
   "execution_count": 91,
   "id": "e9b8c690",
   "metadata": {},
   "outputs": [
    {
     "data": {
      "text/plain": [
       "[(0, 101),\n",
       " (1, 102),\n",
       " (2, 103),\n",
       " (3, 104),\n",
       " (4, 105),\n",
       " (5, 106),\n",
       " (6, 107),\n",
       " (7, 108),\n",
       " (8, 109),\n",
       " (9, 110),\n",
       " (10, 111),\n",
       " (11, 112),\n",
       " (12, 113),\n",
       " (13, 115),\n",
       " (14, 116),\n",
       " (15, 117),\n",
       " (16, 118),\n",
       " (17, 119),\n",
       " (18, 120),\n",
       " (19, 121),\n",
       " (20, 122),\n",
       " (21, 123),\n",
       " (22, 124),\n",
       " (23, 125),\n",
       " (24, 126),\n",
       " (25, 127),\n",
       " (26, 128),\n",
       " (27, 129),\n",
       " (28, 130),\n",
       " (29, 131),\n",
       " (30, 132),\n",
       " (31, 133),\n",
       " (32, 134),\n",
       " (33, 135),\n",
       " (34, 136),\n",
       " (35, 137),\n",
       " (36, 138),\n",
       " (37, 139),\n",
       " (38, 140),\n",
       " (39, 141),\n",
       " (40, 142),\n",
       " (41, 145),\n",
       " (42, 146),\n",
       " (43, 147),\n",
       " (44, 148),\n",
       " (45, 149),\n",
       " (46, 150),\n",
       " (47, 151),\n",
       " (48, 152),\n",
       " (49, 153),\n",
       " (50, 154),\n",
       " (51, 155),\n",
       " (52, 156),\n",
       " (53, 158),\n",
       " (54, 160),\n",
       " (55, 161),\n",
       " (56, 162),\n",
       " (57, 163),\n",
       " (58, 164),\n",
       " (59, 166),\n",
       " (60, 167),\n",
       " (61, 168),\n",
       " (62, 169),\n",
       " (63, 170),\n",
       " (64, 171),\n",
       " (65, 172),\n",
       " (66, 173),\n",
       " (67, 174),\n",
       " (68, 175),\n",
       " (69, 176),\n",
       " (70, 177),\n",
       " (71, 178),\n",
       " (72, 179)]"
      ]
     },
     "execution_count": 91,
     "metadata": {},
     "output_type": "execute_result"
    }
   ],
   "source": [
    "list(enumerate(keys))"
   ]
  },
  {
   "cell_type": "code",
   "execution_count": 92,
   "id": "870a26ab",
   "metadata": {},
   "outputs": [
    {
     "data": {
      "text/plain": [
       "45"
      ]
     },
     "execution_count": 92,
     "metadata": {},
     "output_type": "execute_result"
    }
   ],
   "source": [
    "e[115]"
   ]
  },
  {
   "cell_type": "code",
   "execution_count": 95,
   "id": "e6e07355",
   "metadata": {},
   "outputs": [
    {
     "data": {
      "text/plain": [
       "False"
      ]
     },
     "execution_count": 95,
     "metadata": {},
     "output_type": "execute_result"
    }
   ],
   "source": [
    "not True"
   ]
  },
  {
   "cell_type": "code",
   "execution_count": 96,
   "id": "5ff346ce",
   "metadata": {},
   "outputs": [],
   "source": [
    "# operators "
   ]
  },
  {
   "cell_type": "code",
   "execution_count": 97,
   "id": "b331aea7",
   "metadata": {},
   "outputs": [],
   "source": [
    "# + - *   /   //   %   **"
   ]
  },
  {
   "cell_type": "code",
   "execution_count": 98,
   "id": "7912239f",
   "metadata": {},
   "outputs": [
    {
     "data": {
      "text/plain": [
       "57"
      ]
     },
     "execution_count": 98,
     "metadata": {},
     "output_type": "execute_result"
    }
   ],
   "source": [
    "23+34"
   ]
  },
  {
   "cell_type": "code",
   "execution_count": 99,
   "id": "995bbc04",
   "metadata": {},
   "outputs": [
    {
     "data": {
      "text/plain": [
       "1.0"
      ]
     },
     "execution_count": 99,
     "metadata": {},
     "output_type": "execute_result"
    }
   ],
   "source": [
    "23/23"
   ]
  },
  {
   "cell_type": "code",
   "execution_count": 100,
   "id": "71f0730c",
   "metadata": {},
   "outputs": [
    {
     "data": {
      "text/plain": [
       "1.2"
      ]
     },
     "execution_count": 100,
     "metadata": {},
     "output_type": "execute_result"
    }
   ],
   "source": [
    "12/10"
   ]
  },
  {
   "cell_type": "code",
   "execution_count": 101,
   "id": "11b58b9d",
   "metadata": {},
   "outputs": [
    {
     "data": {
      "text/plain": [
       "12"
      ]
     },
     "execution_count": 101,
     "metadata": {},
     "output_type": "execute_result"
    }
   ],
   "source": [
    "121//10"
   ]
  },
  {
   "cell_type": "code",
   "execution_count": 102,
   "id": "8ae69793",
   "metadata": {},
   "outputs": [
    {
     "data": {
      "text/plain": [
       "1"
      ]
     },
     "execution_count": 102,
     "metadata": {},
     "output_type": "execute_result"
    }
   ],
   "source": [
    "121%10"
   ]
  },
  {
   "cell_type": "code",
   "execution_count": 106,
   "id": "94b5f1e9",
   "metadata": {},
   "outputs": [
    {
     "data": {
      "text/plain": [
       "0"
      ]
     },
     "execution_count": 106,
     "metadata": {},
     "output_type": "execute_result"
    }
   ],
   "source": [
    "2233%11"
   ]
  },
  {
   "cell_type": "code",
   "execution_count": 107,
   "id": "d76f10a7",
   "metadata": {},
   "outputs": [
    {
     "data": {
      "text/plain": [
       "23456"
      ]
     },
     "execution_count": 107,
     "metadata": {},
     "output_type": "execute_result"
    }
   ],
   "source": [
    "n = 234567\n",
    "n//10"
   ]
  },
  {
   "cell_type": "code",
   "execution_count": 110,
   "id": "7a9dad6b",
   "metadata": {},
   "outputs": [
    {
     "name": "stdout",
     "output_type": "stream",
     "text": [
      "7\n",
      "6\n",
      "5\n",
      "4\n",
      "3\n",
      "2\n",
      "0\n"
     ]
    }
   ],
   "source": [
    "n = 234567\n",
    "print(n%10)\n",
    "n = n//10 # 23456\n",
    "print(n%10)\n",
    "n = n//10 #2345\n",
    "print(n%10)\n",
    "n = n//10 # 234\n",
    "print(n%10)\n",
    "n = n//10 # 23\n",
    "print(n%10)\n",
    "n = n//10 # 2\n",
    "print(n%10)\n",
    "n = n//10 # 0\n",
    "print(n%10)"
   ]
  },
  {
   "cell_type": "code",
   "execution_count": 120,
   "id": "bd49cdfd",
   "metadata": {},
   "outputs": [
    {
     "name": "stdout",
     "output_type": "stream",
     "text": [
      "2\n",
      "3\n",
      "4\n",
      "5\n",
      "6\n"
     ]
    }
   ],
   "source": [
    "n = 234567\n",
    "print(n//100000)\n",
    "print((n//10000)%10)\n",
    "print((n//1000)%10)\n",
    "print((n//100)%10)\n",
    "print((n//10)%10)"
   ]
  },
  {
   "cell_type": "markdown",
   "id": "e14ba850",
   "metadata": {},
   "source": []
  },
  {
   "cell_type": "code",
   "execution_count": 124,
   "id": "3137aa04",
   "metadata": {},
   "outputs": [
    {
     "data": {
      "text/plain": [
       "120"
      ]
     },
     "execution_count": 124,
     "metadata": {},
     "output_type": "execute_result"
    }
   ],
   "source": [
    "n = 5\n",
    "(n)*(n-1)*(n-2)*(n-3)*(n-4)"
   ]
  },
  {
   "cell_type": "code",
   "execution_count": 125,
   "id": "9766ee3a",
   "metadata": {},
   "outputs": [
    {
     "data": {
      "text/plain": [
       "False"
      ]
     },
     "execution_count": 125,
     "metadata": {},
     "output_type": "execute_result"
    }
   ],
   "source": [
    "n%2==0"
   ]
  },
  {
   "cell_type": "code",
   "execution_count": 126,
   "id": "6fe2ad0a",
   "metadata": {},
   "outputs": [
    {
     "data": {
      "text/plain": [
       "True"
      ]
     },
     "execution_count": 126,
     "metadata": {},
     "output_type": "execute_result"
    }
   ],
   "source": [
    "2%2 == 0"
   ]
  },
  {
   "cell_type": "code",
   "execution_count": 127,
   "id": "f70859b3",
   "metadata": {},
   "outputs": [
    {
     "data": {
      "text/plain": [
       "16"
      ]
     },
     "execution_count": 127,
     "metadata": {},
     "output_type": "execute_result"
    }
   ],
   "source": [
    "4**2"
   ]
  },
  {
   "cell_type": "code",
   "execution_count": 128,
   "id": "0983da8f",
   "metadata": {},
   "outputs": [
    {
     "data": {
      "text/plain": [
       "16"
      ]
     },
     "execution_count": 128,
     "metadata": {},
     "output_type": "execute_result"
    }
   ],
   "source": [
    "pow(4,2)"
   ]
  },
  {
   "cell_type": "code",
   "execution_count": 129,
   "id": "bd2a4585",
   "metadata": {},
   "outputs": [
    {
     "data": {
      "text/plain": [
       "4.0"
      ]
     },
     "execution_count": 129,
     "metadata": {},
     "output_type": "execute_result"
    }
   ],
   "source": [
    "16**(1/2)"
   ]
  },
  {
   "cell_type": "code",
   "execution_count": 130,
   "id": "5f10a00a",
   "metadata": {},
   "outputs": [
    {
     "data": {
      "text/plain": [
       "3.142857142857143"
      ]
     },
     "execution_count": 130,
     "metadata": {},
     "output_type": "execute_result"
    }
   ],
   "source": [
    "(22/7)"
   ]
  },
  {
   "cell_type": "code",
   "execution_count": 131,
   "id": "78afbbfb",
   "metadata": {},
   "outputs": [],
   "source": [
    "import math"
   ]
  },
  {
   "cell_type": "code",
   "execution_count": 132,
   "id": "77249797",
   "metadata": {},
   "outputs": [
    {
     "data": {
      "text/plain": [
       "3.141592653589793"
      ]
     },
     "execution_count": 132,
     "metadata": {},
     "output_type": "execute_result"
    }
   ],
   "source": [
    "math.pi"
   ]
  },
  {
   "cell_type": "code",
   "execution_count": 133,
   "id": "5ef5de5a",
   "metadata": {},
   "outputs": [
    {
     "data": {
      "text/plain": [
       "4.0"
      ]
     },
     "execution_count": 133,
     "metadata": {},
     "output_type": "execute_result"
    }
   ],
   "source": [
    "math.sqrt(16)"
   ]
  },
  {
   "cell_type": "code",
   "execution_count": 167,
   "id": "bf7f2ac5",
   "metadata": {},
   "outputs": [],
   "source": [
    "# identiy \n",
    "##############"
   ]
  },
  {
   "cell_type": "code",
   "execution_count": 136,
   "id": "7c0e4466",
   "metadata": {},
   "outputs": [],
   "source": [
    "# is,  is not"
   ]
  },
  {
   "cell_type": "code",
   "execution_count": 137,
   "id": "087ee152",
   "metadata": {},
   "outputs": [],
   "source": [
    "ls = [12,23]"
   ]
  },
  {
   "cell_type": "code",
   "execution_count": 138,
   "id": "4d0f0ce6",
   "metadata": {},
   "outputs": [],
   "source": [
    "ls2 = ls"
   ]
  },
  {
   "cell_type": "code",
   "execution_count": 139,
   "id": "775c83c0",
   "metadata": {},
   "outputs": [
    {
     "data": {
      "text/plain": [
       "(3006691456896, 3006691456896)"
      ]
     },
     "execution_count": 139,
     "metadata": {},
     "output_type": "execute_result"
    }
   ],
   "source": [
    "id(ls), id(ls2)"
   ]
  },
  {
   "cell_type": "code",
   "execution_count": 140,
   "id": "92471e7d",
   "metadata": {},
   "outputs": [
    {
     "data": {
      "text/plain": [
       "True"
      ]
     },
     "execution_count": 140,
     "metadata": {},
     "output_type": "execute_result"
    }
   ],
   "source": [
    "ls is ls2"
   ]
  },
  {
   "cell_type": "code",
   "execution_count": 141,
   "id": "9acbcab6",
   "metadata": {},
   "outputs": [],
   "source": [
    "ls3 = ls.copy()"
   ]
  },
  {
   "cell_type": "code",
   "execution_count": 142,
   "id": "78c2d171",
   "metadata": {},
   "outputs": [
    {
     "data": {
      "text/plain": [
       "12"
      ]
     },
     "execution_count": 142,
     "metadata": {},
     "output_type": "execute_result"
    }
   ],
   "source": [
    "ls2[0]"
   ]
  },
  {
   "cell_type": "code",
   "execution_count": 143,
   "id": "ed987d92",
   "metadata": {},
   "outputs": [],
   "source": [
    "ls2[0] = -999"
   ]
  },
  {
   "cell_type": "code",
   "execution_count": 144,
   "id": "78dd8b25",
   "metadata": {},
   "outputs": [
    {
     "data": {
      "text/plain": [
       "[-999, 23]"
      ]
     },
     "execution_count": 144,
     "metadata": {},
     "output_type": "execute_result"
    }
   ],
   "source": [
    "ls2"
   ]
  },
  {
   "cell_type": "code",
   "execution_count": 145,
   "id": "f0ba19a1",
   "metadata": {},
   "outputs": [
    {
     "data": {
      "text/plain": [
       "[-999, 23]"
      ]
     },
     "execution_count": 145,
     "metadata": {},
     "output_type": "execute_result"
    }
   ],
   "source": [
    "ls"
   ]
  },
  {
   "cell_type": "code",
   "execution_count": 146,
   "id": "2ef03756",
   "metadata": {},
   "outputs": [
    {
     "data": {
      "text/plain": [
       "False"
      ]
     },
     "execution_count": 146,
     "metadata": {},
     "output_type": "execute_result"
    }
   ],
   "source": [
    "ls is ls3"
   ]
  },
  {
   "cell_type": "code",
   "execution_count": 147,
   "id": "1319b0f1",
   "metadata": {},
   "outputs": [
    {
     "data": {
      "text/plain": [
       "True"
      ]
     },
     "execution_count": 147,
     "metadata": {},
     "output_type": "execute_result"
    }
   ],
   "source": [
    "ls is not ls3"
   ]
  },
  {
   "cell_type": "code",
   "execution_count": 148,
   "id": "f8f65fe3",
   "metadata": {},
   "outputs": [],
   "source": [
    "###########"
   ]
  },
  {
   "cell_type": "code",
   "execution_count": 149,
   "id": "0341ba41",
   "metadata": {},
   "outputs": [
    {
     "data": {
      "text/plain": [
       "True"
      ]
     },
     "execution_count": 149,
     "metadata": {},
     "output_type": "execute_result"
    }
   ],
   "source": [
    "type(344) is int"
   ]
  },
  {
   "cell_type": "code",
   "execution_count": 150,
   "id": "6458e700",
   "metadata": {},
   "outputs": [
    {
     "data": {
      "text/plain": [
       "True"
      ]
     },
     "execution_count": 150,
     "metadata": {},
     "output_type": "execute_result"
    }
   ],
   "source": [
    "a = 344\n",
    "type(a) is int"
   ]
  },
  {
   "cell_type": "code",
   "execution_count": 151,
   "id": "abcca780",
   "metadata": {},
   "outputs": [
    {
     "data": {
      "text/plain": [
       "False"
      ]
     },
     "execution_count": 151,
     "metadata": {},
     "output_type": "execute_result"
    }
   ],
   "source": [
    "a = [344]\n",
    "type(a) is int"
   ]
  },
  {
   "cell_type": "code",
   "execution_count": 152,
   "id": "888e3960",
   "metadata": {},
   "outputs": [
    {
     "data": {
      "text/plain": [
       "True"
      ]
     },
     "execution_count": 152,
     "metadata": {},
     "output_type": "execute_result"
    }
   ],
   "source": [
    "a = [344]\n",
    "type(a) is list"
   ]
  },
  {
   "cell_type": "code",
   "execution_count": 154,
   "id": "4c61b76f",
   "metadata": {},
   "outputs": [
    {
     "data": {
      "text/plain": [
       "True"
      ]
     },
     "execution_count": 154,
     "metadata": {},
     "output_type": "execute_result"
    }
   ],
   "source": [
    "a = [344]\n",
    "type(a) is not float"
   ]
  },
  {
   "cell_type": "code",
   "execution_count": 155,
   "id": "17de8800",
   "metadata": {},
   "outputs": [],
   "source": [
    "#############"
   ]
  },
  {
   "cell_type": "code",
   "execution_count": 156,
   "id": "5009ba28",
   "metadata": {},
   "outputs": [],
   "source": [
    "# membership \n",
    "# in     ,   not in"
   ]
  },
  {
   "cell_type": "code",
   "execution_count": 158,
   "id": "8bced826",
   "metadata": {},
   "outputs": [
    {
     "data": {
      "text/plain": [
       "False"
      ]
     },
     "execution_count": 158,
     "metadata": {},
     "output_type": "execute_result"
    }
   ],
   "source": [
    "11 in [1,2,3,4]"
   ]
  },
  {
   "cell_type": "code",
   "execution_count": 159,
   "id": "098eef95",
   "metadata": {},
   "outputs": [
    {
     "data": {
      "text/plain": [
       "False"
      ]
     },
     "execution_count": 159,
     "metadata": {},
     "output_type": "execute_result"
    }
   ],
   "source": [
    "'.py' in 'python'"
   ]
  },
  {
   "cell_type": "code",
   "execution_count": 160,
   "id": "8979f273",
   "metadata": {},
   "outputs": [
    {
     "data": {
      "text/plain": [
       "True"
      ]
     },
     "execution_count": 160,
     "metadata": {},
     "output_type": "execute_result"
    }
   ],
   "source": [
    "'.py' in 'python.py'"
   ]
  },
  {
   "cell_type": "code",
   "execution_count": 161,
   "id": "8b37a01d",
   "metadata": {},
   "outputs": [
    {
     "data": {
      "text/plain": [
       "True"
      ]
     },
     "execution_count": 161,
     "metadata": {},
     "output_type": "execute_result"
    }
   ],
   "source": [
    "'a' in {'a':32,'b':89}"
   ]
  },
  {
   "cell_type": "code",
   "execution_count": 162,
   "id": "2f7f0343",
   "metadata": {},
   "outputs": [
    {
     "data": {
      "text/plain": [
       "False"
      ]
     },
     "execution_count": 162,
     "metadata": {},
     "output_type": "execute_result"
    }
   ],
   "source": [
    "32 in {'a':32,'b':89}"
   ]
  },
  {
   "cell_type": "code",
   "execution_count": 164,
   "id": "bf2c1c6a",
   "metadata": {},
   "outputs": [
    {
     "data": {
      "text/plain": [
       "False"
      ]
     },
     "execution_count": 164,
     "metadata": {},
     "output_type": "execute_result"
    }
   ],
   "source": [
    "32 not in {'a':32,'b':89}.values()"
   ]
  },
  {
   "cell_type": "code",
   "execution_count": 165,
   "id": "6becf2fd",
   "metadata": {},
   "outputs": [],
   "source": [
    "########################"
   ]
  },
  {
   "cell_type": "code",
   "execution_count": 166,
   "id": "f87bf58d",
   "metadata": {},
   "outputs": [],
   "source": [
    "# logical \n",
    "# and   or     not"
   ]
  },
  {
   "cell_type": "code",
   "execution_count": 168,
   "id": "d6dde9ce",
   "metadata": {},
   "outputs": [
    {
     "data": {
      "text/plain": [
       "(True, True)"
      ]
     },
     "execution_count": 168,
     "metadata": {},
     "output_type": "execute_result"
    }
   ],
   "source": [
    "age = 20\n",
    "\n",
    "age>=18,age<=26"
   ]
  },
  {
   "cell_type": "code",
   "execution_count": 169,
   "id": "b8a2ec99",
   "metadata": {},
   "outputs": [
    {
     "data": {
      "text/plain": [
       "True"
      ]
     },
     "execution_count": 169,
     "metadata": {},
     "output_type": "execute_result"
    }
   ],
   "source": [
    "age = 20\n",
    "\n",
    "age>=18 and age<=26"
   ]
  },
  {
   "cell_type": "code",
   "execution_count": 173,
   "id": "112b078a",
   "metadata": {},
   "outputs": [
    {
     "name": "stdout",
     "output_type": "stream",
     "text": [
      "False True\n"
     ]
    },
    {
     "data": {
      "text/plain": [
       "False"
      ]
     },
     "execution_count": 173,
     "metadata": {},
     "output_type": "execute_result"
    }
   ],
   "source": [
    "age = 2\n",
    "\n",
    "print(age>=18,age<=26)\n",
    "age>=18 and age<=26"
   ]
  },
  {
   "cell_type": "code",
   "execution_count": 174,
   "id": "e35ed945",
   "metadata": {},
   "outputs": [
    {
     "name": "stdout",
     "output_type": "stream",
     "text": [
      "True False\n"
     ]
    },
    {
     "data": {
      "text/plain": [
       "False"
      ]
     },
     "execution_count": 174,
     "metadata": {},
     "output_type": "execute_result"
    }
   ],
   "source": [
    "age = 29\n",
    "\n",
    "print(age>=18,age<=26)\n",
    "age>=18 and age<=26"
   ]
  },
  {
   "cell_type": "code",
   "execution_count": 177,
   "id": "af1126a1",
   "metadata": {},
   "outputs": [
    {
     "name": "stdout",
     "output_type": "stream",
     "text": [
      "False False\n"
     ]
    },
    {
     "data": {
      "text/plain": [
       "False"
      ]
     },
     "execution_count": 177,
     "metadata": {},
     "output_type": "execute_result"
    }
   ],
   "source": [
    "age = 22\n",
    "\n",
    "print(age<10,age >=60)\n",
    "age<10 or age >=60"
   ]
  },
  {
   "cell_type": "code",
   "execution_count": 178,
   "id": "e00a7097",
   "metadata": {},
   "outputs": [],
   "source": [
    "y = 2100"
   ]
  },
  {
   "cell_type": "code",
   "execution_count": 180,
   "id": "dae6537e",
   "metadata": {},
   "outputs": [
    {
     "data": {
      "text/plain": [
       "False"
      ]
     },
     "execution_count": 180,
     "metadata": {},
     "output_type": "execute_result"
    }
   ],
   "source": [
    "y%400 == 0"
   ]
  },
  {
   "cell_type": "code",
   "execution_count": 181,
   "id": "697477b2",
   "metadata": {},
   "outputs": [
    {
     "data": {
      "text/plain": [
       "False"
      ]
     },
     "execution_count": 181,
     "metadata": {},
     "output_type": "execute_result"
    }
   ],
   "source": [
    "(y%4==0) and (y%100 != 0)"
   ]
  },
  {
   "cell_type": "code",
   "execution_count": 186,
   "id": "872868d6",
   "metadata": {},
   "outputs": [
    {
     "data": {
      "text/plain": [
       "True"
      ]
     },
     "execution_count": 186,
     "metadata": {},
     "output_type": "execute_result"
    }
   ],
   "source": [
    "y = 2004\n",
    "(y%400 == 0) or ((y%4==0) and (y%100 != 0))"
   ]
  },
  {
   "cell_type": "code",
   "execution_count": null,
   "id": "dd31eb2f",
   "metadata": {},
   "outputs": [],
   "source": []
  }
 ],
 "metadata": {
  "kernelspec": {
   "display_name": "Python 3 (ipykernel)",
   "language": "python",
   "name": "python3"
  },
  "language_info": {
   "codemirror_mode": {
    "name": "ipython",
    "version": 3
   },
   "file_extension": ".py",
   "mimetype": "text/x-python",
   "name": "python",
   "nbconvert_exporter": "python",
   "pygments_lexer": "ipython3",
   "version": "3.10.2"
  }
 },
 "nbformat": 4,
 "nbformat_minor": 5
}
