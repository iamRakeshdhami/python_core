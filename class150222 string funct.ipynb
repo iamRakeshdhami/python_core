{
 "cells": [
  {
   "cell_type": "code",
   "execution_count": 71,
   "id": "7eb6cac8",
   "metadata": {},
   "outputs": [],
   "source": [
    "s = \"Discover how you can elevate the way you work by combining webinar, chat, meetings, and phone solutions into one seamless platform.\""
   ]
  },
  {
   "cell_type": "code",
   "execution_count": 72,
   "id": "e7c713ef",
   "metadata": {},
   "outputs": [
    {
     "data": {
      "text/plain": [
       "'DISCOVER HOW YOU CAN ELEVATE THE WAY YOU WORK BY COMBINING WEBINAR, CHAT, MEETINGS, AND PHONE SOLUTIONS INTO ONE SEAMLESS PLATFORM.'"
      ]
     },
     "execution_count": 72,
     "metadata": {},
     "output_type": "execute_result"
    }
   ],
   "source": [
    "s.upper()"
   ]
  },
  {
   "cell_type": "code",
   "execution_count": 73,
   "id": "c96158bf",
   "metadata": {},
   "outputs": [
    {
     "data": {
      "text/plain": [
       "'Discover how you can elevate the way you work by combining webinar, chat, meetings, and phone solutions into one seamless platform.'"
      ]
     },
     "execution_count": 73,
     "metadata": {},
     "output_type": "execute_result"
    }
   ],
   "source": [
    "s"
   ]
  },
  {
   "cell_type": "code",
   "execution_count": 74,
   "id": "7aa2929e",
   "metadata": {},
   "outputs": [],
   "source": [
    "x = s.upper()"
   ]
  },
  {
   "cell_type": "code",
   "execution_count": 75,
   "id": "6d3c8fa1",
   "metadata": {},
   "outputs": [
    {
     "data": {
      "text/plain": [
       "'DISCOVER HOW YOU CAN ELEVATE THE WAY YOU WORK BY COMBINING WEBINAR, CHAT, MEETINGS, AND PHONE SOLUTIONS INTO ONE SEAMLESS PLATFORM.'"
      ]
     },
     "execution_count": 75,
     "metadata": {},
     "output_type": "execute_result"
    }
   ],
   "source": [
    "str.upper(s)"
   ]
  },
  {
   "cell_type": "code",
   "execution_count": 76,
   "id": "15cde2c4",
   "metadata": {},
   "outputs": [
    {
     "data": {
      "text/plain": [
       "'Discover How You Can Elevate The Way You Work By Combining Webinar, Chat, Meetings, And Phone Solutions Into One Seamless Platform.'"
      ]
     },
     "execution_count": 76,
     "metadata": {},
     "output_type": "execute_result"
    }
   ],
   "source": [
    "s.title()"
   ]
  },
  {
   "cell_type": "code",
   "execution_count": 77,
   "id": "d7c8111a",
   "metadata": {},
   "outputs": [
    {
     "data": {
      "text/plain": [
       "'Discover how you can elevate the way you work by combining webinar, chat, meetings, and phone solutions into one seamless platform.'"
      ]
     },
     "execution_count": 77,
     "metadata": {},
     "output_type": "execute_result"
    }
   ],
   "source": [
    "s.capitalize()"
   ]
  },
  {
   "cell_type": "code",
   "execution_count": 78,
   "id": "6869f972",
   "metadata": {},
   "outputs": [
    {
     "data": {
      "text/plain": [
       "13"
      ]
     },
     "execution_count": 78,
     "metadata": {},
     "output_type": "execute_result"
    }
   ],
   "source": [
    "s.find('you')"
   ]
  },
  {
   "cell_type": "code",
   "execution_count": 79,
   "id": "d0dae567",
   "metadata": {},
   "outputs": [
    {
     "data": {
      "text/plain": [
       "-1"
      ]
     },
     "execution_count": 79,
     "metadata": {},
     "output_type": "execute_result"
    }
   ],
   "source": [
    "s.find('you6')"
   ]
  },
  {
   "cell_type": "code",
   "execution_count": 82,
   "id": "1e5f2f6e",
   "metadata": {},
   "outputs": [
    {
     "data": {
      "text/plain": [
       "2"
      ]
     },
     "execution_count": 82,
     "metadata": {},
     "output_type": "execute_result"
    }
   ],
   "source": [
    "s.count('you')"
   ]
  },
  {
   "cell_type": "code",
   "execution_count": 83,
   "id": "3fc3cc5e",
   "metadata": {},
   "outputs": [
    {
     "data": {
      "text/plain": [
       "2"
      ]
     },
     "execution_count": 83,
     "metadata": {},
     "output_type": "execute_result"
    }
   ],
   "source": [
    "str.count(s , 'you')"
   ]
  },
  {
   "cell_type": "code",
   "execution_count": 84,
   "id": "209ae141",
   "metadata": {},
   "outputs": [],
   "source": [
    "ls = [1,1,1,2,3,4,0]"
   ]
  },
  {
   "cell_type": "code",
   "execution_count": 85,
   "id": "38c54645",
   "metadata": {},
   "outputs": [
    {
     "data": {
      "text/plain": [
       "3"
      ]
     },
     "execution_count": 85,
     "metadata": {},
     "output_type": "execute_result"
    }
   ],
   "source": [
    "ls.count(1)"
   ]
  },
  {
   "cell_type": "code",
   "execution_count": 86,
   "id": "9dde0fb2",
   "metadata": {},
   "outputs": [
    {
     "data": {
      "text/plain": [
       "3"
      ]
     },
     "execution_count": 86,
     "metadata": {},
     "output_type": "execute_result"
    }
   ],
   "source": [
    "list.count(ls, 1)"
   ]
  },
  {
   "cell_type": "code",
   "execution_count": 87,
   "id": "1eb569f3",
   "metadata": {},
   "outputs": [
    {
     "data": {
      "text/plain": [
       "12"
      ]
     },
     "execution_count": 87,
     "metadata": {},
     "output_type": "execute_result"
    }
   ],
   "source": [
    "s.index(' you ')"
   ]
  },
  {
   "cell_type": "code",
   "execution_count": 88,
   "id": "adfb5a20",
   "metadata": {},
   "outputs": [
    {
     "ename": "ValueError",
     "evalue": "substring not found",
     "output_type": "error",
     "traceback": [
      "\u001b[1;31m---------------------------------------------------------------------------\u001b[0m",
      "\u001b[1;31mValueError\u001b[0m                                Traceback (most recent call last)",
      "\u001b[1;32m~\\AppData\\Local\\Temp/ipykernel_11104/2844470019.py\u001b[0m in \u001b[0;36m<module>\u001b[1;34m\u001b[0m\n\u001b[1;32m----> 1\u001b[1;33m \u001b[0ms\u001b[0m\u001b[1;33m.\u001b[0m\u001b[0mindex\u001b[0m\u001b[1;33m(\u001b[0m\u001b[1;34m' you00 '\u001b[0m\u001b[1;33m)\u001b[0m\u001b[1;33m\u001b[0m\u001b[1;33m\u001b[0m\u001b[0m\n\u001b[0m",
      "\u001b[1;31mValueError\u001b[0m: substring not found"
     ]
    }
   ],
   "source": [
    "s.index(' you00 ')"
   ]
  },
  {
   "cell_type": "code",
   "execution_count": 89,
   "id": "fc5ca2d9",
   "metadata": {},
   "outputs": [
    {
     "data": {
      "text/plain": [
       "'discover how you can elevate the way you work by combining webinar, chat, meetings, and phone solutions into one seamless platform.'"
      ]
     },
     "execution_count": 89,
     "metadata": {},
     "output_type": "execute_result"
    }
   ],
   "source": [
    "s.lower()"
   ]
  },
  {
   "cell_type": "code",
   "execution_count": 90,
   "id": "9625e363",
   "metadata": {},
   "outputs": [
    {
     "data": {
      "text/plain": [
       "'Discover how you can elevate the way you work by combining webinar, chat, meetings, and phone solutions into one seamless platform.'"
      ]
     },
     "execution_count": 90,
     "metadata": {},
     "output_type": "execute_result"
    }
   ],
   "source": [
    "s"
   ]
  },
  {
   "cell_type": "code",
   "execution_count": 91,
   "id": "234e9efd",
   "metadata": {},
   "outputs": [
    {
     "data": {
      "text/plain": [
       "'Discover how python can elevate the way python work by combining webinar, chat, meetings, and phone solutions into one seamless platform.'"
      ]
     },
     "execution_count": 91,
     "metadata": {},
     "output_type": "execute_result"
    }
   ],
   "source": [
    "s.replace('you', 'python')"
   ]
  },
  {
   "cell_type": "code",
   "execution_count": 92,
   "id": "1601bf8e",
   "metadata": {},
   "outputs": [
    {
     "data": {
      "text/plain": [
       "'Discover how python can elevate the way you work by combining webinar, chat, meetings, and phone solutions into one seamless platform.'"
      ]
     },
     "execution_count": 92,
     "metadata": {},
     "output_type": "execute_result"
    }
   ],
   "source": [
    "s.replace('you', 'python',1)"
   ]
  },
  {
   "cell_type": "code",
   "execution_count": 95,
   "id": "f8e970b4",
   "metadata": {},
   "outputs": [
    {
     "data": {
      "text/plain": [
       "'Discover how python can elevate the way you work by combining webinar, chat, meetings, and phone solutions into one seamless platform.'"
      ]
     },
     "execution_count": 95,
     "metadata": {},
     "output_type": "execute_result"
    }
   ],
   "source": [
    "s.replace('you', 'python',1)"
   ]
  },
  {
   "cell_type": "code",
   "execution_count": 96,
   "id": "ba590f33",
   "metadata": {},
   "outputs": [],
   "source": [
    "text = '''Version: Python 2.x.x\n",
    "\n",
    "Released: Feb. 8, 2005\n",
    "\n",
    "<b>Python 2.3.5 (final)</b> on Feb 8th, 2005. \n",
    "This is a bug-fix release for Python 2.3. There have been\n",
    "around 50 bugs fixed since 2.3.4 - in the Python interpreter, \n",
    "the standard library and also in the build process -\n",
    "see the <a href=\"notes\">release notes</a> for details.\n",
    "<blockquote> <b>Important:</b> This release …'''"
   ]
  },
  {
   "cell_type": "code",
   "execution_count": 97,
   "id": "f4399f6a",
   "metadata": {},
   "outputs": [],
   "source": [
    "for n in '0123456789':\n",
    "    text = text.replace(n,'')"
   ]
  },
  {
   "cell_type": "code",
   "execution_count": 98,
   "id": "79bf902c",
   "metadata": {},
   "outputs": [
    {
     "data": {
      "text/plain": [
       "'Version: Python .x.x\\n\\nReleased: Feb. , \\n\\n<b>Python .. (final)</b> on Feb th, . \\nThis is a bug-fix release for Python .. There have been\\naround  bugs fixed since .. - in the Python interpreter, \\nthe standard library and also in the build process -\\nsee the <a href=\"notes\">release notes</a> for details.\\n<blockquote> <b>Important:</b> This release …'"
      ]
     },
     "execution_count": 98,
     "metadata": {},
     "output_type": "execute_result"
    }
   ],
   "source": [
    "text"
   ]
  },
  {
   "cell_type": "code",
   "execution_count": 99,
   "id": "9b071e71",
   "metadata": {},
   "outputs": [
    {
     "data": {
      "text/plain": [
       "(65, 90)"
      ]
     },
     "execution_count": 99,
     "metadata": {},
     "output_type": "execute_result"
    }
   ],
   "source": [
    "# ls = []\n",
    "# for i in text:\n",
    "    \n",
    "ord('A'),ord('Z')"
   ]
  },
  {
   "cell_type": "code",
   "execution_count": 100,
   "id": "20c9640a",
   "metadata": {},
   "outputs": [
    {
     "data": {
      "text/plain": [
       "(97, 122)"
      ]
     },
     "execution_count": 100,
     "metadata": {},
     "output_type": "execute_result"
    }
   ],
   "source": [
    "ord('a'),ord('z')"
   ]
  },
  {
   "cell_type": "code",
   "execution_count": 105,
   "id": "602a291e",
   "metadata": {},
   "outputs": [],
   "source": [
    "ls = []\n",
    "for i in text:\n",
    "    if not((65<=ord(i)<=90) or (97<=ord(i)<=122) or i == ' '):\n",
    "        ls.append(i)"
   ]
  },
  {
   "cell_type": "code",
   "execution_count": 107,
   "id": "1e5f8c5e",
   "metadata": {},
   "outputs": [],
   "source": [
    "# ls"
   ]
  },
  {
   "cell_type": "code",
   "execution_count": 108,
   "id": "51f48449",
   "metadata": {},
   "outputs": [],
   "source": [
    "unique  = set(ls)"
   ]
  },
  {
   "cell_type": "code",
   "execution_count": 109,
   "id": "a313a1f5",
   "metadata": {},
   "outputs": [],
   "source": [
    "for n in unique:    \n",
    "    text = text.replace(n, '')"
   ]
  },
  {
   "cell_type": "code",
   "execution_count": 110,
   "id": "d166d622",
   "metadata": {},
   "outputs": [
    {
     "data": {
      "text/plain": [
       "'Version Python xxReleased Feb  bPython  finalb on Feb th  This is a bugfix release for Python  There have beenaround  bugs fixed since   in the Python interpreter the standard library and also in the build process see the a hrefnotesrelease notesa for detailsblockquote bImportantb This release '"
      ]
     },
     "execution_count": 110,
     "metadata": {},
     "output_type": "execute_result"
    }
   ],
   "source": [
    "text"
   ]
  },
  {
   "cell_type": "code",
   "execution_count": 111,
   "id": "7343333a",
   "metadata": {},
   "outputs": [],
   "source": [
    "# split"
   ]
  },
  {
   "cell_type": "code",
   "execution_count": 112,
   "id": "80d68d20",
   "metadata": {},
   "outputs": [
    {
     "data": {
      "text/plain": [
       "'Discover how you can elevate the way you work by combining webinar, chat, meetings, and phone solutions into one seamless platform.'"
      ]
     },
     "execution_count": 112,
     "metadata": {},
     "output_type": "execute_result"
    }
   ],
   "source": [
    "s"
   ]
  },
  {
   "cell_type": "code",
   "execution_count": 113,
   "id": "24a89399",
   "metadata": {},
   "outputs": [
    {
     "data": {
      "text/plain": [
       "['Discover how you can elevate the way you work by combining webinar',\n",
       " ' chat',\n",
       " ' meetings',\n",
       " ' and phone solutions into one seamless platform.']"
      ]
     },
     "execution_count": 113,
     "metadata": {},
     "output_type": "execute_result"
    }
   ],
   "source": [
    "s.split(',')"
   ]
  },
  {
   "cell_type": "code",
   "execution_count": 114,
   "id": "413163d9",
   "metadata": {},
   "outputs": [
    {
     "data": {
      "text/plain": [
       "['Discover how you can elevate the way you work by combining webinar',\n",
       " ' chat, meetings, and phone solutions into one seamless platform.']"
      ]
     },
     "execution_count": 114,
     "metadata": {},
     "output_type": "execute_result"
    }
   ],
   "source": [
    "s.split(',',1)"
   ]
  },
  {
   "cell_type": "code",
   "execution_count": 115,
   "id": "45521256",
   "metadata": {},
   "outputs": [
    {
     "data": {
      "text/plain": [
       "['Discover how you can elevate the way you work by combining webinar',\n",
       " ' chat',\n",
       " ' meetings, and phone solutions into one seamless platform.']"
      ]
     },
     "execution_count": 115,
     "metadata": {},
     "output_type": "execute_result"
    }
   ],
   "source": [
    "s.split(',',2)"
   ]
  },
  {
   "cell_type": "code",
   "execution_count": 116,
   "id": "278d1ee8",
   "metadata": {},
   "outputs": [
    {
     "data": {
      "text/plain": [
       "['Discover',\n",
       " 'how',\n",
       " 'you',\n",
       " 'can',\n",
       " 'elevate',\n",
       " 'the',\n",
       " 'way',\n",
       " 'you',\n",
       " 'work',\n",
       " 'by',\n",
       " 'combining',\n",
       " 'webinar,',\n",
       " 'chat,',\n",
       " 'meetings,',\n",
       " 'and',\n",
       " 'phone',\n",
       " 'solutions',\n",
       " 'into',\n",
       " 'one',\n",
       " 'seamless',\n",
       " 'platform.']"
      ]
     },
     "execution_count": 116,
     "metadata": {},
     "output_type": "execute_result"
    }
   ],
   "source": [
    "s.split(' ')"
   ]
  },
  {
   "cell_type": "code",
   "execution_count": 117,
   "id": "78485f67",
   "metadata": {},
   "outputs": [
    {
     "data": {
      "text/plain": [
       "['Discover',\n",
       " 'how',\n",
       " 'you',\n",
       " 'can',\n",
       " 'elevate',\n",
       " 'the',\n",
       " 'way',\n",
       " 'you',\n",
       " 'work',\n",
       " 'by',\n",
       " 'combining',\n",
       " 'webinar,',\n",
       " 'chat,',\n",
       " 'meetings,',\n",
       " 'and',\n",
       " 'phone',\n",
       " 'solutions',\n",
       " 'into',\n",
       " 'one',\n",
       " 'seamless',\n",
       " 'platform.']"
      ]
     },
     "execution_count": 117,
     "metadata": {},
     "output_type": "execute_result"
    }
   ],
   "source": [
    "s.split()"
   ]
  },
  {
   "cell_type": "code",
   "execution_count": 118,
   "id": "fc680085",
   "metadata": {},
   "outputs": [
    {
     "data": {
      "text/plain": [
       "'a b c d'"
      ]
     },
     "execution_count": 118,
     "metadata": {},
     "output_type": "execute_result"
    }
   ],
   "source": [
    "' '.join(['a', 'b' , 'c', 'd'])"
   ]
  },
  {
   "cell_type": "code",
   "execution_count": 119,
   "id": "b52b0191",
   "metadata": {},
   "outputs": [
    {
     "data": {
      "text/plain": [
       "'a,b,c,d'"
      ]
     },
     "execution_count": 119,
     "metadata": {},
     "output_type": "execute_result"
    }
   ],
   "source": [
    "','.join(['a', 'b' , 'c', 'd'])"
   ]
  },
  {
   "cell_type": "code",
   "execution_count": 120,
   "id": "7f925174",
   "metadata": {},
   "outputs": [
    {
     "data": {
      "text/plain": [
       "'Discover-how-you-can-elevate-the-way-you-work-by-combining-webinar,-chat,-meetings,-and-phone-solutions-into-one-seamless-platform.'"
      ]
     },
     "execution_count": 120,
     "metadata": {},
     "output_type": "execute_result"
    }
   ],
   "source": [
    "L = s.split()\n",
    "'-'.join(L)"
   ]
  },
  {
   "cell_type": "code",
   "execution_count": 124,
   "id": "fa1996cc",
   "metadata": {},
   "outputs": [
    {
     "name": "stdout",
     "output_type": "stream",
     "text": [
      "Discover\n",
      "woh\n",
      "you\n",
      "nac\n",
      "elevate\n",
      "eht\n",
      "way\n",
      "uoy\n",
      "work\n",
      "yb\n",
      "combining\n",
      ",ranibew\n",
      "chat,\n",
      ",sgniteem\n",
      "and\n",
      "enohp\n",
      "solutions\n",
      "otni\n",
      "one\n",
      "sselmaes\n",
      "platform.\n"
     ]
    }
   ],
   "source": [
    "for i,data in enumerate(s.split()):\n",
    "    if i%2==0:print(data)\n",
    "    else:print(data[::-1])"
   ]
  },
  {
   "cell_type": "code",
   "execution_count": 125,
   "id": "bea0c590",
   "metadata": {},
   "outputs": [],
   "source": [
    "S2 = ''\n",
    "for i,data in enumerate(s.split()):\n",
    "    if i%2==0:\n",
    "        S2 = S2+' '+data\n",
    "    else:\n",
    "        S2 = S2+' '+data[::-1]"
   ]
  },
  {
   "cell_type": "code",
   "execution_count": 126,
   "id": "a212b548",
   "metadata": {},
   "outputs": [
    {
     "data": {
      "text/plain": [
       "' Discover woh you nac elevate eht way uoy work yb combining ,ranibew chat, ,sgniteem and enohp solutions otni one sselmaes platform.'"
      ]
     },
     "execution_count": 126,
     "metadata": {},
     "output_type": "execute_result"
    }
   ],
   "source": [
    "S2"
   ]
  },
  {
   "cell_type": "code",
   "execution_count": 129,
   "id": "d433a385",
   "metadata": {},
   "outputs": [
    {
     "data": {
      "text/plain": [
       "'Discover woh you nac elevate eht way uoy work yb combining ,ranibew chat, ,sgniteem and enohp solutions otni one sselmaes platform.'"
      ]
     },
     "execution_count": 129,
     "metadata": {},
     "output_type": "execute_result"
    }
   ],
   "source": [
    "L1 = []\n",
    "for i,data in enumerate(s.split()):\n",
    "    if i%2==0:\n",
    "        L1.append(data)\n",
    "    else:\n",
    "        L1.append(data[::-1])\n",
    "' '.join(L1)"
   ]
  },
  {
   "cell_type": "code",
   "execution_count": 130,
   "id": "ee213015",
   "metadata": {},
   "outputs": [],
   "source": [
    "# L1"
   ]
  },
  {
   "cell_type": "code",
   "execution_count": 131,
   "id": "38adb006",
   "metadata": {},
   "outputs": [
    {
     "data": {
      "text/plain": [
       "'Discover how you can elevate the way you work by combining webinar, chat, meetings, and phone solutions into one seamless platform.'"
      ]
     },
     "execution_count": 131,
     "metadata": {},
     "output_type": "execute_result"
    }
   ],
   "source": [
    "s"
   ]
  },
  {
   "cell_type": "code",
   "execution_count": 132,
   "id": "1c3ef3cf",
   "metadata": {},
   "outputs": [
    {
     "data": {
      "text/plain": [
       "False"
      ]
     },
     "execution_count": 132,
     "metadata": {},
     "output_type": "execute_result"
    }
   ],
   "source": [
    "s.startswith('dis')"
   ]
  },
  {
   "cell_type": "code",
   "execution_count": 133,
   "id": "9e1206ae",
   "metadata": {},
   "outputs": [
    {
     "data": {
      "text/plain": [
       "True"
      ]
     },
     "execution_count": 133,
     "metadata": {},
     "output_type": "execute_result"
    }
   ],
   "source": [
    "s.startswith('Dis')"
   ]
  },
  {
   "cell_type": "code",
   "execution_count": 134,
   "id": "187e1551",
   "metadata": {},
   "outputs": [
    {
     "data": {
      "text/plain": [
       "False"
      ]
     },
     "execution_count": 134,
     "metadata": {},
     "output_type": "execute_result"
    }
   ],
   "source": [
    "s.endswith('form')"
   ]
  },
  {
   "cell_type": "code",
   "execution_count": 135,
   "id": "40d0d6d2",
   "metadata": {},
   "outputs": [
    {
     "data": {
      "text/plain": [
       "'Discover how you can elevate the way you work by combining webinar, chat, meetings, and phone solutions into one seamless platform.'"
      ]
     },
     "execution_count": 135,
     "metadata": {},
     "output_type": "execute_result"
    }
   ],
   "source": [
    "s"
   ]
  },
  {
   "cell_type": "code",
   "execution_count": 136,
   "id": "388263f8",
   "metadata": {},
   "outputs": [
    {
     "data": {
      "text/plain": [
       "True"
      ]
     },
     "execution_count": 136,
     "metadata": {},
     "output_type": "execute_result"
    }
   ],
   "source": [
    "s.endswith('form.')"
   ]
  },
  {
   "cell_type": "code",
   "execution_count": 137,
   "id": "f0fc2856",
   "metadata": {},
   "outputs": [
    {
     "data": {
      "text/plain": [
       "True"
      ]
     },
     "execution_count": 137,
     "metadata": {},
     "output_type": "execute_result"
    }
   ],
   "source": [
    "'hgfjdshgfhsdgf'.isalpha()"
   ]
  },
  {
   "cell_type": "code",
   "execution_count": 138,
   "id": "7d2e8684",
   "metadata": {},
   "outputs": [
    {
     "data": {
      "text/plain": [
       "False"
      ]
     },
     "execution_count": 138,
     "metadata": {},
     "output_type": "execute_result"
    }
   ],
   "source": [
    "'hgfjd shgfhsdgf'.isalpha()"
   ]
  },
  {
   "cell_type": "code",
   "execution_count": 139,
   "id": "bb3957d3",
   "metadata": {},
   "outputs": [
    {
     "data": {
      "text/plain": [
       "False"
      ]
     },
     "execution_count": 139,
     "metadata": {},
     "output_type": "execute_result"
    }
   ],
   "source": [
    "'hgfjd777shgfhsdgf'.isalpha()"
   ]
  },
  {
   "cell_type": "code",
   "execution_count": 140,
   "id": "00748755",
   "metadata": {},
   "outputs": [
    {
     "data": {
      "text/plain": [
       "True"
      ]
     },
     "execution_count": 140,
     "metadata": {},
     "output_type": "execute_result"
    }
   ],
   "source": [
    "'hgfjd777shgfhsdgf'.isalnum()"
   ]
  },
  {
   "cell_type": "code",
   "execution_count": 141,
   "id": "43022520",
   "metadata": {},
   "outputs": [
    {
     "data": {
      "text/plain": [
       "False"
      ]
     },
     "execution_count": 141,
     "metadata": {},
     "output_type": "execute_result"
    }
   ],
   "source": [
    "'hgfjd 777shgfhsdgf'.isalnum()"
   ]
  },
  {
   "cell_type": "code",
   "execution_count": 142,
   "id": "62a055b3",
   "metadata": {},
   "outputs": [
    {
     "data": {
      "text/plain": [
       "True"
      ]
     },
     "execution_count": 142,
     "metadata": {},
     "output_type": "execute_result"
    }
   ],
   "source": [
    "'total'.isidentifier()"
   ]
  },
  {
   "cell_type": "code",
   "execution_count": 143,
   "id": "18c78ae7",
   "metadata": {},
   "outputs": [
    {
     "data": {
      "text/plain": [
       "True"
      ]
     },
     "execution_count": 143,
     "metadata": {},
     "output_type": "execute_result"
    }
   ],
   "source": [
    "'__total'.isidentifier()"
   ]
  },
  {
   "cell_type": "code",
   "execution_count": 144,
   "id": "0d19dc08",
   "metadata": {},
   "outputs": [
    {
     "data": {
      "text/plain": [
       "False"
      ]
     },
     "execution_count": 144,
     "metadata": {},
     "output_type": "execute_result"
    }
   ],
   "source": [
    "'77total'.isidentifier()"
   ]
  },
  {
   "cell_type": "code",
   "execution_count": 145,
   "id": "7ad0b4d6",
   "metadata": {},
   "outputs": [
    {
     "data": {
      "text/plain": [
       "65"
      ]
     },
     "execution_count": 145,
     "metadata": {},
     "output_type": "execute_result"
    }
   ],
   "source": [
    "ord('A')"
   ]
  },
  {
   "cell_type": "code",
   "execution_count": 148,
   "id": "ee58ba45",
   "metadata": {},
   "outputs": [
    {
     "data": {
      "text/plain": [
       "True"
      ]
     },
     "execution_count": 148,
     "metadata": {},
     "output_type": "execute_result"
    }
   ],
   "source": [
    "p = 'S'\n",
    "\n",
    "p.isalpha()"
   ]
  },
  {
   "cell_type": "code",
   "execution_count": 158,
   "id": "3e24fb4c",
   "metadata": {},
   "outputs": [],
   "source": [
    "text = '''Version: Python 2.x.x\n",
    "\n",
    "Released: Feb. 8, 2005\n",
    "\n",
    "<b>Python 2.3.5 (final)</b> on Feb 8th, 2005. \n",
    "This is a bug-fix release for Python 2.3. There have been\n",
    "around 50 bugs fixed since 2.3.4 - in the Python interpreter, \n",
    "the standard library and also in the build process -\n",
    "see the <a href=\"notes\">release notes</a> for details.\n",
    "<blockquote> <b>Important:</b> This release …'''"
   ]
  },
  {
   "cell_type": "code",
   "execution_count": 159,
   "id": "355bfe72",
   "metadata": {},
   "outputs": [],
   "source": [
    "for n in text:\n",
    "    if not n.isalpha():\n",
    "        text = text.replace(n , ' ')"
   ]
  },
  {
   "cell_type": "code",
   "execution_count": 160,
   "id": "dbf87cc7",
   "metadata": {},
   "outputs": [
    {
     "data": {
      "text/plain": [
       "'Version  Python   x x  Released  Feb            b Python        final   b  on Feb  th         This is a bug fix release for Python      There have been around    bugs fixed since         in the Python interpreter   the standard library and also in the build process   see the  a href  notes  release notes  a  for details   blockquote   b Important   b  This release  '"
      ]
     },
     "execution_count": 160,
     "metadata": {},
     "output_type": "execute_result"
    }
   ],
   "source": [
    "text"
   ]
  },
  {
   "cell_type": "code",
   "execution_count": 161,
   "id": "1e44a327",
   "metadata": {},
   "outputs": [
    {
     "data": {
      "text/plain": [
       "'Discover how you can elevate the way you work by combining webinar, chat, meetings, and phone solutions into one seamless platform.'"
      ]
     },
     "execution_count": 161,
     "metadata": {},
     "output_type": "execute_result"
    }
   ],
   "source": [
    "s"
   ]
  },
  {
   "cell_type": "code",
   "execution_count": 162,
   "id": "64e42a74",
   "metadata": {},
   "outputs": [
    {
     "data": {
      "text/plain": [
       "'discover how you can elevate the way you work by combining webinar, chat, meetings, and phone solutions into one seamless platform.'"
      ]
     },
     "execution_count": 162,
     "metadata": {},
     "output_type": "execute_result"
    }
   ],
   "source": [
    "s.casefold()"
   ]
  },
  {
   "cell_type": "code",
   "execution_count": 163,
   "id": "e4b4d5b5",
   "metadata": {},
   "outputs": [
    {
     "data": {
      "text/plain": [
       "'dISCOVER HOW YOU CAN ELEVATE THE WAY YOU WORK BY COMBINING WEBINAR, CHAT, MEETINGS, AND PHONE SOLUTIONS INTO ONE SEAMLESS PLATFORM.'"
      ]
     },
     "execution_count": 163,
     "metadata": {},
     "output_type": "execute_result"
    }
   ],
   "source": [
    "s.swapcase()"
   ]
  },
  {
   "cell_type": "code",
   "execution_count": 166,
   "id": "73cb6d50",
   "metadata": {},
   "outputs": [
    {
     "data": {
      "text/plain": [
       "'****hello python****'"
      ]
     },
     "execution_count": 166,
     "metadata": {},
     "output_type": "execute_result"
    }
   ],
   "source": [
    "'hello python'.center(20,'*')"
   ]
  },
  {
   "cell_type": "code",
   "execution_count": 167,
   "id": "78879bb6",
   "metadata": {},
   "outputs": [
    {
     "data": {
      "text/plain": [
       "'a = 32 and b = 52'"
      ]
     },
     "execution_count": 167,
     "metadata": {},
     "output_type": "execute_result"
    }
   ],
   "source": [
    "a = 32\n",
    "b = 52\n",
    "f'a = {a} and b = {b}'"
   ]
  },
  {
   "cell_type": "code",
   "execution_count": 168,
   "id": "e2194c42",
   "metadata": {},
   "outputs": [
    {
     "data": {
      "text/plain": [
       "'a = 32 and b = 52'"
      ]
     },
     "execution_count": 168,
     "metadata": {},
     "output_type": "execute_result"
    }
   ],
   "source": [
    "a = 32\n",
    "b = 52\n",
    "'a = {} and b = {}'.format(a,b)"
   ]
  },
  {
   "cell_type": "code",
   "execution_count": 169,
   "id": "84408837",
   "metadata": {},
   "outputs": [
    {
     "data": {
      "text/plain": [
       "'a = 52 and b = 32'"
      ]
     },
     "execution_count": 169,
     "metadata": {},
     "output_type": "execute_result"
    }
   ],
   "source": [
    "a = 32\n",
    "b = 52\n",
    "'a = {} and b = {}'.format(b,a)"
   ]
  },
  {
   "cell_type": "code",
   "execution_count": null,
   "id": "4d6eecdc",
   "metadata": {},
   "outputs": [],
   "source": []
  },
  {
   "cell_type": "code",
   "execution_count": 170,
   "id": "8ed129c3",
   "metadata": {},
   "outputs": [
    {
     "data": {
      "text/plain": [
       "'Discover how you can elevate the way you work by combining webinar, chat, meetings, and phone solutions into one seamless platform.'"
      ]
     },
     "execution_count": 170,
     "metadata": {},
     "output_type": "execute_result"
    }
   ],
   "source": [
    "s"
   ]
  },
  {
   "cell_type": "code",
   "execution_count": 171,
   "id": "66b795f9",
   "metadata": {},
   "outputs": [
    {
     "data": {
      "text/plain": [
       "b'Discover how you can elevate the way you work by combining webinar, chat, meetings, and phone solutions into one seamless platform.'"
      ]
     },
     "execution_count": 171,
     "metadata": {},
     "output_type": "execute_result"
    }
   ],
   "source": [
    "s.encode()"
   ]
  },
  {
   "cell_type": "code",
   "execution_count": 172,
   "id": "26cf8570",
   "metadata": {},
   "outputs": [],
   "source": [
    "b = s.encode()"
   ]
  },
  {
   "cell_type": "code",
   "execution_count": 173,
   "id": "ae73fb6f",
   "metadata": {},
   "outputs": [
    {
     "data": {
      "text/plain": [
       "'Discover how you can elevate the way you work by combining webinar, chat, meetings, and phone solutions into one seamless platform.'"
      ]
     },
     "execution_count": 173,
     "metadata": {},
     "output_type": "execute_result"
    }
   ],
   "source": [
    "b.decode()"
   ]
  },
  {
   "cell_type": "code",
   "execution_count": 174,
   "id": "985961c8",
   "metadata": {},
   "outputs": [
    {
     "data": {
      "text/plain": [
       "b'DISCOVER HOW YOU CAN ELEVATE THE WAY YOU WORK BY COMBINING WEBINAR, CHAT, MEETINGS, AND PHONE SOLUTIONS INTO ONE SEAMLESS PLATFORM.'"
      ]
     },
     "execution_count": 174,
     "metadata": {},
     "output_type": "execute_result"
    }
   ],
   "source": [
    "b.upper()"
   ]
  },
  {
   "cell_type": "code",
   "execution_count": 175,
   "id": "aa8378e5",
   "metadata": {},
   "outputs": [],
   "source": [
    "# ###############"
   ]
  },
  {
   "cell_type": "code",
   "execution_count": 176,
   "id": "701814a1",
   "metadata": {},
   "outputs": [
    {
     "data": {
      "text/plain": [
       "set"
      ]
     },
     "execution_count": 176,
     "metadata": {},
     "output_type": "execute_result"
    }
   ],
   "source": [
    "set"
   ]
  },
  {
   "cell_type": "code",
   "execution_count": null,
   "id": "4f3da260",
   "metadata": {},
   "outputs": [],
   "source": []
  }
 ],
 "metadata": {
  "kernelspec": {
   "display_name": "Python 3 (ipykernel)",
   "language": "python",
   "name": "python3"
  },
  "language_info": {
   "codemirror_mode": {
    "name": "ipython",
    "version": 3
   },
   "file_extension": ".py",
   "mimetype": "text/x-python",
   "name": "python",
   "nbconvert_exporter": "python",
   "pygments_lexer": "ipython3",
   "version": "3.10.2"
  }
 },
 "nbformat": 4,
 "nbformat_minor": 5
}
