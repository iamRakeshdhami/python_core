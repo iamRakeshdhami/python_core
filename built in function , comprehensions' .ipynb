{
 "cells": [
  {
   "cell_type": "code",
   "execution_count": 1,
   "id": "b8d44752",
   "metadata": {},
   "outputs": [],
   "source": [
    "# map , filter\n"
   ]
  },
  {
   "cell_type": "code",
   "execution_count": 4,
   "id": "3e8c25f8",
   "metadata": {},
   "outputs": [
    {
     "data": {
      "text/plain": [
       "1.73"
      ]
     },
     "execution_count": 4,
     "metadata": {},
     "output_type": "execute_result"
    }
   ],
   "source": [
    "def double(x):\n",
    "    return x*2\n",
    "def sqrt(x):\n",
    "    return round(x**0.5,2)\n",
    "sqrt(3)"
   ]
  },
  {
   "cell_type": "code",
   "execution_count": 5,
   "id": "e5d8495f",
   "metadata": {},
   "outputs": [],
   "source": [
    "def map_(function ,   values):\n",
    "    ls = []\n",
    "    for n in values:\n",
    "        ls.append(function(n))\n",
    "    return ls"
   ]
  },
  {
   "cell_type": "code",
   "execution_count": 6,
   "id": "b1002a31",
   "metadata": {},
   "outputs": [
    {
     "data": {
      "text/plain": [
       "[24, 68, 90, 112, 156, 178, 178]"
      ]
     },
     "execution_count": 6,
     "metadata": {},
     "output_type": "execute_result"
    }
   ],
   "source": [
    "map_(double , [12,34,45,56,78,89,89])"
   ]
  },
  {
   "cell_type": "code",
   "execution_count": 7,
   "id": "cf2b08e6",
   "metadata": {},
   "outputs": [
    {
     "data": {
      "text/plain": [
       "[3.46, 5.83, 6.71, 7.48, 8.83, 9.43, 9.43]"
      ]
     },
     "execution_count": 7,
     "metadata": {},
     "output_type": "execute_result"
    }
   ],
   "source": [
    "map_(sqrt , [12,34,45,56,78,89,89])"
   ]
  },
  {
   "cell_type": "code",
   "execution_count": 8,
   "id": "8d6e3eee",
   "metadata": {},
   "outputs": [
    {
     "data": {
      "text/plain": [
       "<map at 0x2483269d190>"
      ]
     },
     "execution_count": 8,
     "metadata": {},
     "output_type": "execute_result"
    }
   ],
   "source": [
    "map(double , [12,34,45,56,78,89,89])"
   ]
  },
  {
   "cell_type": "code",
   "execution_count": 9,
   "id": "5e7992e5",
   "metadata": {},
   "outputs": [
    {
     "data": {
      "text/plain": [
       "[24, 68, 90, 112, 156, 178, 178]"
      ]
     },
     "execution_count": 9,
     "metadata": {},
     "output_type": "execute_result"
    }
   ],
   "source": [
    "x = map(double , [12,34,45,56,78,89,89])\n",
    "list(x)"
   ]
  },
  {
   "cell_type": "code",
   "execution_count": 10,
   "id": "11c73c25",
   "metadata": {},
   "outputs": [],
   "source": [
    "# filter"
   ]
  },
  {
   "cell_type": "code",
   "execution_count": 11,
   "id": "7c868dc9",
   "metadata": {},
   "outputs": [],
   "source": [
    "def filter_(fun, values):\n",
    "    ls = []\n",
    "    for n in values:\n",
    "        if fun(n):\n",
    "            ls.append(n)\n",
    "    return ls"
   ]
  },
  {
   "cell_type": "code",
   "execution_count": 12,
   "id": "fa18d0d7",
   "metadata": {},
   "outputs": [],
   "source": [
    "def even(x):\n",
    "    return x%2==0"
   ]
  },
  {
   "cell_type": "code",
   "execution_count": 13,
   "id": "23a37d50",
   "metadata": {},
   "outputs": [
    {
     "data": {
      "text/plain": [
       "[12, 4, 78, 56, 34, 4, 656, 46]"
      ]
     },
     "execution_count": 13,
     "metadata": {},
     "output_type": "execute_result"
    }
   ],
   "source": [
    "filter_(even, [12,4,45,5,78,56,45,35,34,4,656,5,46,35,])"
   ]
  },
  {
   "cell_type": "code",
   "execution_count": 14,
   "id": "21f5c1ee",
   "metadata": {},
   "outputs": [
    {
     "data": {
      "text/plain": [
       "[12, 4, 78, 56, 34, 4, 656, 46]"
      ]
     },
     "execution_count": 14,
     "metadata": {},
     "output_type": "execute_result"
    }
   ],
   "source": [
    "x = filter(even, [12,4,45,5,78,56,45,35,34,4,656,5,46,35,])\n",
    "list(x)"
   ]
  },
  {
   "cell_type": "code",
   "execution_count": 15,
   "id": "1ac7d7fb",
   "metadata": {},
   "outputs": [
    {
     "data": {
      "text/plain": [
       "[12, 4, 78, 56, 34, 4, 656, 46]"
      ]
     },
     "execution_count": 15,
     "metadata": {},
     "output_type": "execute_result"
    }
   ],
   "source": [
    "filter_(lambda x : x%2==0, [12,4,45,5,78,56,45,35,34,4,656,5,46,35,])"
   ]
  },
  {
   "cell_type": "code",
   "execution_count": 16,
   "id": "2cbd0528",
   "metadata": {},
   "outputs": [
    {
     "data": {
      "text/plain": [
       "[24, 68, 90, 112, 156, 178, 178]"
      ]
     },
     "execution_count": 16,
     "metadata": {},
     "output_type": "execute_result"
    }
   ],
   "source": [
    "x = map(lambda x : x*2 , [12,34,45,56,78,89,89])\n",
    "list(x)"
   ]
  },
  {
   "cell_type": "code",
   "execution_count": 17,
   "id": "96d67542",
   "metadata": {},
   "outputs": [],
   "source": [
    "##########################"
   ]
  },
  {
   "cell_type": "code",
   "execution_count": 18,
   "id": "5a0b7222",
   "metadata": {},
   "outputs": [],
   "source": [
    "def gen():\n",
    "    yield 677\n",
    "    yield 'hello'\n",
    "    yield 'java'\n",
    "    yield 'done'"
   ]
  },
  {
   "cell_type": "code",
   "execution_count": 19,
   "id": "6c84f8b0",
   "metadata": {},
   "outputs": [
    {
     "data": {
      "text/plain": [
       "<generator object gen at 0x00000248330D2270>"
      ]
     },
     "execution_count": 19,
     "metadata": {},
     "output_type": "execute_result"
    }
   ],
   "source": [
    "gen()"
   ]
  },
  {
   "cell_type": "code",
   "execution_count": 20,
   "id": "963d5a5d",
   "metadata": {},
   "outputs": [
    {
     "data": {
      "text/plain": [
       "[677, 'hello', 'java', 'done']"
      ]
     },
     "execution_count": 20,
     "metadata": {},
     "output_type": "execute_result"
    }
   ],
   "source": [
    "x = gen()\n",
    "list(x)"
   ]
  },
  {
   "cell_type": "code",
   "execution_count": 21,
   "id": "60eceb72",
   "metadata": {},
   "outputs": [],
   "source": [
    "x = gen()"
   ]
  },
  {
   "cell_type": "code",
   "execution_count": 22,
   "id": "655e4267",
   "metadata": {},
   "outputs": [
    {
     "data": {
      "text/plain": [
       "677"
      ]
     },
     "execution_count": 22,
     "metadata": {},
     "output_type": "execute_result"
    }
   ],
   "source": [
    "next(x)"
   ]
  },
  {
   "cell_type": "code",
   "execution_count": 23,
   "id": "6927db5e",
   "metadata": {},
   "outputs": [
    {
     "data": {
      "text/plain": [
       "'hello'"
      ]
     },
     "execution_count": 23,
     "metadata": {},
     "output_type": "execute_result"
    }
   ],
   "source": [
    "next(x)"
   ]
  },
  {
   "cell_type": "code",
   "execution_count": 24,
   "id": "02d9b7f4",
   "metadata": {},
   "outputs": [
    {
     "data": {
      "text/plain": [
       "'java'"
      ]
     },
     "execution_count": 24,
     "metadata": {},
     "output_type": "execute_result"
    }
   ],
   "source": [
    "next(x)"
   ]
  },
  {
   "cell_type": "code",
   "execution_count": 25,
   "id": "8573b141",
   "metadata": {},
   "outputs": [
    {
     "data": {
      "text/plain": [
       "'done'"
      ]
     },
     "execution_count": 25,
     "metadata": {},
     "output_type": "execute_result"
    }
   ],
   "source": [
    "next(x)"
   ]
  },
  {
   "cell_type": "code",
   "execution_count": 26,
   "id": "8d04e298",
   "metadata": {},
   "outputs": [
    {
     "ename": "StopIteration",
     "evalue": "",
     "output_type": "error",
     "traceback": [
      "\u001b[1;31m---------------------------------------------------------------------------\u001b[0m",
      "\u001b[1;31mStopIteration\u001b[0m                             Traceback (most recent call last)",
      "\u001b[1;32m~\\AppData\\Local\\Temp/ipykernel_9496/3485793935.py\u001b[0m in \u001b[0;36m<module>\u001b[1;34m\u001b[0m\n\u001b[1;32m----> 1\u001b[1;33m \u001b[0mnext\u001b[0m\u001b[1;33m(\u001b[0m\u001b[0mx\u001b[0m\u001b[1;33m)\u001b[0m\u001b[1;33m\u001b[0m\u001b[1;33m\u001b[0m\u001b[0m\n\u001b[0m",
      "\u001b[1;31mStopIteration\u001b[0m: "
     ]
    }
   ],
   "source": [
    "next(x)"
   ]
  },
  {
   "cell_type": "code",
   "execution_count": 27,
   "id": "f5db03e7",
   "metadata": {},
   "outputs": [],
   "source": [
    "x = gen()"
   ]
  },
  {
   "cell_type": "code",
   "execution_count": 28,
   "id": "8408c807",
   "metadata": {},
   "outputs": [
    {
     "data": {
      "text/plain": [
       "677"
      ]
     },
     "execution_count": 28,
     "metadata": {},
     "output_type": "execute_result"
    }
   ],
   "source": [
    "next(x)"
   ]
  },
  {
   "cell_type": "code",
   "execution_count": 29,
   "id": "5d6fd48e",
   "metadata": {},
   "outputs": [
    {
     "name": "stdout",
     "output_type": "stream",
     "text": [
      "hello\n",
      "java\n",
      "done\n"
     ]
    }
   ],
   "source": [
    "for n in  x:\n",
    "    print(n)"
   ]
  },
  {
   "cell_type": "code",
   "execution_count": 30,
   "id": "16e51084",
   "metadata": {},
   "outputs": [],
   "source": [
    "##################"
   ]
  },
  {
   "cell_type": "code",
   "execution_count": 33,
   "id": "28a50982",
   "metadata": {},
   "outputs": [],
   "source": [
    "# x = map_(double, range(10,99999999999999999))"
   ]
  },
  {
   "cell_type": "code",
   "execution_count": 34,
   "id": "e08e1cfd",
   "metadata": {},
   "outputs": [],
   "source": [
    "def map_(function ,   values):\n",
    "    for n in values:\n",
    "        yield function(n)\n",
    "    "
   ]
  },
  {
   "cell_type": "code",
   "execution_count": 35,
   "id": "0e05f0ec",
   "metadata": {},
   "outputs": [
    {
     "data": {
      "text/plain": [
       "<generator object map_ at 0x00000248332F1CF0>"
      ]
     },
     "execution_count": 35,
     "metadata": {},
     "output_type": "execute_result"
    }
   ],
   "source": [
    "x = map_(double, range(1,9))\n",
    "x"
   ]
  },
  {
   "cell_type": "code",
   "execution_count": 36,
   "id": "4eb54527",
   "metadata": {},
   "outputs": [
    {
     "data": {
      "text/plain": [
       "[2, 4, 6, 8, 10, 12, 14, 16]"
      ]
     },
     "execution_count": 36,
     "metadata": {},
     "output_type": "execute_result"
    }
   ],
   "source": [
    "x = map_(double, range(1,9))\n",
    "list(x)"
   ]
  },
  {
   "cell_type": "code",
   "execution_count": 37,
   "id": "71a79c9f",
   "metadata": {},
   "outputs": [],
   "source": [
    "##########################################"
   ]
  },
  {
   "cell_type": "code",
   "execution_count": 38,
   "id": "38e7559f",
   "metadata": {},
   "outputs": [],
   "source": [
    "# comprehension\n",
    "# list , tuple , set , dict"
   ]
  },
  {
   "cell_type": "code",
   "execution_count": 39,
   "id": "d66c5149",
   "metadata": {},
   "outputs": [],
   "source": [
    "# list"
   ]
  },
  {
   "cell_type": "code",
   "execution_count": 40,
   "id": "c1f14cb9",
   "metadata": {},
   "outputs": [
    {
     "data": {
      "text/plain": [
       "[1, 2, 3, 4, 5, 6, 7, 8, 9, 10]"
      ]
     },
     "execution_count": 40,
     "metadata": {},
     "output_type": "execute_result"
    }
   ],
   "source": [
    "[x for x in range(1,11)]"
   ]
  },
  {
   "cell_type": "code",
   "execution_count": 41,
   "id": "c8bbf32f",
   "metadata": {},
   "outputs": [
    {
     "data": {
      "text/plain": [
       "[1, 2, 3, 4, 5, 6, 7, 8, 9, 10]"
      ]
     },
     "execution_count": 41,
     "metadata": {},
     "output_type": "execute_result"
    }
   ],
   "source": [
    "d = [x for x in range(1,11)]\n",
    "d"
   ]
  },
  {
   "cell_type": "code",
   "execution_count": 42,
   "id": "f6a0f4cd",
   "metadata": {},
   "outputs": [
    {
     "data": {
      "text/plain": [
       "[2, 4, 6, 8, 10, 12, 14, 16, 18, 20]"
      ]
     },
     "execution_count": 42,
     "metadata": {},
     "output_type": "execute_result"
    }
   ],
   "source": [
    "d = [x*2 for x in range(1,11)]\n",
    "d"
   ]
  },
  {
   "cell_type": "code",
   "execution_count": 43,
   "id": "1ea41ecd",
   "metadata": {},
   "outputs": [
    {
     "data": {
      "text/plain": [
       "[73.4, 75.2, 71.6, 68.0]"
      ]
     },
     "execution_count": 43,
     "metadata": {},
     "output_type": "execute_result"
    }
   ],
   "source": [
    "d = [(x*(9/5))+32 for x in (23,24,22,20)]\n",
    "d"
   ]
  },
  {
   "cell_type": "code",
   "execution_count": 46,
   "id": "c00fbc93",
   "metadata": {},
   "outputs": [],
   "source": [
    "# d = [(x,y) for x in range(1,7) for y in range(1,7)]\n",
    "# d"
   ]
  },
  {
   "cell_type": "code",
   "execution_count": 47,
   "id": "00013af9",
   "metadata": {},
   "outputs": [
    {
     "data": {
      "text/plain": [
       "[(1, 1), (2, 2), (3, 3), (4, 4), (5, 5), (6, 6)]"
      ]
     },
     "execution_count": 47,
     "metadata": {},
     "output_type": "execute_result"
    }
   ],
   "source": [
    "d = [(x,y) for x in range(1,7) for y in range(1,7) if x ==y]\n",
    "d"
   ]
  },
  {
   "cell_type": "code",
   "execution_count": 48,
   "id": "6e8a6640",
   "metadata": {},
   "outputs": [],
   "source": [
    "#############################"
   ]
  },
  {
   "cell_type": "code",
   "execution_count": 49,
   "id": "1f1ffc90",
   "metadata": {},
   "outputs": [
    {
     "name": "stdout",
     "output_type": "stream",
     "text": [
      "Enter Numbers ? 234,32,432,432,4,234,324,32,432,4\n"
     ]
    }
   ],
   "source": [
    "n = input(\"Enter Numbers ? \")"
   ]
  },
  {
   "cell_type": "code",
   "execution_count": 50,
   "id": "99974f8b",
   "metadata": {},
   "outputs": [
    {
     "data": {
      "text/plain": [
       "'234,32,432,432,4,234,324,32,432,4'"
      ]
     },
     "execution_count": 50,
     "metadata": {},
     "output_type": "execute_result"
    }
   ],
   "source": [
    "n"
   ]
  },
  {
   "cell_type": "code",
   "execution_count": 51,
   "id": "b225cb45",
   "metadata": {},
   "outputs": [
    {
     "data": {
      "text/plain": [
       "['234', '32', '432', '432', '4', '234', '324', '32', '432', '4']"
      ]
     },
     "execution_count": 51,
     "metadata": {},
     "output_type": "execute_result"
    }
   ],
   "source": [
    "n.split(',')"
   ]
  },
  {
   "cell_type": "code",
   "execution_count": 52,
   "id": "aa952fce",
   "metadata": {},
   "outputs": [
    {
     "name": "stdout",
     "output_type": "stream",
     "text": [
      "Enter Numbers 2,3,4,5,6,7,8,9\n"
     ]
    },
    {
     "data": {
      "text/plain": [
       "[4, 6, 8, 10, 12, 14, 16, 18]"
      ]
     },
     "execution_count": 52,
     "metadata": {},
     "output_type": "execute_result"
    }
   ],
   "source": [
    "[int(x)*2 for x in input(\"Enter Numbers \").split(',') ]"
   ]
  },
  {
   "cell_type": "code",
   "execution_count": 54,
   "id": "bc60528a",
   "metadata": {},
   "outputs": [
    {
     "name": "stdout",
     "output_type": "stream",
     "text": [
      "Enter Numbers 1 2 3 4 5 6\n"
     ]
    },
    {
     "data": {
      "text/plain": [
       "42"
      ]
     },
     "execution_count": 54,
     "metadata": {},
     "output_type": "execute_result"
    }
   ],
   "source": [
    "sum([int(x)*2 for x in input(\"Enter Numbers \").split() ])"
   ]
  },
  {
   "cell_type": "code",
   "execution_count": 55,
   "id": "d0a17fc8",
   "metadata": {},
   "outputs": [],
   "source": [
    "####################"
   ]
  },
  {
   "cell_type": "code",
   "execution_count": 56,
   "id": "48c1819e",
   "metadata": {},
   "outputs": [],
   "source": [
    "# tuple"
   ]
  },
  {
   "cell_type": "code",
   "execution_count": 57,
   "id": "94fcabc3",
   "metadata": {},
   "outputs": [
    {
     "data": {
      "text/plain": [
       "<generator object <genexpr> at 0x00000248333B4AC0>"
      ]
     },
     "execution_count": 57,
     "metadata": {},
     "output_type": "execute_result"
    }
   ],
   "source": [
    "(x for x in range(1,6))"
   ]
  },
  {
   "cell_type": "code",
   "execution_count": 58,
   "id": "f36d206c",
   "metadata": {},
   "outputs": [],
   "source": [
    "d = (x for x in range(1,6))"
   ]
  },
  {
   "cell_type": "code",
   "execution_count": 59,
   "id": "e4e51170",
   "metadata": {},
   "outputs": [
    {
     "data": {
      "text/plain": [
       "1"
      ]
     },
     "execution_count": 59,
     "metadata": {},
     "output_type": "execute_result"
    }
   ],
   "source": [
    "next(d)"
   ]
  },
  {
   "cell_type": "code",
   "execution_count": 60,
   "id": "255e306b",
   "metadata": {},
   "outputs": [
    {
     "data": {
      "text/plain": [
       "2"
      ]
     },
     "execution_count": 60,
     "metadata": {},
     "output_type": "execute_result"
    }
   ],
   "source": [
    "next(d)"
   ]
  },
  {
   "cell_type": "code",
   "execution_count": 61,
   "id": "f0ee9e82",
   "metadata": {},
   "outputs": [],
   "source": [
    "################"
   ]
  },
  {
   "cell_type": "code",
   "execution_count": 62,
   "id": "c13b8d5c",
   "metadata": {},
   "outputs": [],
   "source": [
    "# set"
   ]
  },
  {
   "cell_type": "code",
   "execution_count": 63,
   "id": "ccabc015",
   "metadata": {},
   "outputs": [
    {
     "data": {
      "text/plain": [
       "{1, 2, 3, 4, 5, 6}"
      ]
     },
     "execution_count": 63,
     "metadata": {},
     "output_type": "execute_result"
    }
   ],
   "source": [
    "{x for x in range(1,7)}"
   ]
  },
  {
   "cell_type": "code",
   "execution_count": 64,
   "id": "fe2a0413",
   "metadata": {},
   "outputs": [
    {
     "data": {
      "text/plain": [
       "{'1', '2', '3', '4', '5', '6'}"
      ]
     },
     "execution_count": 64,
     "metadata": {},
     "output_type": "execute_result"
    }
   ],
   "source": [
    "{x for x in '421652346152346512436512'}"
   ]
  },
  {
   "cell_type": "code",
   "execution_count": 65,
   "id": "c15e791d",
   "metadata": {},
   "outputs": [
    {
     "data": {
      "text/plain": [
       "{2: 1.4142135623730951,\n",
       " 3: 1.7320508075688772,\n",
       " 4: 2.0,\n",
       " 5: 2.23606797749979,\n",
       " 6: 2.449489742783178,\n",
       " 7: 2.6457513110645907,\n",
       " 8: 2.8284271247461903,\n",
       " 9: 3.0,\n",
       " 10: 3.1622776601683795,\n",
       " 11: 3.3166247903554,\n",
       " 12: 3.4641016151377544,\n",
       " 13: 3.605551275463989,\n",
       " 14: 3.7416573867739413,\n",
       " 15: 3.872983346207417,\n",
       " 16: 4.0,\n",
       " 17: 4.123105625617661,\n",
       " 18: 4.242640687119285,\n",
       " 19: 4.358898943540674}"
      ]
     },
     "execution_count": 65,
     "metadata": {},
     "output_type": "execute_result"
    }
   ],
   "source": [
    "{x:x**0.5 for x in range(2,20)}"
   ]
  },
  {
   "cell_type": "code",
   "execution_count": 66,
   "id": "2e60420c",
   "metadata": {},
   "outputs": [],
   "source": [
    "############################################"
   ]
  },
  {
   "cell_type": "code",
   "execution_count": 68,
   "id": "76d58c04",
   "metadata": {},
   "outputs": [],
   "source": [
    "# !pip install pyttsx3"
   ]
  },
  {
   "cell_type": "code",
   "execution_count": 69,
   "id": "6452900b",
   "metadata": {},
   "outputs": [],
   "source": [
    "import pyttsx3"
   ]
  },
  {
   "cell_type": "code",
   "execution_count": 70,
   "id": "f539800d",
   "metadata": {},
   "outputs": [],
   "source": [
    "engine = pyttsx3.init()"
   ]
  },
  {
   "cell_type": "code",
   "execution_count": 71,
   "id": "fd0e195a",
   "metadata": {},
   "outputs": [],
   "source": [
    "engine.say('Hello Student , How Are You?')\n",
    "engine.runAndWait()"
   ]
  },
  {
   "cell_type": "code",
   "execution_count": 79,
   "id": "1290d015",
   "metadata": {},
   "outputs": [],
   "source": [
    "voices = engine.getProperty('voices')"
   ]
  },
  {
   "cell_type": "code",
   "execution_count": 81,
   "id": "d9c4ab3e",
   "metadata": {},
   "outputs": [],
   "source": [
    "engine.setProperty('voices',voices[1])\n",
    "engine.say('Hello Student , How Are You?')\n",
    "engine.runAndWait()"
   ]
  },
  {
   "cell_type": "code",
   "execution_count": 82,
   "id": "88e92012",
   "metadata": {},
   "outputs": [
    {
     "data": {
      "text/plain": [
       "200"
      ]
     },
     "execution_count": 82,
     "metadata": {},
     "output_type": "execute_result"
    }
   ],
   "source": [
    "rate = engine.getProperty('rate')\n",
    "rate"
   ]
  },
  {
   "cell_type": "code",
   "execution_count": 83,
   "id": "7e5511cf",
   "metadata": {},
   "outputs": [],
   "source": [
    "engine.setProperty('rate', 125)\n",
    "engine.say('Hello Student , How Are You?')\n",
    "engine.runAndWait()"
   ]
  },
  {
   "cell_type": "code",
   "execution_count": 84,
   "id": "69148681",
   "metadata": {},
   "outputs": [
    {
     "data": {
      "text/plain": [
       "1.0"
      ]
     },
     "execution_count": 84,
     "metadata": {},
     "output_type": "execute_result"
    }
   ],
   "source": [
    "volume = engine.getProperty('volume')\n",
    "volume"
   ]
  },
  {
   "cell_type": "code",
   "execution_count": 86,
   "id": "522135b8",
   "metadata": {},
   "outputs": [],
   "source": [
    "engine.setProperty('volume',0.5)\n",
    "engine.setProperty('rate', 125)\n",
    "engine.say('Hello Student , How Are You?')\n",
    "engine.runAndWait()"
   ]
  },
  {
   "cell_type": "code",
   "execution_count": 87,
   "id": "bccdca56",
   "metadata": {},
   "outputs": [],
   "source": [
    "voices = engine.getProperty('voices')\n",
    "engine.setProperty('voice', voices[1].id)\n",
    "engine.setProperty('volume',0.5)\n",
    "engine.setProperty('rate', 125)\n",
    "engine.say('Hello Student , How Are You?')\n",
    "engine.runAndWait()"
   ]
  },
  {
   "cell_type": "code",
   "execution_count": null,
   "id": "d944f109",
   "metadata": {},
   "outputs": [],
   "source": []
  }
 ],
 "metadata": {
  "kernelspec": {
   "display_name": "Python 3 (ipykernel)",
   "language": "python",
   "name": "python3"
  },
  "language_info": {
   "codemirror_mode": {
    "name": "ipython",
    "version": 3
   },
   "file_extension": ".py",
   "mimetype": "text/x-python",
   "name": "python",
   "nbconvert_exporter": "python",
   "pygments_lexer": "ipython3",
   "version": "3.10.2"
  }
 },
 "nbformat": 4,
 "nbformat_minor": 5
}
