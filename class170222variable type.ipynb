{
 "cells": [
  {
   "cell_type": "code",
   "execution_count": 1,
   "id": "498a5620",
   "metadata": {},
   "outputs": [],
   "source": [
    "# local\n",
    "# nonlocal\n",
    "# global"
   ]
  },
  {
   "cell_type": "code",
   "execution_count": 3,
   "id": "59bbfb8f",
   "metadata": {},
   "outputs": [],
   "source": [
    "def fun():\n",
    "    var = '100'\n",
    "    print('fun = ',var)"
   ]
  },
  {
   "cell_type": "code",
   "execution_count": 4,
   "id": "6a468147",
   "metadata": {},
   "outputs": [
    {
     "name": "stdout",
     "output_type": "stream",
     "text": [
      "fun =  100\n"
     ]
    }
   ],
   "source": [
    "fun()"
   ]
  },
  {
   "cell_type": "code",
   "execution_count": 5,
   "id": "845f71a1",
   "metadata": {},
   "outputs": [
    {
     "ename": "NameError",
     "evalue": "name 'var' is not defined",
     "output_type": "error",
     "traceback": [
      "\u001b[1;31m---------------------------------------------------------------------------\u001b[0m",
      "\u001b[1;31mNameError\u001b[0m                                 Traceback (most recent call last)",
      "\u001b[1;32m~\\AppData\\Local\\Temp/ipykernel_15892/4138207136.py\u001b[0m in \u001b[0;36m<module>\u001b[1;34m\u001b[0m\n\u001b[1;32m----> 1\u001b[1;33m \u001b[0mvar\u001b[0m\u001b[1;33m\u001b[0m\u001b[1;33m\u001b[0m\u001b[0m\n\u001b[0m",
      "\u001b[1;31mNameError\u001b[0m: name 'var' is not defined"
     ]
    }
   ],
   "source": [
    "var"
   ]
  },
  {
   "cell_type": "code",
   "execution_count": 6,
   "id": "0397f938",
   "metadata": {},
   "outputs": [],
   "source": [
    "v2 = '200'"
   ]
  },
  {
   "cell_type": "code",
   "execution_count": 7,
   "id": "0fa6efe1",
   "metadata": {},
   "outputs": [],
   "source": [
    "def fun2():\n",
    "    print('variable ', v2)"
   ]
  },
  {
   "cell_type": "code",
   "execution_count": 8,
   "id": "c6b636c9",
   "metadata": {},
   "outputs": [
    {
     "data": {
      "text/plain": [
       "'200'"
      ]
     },
     "execution_count": 8,
     "metadata": {},
     "output_type": "execute_result"
    }
   ],
   "source": [
    "v2"
   ]
  },
  {
   "cell_type": "code",
   "execution_count": 9,
   "id": "f38b4758",
   "metadata": {},
   "outputs": [
    {
     "name": "stdout",
     "output_type": "stream",
     "text": [
      "variable  200\n"
     ]
    }
   ],
   "source": [
    "fun2()"
   ]
  },
  {
   "cell_type": "code",
   "execution_count": 10,
   "id": "95a27501",
   "metadata": {},
   "outputs": [],
   "source": [
    "v2 = '700'"
   ]
  },
  {
   "cell_type": "code",
   "execution_count": 11,
   "id": "18b12e97",
   "metadata": {},
   "outputs": [
    {
     "name": "stdout",
     "output_type": "stream",
     "text": [
      "variable  700\n"
     ]
    }
   ],
   "source": [
    "fun2()"
   ]
  },
  {
   "cell_type": "code",
   "execution_count": 12,
   "id": "73f4e18b",
   "metadata": {},
   "outputs": [],
   "source": [
    "########################################"
   ]
  },
  {
   "cell_type": "code",
   "execution_count": 20,
   "id": "43e2c8d7",
   "metadata": {},
   "outputs": [],
   "source": [
    "v = 10\n",
    "def f1():\n",
    "    print('variable ', v)\n",
    "    v = 20\n",
    "    print('variable ', v)"
   ]
  },
  {
   "cell_type": "code",
   "execution_count": 21,
   "id": "20c411f8",
   "metadata": {},
   "outputs": [
    {
     "data": {
      "text/plain": [
       "10"
      ]
     },
     "execution_count": 21,
     "metadata": {},
     "output_type": "execute_result"
    }
   ],
   "source": [
    "v"
   ]
  },
  {
   "cell_type": "code",
   "execution_count": 22,
   "id": "eacb3fc2",
   "metadata": {},
   "outputs": [
    {
     "name": "stdout",
     "output_type": "stream",
     "text": [
      "variable  10\n",
      "variable  10\n"
     ]
    }
   ],
   "source": [
    "f1()"
   ]
  },
  {
   "cell_type": "code",
   "execution_count": 16,
   "id": "18cbe56f",
   "metadata": {},
   "outputs": [
    {
     "data": {
      "text/plain": [
       "10"
      ]
     },
     "execution_count": 16,
     "metadata": {},
     "output_type": "execute_result"
    }
   ],
   "source": [
    "v"
   ]
  },
  {
   "cell_type": "code",
   "execution_count": 23,
   "id": "4fba5fa1",
   "metadata": {},
   "outputs": [],
   "source": [
    "####################################"
   ]
  },
  {
   "cell_type": "code",
   "execution_count": 24,
   "id": "75cc4f27",
   "metadata": {},
   "outputs": [],
   "source": [
    "v = 10\n",
    "def f1():    \n",
    "    v = 20\n",
    "    print('variable ', v)"
   ]
  },
  {
   "cell_type": "code",
   "execution_count": 25,
   "id": "6fc4d627",
   "metadata": {},
   "outputs": [
    {
     "name": "stdout",
     "output_type": "stream",
     "text": [
      "variable  20\n"
     ]
    }
   ],
   "source": [
    "f1()"
   ]
  },
  {
   "cell_type": "code",
   "execution_count": 26,
   "id": "a7fc0826",
   "metadata": {},
   "outputs": [
    {
     "data": {
      "text/plain": [
       "10"
      ]
     },
     "execution_count": 26,
     "metadata": {},
     "output_type": "execute_result"
    }
   ],
   "source": [
    "v"
   ]
  },
  {
   "cell_type": "code",
   "execution_count": 27,
   "id": "3d77cd0a",
   "metadata": {},
   "outputs": [],
   "source": [
    "#######################"
   ]
  },
  {
   "cell_type": "code",
   "execution_count": 28,
   "id": "27bb1d4c",
   "metadata": {},
   "outputs": [],
   "source": [
    "v = 10\n",
    "def f1(): \n",
    "    global v\n",
    "    v = 20\n",
    "    print('variable ', v)"
   ]
  },
  {
   "cell_type": "code",
   "execution_count": 29,
   "id": "57edb652",
   "metadata": {},
   "outputs": [
    {
     "data": {
      "text/plain": [
       "10"
      ]
     },
     "execution_count": 29,
     "metadata": {},
     "output_type": "execute_result"
    }
   ],
   "source": [
    "v"
   ]
  },
  {
   "cell_type": "code",
   "execution_count": 30,
   "id": "c50272a3",
   "metadata": {},
   "outputs": [
    {
     "name": "stdout",
     "output_type": "stream",
     "text": [
      "variable  20\n"
     ]
    }
   ],
   "source": [
    "f1()"
   ]
  },
  {
   "cell_type": "code",
   "execution_count": 31,
   "id": "6850741a",
   "metadata": {},
   "outputs": [
    {
     "data": {
      "text/plain": [
       "20"
      ]
     },
     "execution_count": 31,
     "metadata": {},
     "output_type": "execute_result"
    }
   ],
   "source": [
    "v"
   ]
  },
  {
   "cell_type": "code",
   "execution_count": 32,
   "id": "b2536349",
   "metadata": {},
   "outputs": [],
   "source": [
    "def glo():\n",
    "    global x\n",
    "    x = 9887"
   ]
  },
  {
   "cell_type": "code",
   "execution_count": 33,
   "id": "f2243997",
   "metadata": {},
   "outputs": [
    {
     "ename": "NameError",
     "evalue": "name 'x' is not defined",
     "output_type": "error",
     "traceback": [
      "\u001b[1;31m---------------------------------------------------------------------------\u001b[0m",
      "\u001b[1;31mNameError\u001b[0m                                 Traceback (most recent call last)",
      "\u001b[1;32m~\\AppData\\Local\\Temp/ipykernel_15892/32546335.py\u001b[0m in \u001b[0;36m<module>\u001b[1;34m\u001b[0m\n\u001b[1;32m----> 1\u001b[1;33m \u001b[0mx\u001b[0m\u001b[1;33m\u001b[0m\u001b[1;33m\u001b[0m\u001b[0m\n\u001b[0m",
      "\u001b[1;31mNameError\u001b[0m: name 'x' is not defined"
     ]
    }
   ],
   "source": [
    "x"
   ]
  },
  {
   "cell_type": "code",
   "execution_count": 34,
   "id": "a6cd0157",
   "metadata": {},
   "outputs": [],
   "source": [
    "glo()"
   ]
  },
  {
   "cell_type": "code",
   "execution_count": 35,
   "id": "848d8024",
   "metadata": {},
   "outputs": [
    {
     "data": {
      "text/plain": [
       "9887"
      ]
     },
     "execution_count": 35,
     "metadata": {},
     "output_type": "execute_result"
    }
   ],
   "source": [
    "x"
   ]
  },
  {
   "cell_type": "code",
   "execution_count": 36,
   "id": "f31b8a52",
   "metadata": {},
   "outputs": [],
   "source": [
    "def outer():\n",
    "    print('Outer function is running ... ')\n",
    "    \n",
    "    def inner():\n",
    "        print('inner function .... ')\n",
    "        \n",
    "        \n",
    "        "
   ]
  },
  {
   "cell_type": "code",
   "execution_count": 37,
   "id": "0c1df3b5",
   "metadata": {},
   "outputs": [
    {
     "name": "stdout",
     "output_type": "stream",
     "text": [
      "Outer function is running ... \n"
     ]
    }
   ],
   "source": [
    "outer()"
   ]
  },
  {
   "cell_type": "code",
   "execution_count": 38,
   "id": "eb1130b4",
   "metadata": {},
   "outputs": [],
   "source": [
    "def outer():\n",
    "    print('Outer function is running ... ')\n",
    "    \n",
    "    def inner():\n",
    "        print('inner function .... ')\n",
    "    inner()"
   ]
  },
  {
   "cell_type": "code",
   "execution_count": 39,
   "id": "8ba00772",
   "metadata": {},
   "outputs": [
    {
     "name": "stdout",
     "output_type": "stream",
     "text": [
      "Outer function is running ... \n",
      "inner function .... \n"
     ]
    }
   ],
   "source": [
    "outer()"
   ]
  },
  {
   "cell_type": "code",
   "execution_count": 40,
   "id": "84f67cbe",
   "metadata": {},
   "outputs": [],
   "source": [
    "def outer():\n",
    "    print('Outer function is running ... ')\n",
    "    \n",
    "    def inner():\n",
    "        print('inner function .... ')\n",
    "    return inner"
   ]
  },
  {
   "cell_type": "code",
   "execution_count": 41,
   "id": "d6c9a12e",
   "metadata": {},
   "outputs": [
    {
     "name": "stdout",
     "output_type": "stream",
     "text": [
      "Outer function is running ... \n"
     ]
    }
   ],
   "source": [
    "f = outer()"
   ]
  },
  {
   "cell_type": "code",
   "execution_count": 42,
   "id": "f22b1a51",
   "metadata": {},
   "outputs": [
    {
     "name": "stdout",
     "output_type": "stream",
     "text": [
      "inner function .... \n"
     ]
    }
   ],
   "source": [
    "f()"
   ]
  },
  {
   "cell_type": "code",
   "execution_count": 46,
   "id": "3cb4d90b",
   "metadata": {},
   "outputs": [
    {
     "data": {
      "text/plain": [
       "'inner'"
      ]
     },
     "execution_count": 46,
     "metadata": {},
     "output_type": "execute_result"
    }
   ],
   "source": [
    "f.__name__"
   ]
  },
  {
   "cell_type": "code",
   "execution_count": null,
   "id": "e11d63fd",
   "metadata": {},
   "outputs": [],
   "source": []
  },
  {
   "cell_type": "code",
   "execution_count": 43,
   "id": "8e99f370",
   "metadata": {},
   "outputs": [],
   "source": [
    "################"
   ]
  },
  {
   "cell_type": "code",
   "execution_count": 44,
   "id": "ce60713e",
   "metadata": {},
   "outputs": [],
   "source": [
    "dis = print"
   ]
  },
  {
   "cell_type": "code",
   "execution_count": 45,
   "id": "3e99ebef",
   "metadata": {},
   "outputs": [
    {
     "name": "stdout",
     "output_type": "stream",
     "text": [
      "1 21 21 2 12 hello print\n"
     ]
    }
   ],
   "source": [
    "dis(1,21,21,2,12, 'hello' , 'print')"
   ]
  },
  {
   "cell_type": "code",
   "execution_count": 47,
   "id": "a30f2b8e",
   "metadata": {},
   "outputs": [],
   "source": [
    "def outer():\n",
    "    print('Outer function is running ... ')\n",
    "    \n",
    "    def inner():\n",
    "        print('inner function .... ')\n",
    "    return print"
   ]
  },
  {
   "cell_type": "code",
   "execution_count": 48,
   "id": "4b633862",
   "metadata": {},
   "outputs": [
    {
     "name": "stdout",
     "output_type": "stream",
     "text": [
      "Outer function is running ... \n"
     ]
    }
   ],
   "source": [
    "f = outer()"
   ]
  },
  {
   "cell_type": "code",
   "execution_count": 49,
   "id": "347790af",
   "metadata": {},
   "outputs": [
    {
     "data": {
      "text/plain": [
       "'print'"
      ]
     },
     "execution_count": 49,
     "metadata": {},
     "output_type": "execute_result"
    }
   ],
   "source": [
    "f.__name__"
   ]
  },
  {
   "cell_type": "code",
   "execution_count": 50,
   "id": "e5ae1fc5",
   "metadata": {},
   "outputs": [],
   "source": [
    "def outer():\n",
    "    print('Outer function is running ... ')\n",
    "    \n",
    "    def inner():\n",
    "        print('inner function .... ')\n",
    "    return inner,print,sum"
   ]
  },
  {
   "cell_type": "code",
   "execution_count": 51,
   "id": "4fcead28",
   "metadata": {},
   "outputs": [
    {
     "name": "stdout",
     "output_type": "stream",
     "text": [
      "Outer function is running ... \n"
     ]
    }
   ],
   "source": [
    "f = outer()"
   ]
  },
  {
   "cell_type": "code",
   "execution_count": 52,
   "id": "918cf06e",
   "metadata": {},
   "outputs": [
    {
     "data": {
      "text/plain": [
       "(<function __main__.outer.<locals>.inner()>,\n",
       " <function print>,\n",
       " <function sum(iterable, /, start=0)>)"
      ]
     },
     "execution_count": 52,
     "metadata": {},
     "output_type": "execute_result"
    }
   ],
   "source": [
    "f"
   ]
  },
  {
   "cell_type": "code",
   "execution_count": 53,
   "id": "3eae1b2f",
   "metadata": {},
   "outputs": [
    {
     "data": {
      "text/plain": [
       "<function __main__.outer.<locals>.inner()>"
      ]
     },
     "execution_count": 53,
     "metadata": {},
     "output_type": "execute_result"
    }
   ],
   "source": [
    "f[0]"
   ]
  },
  {
   "cell_type": "code",
   "execution_count": 54,
   "id": "d048cbc7",
   "metadata": {},
   "outputs": [
    {
     "name": "stdout",
     "output_type": "stream",
     "text": [
      "inner function .... \n"
     ]
    }
   ],
   "source": [
    "f[0]()"
   ]
  },
  {
   "cell_type": "code",
   "execution_count": 55,
   "id": "23172d69",
   "metadata": {},
   "outputs": [
    {
     "name": "stdout",
     "output_type": "stream",
     "text": [
      "12 12 1 21 21 2\n"
     ]
    }
   ],
   "source": [
    "f[1](12,12,1,21,21,2)"
   ]
  },
  {
   "cell_type": "code",
   "execution_count": 56,
   "id": "33b78310",
   "metadata": {},
   "outputs": [
    {
     "data": {
      "text/plain": [
       "69"
      ]
     },
     "execution_count": 56,
     "metadata": {},
     "output_type": "execute_result"
    }
   ],
   "source": [
    "f[2]([12,12,1,21,21,2])"
   ]
  },
  {
   "cell_type": "code",
   "execution_count": 57,
   "id": "afcd9cc4",
   "metadata": {},
   "outputs": [],
   "source": [
    "##################"
   ]
  },
  {
   "cell_type": "code",
   "execution_count": 60,
   "id": "68676d67",
   "metadata": {},
   "outputs": [],
   "source": [
    "def outer():\n",
    "    \n",
    "    x = 10\n",
    "    def inner():\n",
    "        print('inner function .... ',x)\n",
    "    inner()\n",
    "    print('Outer function is running ... ',x)\n",
    "    "
   ]
  },
  {
   "cell_type": "code",
   "execution_count": 61,
   "id": "584ab838",
   "metadata": {},
   "outputs": [
    {
     "name": "stdout",
     "output_type": "stream",
     "text": [
      "inner function ....  10\n",
      "Outer function is running ...  10\n"
     ]
    }
   ],
   "source": [
    "outer()"
   ]
  },
  {
   "cell_type": "code",
   "execution_count": 62,
   "id": "0d2e6e20",
   "metadata": {},
   "outputs": [],
   "source": [
    "def outer():\n",
    "    \n",
    "    x = 10\n",
    "    def inner():\n",
    "        x = 20\n",
    "        print('inner function .... ',x)\n",
    "    inner()\n",
    "    print('Outer function is running ... ',x)"
   ]
  },
  {
   "cell_type": "code",
   "execution_count": 63,
   "id": "f9123f07",
   "metadata": {},
   "outputs": [
    {
     "name": "stdout",
     "output_type": "stream",
     "text": [
      "inner function ....  20\n",
      "Outer function is running ...  10\n"
     ]
    }
   ],
   "source": [
    "outer()"
   ]
  },
  {
   "cell_type": "code",
   "execution_count": 64,
   "id": "8b421e75",
   "metadata": {},
   "outputs": [],
   "source": [
    "def outer():\n",
    "    \n",
    "    x = 10\n",
    "    def inner():\n",
    "        global x\n",
    "        x = 20\n",
    "        print('inner function .... ',x)\n",
    "    inner()\n",
    "    print('Outer function is running ... ',x) "
   ]
  },
  {
   "cell_type": "code",
   "execution_count": 65,
   "id": "a4779b1a",
   "metadata": {},
   "outputs": [
    {
     "name": "stdout",
     "output_type": "stream",
     "text": [
      "inner function ....  20\n",
      "Outer function is running ...  10\n"
     ]
    }
   ],
   "source": [
    "outer()"
   ]
  },
  {
   "cell_type": "code",
   "execution_count": 66,
   "id": "23accf07",
   "metadata": {},
   "outputs": [
    {
     "data": {
      "text/plain": [
       "20"
      ]
     },
     "execution_count": 66,
     "metadata": {},
     "output_type": "execute_result"
    }
   ],
   "source": [
    "x"
   ]
  },
  {
   "cell_type": "code",
   "execution_count": 69,
   "id": "9dcbbbd1",
   "metadata": {},
   "outputs": [],
   "source": [
    "del x"
   ]
  },
  {
   "cell_type": "code",
   "execution_count": 70,
   "id": "0f856138",
   "metadata": {},
   "outputs": [],
   "source": [
    "def outer():\n",
    "    \n",
    "    x = 10\n",
    "    def inner():\n",
    "        nonlocal x\n",
    "        x = 20\n",
    "        print('inner function .... ',x)\n",
    "    inner()\n",
    "    print('Outer function is running ... ',x)"
   ]
  },
  {
   "cell_type": "code",
   "execution_count": 71,
   "id": "1c42b79d",
   "metadata": {},
   "outputs": [
    {
     "name": "stdout",
     "output_type": "stream",
     "text": [
      "inner function ....  20\n",
      "Outer function is running ...  20\n"
     ]
    }
   ],
   "source": [
    "outer()"
   ]
  },
  {
   "cell_type": "code",
   "execution_count": 72,
   "id": "a4dd4ab8",
   "metadata": {},
   "outputs": [
    {
     "ename": "NameError",
     "evalue": "name 'x' is not defined",
     "output_type": "error",
     "traceback": [
      "\u001b[1;31m---------------------------------------------------------------------------\u001b[0m",
      "\u001b[1;31mNameError\u001b[0m                                 Traceback (most recent call last)",
      "\u001b[1;32m~\\AppData\\Local\\Temp/ipykernel_15892/32546335.py\u001b[0m in \u001b[0;36m<module>\u001b[1;34m\u001b[0m\n\u001b[1;32m----> 1\u001b[1;33m \u001b[0mx\u001b[0m\u001b[1;33m\u001b[0m\u001b[1;33m\u001b[0m\u001b[0m\n\u001b[0m",
      "\u001b[1;31mNameError\u001b[0m: name 'x' is not defined"
     ]
    }
   ],
   "source": [
    "x"
   ]
  },
  {
   "cell_type": "code",
   "execution_count": 73,
   "id": "666230ac",
   "metadata": {},
   "outputs": [],
   "source": [
    "#####################"
   ]
  },
  {
   "cell_type": "code",
   "execution_count": 74,
   "id": "991ccabc",
   "metadata": {},
   "outputs": [],
   "source": [
    "f = lambda : 43"
   ]
  },
  {
   "cell_type": "code",
   "execution_count": 75,
   "id": "1b86fe36",
   "metadata": {},
   "outputs": [
    {
     "data": {
      "text/plain": [
       "43"
      ]
     },
     "execution_count": 75,
     "metadata": {},
     "output_type": "execute_result"
    }
   ],
   "source": [
    "f()"
   ]
  },
  {
   "cell_type": "code",
   "execution_count": 76,
   "id": "55db94b9",
   "metadata": {},
   "outputs": [],
   "source": [
    "add = lambda a,b : a+b"
   ]
  },
  {
   "cell_type": "code",
   "execution_count": 77,
   "id": "dc58bf74",
   "metadata": {},
   "outputs": [
    {
     "data": {
      "text/plain": [
       "5"
      ]
     },
     "execution_count": 77,
     "metadata": {},
     "output_type": "execute_result"
    }
   ],
   "source": [
    "add(2,3)"
   ]
  },
  {
   "cell_type": "code",
   "execution_count": 78,
   "id": "24045bf4",
   "metadata": {},
   "outputs": [],
   "source": [
    "add = lambda a=0,b=0 : a+b"
   ]
  },
  {
   "cell_type": "code",
   "execution_count": 81,
   "id": "ac6dc199",
   "metadata": {},
   "outputs": [
    {
     "data": {
      "text/plain": [
       "3"
      ]
     },
     "execution_count": 81,
     "metadata": {},
     "output_type": "execute_result"
    }
   ],
   "source": [
    "add(1,2)"
   ]
  },
  {
   "cell_type": "code",
   "execution_count": null,
   "id": "0ce706fa",
   "metadata": {},
   "outputs": [],
   "source": []
  }
 ],
 "metadata": {
  "kernelspec": {
   "display_name": "Python 3 (ipykernel)",
   "language": "python",
   "name": "python3"
  },
  "language_info": {
   "codemirror_mode": {
    "name": "ipython",
    "version": 3
   },
   "file_extension": ".py",
   "mimetype": "text/x-python",
   "name": "python",
   "nbconvert_exporter": "python",
   "pygments_lexer": "ipython3",
   "version": "3.10.2"
  }
 },
 "nbformat": 4,
 "nbformat_minor": 5
}
