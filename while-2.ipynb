{
 "cells": [
  {
   "cell_type": "code",
   "execution_count": 28,
   "id": "3072405d",
   "metadata": {},
   "outputs": [],
   "source": [
    "# while True:\n",
    "#     print('Hello Loop')"
   ]
  },
  {
   "cell_type": "code",
   "execution_count": 29,
   "id": "47b4cb2a",
   "metadata": {},
   "outputs": [
    {
     "name": "stdout",
     "output_type": "stream",
     "text": [
      "Hello Loop 10\n",
      "Hello Loop 9\n",
      "Hello Loop 8\n",
      "Hello Loop 7\n",
      "Hello Loop 6\n",
      "Hello Loop 5\n",
      "Hello Loop 4\n",
      "Hello Loop 3\n",
      "Hello Loop 2\n",
      "Hello Loop 1\n"
     ]
    }
   ],
   "source": [
    "n = 10\n",
    "while n:\n",
    "    print('Hello Loop',n)\n",
    "    n = n-1"
   ]
  },
  {
   "cell_type": "code",
   "execution_count": 30,
   "id": "5aadd5a6",
   "metadata": {},
   "outputs": [
    {
     "name": "stdout",
     "output_type": "stream",
     "text": [
      "Hello Loop 0\n",
      "Hello Loop 1\n",
      "Hello Loop 2\n",
      "Hello Loop 3\n",
      "Hello Loop 4\n",
      "Hello Loop 5\n",
      "Hello Loop 6\n",
      "Hello Loop 7\n",
      "Hello Loop 8\n",
      "Hello Loop 9\n",
      "Hello Loop 10\n"
     ]
    }
   ],
   "source": [
    "n = 0\n",
    "while n<=10:\n",
    "    print('Hello Loop',n)\n",
    "    n = n+1"
   ]
  },
  {
   "cell_type": "code",
   "execution_count": 31,
   "id": "759a4e09",
   "metadata": {},
   "outputs": [
    {
     "name": "stdout",
     "output_type": "stream",
     "text": [
      "Hello Loop 0\n",
      "Hello Loop 1\n",
      "Hello Loop 2\n",
      "Hello Loop 3\n",
      "Hello Loop 4\n",
      "Hello Loop 5\n",
      "Hello Loop 6\n",
      "Hello Loop 7\n",
      "Hello Loop 8\n",
      "Hello Loop 9\n",
      "Hello Loop 10\n",
      "Done\n"
     ]
    }
   ],
   "source": [
    "n = 0\n",
    "while n<=10:\n",
    "    print('Hello Loop',n)\n",
    "    n = n+1\n",
    "else:\n",
    "    print('Done')"
   ]
  },
  {
   "cell_type": "code",
   "execution_count": 32,
   "id": "242cc595",
   "metadata": {},
   "outputs": [
    {
     "name": "stdout",
     "output_type": "stream",
     "text": [
      "Hello Loop 0\n",
      "Hello Loop 1\n",
      "Hello Loop 2\n",
      "Hello Loop 3\n",
      "Hello Loop 4\n"
     ]
    }
   ],
   "source": [
    "n = 0\n",
    "while n<=10:\n",
    "    print('Hello Loop',n)\n",
    "    n = n+1\n",
    "    if n == 5:\n",
    "        break\n",
    "else:\n",
    "    print('Done')"
   ]
  },
  {
   "cell_type": "code",
   "execution_count": 37,
   "id": "cf8a67c8",
   "metadata": {},
   "outputs": [],
   "source": [
    "# for n in range(101,0,-1):\n",
    "#     if n%2==0: print(n)\n",
    "    "
   ]
  },
  {
   "cell_type": "code",
   "execution_count": 39,
   "id": "c2684fe4",
   "metadata": {},
   "outputs": [],
   "source": [
    "# for n in range(20,0,-1):\n",
    "#     if n%2==0: print(n)"
   ]
  },
  {
   "cell_type": "code",
   "execution_count": 40,
   "id": "b2d9b678",
   "metadata": {},
   "outputs": [
    {
     "name": "stdout",
     "output_type": "stream",
     "text": [
      "20\n",
      "18\n",
      "16\n",
      "14\n",
      "12\n",
      "10\n",
      "8\n",
      "6\n",
      "4\n",
      "2\n"
     ]
    }
   ],
   "source": [
    "for n in range(20000,0,-1):\n",
    "    if n<=20:\n",
    "        if n%2==0: print(n)"
   ]
  },
  {
   "cell_type": "code",
   "execution_count": 41,
   "id": "90f52b02",
   "metadata": {},
   "outputs": [
    {
     "name": "stdout",
     "output_type": "stream",
     "text": [
      "? 9\n",
      "9\n",
      "18\n",
      "27\n",
      "36\n",
      "45\n",
      "54\n",
      "63\n",
      "72\n",
      "81\n",
      "90\n"
     ]
    }
   ],
   "source": [
    "n = int(input(\"? \"))\n",
    "for i in range(1,11):\n",
    "    print(i*n)"
   ]
  },
  {
   "cell_type": "code",
   "execution_count": 45,
   "id": "88424b44",
   "metadata": {},
   "outputs": [
    {
     "name": "stdout",
     "output_type": "stream",
     "text": [
      "? 54321\n",
      "sum =  15\n"
     ]
    }
   ],
   "source": [
    "n = int(input(\"? \"))\n",
    "s = 0\n",
    "\n",
    "while n:\n",
    "    s = s + n%10\n",
    "    n = n//10\n",
    "    \n",
    "    \n",
    "print('sum = ',s)"
   ]
  },
  {
   "cell_type": "code",
   "execution_count": 44,
   "id": "8bc92e8b",
   "metadata": {},
   "outputs": [
    {
     "data": {
      "text/plain": [
       "10"
      ]
     },
     "execution_count": 44,
     "metadata": {},
     "output_type": "execute_result"
    }
   ],
   "source": [
    "s"
   ]
  },
  {
   "cell_type": "code",
   "execution_count": 46,
   "id": "7789060b",
   "metadata": {},
   "outputs": [],
   "source": [
    "# +=  -=  *= /=  "
   ]
  },
  {
   "cell_type": "code",
   "execution_count": 47,
   "id": "801bf392",
   "metadata": {},
   "outputs": [],
   "source": [
    "a = 1"
   ]
  },
  {
   "cell_type": "code",
   "execution_count": 48,
   "id": "0219e45d",
   "metadata": {},
   "outputs": [
    {
     "data": {
      "text/plain": [
       "2"
      ]
     },
     "execution_count": 48,
     "metadata": {},
     "output_type": "execute_result"
    }
   ],
   "source": [
    "a = a+1\n",
    "a"
   ]
  },
  {
   "cell_type": "code",
   "execution_count": 49,
   "id": "0f998f11",
   "metadata": {},
   "outputs": [
    {
     "data": {
      "text/plain": [
       "3"
      ]
     },
     "execution_count": 49,
     "metadata": {},
     "output_type": "execute_result"
    }
   ],
   "source": [
    "a += 1\n",
    "a"
   ]
  },
  {
   "cell_type": "code",
   "execution_count": 52,
   "id": "2e436d21",
   "metadata": {},
   "outputs": [
    {
     "data": {
      "text/plain": [
       "0"
      ]
     },
     "execution_count": 52,
     "metadata": {},
     "output_type": "execute_result"
    }
   ],
   "source": [
    "a = 10\n",
    "b = 20\n",
    "a  //=  a+b\n",
    "a"
   ]
  },
  {
   "cell_type": "code",
   "execution_count": 53,
   "id": "0b17ffe9",
   "metadata": {},
   "outputs": [
    {
     "data": {
      "text/plain": [
       "0"
      ]
     },
     "execution_count": 53,
     "metadata": {},
     "output_type": "execute_result"
    }
   ],
   "source": [
    "10//30"
   ]
  },
  {
   "cell_type": "code",
   "execution_count": 54,
   "id": "20844dfc",
   "metadata": {},
   "outputs": [
    {
     "data": {
      "text/plain": [
       "64"
      ]
     },
     "execution_count": 54,
     "metadata": {},
     "output_type": "execute_result"
    }
   ],
   "source": [
    "a = 2\n",
    "b = 4\n",
    "a  **=  a+b\n",
    "a"
   ]
  },
  {
   "cell_type": "code",
   "execution_count": 55,
   "id": "2fd187d1",
   "metadata": {},
   "outputs": [
    {
     "data": {
      "text/plain": [
       "64"
      ]
     },
     "execution_count": 55,
     "metadata": {},
     "output_type": "execute_result"
    }
   ],
   "source": [
    "2**6"
   ]
  },
  {
   "cell_type": "code",
   "execution_count": 56,
   "id": "97432891",
   "metadata": {},
   "outputs": [],
   "source": [
    "###################"
   ]
  },
  {
   "cell_type": "code",
   "execution_count": 57,
   "id": "b97d0b4a",
   "metadata": {},
   "outputs": [
    {
     "name": "stdout",
     "output_type": "stream",
     "text": [
      "0 1 2 3 4 5 6 7 8 9 \n",
      "0 1 2 3 4 5 6 7 8 9 \n",
      "0 1 2 3 4 5 6 7 8 9 \n",
      "0 1 2 3 4 5 6 7 8 9 \n",
      "0 1 2 3 4 5 6 7 8 9 \n",
      "0 1 2 3 4 5 6 7 8 9 \n",
      "0 1 2 3 4 5 6 7 8 9 \n",
      "0 1 2 3 4 5 6 7 8 9 \n",
      "0 1 2 3 4 5 6 7 8 9 \n",
      "0 1 2 3 4 5 6 7 8 9 \n"
     ]
    }
   ],
   "source": [
    "for r in range(10):\n",
    "    for c in range(10):\n",
    "        print(c , end = ' ')\n",
    "    print()"
   ]
  },
  {
   "cell_type": "code",
   "execution_count": 63,
   "id": "bf67eded",
   "metadata": {},
   "outputs": [
    {
     "name": "stdout",
     "output_type": "stream",
     "text": [
      "\n",
      "1 \n",
      "1 2 \n",
      "1 2 3 \n",
      "1 2 3 4 \n",
      "1 2 3 4 5 \n",
      "1 2 3 4 5 6 \n",
      "1 2 3 4 5 6 7 \n",
      "1 2 3 4 5 6 7 8 \n",
      "1 2 3 4 5 6 7 8 9 \n"
     ]
    }
   ],
   "source": [
    "for r in range(1,11):\n",
    "    for c in range(1,r):\n",
    "        print(c , end = ' ')\n",
    "    print()"
   ]
  },
  {
   "cell_type": "code",
   "execution_count": 62,
   "id": "c0190b4a",
   "metadata": {},
   "outputs": [
    {
     "name": "stdout",
     "output_type": "stream",
     "text": [
      "1 2 3 4 5 6 7 8 9 \n",
      "1 2 3 4 5 6 7 8 \n",
      "1 2 3 4 5 6 7 \n",
      "1 2 3 4 5 6 \n",
      "1 2 3 4 5 \n",
      "1 2 3 4 \n",
      "1 2 3 \n",
      "1 2 \n",
      "1 \n"
     ]
    }
   ],
   "source": [
    "for r in range(10,1,-1):\n",
    "    for c in range(1,r):\n",
    "        print(c , end = ' ')\n",
    "    print()"
   ]
  },
  {
   "cell_type": "code",
   "execution_count": 64,
   "id": "577579f8",
   "metadata": {},
   "outputs": [
    {
     "name": "stdout",
     "output_type": "stream",
     "text": [
      "* * * * * * * * * \n",
      "* * * * * * * * \n",
      "* * * * * * * \n",
      "* * * * * * \n",
      "* * * * * \n",
      "* * * * \n",
      "* * * \n",
      "* * \n",
      "* \n"
     ]
    }
   ],
   "source": [
    "for r in range(10,1,-1):\n",
    "    for c in range(1,r):\n",
    "        print('*' , end = ' ')\n",
    "    print()"
   ]
  },
  {
   "cell_type": "code",
   "execution_count": 66,
   "id": "1fedaa8c",
   "metadata": {},
   "outputs": [
    {
     "data": {
      "text/plain": [
       "'                    '"
      ]
     },
     "execution_count": 66,
     "metadata": {},
     "output_type": "execute_result"
    }
   ],
   "source": [
    "\" \"*20"
   ]
  },
  {
   "cell_type": "code",
   "execution_count": 67,
   "id": "1c669f5e",
   "metadata": {
    "scrolled": true
   },
   "outputs": [
    {
     "name": "stdout",
     "output_type": "stream",
     "text": [
      "**********\n",
      "*********\n",
      "********\n",
      "*******\n",
      "******\n",
      "*****\n",
      "****\n",
      "***\n",
      "**\n",
      "*\n"
     ]
    }
   ],
   "source": [
    "for r in range(10,0,-1):\n",
    "    print('*'*r)"
   ]
  },
  {
   "cell_type": "code",
   "execution_count": 76,
   "id": "3d97efdb",
   "metadata": {
    "scrolled": true
   },
   "outputs": [
    {
     "name": "stdout",
     "output_type": "stream",
     "text": [
      "*********1\n",
      "********12\n",
      "*******123\n",
      "******1234\n",
      "*****12345\n",
      "****123456\n",
      "***1234567\n",
      "**12345678\n",
      "*123456789\n"
     ]
    }
   ],
   "source": [
    "for r in range(9,0,-1):\n",
    "    print('*'*r, end = '')\n",
    "    for c in range(1,11-r):\n",
    "        print(c,end = '')\n",
    "    print()"
   ]
  },
  {
   "cell_type": "code",
   "execution_count": 79,
   "id": "bdd25003",
   "metadata": {},
   "outputs": [
    {
     "name": "stdout",
     "output_type": "stream",
     "text": [
      "**********\n",
      "*********\n",
      "********\n",
      "*******\n",
      "******\n",
      "*****\n",
      "****\n",
      "***\n",
      "**\n",
      "*\n"
     ]
    }
   ],
   "source": [
    "for r in range(10,0,-1):\n",
    "    print('*'*r)"
   ]
  },
  {
   "cell_type": "code",
   "execution_count": 82,
   "id": "575fb281",
   "metadata": {},
   "outputs": [
    {
     "name": "stdout",
     "output_type": "stream",
     "text": [
      "         1 \n",
      "        1 2 \n",
      "       1 2 3 \n",
      "      1 2 3 4 \n",
      "     1 2 3 4 5 \n",
      "    1 2 3 4 5 6 \n",
      "   1 2 3 4 5 6 7 \n",
      "  1 2 3 4 5 6 7 8 \n",
      " 1 2 3 4 5 6 7 8 9 \n"
     ]
    }
   ],
   "source": [
    "for r in range(9,0,-1):\n",
    "    print(' '*r, end = '')\n",
    "    for c in range(1,11-r):\n",
    "        print(c,end = ' ')\n",
    "    print()"
   ]
  },
  {
   "cell_type": "code",
   "execution_count": null,
   "id": "92bcd356",
   "metadata": {},
   "outputs": [],
   "source": []
  }
 ],
 "metadata": {
  "kernelspec": {
   "display_name": "Python 3 (ipykernel)",
   "language": "python",
   "name": "python3"
  },
  "language_info": {
   "codemirror_mode": {
    "name": "ipython",
    "version": 3
   },
   "file_extension": ".py",
   "mimetype": "text/x-python",
   "name": "python",
   "nbconvert_exporter": "python",
   "pygments_lexer": "ipython3",
   "version": "3.9.6"
  }
 },
 "nbformat": 4,
 "nbformat_minor": 5
}
