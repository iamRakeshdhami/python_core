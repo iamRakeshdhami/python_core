{
 "cells": [
  {
   "cell_type": "code",
   "execution_count": 1,
   "id": "da8888b6",
   "metadata": {},
   "outputs": [
    {
     "data": {
      "text/plain": [
       "set"
      ]
     },
     "execution_count": 1,
     "metadata": {},
     "output_type": "execute_result"
    }
   ],
   "source": [
    "list\n",
    "dict\n",
    "tuple\n",
    "str\n",
    "set\n"
   ]
  },
  {
   "cell_type": "code",
   "execution_count": 2,
   "id": "46de9b0c",
   "metadata": {},
   "outputs": [
    {
     "data": {
      "text/plain": [
       "[]"
      ]
     },
     "execution_count": 2,
     "metadata": {},
     "output_type": "execute_result"
    }
   ],
   "source": [
    "list()"
   ]
  },
  {
   "cell_type": "code",
   "execution_count": 3,
   "id": "b3e33bba",
   "metadata": {},
   "outputs": [],
   "source": [
    "v = list()"
   ]
  },
  {
   "cell_type": "code",
   "execution_count": 4,
   "id": "d388c637",
   "metadata": {},
   "outputs": [],
   "source": [
    "v1 = v\n",
    "v2 = v\n",
    "v3 = v2"
   ]
  },
  {
   "cell_type": "code",
   "execution_count": 5,
   "id": "d10e5d70",
   "metadata": {},
   "outputs": [],
   "source": [
    "v3.append(12)"
   ]
  },
  {
   "cell_type": "code",
   "execution_count": 6,
   "id": "265345b4",
   "metadata": {},
   "outputs": [
    {
     "data": {
      "text/plain": [
       "[12]"
      ]
     },
     "execution_count": 6,
     "metadata": {},
     "output_type": "execute_result"
    }
   ],
   "source": [
    "v3"
   ]
  },
  {
   "cell_type": "code",
   "execution_count": 7,
   "id": "e7fb4970",
   "metadata": {},
   "outputs": [
    {
     "data": {
      "text/plain": [
       "[12]"
      ]
     },
     "execution_count": 7,
     "metadata": {},
     "output_type": "execute_result"
    }
   ],
   "source": [
    "v"
   ]
  },
  {
   "cell_type": "code",
   "execution_count": 8,
   "id": "ce6d7187",
   "metadata": {},
   "outputs": [
    {
     "data": {
      "text/plain": [
       "[12]"
      ]
     },
     "execution_count": 8,
     "metadata": {},
     "output_type": "execute_result"
    }
   ],
   "source": [
    "v1"
   ]
  },
  {
   "cell_type": "code",
   "execution_count": 9,
   "id": "6bd35970",
   "metadata": {},
   "outputs": [
    {
     "data": {
      "text/plain": [
       "[12]"
      ]
     },
     "execution_count": 9,
     "metadata": {},
     "output_type": "execute_result"
    }
   ],
   "source": [
    "v2"
   ]
  },
  {
   "cell_type": "code",
   "execution_count": 10,
   "id": "88e37c93",
   "metadata": {},
   "outputs": [],
   "source": [
    "class Class_name:\n",
    "    'doc string'"
   ]
  },
  {
   "cell_type": "code",
   "execution_count": 11,
   "id": "76b5e515",
   "metadata": {},
   "outputs": [],
   "source": [
    "a = Class_name()"
   ]
  },
  {
   "cell_type": "code",
   "execution_count": 12,
   "id": "be0982a2",
   "metadata": {},
   "outputs": [
    {
     "data": {
      "text/plain": [
       "'doc string'"
      ]
     },
     "execution_count": 12,
     "metadata": {},
     "output_type": "execute_result"
    }
   ],
   "source": [
    "a.__doc__"
   ]
  },
  {
   "cell_type": "code",
   "execution_count": 13,
   "id": "5844feb3",
   "metadata": {},
   "outputs": [],
   "source": [
    "class Employee:\n",
    "    def set_detail(self,name,age,sal):\n",
    "        self.name = name\n",
    "        self.age = age\n",
    "        self.salary = sal\n",
    "        "
   ]
  },
  {
   "cell_type": "code",
   "execution_count": 14,
   "id": "9cd188fc",
   "metadata": {},
   "outputs": [],
   "source": [
    "e1 = Employee()\n",
    "e2 = Employee()\n",
    "e3 = Employee()"
   ]
  },
  {
   "cell_type": "code",
   "execution_count": 15,
   "id": "6aa1c817",
   "metadata": {},
   "outputs": [
    {
     "data": {
      "text/plain": [
       "<bound method Employee.set_detail of <__main__.Employee object at 0x000001C7A459B730>>"
      ]
     },
     "execution_count": 15,
     "metadata": {},
     "output_type": "execute_result"
    }
   ],
   "source": [
    "e1.set_detail"
   ]
  },
  {
   "cell_type": "code",
   "execution_count": 16,
   "id": "7ceb644c",
   "metadata": {},
   "outputs": [
    {
     "data": {
      "text/plain": [
       "<bound method Employee.set_detail of <__main__.Employee object at 0x000001C7A459BAF0>>"
      ]
     },
     "execution_count": 16,
     "metadata": {},
     "output_type": "execute_result"
    }
   ],
   "source": [
    "e2.set_detail"
   ]
  },
  {
   "cell_type": "code",
   "execution_count": 17,
   "id": "2fd6544f",
   "metadata": {},
   "outputs": [
    {
     "data": {
      "text/plain": [
       "<bound method Employee.set_detail of <__main__.Employee object at 0x000001C7A459B3A0>>"
      ]
     },
     "execution_count": 17,
     "metadata": {},
     "output_type": "execute_result"
    }
   ],
   "source": [
    "e3.set_detail"
   ]
  },
  {
   "cell_type": "code",
   "execution_count": 18,
   "id": "79c3da3e",
   "metadata": {},
   "outputs": [],
   "source": [
    "e3.set_detail('abc',23,234234)"
   ]
  },
  {
   "cell_type": "code",
   "execution_count": 19,
   "id": "c34d3888",
   "metadata": {},
   "outputs": [
    {
     "data": {
      "text/plain": [
       "{'name': 'abc', 'age': 23, 'salary': 234234}"
      ]
     },
     "execution_count": 19,
     "metadata": {},
     "output_type": "execute_result"
    }
   ],
   "source": [
    "e3.__dict__"
   ]
  },
  {
   "cell_type": "code",
   "execution_count": 20,
   "id": "bb5e2ba5",
   "metadata": {},
   "outputs": [
    {
     "data": {
      "text/plain": [
       "{}"
      ]
     },
     "execution_count": 20,
     "metadata": {},
     "output_type": "execute_result"
    }
   ],
   "source": [
    "e2.__dict__"
   ]
  },
  {
   "cell_type": "code",
   "execution_count": 21,
   "id": "95ed2d8b",
   "metadata": {},
   "outputs": [],
   "source": [
    "e4 = e3"
   ]
  },
  {
   "cell_type": "code",
   "execution_count": 22,
   "id": "64944d83",
   "metadata": {},
   "outputs": [],
   "source": [
    "e4.set_detail('xyz',23,234234)"
   ]
  },
  {
   "cell_type": "code",
   "execution_count": 24,
   "id": "bfdd14f7",
   "metadata": {},
   "outputs": [
    {
     "data": {
      "text/plain": [
       "{'name': 'xyz', 'age': 23, 'salary': 234234}"
      ]
     },
     "execution_count": 24,
     "metadata": {},
     "output_type": "execute_result"
    }
   ],
   "source": [
    "e3.__dict__"
   ]
  },
  {
   "cell_type": "code",
   "execution_count": 25,
   "id": "24ee0dbe",
   "metadata": {},
   "outputs": [
    {
     "data": {
      "text/plain": [
       "23"
      ]
     },
     "execution_count": 25,
     "metadata": {},
     "output_type": "execute_result"
    }
   ],
   "source": [
    "e3.age"
   ]
  },
  {
   "cell_type": "code",
   "execution_count": 26,
   "id": "f1bfc77c",
   "metadata": {},
   "outputs": [
    {
     "data": {
      "text/plain": [
       "'xyz'"
      ]
     },
     "execution_count": 26,
     "metadata": {},
     "output_type": "execute_result"
    }
   ],
   "source": [
    "e3.name"
   ]
  },
  {
   "cell_type": "code",
   "execution_count": 27,
   "id": "ca6e5a67",
   "metadata": {},
   "outputs": [
    {
     "data": {
      "text/plain": [
       "234234"
      ]
     },
     "execution_count": 27,
     "metadata": {},
     "output_type": "execute_result"
    }
   ],
   "source": [
    "e3.salary"
   ]
  },
  {
   "cell_type": "code",
   "execution_count": 28,
   "id": "d1ad8f9a",
   "metadata": {},
   "outputs": [],
   "source": [
    "class Employee:\n",
    "    def set_detail(self,name,age,sal):\n",
    "        self.name = name\n",
    "        self.age = age\n",
    "        self.salary = sal\n",
    "    def get_detail(self):\n",
    "        print('name:', self.name)\n",
    "        print('age:',self.age)\n",
    "        print('salary:',self.salary)"
   ]
  },
  {
   "cell_type": "code",
   "execution_count": 29,
   "id": "00c94f6e",
   "metadata": {},
   "outputs": [],
   "source": [
    "e1 = Employee()"
   ]
  },
  {
   "cell_type": "code",
   "execution_count": 30,
   "id": "da4b24bc",
   "metadata": {},
   "outputs": [
    {
     "ename": "AttributeError",
     "evalue": "'Employee' object has no attribute 'name'",
     "output_type": "error",
     "traceback": [
      "\u001b[1;31m---------------------------------------------------------------------------\u001b[0m",
      "\u001b[1;31mAttributeError\u001b[0m                            Traceback (most recent call last)",
      "\u001b[1;32m~\\AppData\\Local\\Temp/ipykernel_15184/4086781910.py\u001b[0m in \u001b[0;36m<module>\u001b[1;34m\u001b[0m\n\u001b[1;32m----> 1\u001b[1;33m \u001b[0me1\u001b[0m\u001b[1;33m.\u001b[0m\u001b[0mget_detail\u001b[0m\u001b[1;33m(\u001b[0m\u001b[1;33m)\u001b[0m\u001b[1;33m\u001b[0m\u001b[1;33m\u001b[0m\u001b[0m\n\u001b[0m",
      "\u001b[1;32m~\\AppData\\Local\\Temp/ipykernel_15184/653560077.py\u001b[0m in \u001b[0;36mget_detail\u001b[1;34m(self)\u001b[0m\n\u001b[0;32m      5\u001b[0m         \u001b[0mself\u001b[0m\u001b[1;33m.\u001b[0m\u001b[0msalary\u001b[0m \u001b[1;33m=\u001b[0m \u001b[0msal\u001b[0m\u001b[1;33m\u001b[0m\u001b[1;33m\u001b[0m\u001b[0m\n\u001b[0;32m      6\u001b[0m     \u001b[1;32mdef\u001b[0m \u001b[0mget_detail\u001b[0m\u001b[1;33m(\u001b[0m\u001b[0mself\u001b[0m\u001b[1;33m)\u001b[0m\u001b[1;33m:\u001b[0m\u001b[1;33m\u001b[0m\u001b[1;33m\u001b[0m\u001b[0m\n\u001b[1;32m----> 7\u001b[1;33m         \u001b[0mprint\u001b[0m\u001b[1;33m(\u001b[0m\u001b[1;34m'name:'\u001b[0m\u001b[1;33m,\u001b[0m \u001b[0mself\u001b[0m\u001b[1;33m.\u001b[0m\u001b[0mname\u001b[0m\u001b[1;33m)\u001b[0m\u001b[1;33m\u001b[0m\u001b[1;33m\u001b[0m\u001b[0m\n\u001b[0m\u001b[0;32m      8\u001b[0m         \u001b[0mprint\u001b[0m\u001b[1;33m(\u001b[0m\u001b[1;34m'age:'\u001b[0m\u001b[1;33m,\u001b[0m\u001b[0mself\u001b[0m\u001b[1;33m.\u001b[0m\u001b[0mage\u001b[0m\u001b[1;33m)\u001b[0m\u001b[1;33m\u001b[0m\u001b[1;33m\u001b[0m\u001b[0m\n\u001b[0;32m      9\u001b[0m         \u001b[0mprint\u001b[0m\u001b[1;33m(\u001b[0m\u001b[1;34m'salary:'\u001b[0m\u001b[1;33m,\u001b[0m\u001b[0mself\u001b[0m\u001b[1;33m.\u001b[0m\u001b[0msalary\u001b[0m\u001b[1;33m)\u001b[0m\u001b[1;33m\u001b[0m\u001b[1;33m\u001b[0m\u001b[0m\n",
      "\u001b[1;31mAttributeError\u001b[0m: 'Employee' object has no attribute 'name'"
     ]
    }
   ],
   "source": [
    "e1.get_detail()"
   ]
  },
  {
   "cell_type": "code",
   "execution_count": 31,
   "id": "5b5584ba",
   "metadata": {},
   "outputs": [],
   "source": [
    "e1.set_detail('hjst',23,654322)"
   ]
  },
  {
   "cell_type": "code",
   "execution_count": 32,
   "id": "5c9b2bdc",
   "metadata": {},
   "outputs": [
    {
     "name": "stdout",
     "output_type": "stream",
     "text": [
      "name: hjst\n",
      "age: 23\n",
      "salary: 654322\n"
     ]
    }
   ],
   "source": [
    "e1.get_detail()"
   ]
  },
  {
   "cell_type": "code",
   "execution_count": 33,
   "id": "bfb0bc19",
   "metadata": {},
   "outputs": [],
   "source": [
    "e2 = Employee()\n",
    "e2.set_detail('ajdadhjashdjashkajs',666,412312312)"
   ]
  },
  {
   "cell_type": "code",
   "execution_count": 34,
   "id": "cd5f0b31",
   "metadata": {},
   "outputs": [
    {
     "name": "stdout",
     "output_type": "stream",
     "text": [
      "name: ajdadhjashdjashkajs\n",
      "age: 666\n",
      "salary: 412312312\n"
     ]
    }
   ],
   "source": [
    "e2.get_detail()"
   ]
  },
  {
   "cell_type": "code",
   "execution_count": 35,
   "id": "8e222710",
   "metadata": {},
   "outputs": [],
   "source": [
    "class Employee:\n",
    "    def __init__(self,name,age,sal):            \n",
    "        self.name = name\n",
    "        self.age = age\n",
    "        self.salary = sal\n",
    "    def set_detail(self,name,age,sal):\n",
    "        self.name = name\n",
    "        self.age = age\n",
    "        self.salary = sal\n",
    "    def get_detail(self):\n",
    "        print('name:', self.name)\n",
    "        print('age:',self.age)\n",
    "        print('salary:',self.salary)"
   ]
  },
  {
   "cell_type": "code",
   "execution_count": 36,
   "id": "7f9a4148",
   "metadata": {},
   "outputs": [
    {
     "ename": "TypeError",
     "evalue": "__init__() missing 3 required positional arguments: 'name', 'age', and 'sal'",
     "output_type": "error",
     "traceback": [
      "\u001b[1;31m---------------------------------------------------------------------------\u001b[0m",
      "\u001b[1;31mTypeError\u001b[0m                                 Traceback (most recent call last)",
      "\u001b[1;32m~\\AppData\\Local\\Temp/ipykernel_15184/174431194.py\u001b[0m in \u001b[0;36m<module>\u001b[1;34m\u001b[0m\n\u001b[1;32m----> 1\u001b[1;33m \u001b[0me1\u001b[0m \u001b[1;33m=\u001b[0m \u001b[0mEmployee\u001b[0m\u001b[1;33m(\u001b[0m\u001b[1;33m)\u001b[0m\u001b[1;33m\u001b[0m\u001b[1;33m\u001b[0m\u001b[0m\n\u001b[0m",
      "\u001b[1;31mTypeError\u001b[0m: __init__() missing 3 required positional arguments: 'name', 'age', and 'sal'"
     ]
    }
   ],
   "source": [
    "e1 = Employee()"
   ]
  },
  {
   "cell_type": "code",
   "execution_count": 37,
   "id": "fbfcad46",
   "metadata": {},
   "outputs": [],
   "source": [
    "e1 = Employee('gshag',63,76372367)"
   ]
  },
  {
   "cell_type": "code",
   "execution_count": 38,
   "id": "912308eb",
   "metadata": {},
   "outputs": [
    {
     "name": "stdout",
     "output_type": "stream",
     "text": [
      "name: gshag\n",
      "age: 63\n",
      "salary: 76372367\n"
     ]
    }
   ],
   "source": [
    "e1.get_detail()"
   ]
  },
  {
   "cell_type": "code",
   "execution_count": 39,
   "id": "6128df58",
   "metadata": {},
   "outputs": [],
   "source": [
    "class Employee:\n",
    "    def __init__(self,name,age,sal):            \n",
    "        self.name = name\n",
    "        self.age = age\n",
    "        self.salary = sal\n",
    "    def set_detail(self,name,age,sal):\n",
    "        self.name = name\n",
    "        self.age = age\n",
    "        self.salary = sal\n",
    "    def get_detail(self):\n",
    "        print('name:', self.name)\n",
    "        print('age:',self.age)\n",
    "        print('salary:',self.salary)\n",
    "    def __del__(self):\n",
    "        print('object deleted')"
   ]
  },
  {
   "cell_type": "code",
   "execution_count": 40,
   "id": "76072a33",
   "metadata": {},
   "outputs": [],
   "source": [
    "e1 = Employee('asdas',22,234234)"
   ]
  },
  {
   "cell_type": "code",
   "execution_count": 41,
   "id": "d438028b",
   "metadata": {},
   "outputs": [
    {
     "name": "stdout",
     "output_type": "stream",
     "text": [
      "object deleted\n"
     ]
    }
   ],
   "source": [
    "del e1"
   ]
  },
  {
   "cell_type": "code",
   "execution_count": 42,
   "id": "7a4eceff",
   "metadata": {},
   "outputs": [],
   "source": [
    "class bank:\n",
    "    def __init__(self,name,amount):\n",
    "        self.name = name\n",
    "        self.balance = amount \n",
    "    def withdraw(self,amount):\n",
    "        if self.balance >= amount:\n",
    "            self.balance = self.balance - amount\n",
    "        else:\n",
    "            print(\"insufficient amount ...\")\n",
    "    def deposit(self,amount):\n",
    "        self.balance = self.balance + amount\n",
    "        print('current balance = ', self.balance)\n",
    "    def balance_(self):\n",
    "        return self.balance\n",
    "            "
   ]
  },
  {
   "cell_type": "code",
   "execution_count": 43,
   "id": "831788da",
   "metadata": {},
   "outputs": [],
   "source": [
    "p1 = bank('kanika',100)\n",
    "p2 = bank('rakesh',200)"
   ]
  },
  {
   "cell_type": "code",
   "execution_count": 44,
   "id": "1c60a7d7",
   "metadata": {},
   "outputs": [],
   "source": [
    "p1.withdraw(10)"
   ]
  },
  {
   "cell_type": "code",
   "execution_count": 45,
   "id": "21d6f3a4",
   "metadata": {},
   "outputs": [
    {
     "data": {
      "text/plain": [
       "90"
      ]
     },
     "execution_count": 45,
     "metadata": {},
     "output_type": "execute_result"
    }
   ],
   "source": [
    "p1.balance_()"
   ]
  },
  {
   "cell_type": "code",
   "execution_count": 46,
   "id": "6684ca9e",
   "metadata": {},
   "outputs": [
    {
     "name": "stdout",
     "output_type": "stream",
     "text": [
      "current balance =  110\n"
     ]
    }
   ],
   "source": [
    "p1.deposit(20)"
   ]
  },
  {
   "cell_type": "code",
   "execution_count": 47,
   "id": "e3d97a3e",
   "metadata": {},
   "outputs": [
    {
     "name": "stdout",
     "output_type": "stream",
     "text": [
      "current balance =  400\n"
     ]
    }
   ],
   "source": [
    "p2.deposit(200)"
   ]
  },
  {
   "cell_type": "code",
   "execution_count": 48,
   "id": "43c22614",
   "metadata": {},
   "outputs": [
    {
     "name": "stdout",
     "output_type": "stream",
     "text": [
      "insufficient amount ...\n"
     ]
    }
   ],
   "source": [
    "p2.withdraw(500)"
   ]
  },
  {
   "cell_type": "code",
   "execution_count": 49,
   "id": "5415093e",
   "metadata": {},
   "outputs": [
    {
     "name": "stdout",
     "output_type": "stream",
     "text": [
      "current balance =  500\n"
     ]
    }
   ],
   "source": [
    "p2.deposit(100)"
   ]
  },
  {
   "cell_type": "code",
   "execution_count": 50,
   "id": "64019b0c",
   "metadata": {},
   "outputs": [],
   "source": [
    "p2.withdraw(500)"
   ]
  },
  {
   "cell_type": "code",
   "execution_count": 51,
   "id": "44fcaf39",
   "metadata": {},
   "outputs": [
    {
     "data": {
      "text/plain": [
       "0"
      ]
     },
     "execution_count": 51,
     "metadata": {},
     "output_type": "execute_result"
    }
   ],
   "source": [
    "p2.balance_()"
   ]
  },
  {
   "cell_type": "code",
   "execution_count": 52,
   "id": "69d3d1c6",
   "metadata": {},
   "outputs": [],
   "source": [
    "class area:\n",
    "    def __init__(self,b,h,l,r):\n",
    "        self.b = b\n",
    "        self.h = h\n",
    "        self.l = l\n",
    "        self.r = r\n",
    "    def circle(self):\n",
    "        return (22/7)*self.r**2"
   ]
  },
  {
   "cell_type": "code",
   "execution_count": 53,
   "id": "2cb2e059",
   "metadata": {},
   "outputs": [],
   "source": [
    "a = area(2,3,4,5)"
   ]
  },
  {
   "cell_type": "code",
   "execution_count": 54,
   "id": "787820d0",
   "metadata": {},
   "outputs": [
    {
     "data": {
      "text/plain": [
       "78.57142857142857"
      ]
     },
     "execution_count": 54,
     "metadata": {},
     "output_type": "execute_result"
    }
   ],
   "source": [
    "a.circle()"
   ]
  },
  {
   "cell_type": "code",
   "execution_count": null,
   "id": "17753d61",
   "metadata": {},
   "outputs": [],
   "source": []
  }
 ],
 "metadata": {
  "kernelspec": {
   "display_name": "Python 3 (ipykernel)",
   "language": "python",
   "name": "python3"
  },
  "language_info": {
   "codemirror_mode": {
    "name": "ipython",
    "version": 3
   },
   "file_extension": ".py",
   "mimetype": "text/x-python",
   "name": "python",
   "nbconvert_exporter": "python",
   "pygments_lexer": "ipython3",
   "version": "3.10.2"
  }
 },
 "nbformat": 4,
 "nbformat_minor": 5
}
