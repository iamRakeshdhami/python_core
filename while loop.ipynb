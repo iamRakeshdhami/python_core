{
 "cells": [
  {
   "cell_type": "code",
   "execution_count": 2,
   "id": "c7044b12",
   "metadata": {},
   "outputs": [
    {
     "name": "stdout",
     "output_type": "stream",
     "text": [
      "[1, 3, 5, 7, 9, 11, 13, 15, 17, 19, 21, 23, 25, 27, 29, 31, 33, 35, 37, 39, 41, 43, 45, 47, 49, 51, 53, 55, 57, 59, 61, 63, 65, 67, 69, 71, 73, 75, 77, 79, 81, 83, 85, 87, 89, 91, 93, 95, 97, 99]\n"
     ]
    }
   ],
   "source": [
    "ls = []\n",
    "for i in range(1,101):\n",
    "    if i%2 !=0:\n",
    "        ls = ls+[i]\n",
    "print(ls)"
   ]
  },
  {
   "cell_type": "code",
   "execution_count": 9,
   "id": "b5182b9d",
   "metadata": {},
   "outputs": [],
   "source": [
    "# list(range(0,101,2))"
   ]
  },
  {
   "cell_type": "code",
   "execution_count": 10,
   "id": "1827a9ba",
   "metadata": {},
   "outputs": [],
   "source": [
    "# while condi:\n",
    "#     pass"
   ]
  },
  {
   "cell_type": "code",
   "execution_count": 11,
   "id": "7576d7ad",
   "metadata": {},
   "outputs": [],
   "source": [
    "# while True:\n",
    "#     print('while  loop')"
   ]
  },
  {
   "cell_type": "code",
   "execution_count": 12,
   "id": "dd2ff177",
   "metadata": {},
   "outputs": [
    {
     "data": {
      "text/plain": [
       "True"
      ]
     },
     "execution_count": 12,
     "metadata": {},
     "output_type": "execute_result"
    }
   ],
   "source": [
    "n = 10\n",
    "bool(n)"
   ]
  },
  {
   "cell_type": "code",
   "execution_count": 14,
   "id": "afb4b21e",
   "metadata": {},
   "outputs": [
    {
     "data": {
      "text/plain": [
       "False"
      ]
     },
     "execution_count": 14,
     "metadata": {},
     "output_type": "execute_result"
    }
   ],
   "source": [
    "n = 0\n",
    "bool(n)"
   ]
  },
  {
   "cell_type": "code",
   "execution_count": 15,
   "id": "a81a086d",
   "metadata": {},
   "outputs": [
    {
     "name": "stdout",
     "output_type": "stream",
     "text": [
      "loop  5\n",
      "loop  4\n",
      "loop  3\n",
      "loop  2\n",
      "loop  1\n"
     ]
    }
   ],
   "source": [
    "n = 5\n",
    "while n :\n",
    "    print('loop ', n)\n",
    "    n = n-1"
   ]
  },
  {
   "cell_type": "code",
   "execution_count": 16,
   "id": "a9f3c3fa",
   "metadata": {},
   "outputs": [
    {
     "name": "stdout",
     "output_type": "stream",
     "text": [
      "loop  0\n",
      "loop  1\n",
      "loop  2\n",
      "loop  3\n",
      "loop  4\n",
      "loop  5\n"
     ]
    }
   ],
   "source": [
    "n = 0\n",
    "while n<=5 :\n",
    "    print('loop ', n)\n",
    "    n = n+1"
   ]
  },
  {
   "cell_type": "code",
   "execution_count": 18,
   "id": "5164f654",
   "metadata": {},
   "outputs": [
    {
     "name": "stdout",
     "output_type": "stream",
     "text": [
      "loop  50\n",
      "loop  49\n",
      "loop  48\n",
      "loop  47\n",
      "loop  46\n",
      "loop  45\n",
      "loop  44\n",
      "loop  43\n",
      "loop  42\n",
      "loop  41\n"
     ]
    }
   ],
   "source": [
    "n = 50\n",
    "while n :\n",
    "    print('loop ', n)\n",
    "    n = n-1\n",
    "    if n == 40:\n",
    "        break"
   ]
  },
  {
   "cell_type": "code",
   "execution_count": 20,
   "id": "f630e699",
   "metadata": {},
   "outputs": [
    {
     "name": "stdout",
     "output_type": "stream",
     "text": [
      "loop  5\n",
      "loop  4\n",
      "loop  3\n",
      "loop  2\n",
      "loop  1\n",
      "Done!\n"
     ]
    }
   ],
   "source": [
    "n = 5\n",
    "while n :\n",
    "    print('loop ', n)\n",
    "    n = n-1\n",
    "else:\n",
    "    print('Done!')"
   ]
  },
  {
   "cell_type": "code",
   "execution_count": 21,
   "id": "d0b3afac",
   "metadata": {},
   "outputs": [
    {
     "name": "stdout",
     "output_type": "stream",
     "text": [
      "loop  5\n",
      "loop  4\n",
      "loop  3\n",
      "loop  2\n"
     ]
    }
   ],
   "source": [
    "n = 5\n",
    "while n :\n",
    "    print('loop ', n)\n",
    "    n = n-1\n",
    "    if n == 1:\n",
    "        break\n",
    "else:\n",
    "    print('Done!')"
   ]
  },
  {
   "cell_type": "code",
   "execution_count": 23,
   "id": "4eea7f8a",
   "metadata": {},
   "outputs": [
    {
     "name": "stdout",
     "output_type": "stream",
     "text": [
      "[2, 4, 6, 8, 10, 12, 14, 16, 18, 20, 22, 24, 26, 28, 30, 32, 34, 36, 38, 40, 42, 44, 46, 48, 50, 52, 54, 56, 58, 60, 62, 64, 66, 68, 70, 72, 74, 76, 78, 80, 82, 84, 86, 88, 90, 92, 94, 96, 98, 100]\n"
     ]
    }
   ],
   "source": [
    "i = 0\n",
    "ls = list(range(1,101))\n",
    "L = []\n",
    "while i<len(ls):\n",
    "    if ls[i]%2==0:\n",
    "        L = L + [ls[i]]\n",
    "    i = i+1\n",
    "print(L)"
   ]
  },
  {
   "cell_type": "code",
   "execution_count": 24,
   "id": "aeeba883",
   "metadata": {},
   "outputs": [
    {
     "name": "stdout",
     "output_type": "stream",
     "text": [
      "? 12\n",
      "12 * 1 = 12\n",
      "12 * 2 = 24\n",
      "12 * 3 = 36\n",
      "12 * 4 = 48\n",
      "12 * 5 = 60\n",
      "12 * 6 = 72\n",
      "12 * 7 = 84\n",
      "12 * 8 = 96\n",
      "12 * 9 = 108\n",
      "12 * 10 = 120\n"
     ]
    }
   ],
   "source": [
    "n = int(input('? '))\n",
    "i = 1\n",
    "while i<=10:\n",
    "    print(n,'*',i,'=',i*n)\n",
    "    i = i+1"
   ]
  },
  {
   "cell_type": "code",
   "execution_count": 25,
   "id": "a4897cbe",
   "metadata": {},
   "outputs": [
    {
     "name": "stdout",
     "output_type": "stream",
     "text": [
      "6\n",
      "2\n",
      "5\n",
      "1\n",
      "6\n",
      "5\n",
      "1\n",
      "6\n"
     ]
    }
   ],
   "source": [
    "n = 61561526\n",
    "while n:\n",
    "    print(n%10)\n",
    "    n = n//10"
   ]
  },
  {
   "cell_type": "code",
   "execution_count": 26,
   "id": "1ecf5eb9",
   "metadata": {},
   "outputs": [
    {
     "data": {
      "text/plain": [
       "120"
      ]
     },
     "execution_count": 26,
     "metadata": {},
     "output_type": "execute_result"
    }
   ],
   "source": [
    "n = 5\n",
    "f = 1\n",
    "while n:\n",
    "    f = f*n\n",
    "    n = n-1\n",
    "f"
   ]
  },
  {
   "cell_type": "code",
   "execution_count": 28,
   "id": "ca3f6585",
   "metadata": {},
   "outputs": [
    {
     "data": {
      "text/plain": [
       "1"
      ]
     },
     "execution_count": 28,
     "metadata": {},
     "output_type": "execute_result"
    }
   ],
   "source": [
    "n = 1234\n",
    "n//1000"
   ]
  },
  {
   "cell_type": "code",
   "execution_count": 30,
   "id": "d04d1836",
   "metadata": {},
   "outputs": [],
   "source": [
    "n = n%1000"
   ]
  },
  {
   "cell_type": "code",
   "execution_count": 32,
   "id": "a6874ee8",
   "metadata": {},
   "outputs": [
    {
     "data": {
      "text/plain": [
       "2"
      ]
     },
     "execution_count": 32,
     "metadata": {},
     "output_type": "execute_result"
    }
   ],
   "source": [
    "n//100"
   ]
  },
  {
   "cell_type": "code",
   "execution_count": 33,
   "id": "54f6368a",
   "metadata": {},
   "outputs": [
    {
     "data": {
      "text/plain": [
       "34"
      ]
     },
     "execution_count": 33,
     "metadata": {},
     "output_type": "execute_result"
    }
   ],
   "source": [
    "n = n%100\n",
    "n"
   ]
  },
  {
   "cell_type": "code",
   "execution_count": 34,
   "id": "50fb48b5",
   "metadata": {},
   "outputs": [
    {
     "data": {
      "text/plain": [
       "4"
      ]
     },
     "execution_count": 34,
     "metadata": {},
     "output_type": "execute_result"
    }
   ],
   "source": [
    "n%10"
   ]
  },
  {
   "cell_type": "code",
   "execution_count": 35,
   "id": "a35232e1",
   "metadata": {},
   "outputs": [
    {
     "data": {
      "text/plain": [
       "4"
      ]
     },
     "execution_count": 35,
     "metadata": {},
     "output_type": "execute_result"
    }
   ],
   "source": [
    "n = n%10\n",
    "n"
   ]
  },
  {
   "cell_type": "code",
   "execution_count": 36,
   "id": "a3c64acf",
   "metadata": {},
   "outputs": [
    {
     "data": {
      "text/plain": [
       "4"
      ]
     },
     "execution_count": 36,
     "metadata": {},
     "output_type": "execute_result"
    }
   ],
   "source": [
    "n%10"
   ]
  },
  {
   "cell_type": "code",
   "execution_count": 37,
   "id": "ce6a8b1a",
   "metadata": {},
   "outputs": [
    {
     "data": {
      "text/plain": [
       "0"
      ]
     },
     "execution_count": 37,
     "metadata": {},
     "output_type": "execute_result"
    }
   ],
   "source": [
    "n = n//10\n",
    "n"
   ]
  },
  {
   "cell_type": "code",
   "execution_count": 38,
   "id": "fd06049a",
   "metadata": {},
   "outputs": [
    {
     "data": {
      "text/plain": [
       "100000"
      ]
     },
     "execution_count": 38,
     "metadata": {},
     "output_type": "execute_result"
    }
   ],
   "source": [
    "i = 1000000\n",
    "i//10"
   ]
  },
  {
   "cell_type": "code",
   "execution_count": 39,
   "id": "e3b91e7c",
   "metadata": {},
   "outputs": [
    {
     "data": {
      "text/plain": [
       "100000"
      ]
     },
     "execution_count": 39,
     "metadata": {},
     "output_type": "execute_result"
    }
   ],
   "source": [
    "i = i//10\n",
    "i"
   ]
  },
  {
   "cell_type": "code",
   "execution_count": 40,
   "id": "6e449d11",
   "metadata": {},
   "outputs": [
    {
     "data": {
      "text/plain": [
       "10000"
      ]
     },
     "execution_count": 40,
     "metadata": {},
     "output_type": "execute_result"
    }
   ],
   "source": [
    "i = i//10\n",
    "i"
   ]
  },
  {
   "cell_type": "code",
   "execution_count": 41,
   "id": "8387d9e2",
   "metadata": {},
   "outputs": [
    {
     "data": {
      "text/plain": [
       "1000"
      ]
     },
     "execution_count": 41,
     "metadata": {},
     "output_type": "execute_result"
    }
   ],
   "source": [
    "i = i//10\n",
    "i"
   ]
  },
  {
   "cell_type": "code",
   "execution_count": 42,
   "id": "81f1682f",
   "metadata": {},
   "outputs": [
    {
     "data": {
      "text/plain": [
       "100"
      ]
     },
     "execution_count": 42,
     "metadata": {},
     "output_type": "execute_result"
    }
   ],
   "source": [
    "i = i//10\n",
    "i"
   ]
  },
  {
   "cell_type": "code",
   "execution_count": 45,
   "id": "bc86a6f8",
   "metadata": {},
   "outputs": [
    {
     "name": "stdout",
     "output_type": "stream",
     "text": [
      "1\n",
      "2\n",
      "3\n",
      "4\n",
      "5\n"
     ]
    }
   ],
   "source": [
    "n = 12345\n",
    "i = 10000\n",
    "\n",
    "while n :\n",
    "    print(n//i)\n",
    "    n = n%i\n",
    "    i = i//10"
   ]
  },
  {
   "cell_type": "code",
   "execution_count": 5,
   "id": "4ab3de86",
   "metadata": {},
   "outputs": [
    {
     "name": "stdout",
     "output_type": "stream",
     "text": [
      "1\t2\t3\t4\t5\t6\t7\t8\t9\t10\t\n",
      "11\t12\t13\t14\t15\t16\t17\t18\t19\t20\t\n",
      "21\t22\t23\t24\t25\t26\t27\t28\t29\t30\t\n",
      "31\t32\t33\t34\t35\t36\t37\t38\t39\t40\t\n",
      "41\t42\t43\t44\t45\t46\t47\t48\t49\t50\t\n",
      "51\t52\t53\t54\t55\t56\t57\t58\t59\t60\t\n",
      "61\t62\t63\t64\t65\t66\t67\t68\t69\t70\t\n",
      "71\t72\t73\t74\t75\t76\t77\t78\t79\t80\t\n",
      "81\t82\t83\t84\t85\t86\t87\t88\t89\t90\t\n",
      "91\t92\t93\t94\t95\t96\t97\t98\t99\t100\t\n"
     ]
    }
   ],
   "source": [
    "i = 0\n",
    "while i < 100:\n",
    "    i = i+1\n",
    "    print(i, end = '\\t')\n",
    "    if i%10 == 0:\n",
    "        print()\n",
    "    \n",
    "    "
   ]
  },
  {
   "cell_type": "code",
   "execution_count": 10,
   "id": "33efdd7c",
   "metadata": {},
   "outputs": [
    {
     "data": {
      "text/plain": [
       "11"
      ]
     },
     "execution_count": 10,
     "metadata": {},
     "output_type": "execute_result"
    }
   ],
   "source": [
    "r = 1\n",
    "n = 10\n",
    "r = n + r\n",
    "r"
   ]
  },
  {
   "cell_type": "code",
   "execution_count": 11,
   "id": "d81a65c6",
   "metadata": {},
   "outputs": [
    {
     "data": {
      "text/plain": [
       "21"
      ]
     },
     "execution_count": 11,
     "metadata": {},
     "output_type": "execute_result"
    }
   ],
   "source": [
    "r = n + r\n",
    "r"
   ]
  },
  {
   "cell_type": "code",
   "execution_count": 12,
   "id": "8a7611e3",
   "metadata": {},
   "outputs": [
    {
     "data": {
      "text/plain": [
       "31"
      ]
     },
     "execution_count": 12,
     "metadata": {},
     "output_type": "execute_result"
    }
   ],
   "source": [
    "r = n + r\n",
    "r"
   ]
  },
  {
   "cell_type": "code",
   "execution_count": 13,
   "id": "37200ea2",
   "metadata": {},
   "outputs": [
    {
     "name": "stdout",
     "output_type": "stream",
     "text": [
      "1\t2\t3\t4\t5\t6\t7\t8\t9\t10\t\n",
      "1\t2\t3\t4\t5\t6\t7\t8\t9\t10\t\n",
      "1\t2\t3\t4\t5\t6\t7\t8\t9\t10\t\n",
      "1\t2\t3\t4\t5\t6\t7\t8\t9\t10\t\n",
      "1\t2\t3\t4\t5\t6\t7\t8\t9\t10\t\n",
      "1\t2\t3\t4\t5\t6\t7\t8\t9\t10\t\n",
      "1\t2\t3\t4\t5\t6\t7\t8\t9\t10\t\n",
      "1\t2\t3\t4\t5\t6\t7\t8\t9\t10\t\n",
      "1\t2\t3\t4\t5\t6\t7\t8\t9\t10\t\n",
      "1\t2\t3\t4\t5\t6\t7\t8\t9\t10\t\n"
     ]
    }
   ],
   "source": [
    "r = 1\n",
    "while r<=10:\n",
    "    c = 1\n",
    "    while c<=10:\n",
    "        print(c , end = '\\t')\n",
    "        c = c+1\n",
    "    r = r+1\n",
    "    print()"
   ]
  },
  {
   "cell_type": "code",
   "execution_count": 17,
   "id": "5e13502c",
   "metadata": {},
   "outputs": [
    {
     "name": "stdout",
     "output_type": "stream",
     "text": [
      "1\t11\t21\t31\t41\t51\t61\t71\t81\t91\t101\t\n",
      "2\t12\t22\t32\t42\t52\t62\t72\t82\t92\t102\t\n",
      "3\t13\t23\t33\t43\t53\t63\t73\t83\t93\t103\t\n",
      "4\t14\t24\t34\t44\t54\t64\t74\t84\t94\t104\t\n",
      "5\t15\t25\t35\t45\t55\t65\t75\t85\t95\t105\t\n",
      "6\t16\t26\t36\t46\t56\t66\t76\t86\t96\t106\t\n",
      "7\t17\t27\t37\t47\t57\t67\t77\t87\t97\t107\t\n",
      "8\t18\t28\t38\t48\t58\t68\t78\t88\t98\t108\t\n",
      "9\t19\t29\t39\t49\t59\t69\t79\t89\t99\t109\t\n",
      "10\t20\t30\t40\t50\t60\t70\t80\t90\t100\t110\t\n"
     ]
    }
   ],
   "source": [
    "\n",
    "r = 1\n",
    "while r<=10:\n",
    "    c = 1\n",
    "    s = r\n",
    "    print(r, end = '\\t')\n",
    "    while c<=10:\n",
    "        print(s + 10 , end = '\\t')\n",
    "        s = s+ 10\n",
    "        c = c+1\n",
    "        \n",
    "    r = r+1\n",
    "    print()"
   ]
  },
  {
   "cell_type": "code",
   "execution_count": null,
   "id": "e4d0f6ba",
   "metadata": {},
   "outputs": [],
   "source": []
  }
 ],
 "metadata": {
  "kernelspec": {
   "display_name": "Python 3 (ipykernel)",
   "language": "python",
   "name": "python3"
  },
  "language_info": {
   "codemirror_mode": {
    "name": "ipython",
    "version": 3
   },
   "file_extension": ".py",
   "mimetype": "text/x-python",
   "name": "python",
   "nbconvert_exporter": "python",
   "pygments_lexer": "ipython3",
   "version": "3.10.2"
  }
 },
 "nbformat": 4,
 "nbformat_minor": 5
}
