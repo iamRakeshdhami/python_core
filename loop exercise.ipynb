{
 "cells": [
  {
   "cell_type": "code",
   "execution_count": 39,
   "id": "a1684676",
   "metadata": {},
   "outputs": [],
   "source": [
    "text = '''print('readable',file.readable())\n",
    "print('writable',file.writable())\n",
    "print('closed',file.closed)\n",
    "file.close()\n",
    "print('closed',file.closed)\n",
    "new line 1\n",
    "new line 2\n",
    "new line 3\n",
    "new line 1\n",
    "python hello\n",
    "java'''"
   ]
  },
  {
   "cell_type": "code",
   "execution_count": 42,
   "id": "c8a35d22",
   "metadata": {},
   "outputs": [],
   "source": [
    "v1 = set(text)"
   ]
  },
  {
   "cell_type": "code",
   "execution_count": 44,
   "id": "2978921c",
   "metadata": {},
   "outputs": [],
   "source": [
    "v2 = [0]*len(v1)"
   ]
  },
  {
   "cell_type": "code",
   "execution_count": 46,
   "id": "f1474c1d",
   "metadata": {},
   "outputs": [],
   "source": [
    "dtc = dict(zip(v1,v2))"
   ]
  },
  {
   "cell_type": "code",
   "execution_count": 49,
   "id": "fa62b205",
   "metadata": {},
   "outputs": [],
   "source": [
    "dtc['p'] = dtc['p']+1"
   ]
  },
  {
   "cell_type": "code",
   "execution_count": 50,
   "id": "1272090d",
   "metadata": {},
   "outputs": [
    {
     "data": {
      "text/plain": [
       "1"
      ]
     },
     "execution_count": 50,
     "metadata": {},
     "output_type": "execute_result"
    }
   ],
   "source": [
    "dtc['p']"
   ]
  },
  {
   "cell_type": "code",
   "execution_count": 51,
   "id": "07a235ca",
   "metadata": {},
   "outputs": [],
   "source": [
    "dtc['p'] = dtc['p']+1"
   ]
  },
  {
   "cell_type": "code",
   "execution_count": 52,
   "id": "03d225aa",
   "metadata": {},
   "outputs": [
    {
     "data": {
      "text/plain": [
       "2"
      ]
     },
     "execution_count": 52,
     "metadata": {},
     "output_type": "execute_result"
    }
   ],
   "source": [
    "dtc['p']"
   ]
  },
  {
   "cell_type": "code",
   "execution_count": 58,
   "id": "60fafccb",
   "metadata": {},
   "outputs": [
    {
     "data": {
      "text/plain": [
       "{'\\n': 10,\n",
       " 'r': 8,\n",
       " 'v': 1,\n",
       " 'i': 15,\n",
       " 's': 5,\n",
       " 'd': 6,\n",
       " 'f': 5,\n",
       " 'l': 20,\n",
       " 't': 7,\n",
       " 'p': 5,\n",
       " '(': 7,\n",
       " ')': 7,\n",
       " 'h': 2,\n",
       " 'w': 6,\n",
       " \"'\": 8,\n",
       " 'y': 1,\n",
       " 'n': 13,\n",
       " 'a': 8,\n",
       " ',': 4,\n",
       " '3': 1,\n",
       " 'o': 7,\n",
       " 'j': 1,\n",
       " 'b': 4,\n",
       " 'c': 5,\n",
       " ' ': 9,\n",
       " '2': 1,\n",
       " '1': 2,\n",
       " '.': 5,\n",
       " 'e': 25}"
      ]
     },
     "execution_count": 58,
     "metadata": {},
     "output_type": "execute_result"
    }
   ],
   "source": [
    "v1 = set(text)\n",
    "v2 = [0]*len(v1)\n",
    "dtc = dict(zip(v1,v2))\n",
    "for n in text:\n",
    "    dtc[n] = dtc[n] + 1\n",
    "\n",
    "dtc"
   ]
  },
  {
   "cell_type": "code",
   "execution_count": 59,
   "id": "146fca24",
   "metadata": {},
   "outputs": [],
   "source": [
    "from collections import Counter"
   ]
  },
  {
   "cell_type": "code",
   "execution_count": 60,
   "id": "384d4298",
   "metadata": {},
   "outputs": [
    {
     "data": {
      "text/plain": [
       "Counter({'p': 5,\n",
       "         'r': 8,\n",
       "         'i': 15,\n",
       "         'n': 13,\n",
       "         't': 7,\n",
       "         '(': 7,\n",
       "         \"'\": 8,\n",
       "         'e': 25,\n",
       "         'a': 8,\n",
       "         'd': 6,\n",
       "         'b': 4,\n",
       "         'l': 20,\n",
       "         ',': 4,\n",
       "         'f': 5,\n",
       "         '.': 5,\n",
       "         ')': 7,\n",
       "         '\\n': 10,\n",
       "         'w': 6,\n",
       "         'c': 5,\n",
       "         'o': 7,\n",
       "         's': 5,\n",
       "         ' ': 9,\n",
       "         '1': 2,\n",
       "         '2': 1,\n",
       "         '3': 1,\n",
       "         'y': 1,\n",
       "         'h': 2,\n",
       "         'j': 1,\n",
       "         'v': 1})"
      ]
     },
     "execution_count": 60,
     "metadata": {},
     "output_type": "execute_result"
    }
   ],
   "source": [
    "Counter(text)"
   ]
  },
  {
   "cell_type": "code",
   "execution_count": 61,
   "id": "6d281fc8",
   "metadata": {},
   "outputs": [
    {
     "data": {
      "text/plain": [
       "{'\\n': 10,\n",
       " 'r': 8,\n",
       " 'v': 1,\n",
       " 'i': 15,\n",
       " 's': 5,\n",
       " 'd': 6,\n",
       " 'f': 5,\n",
       " 'l': 20,\n",
       " 't': 7,\n",
       " 'p': 5,\n",
       " '(': 7,\n",
       " ')': 7,\n",
       " 'h': 2,\n",
       " 'w': 6,\n",
       " \"'\": 8,\n",
       " 'y': 1,\n",
       " 'n': 13,\n",
       " 'a': 8,\n",
       " ',': 4,\n",
       " '3': 1,\n",
       " 'o': 7,\n",
       " 'j': 1,\n",
       " 'b': 4,\n",
       " 'c': 5,\n",
       " ' ': 9,\n",
       " '2': 1,\n",
       " '1': 2,\n",
       " '.': 5,\n",
       " 'e': 25}"
      ]
     },
     "execution_count": 61,
     "metadata": {},
     "output_type": "execute_result"
    }
   ],
   "source": [
    "v1 = set(text)\n",
    "\n",
    "dtc = dict.fromkeys(v1,0)\n",
    "for n in text:\n",
    "    dtc[n] = dtc[n] + 1\n",
    "\n",
    "dtc"
   ]
  },
  {
   "cell_type": "code",
   "execution_count": 62,
   "id": "c7026ff5",
   "metadata": {},
   "outputs": [
    {
     "name": "stdout",
     "output_type": "stream",
     "text": [
      "1\t2\t3\t4\t5\t6\t7\t8\t9\t10\t\n",
      "1\t2\t3\t4\t5\t6\t7\t8\t9\t10\t\n",
      "1\t2\t3\t4\t5\t6\t7\t8\t9\t10\t\n",
      "1\t2\t3\t4\t5\t6\t7\t8\t9\t10\t\n",
      "1\t2\t3\t4\t5\t6\t7\t8\t9\t10\t\n",
      "1\t2\t3\t4\t5\t6\t7\t8\t9\t10\t\n",
      "1\t2\t3\t4\t5\t6\t7\t8\t9\t10\t\n",
      "1\t2\t3\t4\t5\t6\t7\t8\t9\t10\t\n",
      "1\t2\t3\t4\t5\t6\t7\t8\t9\t10\t\n",
      "1\t2\t3\t4\t5\t6\t7\t8\t9\t10\t\n"
     ]
    }
   ],
   "source": [
    "for r in range(1,11):\n",
    "    for c in range(1,11):\n",
    "        print(c, end = '\\t')\n",
    "    print()\n",
    "        "
   ]
  },
  {
   "cell_type": "code",
   "execution_count": 63,
   "id": "e08029e1",
   "metadata": {},
   "outputs": [
    {
     "name": "stdout",
     "output_type": "stream",
     "text": [
      "1\t2\t3\t4\t5\t6\t7\t8\t9\t10\t\n",
      "2\t4\t6\t8\t10\t12\t14\t16\t18\t20\t\n",
      "3\t6\t9\t12\t15\t18\t21\t24\t27\t30\t\n",
      "4\t8\t12\t16\t20\t24\t28\t32\t36\t40\t\n",
      "5\t10\t15\t20\t25\t30\t35\t40\t45\t50\t\n",
      "6\t12\t18\t24\t30\t36\t42\t48\t54\t60\t\n",
      "7\t14\t21\t28\t35\t42\t49\t56\t63\t70\t\n",
      "8\t16\t24\t32\t40\t48\t56\t64\t72\t80\t\n",
      "9\t18\t27\t36\t45\t54\t63\t72\t81\t90\t\n",
      "10\t20\t30\t40\t50\t60\t70\t80\t90\t100\t\n"
     ]
    }
   ],
   "source": [
    "for r in range(1,11):\n",
    "    for c in range(1,11):\n",
    "        print(r*c, end = '\\t')\n",
    "    print()"
   ]
  },
  {
   "cell_type": "code",
   "execution_count": 64,
   "id": "9f70a1f6",
   "metadata": {},
   "outputs": [
    {
     "name": "stdout",
     "output_type": "stream",
     "text": [
      "1\t2\t3\t4\t5\t6\t7\t8\t9\t10\t\n",
      "11\t12\t13\t14\t15\t16\t17\t18\t19\t20\t\n",
      "21\t22\t23\t24\t25\t26\t27\t28\t29\t30\t\n",
      "31\t32\t33\t34\t35\t36\t37\t38\t39\t40\t\n",
      "41\t42\t43\t44\t45\t46\t47\t48\t49\t50\t\n",
      "51\t52\t53\t54\t55\t56\t57\t58\t59\t60\t\n",
      "61\t62\t63\t64\t65\t66\t67\t68\t69\t70\t\n",
      "71\t72\t73\t74\t75\t76\t77\t78\t79\t80\t\n",
      "81\t82\t83\t84\t85\t86\t87\t88\t89\t90\t\n",
      "91\t92\t93\t94\t95\t96\t97\t98\t99\t100\t\n"
     ]
    }
   ],
   "source": [
    "for i in range(1,101):\n",
    "    print(i , end = '\\t')\n",
    "    if i%10 == 0:\n",
    "        print()"
   ]
  },
  {
   "cell_type": "code",
   "execution_count": 65,
   "id": "68085ebf",
   "metadata": {},
   "outputs": [
    {
     "data": {
      "text/plain": [
       "48"
      ]
     },
     "execution_count": 65,
     "metadata": {},
     "output_type": "execute_result"
    }
   ],
   "source": [
    "ord('0')"
   ]
  },
  {
   "cell_type": "code",
   "execution_count": 66,
   "id": "81385ac2",
   "metadata": {},
   "outputs": [
    {
     "data": {
      "text/plain": [
       "57"
      ]
     },
     "execution_count": 66,
     "metadata": {},
     "output_type": "execute_result"
    }
   ],
   "source": [
    "ord('9')"
   ]
  },
  {
   "cell_type": "code",
   "execution_count": 72,
   "id": "1434407e",
   "metadata": {},
   "outputs": [
    {
     "data": {
      "text/plain": [
       "True"
      ]
     },
     "execution_count": 72,
     "metadata": {},
     "output_type": "execute_result"
    }
   ],
   "source": [
    "c = '5'\n",
    "\n",
    "48<=ord(c)<=57"
   ]
  },
  {
   "cell_type": "code",
   "execution_count": 73,
   "id": "d85f2951",
   "metadata": {},
   "outputs": [
    {
     "data": {
      "text/plain": [
       "(65, 90)"
      ]
     },
     "execution_count": 73,
     "metadata": {},
     "output_type": "execute_result"
    }
   ],
   "source": [
    "c = '5'\n",
    "\n",
    "# 48<=ord(c)<=57\n",
    "ord('A'),ord('Z')"
   ]
  },
  {
   "cell_type": "code",
   "execution_count": 74,
   "id": "687aa2b5",
   "metadata": {},
   "outputs": [
    {
     "data": {
      "text/plain": [
       "(97, 122)"
      ]
     },
     "execution_count": 74,
     "metadata": {},
     "output_type": "execute_result"
    }
   ],
   "source": [
    "ord('a'),ord('z')"
   ]
  },
  {
   "cell_type": "code",
   "execution_count": 79,
   "id": "32762052",
   "metadata": {},
   "outputs": [
    {
     "data": {
      "text/plain": [
       "False"
      ]
     },
     "execution_count": 79,
     "metadata": {},
     "output_type": "execute_result"
    }
   ],
   "source": [
    "c = '#'\n",
    "\n",
    "(65<=ord(c)<=90) or (97<=ord(c)<=122)"
   ]
  },
  {
   "cell_type": "code",
   "execution_count": 82,
   "id": "c1490828",
   "metadata": {},
   "outputs": [],
   "source": [
    "La = []\n",
    "N = []\n",
    "sp = []\n",
    "for c in text:\n",
    "    if 48<=ord(c)<=57:\n",
    "        N = N+[c]\n",
    "    elif (65<=ord(c)<=90) or (97<=ord(c)<=122):\n",
    "        La = La + [c]\n",
    "    else:\n",
    "        sp = sp+[c]\n"
   ]
  },
  {
   "cell_type": "code",
   "execution_count": 86,
   "id": "4de1101a",
   "metadata": {},
   "outputs": [],
   "source": [
    "# La"
   ]
  },
  {
   "cell_type": "code",
   "execution_count": 87,
   "id": "2a336272",
   "metadata": {},
   "outputs": [],
   "source": [
    "# N"
   ]
  },
  {
   "cell_type": "code",
   "execution_count": 88,
   "id": "f29eb33c",
   "metadata": {},
   "outputs": [],
   "source": [
    "# sp"
   ]
  },
  {
   "cell_type": "code",
   "execution_count": 93,
   "id": "9643e2de",
   "metadata": {},
   "outputs": [
    {
     "name": "stdout",
     "output_type": "stream",
     "text": [
      "[2, 4, 6, 8, 10, 12, 14, 16, 18, 20, 22, 24, 26, 28, 30, 32, 34, 36, 38, 40, 42, 44, 46, 48, 50, 52, 54, 56, 58, 60, 62, 64, 66, 68, 70, 72, 74, 76, 78, 80, 82, 84, 86, 88, 90, 92, 94, 96, 98, 100]\n"
     ]
    }
   ],
   "source": [
    "ls = []\n",
    "for i in range(1,101):\n",
    "    if i%2==0:\n",
    "        ls = ls+[i]\n",
    "print(ls)"
   ]
  },
  {
   "cell_type": "code",
   "execution_count": 90,
   "id": "326eb6d7",
   "metadata": {},
   "outputs": [
    {
     "data": {
      "text/plain": [
       "\"foo'bar\""
      ]
     },
     "execution_count": 90,
     "metadata": {},
     "output_type": "execute_result"
    }
   ],
   "source": [
    "\"foo'bar\""
   ]
  },
  {
   "cell_type": "code",
   "execution_count": 91,
   "id": "88b4dfcb",
   "metadata": {},
   "outputs": [
    {
     "data": {
      "text/plain": [
       "\"foo'bar\""
      ]
     },
     "execution_count": 91,
     "metadata": {},
     "output_type": "execute_result"
    }
   ],
   "source": [
    "\"\"\"foo'bar\"\"\""
   ]
  },
  {
   "cell_type": "code",
   "execution_count": 92,
   "id": "dcd89e10",
   "metadata": {},
   "outputs": [
    {
     "data": {
      "text/plain": [
       "\"foo'bar\""
      ]
     },
     "execution_count": 92,
     "metadata": {},
     "output_type": "execute_result"
    }
   ],
   "source": [
    "'foo\\'bar'"
   ]
  },
  {
   "cell_type": "code",
   "execution_count": null,
   "id": "d2407807",
   "metadata": {},
   "outputs": [],
   "source": []
  }
 ],
 "metadata": {
  "kernelspec": {
   "display_name": "Python 3 (ipykernel)",
   "language": "python",
   "name": "python3"
  },
  "language_info": {
   "codemirror_mode": {
    "name": "ipython",
    "version": 3
   },
   "file_extension": ".py",
   "mimetype": "text/x-python",
   "name": "python",
   "nbconvert_exporter": "python",
   "pygments_lexer": "ipython3",
   "version": "3.10.2"
  }
 },
 "nbformat": 4,
 "nbformat_minor": 5
}
