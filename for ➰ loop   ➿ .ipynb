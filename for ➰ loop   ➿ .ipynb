{
 "cells": [
  {
   "cell_type": "code",
   "execution_count": 132,
   "id": "d655e979",
   "metadata": {},
   "outputs": [],
   "source": [
    "# while, for \n",
    "# break, continue"
   ]
  },
  {
   "cell_type": "code",
   "execution_count": 133,
   "id": "49a25586",
   "metadata": {},
   "outputs": [],
   "source": [
    "# for var in iterable:\n",
    "#     pass"
   ]
  },
  {
   "cell_type": "code",
   "execution_count": 134,
   "id": "32aa53de",
   "metadata": {},
   "outputs": [
    {
     "name": "stdout",
     "output_type": "stream",
     "text": [
      "12\n",
      "23\n",
      "34\n",
      "445\n",
      "56\n",
      "67\n",
      "0\n",
      "7\n"
     ]
    }
   ],
   "source": [
    "#list\n",
    "for n in [12,23,34,445,56,67,0,7]:\n",
    "    print(n)"
   ]
  },
  {
   "cell_type": "code",
   "execution_count": 5,
   "id": "5792b5f6",
   "metadata": {},
   "outputs": [
    {
     "name": "stdout",
     "output_type": "stream",
     "text": [
      "12\n",
      "34\n",
      "56\n",
      "0\n"
     ]
    }
   ],
   "source": [
    "for n in [12,23,34,445,56,67,0,7]:\n",
    "    if n%2==0:print(n)"
   ]
  },
  {
   "cell_type": "code",
   "execution_count": 136,
   "id": "dbef709b",
   "metadata": {},
   "outputs": [
    {
     "name": "stdout",
     "output_type": "stream",
     "text": [
      "12\n",
      "23\n",
      "34\n",
      "445\n",
      "56\n",
      "67\n",
      "0\n",
      "7\n"
     ]
    }
   ],
   "source": [
    "for n in (12,23,34,445,56,67,0,7):\n",
    "    print(n)"
   ]
  },
  {
   "cell_type": "code",
   "execution_count": 138,
   "id": "b8fb0e93",
   "metadata": {},
   "outputs": [
    {
     "name": "stdout",
     "output_type": "stream",
     "text": [
      "0\n",
      "34\n",
      "67\n",
      "7\n",
      "12\n",
      "23\n",
      "56\n",
      "445\n"
     ]
    }
   ],
   "source": [
    "for n in {12,23,34,445,56,67,0,7}:\n",
    "    print(n)"
   ]
  },
  {
   "cell_type": "code",
   "execution_count": 139,
   "id": "746a1914",
   "metadata": {},
   "outputs": [
    {
     "name": "stdout",
     "output_type": "stream",
     "text": [
      "a\n",
      "b\n"
     ]
    }
   ],
   "source": [
    "for n in {'a':23,\"b\":43}:\n",
    "    print(n)"
   ]
  },
  {
   "cell_type": "code",
   "execution_count": 140,
   "id": "ff028838",
   "metadata": {},
   "outputs": [
    {
     "name": "stdout",
     "output_type": "stream",
     "text": [
      "23\n",
      "43\n"
     ]
    }
   ],
   "source": [
    "for n in {'a':23,\"b\":43}.values():\n",
    "    print(n)"
   ]
  },
  {
   "cell_type": "code",
   "execution_count": 141,
   "id": "0e67763c",
   "metadata": {},
   "outputs": [
    {
     "name": "stdout",
     "output_type": "stream",
     "text": [
      "('a', 23)\n",
      "('b', 43)\n"
     ]
    }
   ],
   "source": [
    "for n in {'a':23,\"b\":43}.items():\n",
    "    print(n)"
   ]
  },
  {
   "cell_type": "code",
   "execution_count": 143,
   "id": "316c0df5",
   "metadata": {},
   "outputs": [
    {
     "name": "stdout",
     "output_type": "stream",
     "text": [
      "a 23\n",
      "b 43\n"
     ]
    }
   ],
   "source": [
    "for k,v in {'a':23,\"b\":43}.items():\n",
    "    print(k,v)"
   ]
  },
  {
   "cell_type": "code",
   "execution_count": null,
   "id": "676c2664",
   "metadata": {},
   "outputs": [],
   "source": []
  },
  {
   "cell_type": "code",
   "execution_count": 142,
   "id": "25d56ed6",
   "metadata": {},
   "outputs": [],
   "source": [
    "a,b = ('a', 23)"
   ]
  },
  {
   "cell_type": "code",
   "execution_count": 144,
   "id": "1ddc5f5d",
   "metadata": {},
   "outputs": [
    {
     "name": "stdout",
     "output_type": "stream",
     "text": [
      "1 2 3 4 5 "
     ]
    }
   ],
   "source": [
    "for i in range(1,6):\n",
    "    print(i,end = ' ')"
   ]
  },
  {
   "cell_type": "code",
   "execution_count": 146,
   "id": "b9fc6e09",
   "metadata": {},
   "outputs": [
    {
     "name": "stdout",
     "output_type": "stream",
     "text": [
      "1 2 3 4 5 6 7 8 9 10 "
     ]
    }
   ],
   "source": [
    "for i in range(1,60):\n",
    "    print(i,end = ' ')\n",
    "    if i%10==0:\n",
    "        break"
   ]
  },
  {
   "cell_type": "code",
   "execution_count": 147,
   "id": "623fdd30",
   "metadata": {},
   "outputs": [
    {
     "name": "stdout",
     "output_type": "stream",
     "text": [
      "1 2 4 5 7 8 10 "
     ]
    }
   ],
   "source": [
    "for i in range(1,60):\n",
    "    if i%3==0:\n",
    "        continue\n",
    "    print(i,end = ' ')\n",
    "    if i%10==0:\n",
    "        break"
   ]
  },
  {
   "cell_type": "code",
   "execution_count": 149,
   "id": "cd4c1a5b",
   "metadata": {},
   "outputs": [
    {
     "name": "stdout",
     "output_type": "stream",
     "text": [
      "1 2 3 4 5 6 7 8 9 Done!\n"
     ]
    }
   ],
   "source": [
    "for i in range(1,10):\n",
    "    print(i,end = ' ')\n",
    "    #if i%10==0:\n",
    "        #break\n",
    "else:\n",
    "    print('Done!')"
   ]
  },
  {
   "cell_type": "code",
   "execution_count": 150,
   "id": "235a9ece",
   "metadata": {},
   "outputs": [
    {
     "name": "stdout",
     "output_type": "stream",
     "text": [
      "1 2 3 4 5 6 7 8 9 10 "
     ]
    }
   ],
   "source": [
    "for i in range(1,120):\n",
    "    print(i,end = ' ')\n",
    "    if i%10==0:\n",
    "        break\n",
    "else:\n",
    "    print('Done!')"
   ]
  },
  {
   "cell_type": "code",
   "execution_count": 1,
   "id": "86d392ab",
   "metadata": {},
   "outputs": [
    {
     "name": "stdout",
     "output_type": "stream",
     "text": [
      "Enter Any number ?8\n",
      "2\n",
      "4\n"
     ]
    }
   ],
   "source": [
    "n = int(input('Enter Any number ?'))\n",
    "for i in range(2,(n//2)+2):\n",
    "\n",
    "    if n%i==0:\n",
    "        print(i)"
   ]
  },
  {
   "cell_type": "code",
   "execution_count": 1,
   "id": "ef2794d6",
   "metadata": {},
   "outputs": [
    {
     "name": "stdout",
     "output_type": "stream",
     "text": [
      "Enter Any number ? 15\n"
     ]
    },
    {
     "ename": "TypeError",
     "evalue": "'float' object cannot be interpreted as an integer",
     "output_type": "error",
     "traceback": [
      "\u001b[1;31m---------------------------------------------------------------------------\u001b[0m",
      "\u001b[1;31mTypeError\u001b[0m                                 Traceback (most recent call last)",
      "Input \u001b[1;32mIn [1]\u001b[0m, in \u001b[0;36m<module>\u001b[1;34m\u001b[0m\n\u001b[0;32m      1\u001b[0m n \u001b[38;5;241m=\u001b[39m \u001b[38;5;28mfloat\u001b[39m(\u001b[38;5;28minput\u001b[39m(\u001b[38;5;124m'\u001b[39m\u001b[38;5;124mEnter Any number ? \u001b[39m\u001b[38;5;124m'\u001b[39m))\n\u001b[1;32m----> 2\u001b[0m \u001b[38;5;28;01mfor\u001b[39;00m i \u001b[38;5;129;01min\u001b[39;00m \u001b[38;5;28;43mrange\u001b[39;49m\u001b[43m(\u001b[49m\u001b[38;5;241;43m2\u001b[39;49m\u001b[43m,\u001b[49m\u001b[43m(\u001b[49m\u001b[43mn\u001b[49m\u001b[38;5;241;43m/\u001b[39;49m\u001b[38;5;241;43m/\u001b[39;49m\u001b[38;5;241;43m2\u001b[39;49m\u001b[43m)\u001b[49m\u001b[38;5;241;43m+\u001b[39;49m\u001b[38;5;241;43m2\u001b[39;49m\u001b[43m)\u001b[49m:\n\u001b[0;32m      3\u001b[0m     \u001b[38;5;28;01mif\u001b[39;00m n\u001b[38;5;241m==\u001b[39m\u001b[38;5;241m2\u001b[39m:\n\u001b[0;32m      4\u001b[0m         \u001b[38;5;28mprint\u001b[39m(\u001b[38;5;124m'\u001b[39m\u001b[38;5;124mTrue\u001b[39m\u001b[38;5;124m'\u001b[39m)\n",
      "\u001b[1;31mTypeError\u001b[0m: 'float' object cannot be interpreted as an integer"
     ]
    }
   ],
   "source": [
    "n = int(input('Enter Any number ? '))\n",
    "for i in range(2,(n//2)+2):\n",
    "    if n==2:\n",
    "        print('True')\n",
    "        break\n",
    "    if n%i==0:\n",
    "        print('False')\n",
    "        break\n",
    "else:\n",
    "    \n",
    "    \n",
    "    print('True')"
   ]
  },
  {
   "cell_type": "code",
   "execution_count": 163,
   "id": "3fe71bb9",
   "metadata": {},
   "outputs": [],
   "source": [
    "# Fibonacci series "
   ]
  },
  {
   "cell_type": "code",
   "execution_count": 4,
   "id": "1d56dc24",
   "metadata": {},
   "outputs": [
    {
     "name": "stdout",
     "output_type": "stream",
     "text": [
      "1 2 3 5 8 13 21 34 55 89 144 233 "
     ]
    }
   ],
   "source": [
    "a = 0\n",
    "b = 1\n",
    "\n",
    "for i in range(12):\n",
    "    c = b\n",
    "    b = a+b\n",
    "    a = c\n",
    "    print(b, end = ' ')"
   ]
  },
  {
   "cell_type": "code",
   "execution_count": null,
   "id": "5b5b2d76",
   "metadata": {},
   "outputs": [],
   "source": []
  },
  {
   "cell_type": "code",
   "execution_count": 166,
   "id": "b4509aff",
   "metadata": {},
   "outputs": [],
   "source": [
    "a,b = 78,55"
   ]
  },
  {
   "cell_type": "code",
   "execution_count": 167,
   "id": "4c052e3d",
   "metadata": {},
   "outputs": [
    {
     "data": {
      "text/plain": [
       "(55, 78)"
      ]
     },
     "execution_count": 167,
     "metadata": {},
     "output_type": "execute_result"
    }
   ],
   "source": [
    "a,b = b,a\n",
    "a,b"
   ]
  },
  {
   "cell_type": "code",
   "execution_count": 168,
   "id": "2f3363c1",
   "metadata": {},
   "outputs": [
    {
     "data": {
      "text/plain": [
       "(78, 133)"
      ]
     },
     "execution_count": 168,
     "metadata": {},
     "output_type": "execute_result"
    }
   ],
   "source": [
    "a,b = b,a+b\n",
    "a,b"
   ]
  },
  {
   "cell_type": "code",
   "execution_count": 169,
   "id": "c2361f95",
   "metadata": {},
   "outputs": [
    {
     "name": "stdout",
     "output_type": "stream",
     "text": [
      "0 1 1 2 3 5 8 13 21 34 55 89 144 233 "
     ]
    }
   ],
   "source": [
    "a = 0\n",
    "b = 1\n",
    "print(a,b,end = ' ')\n",
    "for i in range(12):\n",
    "    a,b = b , a+b\n",
    "    print(b, end = ' ')"
   ]
  },
  {
   "cell_type": "code",
   "execution_count": 170,
   "id": "9f173165",
   "metadata": {},
   "outputs": [],
   "source": [
    "ls = [0,1]"
   ]
  },
  {
   "cell_type": "code",
   "execution_count": 173,
   "id": "7cfd37b0",
   "metadata": {},
   "outputs": [
    {
     "data": {
      "text/plain": [
       "[0, 1, 1]"
      ]
     },
     "execution_count": 173,
     "metadata": {},
     "output_type": "execute_result"
    }
   ],
   "source": [
    "ls + [ls[-1] + ls[-2]]"
   ]
  },
  {
   "cell_type": "code",
   "execution_count": 174,
   "id": "13de16bf",
   "metadata": {},
   "outputs": [
    {
     "data": {
      "text/plain": [
       "[0, 1, 1]"
      ]
     },
     "execution_count": 174,
     "metadata": {},
     "output_type": "execute_result"
    }
   ],
   "source": [
    "ls = ls + [ls[-1] + ls[-2]]\n",
    "ls"
   ]
  },
  {
   "cell_type": "code",
   "execution_count": 175,
   "id": "7a131d58",
   "metadata": {},
   "outputs": [
    {
     "data": {
      "text/plain": [
       "[0, 1, 1, 2]"
      ]
     },
     "execution_count": 175,
     "metadata": {},
     "output_type": "execute_result"
    }
   ],
   "source": [
    "ls = ls + [ls[-1] + ls[-2]]\n",
    "ls"
   ]
  },
  {
   "cell_type": "code",
   "execution_count": 176,
   "id": "b59d9ea3",
   "metadata": {},
   "outputs": [
    {
     "data": {
      "text/plain": [
       "[0, 1, 1, 2, 3]"
      ]
     },
     "execution_count": 176,
     "metadata": {},
     "output_type": "execute_result"
    }
   ],
   "source": [
    "ls = ls + [ls[-1] + ls[-2]]\n",
    "ls"
   ]
  },
  {
   "cell_type": "code",
   "execution_count": 177,
   "id": "a542881c",
   "metadata": {},
   "outputs": [
    {
     "data": {
      "text/plain": [
       "[0, 1, 1, 2, 3, 5]"
      ]
     },
     "execution_count": 177,
     "metadata": {},
     "output_type": "execute_result"
    }
   ],
   "source": [
    "ls = ls + [ls[-1] + ls[-2]]\n",
    "ls"
   ]
  },
  {
   "cell_type": "code",
   "execution_count": 178,
   "id": "f03f476e",
   "metadata": {},
   "outputs": [
    {
     "data": {
      "text/plain": [
       "[0, 1, 1, 2, 3, 5, 8]"
      ]
     },
     "execution_count": 178,
     "metadata": {},
     "output_type": "execute_result"
    }
   ],
   "source": [
    "ls = ls + [ls[-1] + ls[-2]]\n",
    "ls"
   ]
  },
  {
   "cell_type": "code",
   "execution_count": 180,
   "id": "12604b49",
   "metadata": {},
   "outputs": [
    {
     "name": "stdout",
     "output_type": "stream",
     "text": [
      "[0, 1, 1]\n",
      "[0, 1, 1, 2]\n",
      "[0, 1, 1, 2, 3]\n",
      "[0, 1, 1, 2, 3, 5]\n",
      "[0, 1, 1, 2, 3, 5, 8]\n",
      "[0, 1, 1, 2, 3, 5, 8, 13]\n",
      "[0, 1, 1, 2, 3, 5, 8, 13, 21]\n",
      "[0, 1, 1, 2, 3, 5, 8, 13, 21, 34]\n",
      "[0, 1, 1, 2, 3, 5, 8, 13, 21, 34, 55]\n",
      "[0, 1, 1, 2, 3, 5, 8, 13, 21, 34, 55, 89]\n"
     ]
    }
   ],
   "source": [
    "ls = [0,1]\n",
    "for i in range(10):\n",
    "    ls = ls + [ls[-1] + ls[-2]]\n",
    "\n",
    "    print(ls)\n",
    "    "
   ]
  },
  {
   "cell_type": "code",
   "execution_count": 181,
   "id": "f70e9d35",
   "metadata": {},
   "outputs": [],
   "source": [
    "# palindrome "
   ]
  },
  {
   "cell_type": "code",
   "execution_count": 183,
   "id": "ac6cebdc",
   "metadata": {},
   "outputs": [],
   "source": [
    "n = '12321'"
   ]
  },
  {
   "cell_type": "code",
   "execution_count": 185,
   "id": "0ed2a72c",
   "metadata": {},
   "outputs": [
    {
     "data": {
      "text/plain": [
       "'1'"
      ]
     },
     "execution_count": 185,
     "metadata": {},
     "output_type": "execute_result"
    }
   ],
   "source": [
    "s = ''\n",
    "s = s+n[-1]\n",
    "s"
   ]
  },
  {
   "cell_type": "code",
   "execution_count": 186,
   "id": "3a9d7808",
   "metadata": {},
   "outputs": [
    {
     "data": {
      "text/plain": [
       "'12'"
      ]
     },
     "execution_count": 186,
     "metadata": {},
     "output_type": "execute_result"
    }
   ],
   "source": [
    "s = s+n[-2]\n",
    "s"
   ]
  },
  {
   "cell_type": "code",
   "execution_count": 187,
   "id": "49f55919",
   "metadata": {},
   "outputs": [
    {
     "data": {
      "text/plain": [
       "'123'"
      ]
     },
     "execution_count": 187,
     "metadata": {},
     "output_type": "execute_result"
    }
   ],
   "source": [
    "s = s+n[-3]\n",
    "s"
   ]
  },
  {
   "cell_type": "code",
   "execution_count": 193,
   "id": "e2584651",
   "metadata": {},
   "outputs": [
    {
     "name": "stdout",
     "output_type": "stream",
     "text": [
      "? 1234321\n",
      "True\n"
     ]
    }
   ],
   "source": [
    "n = input('? ')\n",
    "s = ''\n",
    "\n",
    "for i in range(1,len(n)+1):\n",
    "    s = s+n[-i]\n",
    "print(n==s)"
   ]
  },
  {
   "cell_type": "code",
   "execution_count": 195,
   "id": "3a8bce18",
   "metadata": {},
   "outputs": [],
   "source": [
    "n = int(input('? '))\n",
    "\n",
    "\n"
   ]
  },
  {
   "cell_type": "code",
   "execution_count": 196,
   "id": "ab9d48a8",
   "metadata": {},
   "outputs": [],
   "source": [
    "n = 12321"
   ]
  },
  {
   "cell_type": "code",
   "execution_count": 197,
   "id": "dfac43a8",
   "metadata": {},
   "outputs": [
    {
     "data": {
      "text/plain": [
       "12321"
      ]
     },
     "execution_count": 197,
     "metadata": {},
     "output_type": "execute_result"
    }
   ],
   "source": [
    "n"
   ]
  },
  {
   "cell_type": "code",
   "execution_count": 198,
   "id": "07426cfb",
   "metadata": {},
   "outputs": [
    {
     "data": {
      "text/plain": [
       "1"
      ]
     },
     "execution_count": 198,
     "metadata": {},
     "output_type": "execute_result"
    }
   ],
   "source": [
    "n%10"
   ]
  },
  {
   "cell_type": "code",
   "execution_count": 199,
   "id": "4921a71e",
   "metadata": {},
   "outputs": [
    {
     "data": {
      "text/plain": [
       "1232"
      ]
     },
     "execution_count": 199,
     "metadata": {},
     "output_type": "execute_result"
    }
   ],
   "source": [
    "n = n//10\n",
    "n"
   ]
  },
  {
   "cell_type": "code",
   "execution_count": 200,
   "id": "fcd82191",
   "metadata": {},
   "outputs": [
    {
     "data": {
      "text/plain": [
       "2"
      ]
     },
     "execution_count": 200,
     "metadata": {},
     "output_type": "execute_result"
    }
   ],
   "source": [
    "n%10"
   ]
  },
  {
   "cell_type": "code",
   "execution_count": 202,
   "id": "0beb200e",
   "metadata": {},
   "outputs": [
    {
     "name": "stdout",
     "output_type": "stream",
     "text": [
      "1\n",
      "2\n",
      "3\n",
      "2\n",
      "1\n"
     ]
    }
   ],
   "source": [
    "n = 12321\n",
    "for i in range(len(str(12321))):\n",
    "    print(n%10)\n",
    "    n = n//10"
   ]
  },
  {
   "cell_type": "code",
   "execution_count": 206,
   "id": "e738abdf",
   "metadata": {},
   "outputs": [
    {
     "name": "stdout",
     "output_type": "stream",
     "text": [
      "1\n",
      "12\n",
      "123\n",
      "1232\n",
      "12321\n",
      "True\n"
     ]
    }
   ],
   "source": [
    "n = 12321\n",
    "s1 = n\n",
    "s = ''\n",
    "for i in range(len(str(12321))):\n",
    "    s = s+str(n%10)\n",
    "    n = n//10\n",
    "    print(s)\n",
    "print(s1 == int(s))"
   ]
  },
  {
   "cell_type": "code",
   "execution_count": 205,
   "id": "a18f6b68",
   "metadata": {},
   "outputs": [
    {
     "data": {
      "text/plain": [
       "('12321', 0)"
      ]
     },
     "execution_count": 205,
     "metadata": {},
     "output_type": "execute_result"
    }
   ],
   "source": [
    "s,n"
   ]
  },
  {
   "cell_type": "code",
   "execution_count": null,
   "id": "9c085a51",
   "metadata": {},
   "outputs": [],
   "source": []
  }
 ],
 "metadata": {
  "kernelspec": {
   "display_name": "Python 3 (ipykernel)",
   "language": "python",
   "name": "python3"
  },
  "language_info": {
   "codemirror_mode": {
    "name": "ipython",
    "version": 3
   },
   "file_extension": ".py",
   "mimetype": "text/x-python",
   "name": "python",
   "nbconvert_exporter": "python",
   "pygments_lexer": "ipython3",
   "version": "3.10.2"
  }
 },
 "nbformat": 4,
 "nbformat_minor": 5
}
