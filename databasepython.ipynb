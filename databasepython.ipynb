{
 "cells": [
  {
   "cell_type": "code",
   "execution_count": 1,
   "id": "02943db9",
   "metadata": {},
   "outputs": [],
   "source": [
    "import sqlite3"
   ]
  },
  {
   "cell_type": "code",
   "execution_count": 2,
   "id": "466928cb",
   "metadata": {},
   "outputs": [],
   "source": [
    "conn = sqlite3.connect(\"MyDatabase.db\")"
   ]
  },
  {
   "cell_type": "code",
   "execution_count": 3,
   "id": "d1c98921",
   "metadata": {},
   "outputs": [],
   "source": [
    "cur = conn.cursor()"
   ]
  },
  {
   "cell_type": "code",
   "execution_count": 7,
   "id": "edae7661",
   "metadata": {},
   "outputs": [],
   "source": [
    "q = \"create table if not exists student (ID int , Name varchar (40), Age int, Phy float, Chem float, Maths float);\""
   ]
  },
  {
   "cell_type": "code",
   "execution_count": 8,
   "id": "4136a83e",
   "metadata": {},
   "outputs": [
    {
     "data": {
      "text/plain": [
       "<sqlite3.Cursor at 0x1aff4231740>"
      ]
     },
     "execution_count": 8,
     "metadata": {},
     "output_type": "execute_result"
    }
   ],
   "source": [
    "cur.execute(q)"
   ]
  },
  {
   "cell_type": "code",
   "execution_count": 9,
   "id": "7d95c7a0",
   "metadata": {},
   "outputs": [],
   "source": [
    "conn.commit()"
   ]
  },
  {
   "cell_type": "code",
   "execution_count": 12,
   "id": "eae738c3",
   "metadata": {},
   "outputs": [],
   "source": [
    "q = \"insert into student values (? ,? ,? ,?, ?, ?)\""
   ]
  },
  {
   "cell_type": "code",
   "execution_count": 13,
   "id": "b7defe98",
   "metadata": {},
   "outputs": [
    {
     "data": {
      "text/plain": [
       "<sqlite3.Cursor at 0x1aff4231740>"
      ]
     },
     "execution_count": 13,
     "metadata": {},
     "output_type": "execute_result"
    }
   ],
   "source": [
    "cur.execute(q, (1 , \"Akash\", 25, 45, 78, 44))"
   ]
  },
  {
   "cell_type": "code",
   "execution_count": 14,
   "id": "b7634c5e",
   "metadata": {},
   "outputs": [],
   "source": [
    "conn.commit()"
   ]
  },
  {
   "cell_type": "code",
   "execution_count": 15,
   "id": "0d1764fe",
   "metadata": {},
   "outputs": [
    {
     "data": {
      "text/plain": [
       "<sqlite3.Cursor at 0x1aff4231740>"
      ]
     },
     "execution_count": 15,
     "metadata": {},
     "output_type": "execute_result"
    }
   ],
   "source": [
    "cur.execute(q, (2 , \"Kajal\", 25, 33, 35, 37))"
   ]
  },
  {
   "cell_type": "code",
   "execution_count": 16,
   "id": "d140e07c",
   "metadata": {},
   "outputs": [],
   "source": [
    "conn.commit()"
   ]
  },
  {
   "cell_type": "code",
   "execution_count": 17,
   "id": "c62a701e",
   "metadata": {},
   "outputs": [],
   "source": [
    "cur.execute(q, (2 , \"Kanika\", 22, 50, 60, 77))\n",
    "conn.commit()"
   ]
  },
  {
   "cell_type": "code",
   "execution_count": 18,
   "id": "c44b6a3f",
   "metadata": {},
   "outputs": [
    {
     "data": {
      "text/plain": [
       "<sqlite3.Cursor at 0x1aff4231740>"
      ]
     },
     "execution_count": 18,
     "metadata": {},
     "output_type": "execute_result"
    }
   ],
   "source": [
    "q = \"select * from student;\"\n",
    "cur.execute(q)"
   ]
  },
  {
   "cell_type": "code",
   "execution_count": 19,
   "id": "dee69c15",
   "metadata": {},
   "outputs": [
    {
     "data": {
      "text/plain": [
       "(1, 'Akash', 25, 45.0, 78.0, 44.0)"
      ]
     },
     "execution_count": 19,
     "metadata": {},
     "output_type": "execute_result"
    }
   ],
   "source": [
    "cur.fetchone()"
   ]
  },
  {
   "cell_type": "code",
   "execution_count": 20,
   "id": "4270c2ba",
   "metadata": {},
   "outputs": [
    {
     "data": {
      "text/plain": [
       "(2, 'Kajal', 25, 33.0, 35.0, 37.0)"
      ]
     },
     "execution_count": 20,
     "metadata": {},
     "output_type": "execute_result"
    }
   ],
   "source": [
    "cur.fetchone()"
   ]
  },
  {
   "cell_type": "code",
   "execution_count": 21,
   "id": "2cba4fc8",
   "metadata": {},
   "outputs": [
    {
     "data": {
      "text/plain": [
       "(2, 'Kanika', 22, 50.0, 60.0, 77.0)"
      ]
     },
     "execution_count": 21,
     "metadata": {},
     "output_type": "execute_result"
    }
   ],
   "source": [
    "cur.fetchone()"
   ]
  },
  {
   "cell_type": "code",
   "execution_count": 22,
   "id": "5fdfce43",
   "metadata": {},
   "outputs": [
    {
     "data": {
      "text/plain": [
       "[]"
      ]
     },
     "execution_count": 22,
     "metadata": {},
     "output_type": "execute_result"
    }
   ],
   "source": [
    "cur.fetchall()"
   ]
  },
  {
   "cell_type": "code",
   "execution_count": 23,
   "id": "792ff532",
   "metadata": {},
   "outputs": [
    {
     "data": {
      "text/plain": [
       "<sqlite3.Cursor at 0x1aff4231740>"
      ]
     },
     "execution_count": 23,
     "metadata": {},
     "output_type": "execute_result"
    }
   ],
   "source": [
    "q = \"select * from student;\"\n",
    "cur.execute(q)"
   ]
  },
  {
   "cell_type": "code",
   "execution_count": 24,
   "id": "9ccb805e",
   "metadata": {},
   "outputs": [
    {
     "data": {
      "text/plain": [
       "[(1, 'Akash', 25, 45.0, 78.0, 44.0),\n",
       " (2, 'Kajal', 25, 33.0, 35.0, 37.0),\n",
       " (2, 'Kanika', 22, 50.0, 60.0, 77.0)]"
      ]
     },
     "execution_count": 24,
     "metadata": {},
     "output_type": "execute_result"
    }
   ],
   "source": [
    "cur.fetchall()"
   ]
  },
  {
   "cell_type": "code",
   "execution_count": 25,
   "id": "80ec4a69",
   "metadata": {},
   "outputs": [
    {
     "data": {
      "text/plain": [
       "<sqlite3.Cursor at 0x1aff4231740>"
      ]
     },
     "execution_count": 25,
     "metadata": {},
     "output_type": "execute_result"
    }
   ],
   "source": [
    "q = \"select * from student;\"\n",
    "cur.execute(q)"
   ]
  },
  {
   "cell_type": "code",
   "execution_count": 26,
   "id": "3251c643",
   "metadata": {},
   "outputs": [
    {
     "name": "stdout",
     "output_type": "stream",
     "text": [
      "(1, 'Akash', 25, 45.0, 78.0, 44.0)\n",
      "(2, 'Kajal', 25, 33.0, 35.0, 37.0)\n",
      "(2, 'Kanika', 22, 50.0, 60.0, 77.0)\n"
     ]
    }
   ],
   "source": [
    "for data in cur:\n",
    "    print(data)"
   ]
  },
  {
   "cell_type": "code",
   "execution_count": 27,
   "id": "02aa647b",
   "metadata": {},
   "outputs": [
    {
     "data": {
      "text/plain": [
       "{'ID': 3, 'Name': 'Lakshay', 'Age': 22, 'Phy': 78, 'Chem': 97, 'Maths': 100}"
      ]
     },
     "execution_count": 27,
     "metadata": {},
     "output_type": "execute_result"
    }
   ],
   "source": [
    "dict(ID=3 , Name=\"Lakshay\" , Age=22 , Phy=78, Chem=97 , Maths=100 )"
   ]
  },
  {
   "cell_type": "code",
   "execution_count": 31,
   "id": "c90ff87e",
   "metadata": {},
   "outputs": [
    {
     "data": {
      "text/plain": [
       "<sqlite3.Cursor at 0x1aff4231740>"
      ]
     },
     "execution_count": 31,
     "metadata": {},
     "output_type": "execute_result"
    }
   ],
   "source": [
    "d = dict(ID=3 , Name=\"Lakshay\" , Age=22 , Phy=78, Chem=97 , Maths=100 )\n",
    "q = \"insert into student values(:ID , :Name ,:Age , :Phy, :Chem, :Maths)\"\n",
    "cur.execute(q , d)"
   ]
  },
  {
   "cell_type": "code",
   "execution_count": 32,
   "id": "2437a546",
   "metadata": {},
   "outputs": [
    {
     "data": {
      "text/plain": [
       "<sqlite3.Cursor at 0x1aff4231740>"
      ]
     },
     "execution_count": 32,
     "metadata": {},
     "output_type": "execute_result"
    }
   ],
   "source": [
    "cur.execute(\"select * from student ;\")"
   ]
  },
  {
   "cell_type": "code",
   "execution_count": 33,
   "id": "c0526c0a",
   "metadata": {},
   "outputs": [
    {
     "data": {
      "text/plain": [
       "[(1, 'Akash', 25, 45.0, 78.0, 44.0),\n",
       " (2, 'Kajal', 25, 33.0, 35.0, 37.0),\n",
       " (2, 'Kanika', 22, 50.0, 60.0, 77.0),\n",
       " (3, 'Lakshay', 22, 78.0, 97.0, 100.0)]"
      ]
     },
     "execution_count": 33,
     "metadata": {},
     "output_type": "execute_result"
    }
   ],
   "source": [
    "cur.fetchall()"
   ]
  },
  {
   "cell_type": "code",
   "execution_count": 35,
   "id": "bc8513f3",
   "metadata": {},
   "outputs": [],
   "source": [
    "d = [(4 , \"Rakesh\", 25, 80, 90, 99), (5, \"Tanya\", 22, 85, 88, 89)]\n",
    "q = \"insert into student values(:ID , :Name ,:Age , :Phy, :Chem, :Maths)\"\n",
    "cur.executemany(q, d)\n",
    "conn.commit()"
   ]
  },
  {
   "cell_type": "code",
   "execution_count": 36,
   "id": "13579508",
   "metadata": {},
   "outputs": [
    {
     "data": {
      "text/plain": [
       "[(1, 'Akash', 25, 45.0, 78.0, 44.0),\n",
       " (2, 'Kajal', 25, 33.0, 35.0, 37.0),\n",
       " (2, 'Kanika', 22, 50.0, 60.0, 77.0),\n",
       " (3, 'Lakshay', 22, 78.0, 97.0, 100.0),\n",
       " (4, 'Rakesh', 25, 80.0, 90.0, 99.0),\n",
       " (5, 'Tanya', 22, 85.0, 88.0, 89.0),\n",
       " (4, 'Rakesh', 25, 80.0, 90.0, 99.0),\n",
       " (5, 'Tanya', 22, 85.0, 88.0, 89.0)]"
      ]
     },
     "execution_count": 36,
     "metadata": {},
     "output_type": "execute_result"
    }
   ],
   "source": [
    "cur.execute(\"select * from student ;\")\n",
    "cur.fetchall()"
   ]
  },
  {
   "cell_type": "code",
   "execution_count": 37,
   "id": "d9a87d48",
   "metadata": {},
   "outputs": [],
   "source": [
    "q = \"update student set Maths = 91 where Name = 'Lakshay' ;\"\n",
    "cur.execute(q)\n",
    "conn.commit()"
   ]
  },
  {
   "cell_type": "code",
   "execution_count": 38,
   "id": "bdeaeedd",
   "metadata": {},
   "outputs": [
    {
     "data": {
      "text/plain": [
       "[(1, 'Akash', 25, 45.0, 78.0, 44.0),\n",
       " (2, 'Kajal', 25, 33.0, 35.0, 37.0),\n",
       " (2, 'Kanika', 22, 50.0, 60.0, 77.0),\n",
       " (3, 'Lakshay', 22, 78.0, 97.0, 91.0),\n",
       " (4, 'Rakesh', 25, 80.0, 90.0, 99.0),\n",
       " (5, 'Tanya', 22, 85.0, 88.0, 89.0),\n",
       " (4, 'Rakesh', 25, 80.0, 90.0, 99.0),\n",
       " (5, 'Tanya', 22, 85.0, 88.0, 89.0)]"
      ]
     },
     "execution_count": 38,
     "metadata": {},
     "output_type": "execute_result"
    }
   ],
   "source": [
    "cur.execute(\"select * from student ;\")\n",
    "cur.fetchall()"
   ]
  },
  {
   "cell_type": "code",
   "execution_count": null,
   "id": "d7bd8265",
   "metadata": {},
   "outputs": [],
   "source": []
  }
 ],
 "metadata": {
  "kernelspec": {
   "display_name": "Python 3 (ipykernel)",
   "language": "python",
   "name": "python3"
  },
  "language_info": {
   "codemirror_mode": {
    "name": "ipython",
    "version": 3
   },
   "file_extension": ".py",
   "mimetype": "text/x-python",
   "name": "python",
   "nbconvert_exporter": "python",
   "pygments_lexer": "ipython3",
   "version": "3.10.2"
  }
 },
 "nbformat": 4,
 "nbformat_minor": 5
}
