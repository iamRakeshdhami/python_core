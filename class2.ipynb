{
 "cells": [
  {
   "cell_type": "code",
   "execution_count": 1,
   "id": "668fa388",
   "metadata": {},
   "outputs": [],
   "source": [
    "\n",
    "import pandas as pd\n"
   ]
  },
  {
   "cell_type": "code",
   "execution_count": 8,
   "id": "8e9dbdc7",
   "metadata": {},
   "outputs": [
    {
     "name": "stdout",
     "output_type": "stream",
     "text": [
      "0    25\n",
      "1    24\n",
      "2    26\n",
      "3    27\n",
      "4    28\n",
      "dtype: int64\n",
      "<class 'pandas.core.series.Series'>\n"
     ]
    }
   ],
   "source": [
    "# series is a one dimension array\n",
    "# series is denote with capital letter\n",
    "x = pd.Series([25,24,26,27,28])  \n",
    "print(x)\n",
    "print(type(x))"
   ]
  },
  {
   "cell_type": "code",
   "execution_count": 9,
   "id": "3c51c235",
   "metadata": {},
   "outputs": [
    {
     "name": "stdout",
     "output_type": "stream",
     "text": [
      "0    abc\n",
      "1    def\n",
      "2    ghi\n",
      "3    jkl\n",
      "dtype: object\n",
      "<class 'pandas.core.series.Series'>\n",
      "4\n"
     ]
    }
   ],
   "source": [
    "x = pd.Series([\"abc\",\"def\",\"ghi\",\"jkl\"])\n",
    "print(x)\n",
    "print(type(x))\n",
    "print(len(x))"
   ]
  },
  {
   "cell_type": "code",
   "execution_count": 10,
   "id": "0178a76c",
   "metadata": {},
   "outputs": [
    {
     "name": "stdout",
     "output_type": "stream",
     "text": [
      "0    0.0+24.0j\n",
      "1    0.0+45.0j\n",
      "2    0.0+78.0j\n",
      "dtype: complex128\n",
      "<class 'pandas.core.series.Series'>\n"
     ]
    }
   ],
   "source": [
    "x = pd.Series([24j,45j,78j])\n",
    "print(x)\n",
    "print(type(x))"
   ]
  },
  {
   "cell_type": "code",
   "execution_count": 12,
   "id": "b3526e26",
   "metadata": {},
   "outputs": [
    {
     "name": "stdout",
     "output_type": "stream",
     "text": [
      "0        1\n",
      "1        2\n",
      "2        a\n",
      "3        b\n",
      "4     2.13\n",
      "5       7j\n",
      "6     True\n",
      "7    False\n",
      "8        1\n",
      "9        2\n",
      "dtype: object\n"
     ]
    }
   ],
   "source": [
    "x =pd.Series([1,2,\"a\",\"b\",2.13,7j,True,False,1,2])\n",
    "print(x)"
   ]
  },
  {
   "cell_type": "code",
   "execution_count": 14,
   "id": "54d29088",
   "metadata": {},
   "outputs": [
    {
     "name": "stdout",
     "output_type": "stream",
     "text": [
      "5\n"
     ]
    }
   ],
   "source": [
    "# lable\n",
    "x = pd.Series([1,2,3,4,5])\n",
    "print(x[4])"
   ]
  },
  {
   "cell_type": "code",
   "execution_count": 15,
   "id": "fc846394",
   "metadata": {},
   "outputs": [
    {
     "name": "stdout",
     "output_type": "stream",
     "text": [
      "a    1\n",
      "b    2\n",
      "c    3\n",
      "d    4\n",
      "e    5\n",
      "dtype: int64\n"
     ]
    }
   ],
   "source": [
    "x = pd.Series([1,2,3,4,5],index =[\"a\",\"b\",\"c\",\"d\",\"e\"])\n",
    "print(x)"
   ]
  },
  {
   "cell_type": "code",
   "execution_count": 16,
   "id": "6e2bdfae",
   "metadata": {},
   "outputs": [
    {
     "name": "stdout",
     "output_type": "stream",
     "text": [
      "1\n"
     ]
    }
   ],
   "source": [
    "x = pd.Series([1,2,3,4,5],index =[\"a\",\"b\",\"c\",\"d\",\"e\"])\n",
    "print(x[\"a\"])"
   ]
  },
  {
   "cell_type": "code",
   "execution_count": 19,
   "id": "aefeae1d",
   "metadata": {},
   "outputs": [
    {
     "name": "stdout",
     "output_type": "stream",
     "text": [
      "1    22\n",
      "2    44\n",
      "3    35\n",
      "4    56\n",
      "5    75\n",
      "dtype: int64\n",
      "int64\n",
      "Int64Index([1, 2, 3, 4, 5], dtype='int64')\n",
      "one      22\n",
      "two      44\n",
      "three    35\n",
      "four     56\n",
      "five     75\n",
      "dtype: int64\n",
      "int64\n",
      "Index(['one', 'two', 'three', 'four', 'five'], dtype='object')\n"
     ]
    }
   ],
   "source": [
    "a = pd.Series([22,44,35,56,75],index =[1,2,3,4,5])\n",
    "b = pd.Series([22,44,35,56,75],index =[\"one\",\"two\",\"three\",\"four\",\"five\"])\n",
    "print(a)\n",
    "print(a.dtype)\n",
    "print(a.index)\n",
    "print(b)\n",
    "print(b.dtype)\n",
    "print(b.index)\n",
    "\n",
    "              \n",
    "              \n",
    "              "
   ]
  },
  {
   "cell_type": "code",
   "execution_count": 20,
   "id": "d8f5dd0d",
   "metadata": {},
   "outputs": [],
   "source": [
    "import numpy as np"
   ]
  },
  {
   "cell_type": "code",
   "execution_count": 21,
   "id": "d6766a51",
   "metadata": {},
   "outputs": [
    {
     "name": "stdout",
     "output_type": "stream",
     "text": [
      "a    766\n",
      "b    939\n",
      "c    146\n",
      "d    456\n",
      "e    355\n",
      "dtype: int32\n"
     ]
    }
   ],
   "source": [
    "x = pd.Series(np.random.randint(100,1000,5), index = [\"a\",\"b\",\"c\",\"d\",\"e\"])\n",
    "print(x)"
   ]
  },
  {
   "cell_type": "code",
   "execution_count": 32,
   "id": "6ab013a6",
   "metadata": {},
   "outputs": [
    {
     "name": "stdout",
     "output_type": "stream",
     "text": [
      "a    9\n",
      "b    9\n",
      "c    9\n",
      "d    9\n",
      "e    9\n",
      "dtype: int64\n",
      "Index(['a', 'b', 'c', 'd', 'e'], dtype='object')\n",
      "int64\n"
     ]
    }
   ],
   "source": [
    "x = pd.Series(np.random.randint(15), index = [\"a\",\"b\",\"c\",\"d\",\"e\"])\n",
    "print(x)\n",
    "print(x.index)\n",
    "print(x.dtype)"
   ]
  },
  {
   "cell_type": "code",
   "execution_count": 33,
   "id": "1e0ab916",
   "metadata": {},
   "outputs": [
    {
     "name": "stdout",
     "output_type": "stream",
     "text": [
      "0    1\n",
      "dtype: int64\n",
      "RangeIndex(start=0, stop=1, step=1)\n",
      "int64\n"
     ]
    }
   ],
   "source": [
    "x = pd.Series(np.random.randint(2))\n",
    "print(x)\n",
    "print(x.index)\n",
    "print(x.dtype)"
   ]
  },
  {
   "cell_type": "code",
   "execution_count": 34,
   "id": "0777da5e",
   "metadata": {},
   "outputs": [
    {
     "name": "stdout",
     "output_type": "stream",
     "text": [
      "a    10\n",
      "b    20\n",
      "c    30\n",
      "dtype: int64\n"
     ]
    }
   ],
   "source": [
    "# series can be initiaed from dicts\n",
    "# series object from dictionary\n",
    "\n",
    "x = pd.Series({\"a\":10,\"b\":20,\"c\":30})\n",
    "print(x)"
   ]
  },
  {
   "cell_type": "code",
   "execution_count": 3,
   "id": "f07a53b4",
   "metadata": {},
   "outputs": [],
   "source": [
    "import pandas as pd"
   ]
  },
  {
   "cell_type": "code",
   "execution_count": 4,
   "id": "1a8a17bf",
   "metadata": {},
   "outputs": [
    {
     "name": "stdout",
     "output_type": "stream",
     "text": [
      "first     1\n",
      "second    2\n",
      "third     3\n",
      "fourth    4\n",
      "fifth     5\n",
      "dtype: int64\n"
     ]
    }
   ],
   "source": [
    "x = pd.Series([1,2,3,4,5], index =[\"first\",\"second\",\"third\",\"fourth\",\"fifth\"])\n",
    "print(x)"
   ]
  },
  {
   "cell_type": "code",
   "execution_count": 5,
   "id": "fa094b9d",
   "metadata": {},
   "outputs": [
    {
     "name": "stdout",
     "output_type": "stream",
     "text": [
      "first     1\n",
      "second    2\n",
      "third     3\n",
      "fourth    4\n",
      "dtype: int64\n"
     ]
    }
   ],
   "source": [
    "x = pd.Series({\"first\":1,\"second\":2,\"third\":3,\"fourth\":4})\n",
    "print(x)"
   ]
  },
  {
   "cell_type": "code",
   "execution_count": 7,
   "id": "4d8a7ca5",
   "metadata": {},
   "outputs": [
    {
     "name": "stdout",
     "output_type": "stream",
     "text": [
      "a    10\n",
      "b    20\n",
      "c    30\n",
      "d    40\n",
      "dtype: int64\n"
     ]
    }
   ],
   "source": [
    "x = pd.Series({'a':10,\"b\":20,\"c\":30,\"d\":40})\n",
    "print(x)"
   ]
  },
  {
   "cell_type": "code",
   "execution_count": 9,
   "id": "cf889f43",
   "metadata": {},
   "outputs": [
    {
     "name": "stdout",
     "output_type": "stream",
     "text": [
      "name       abc\n",
      "age         30\n",
      "roll no     15\n",
      "dtype: object\n"
     ]
    }
   ],
   "source": [
    "student = pd.Series({\"name\":\"abc\",\"age\":30,\"roll no\":15})\n",
    "print(student)"
   ]
  },
  {
   "cell_type": "code",
   "execution_count": 23,
   "id": "f1319520",
   "metadata": {},
   "outputs": [
    {
     "name": "stdout",
     "output_type": "stream",
     "text": [
      "d     NaN\n",
      "c    30.0\n",
      "b    20.0\n",
      "a    10.0\n",
      "dtype: float64\n"
     ]
    }
   ],
   "source": [
    "# changing index position\n",
    "# they can denote value float if any variable not define\n",
    "x = pd.Series({\"a\":10,\"b\":20,\"c\":30},index = {\"b\",\"a\",\"d\",\"c\"} )\n",
    "print(x)"
   ]
  },
  {
   "cell_type": "code",
   "execution_count": 25,
   "id": "e80c0dde",
   "metadata": {},
   "outputs": [
    {
     "name": "stdout",
     "output_type": "stream",
     "text": [
      "1    1\n",
      "2    2\n",
      "3    3\n",
      "4    4\n",
      "5    5\n",
      "dtype: int64\n"
     ]
    }
   ],
   "source": [
    "x = pd.Series((1,2,3,4,5),index =(1,2,3,4,5))\n",
    "print(x)"
   ]
  },
  {
   "cell_type": "code",
   "execution_count": null,
   "id": "70be50f0",
   "metadata": {},
   "outputs": [],
   "source": [
    "# series can be instantiated from tuple()\n"
   ]
  },
  {
   "cell_type": "code",
   "execution_count": 26,
   "id": "56abf1d7",
   "metadata": {},
   "outputs": [
    {
     "name": "stdout",
     "output_type": "stream",
     "text": [
      "45\n",
      "5    89\n",
      "4    98\n",
      "3    79\n",
      "2    55\n",
      "1    45\n",
      "0    34\n",
      "dtype: int64\n",
      "3    79\n",
      "4    98\n",
      "5    89\n",
      "dtype: int64\n"
     ]
    }
   ],
   "source": [
    "x =pd.Series([34,45,55,79,98,89])\n",
    "print(x[1])\n",
    "print(x[::-1])\n",
    "print(x[-3:])\n"
   ]
  },
  {
   "cell_type": "code",
   "execution_count": 29,
   "id": "4be95a30",
   "metadata": {},
   "outputs": [
    {
     "name": "stdout",
     "output_type": "stream",
     "text": [
      "3    79\n",
      "2    55\n",
      "dtype: int64\n"
     ]
    }
   ],
   "source": [
    "x =pd.Series([34,45,55,79,98,89])\n",
    "print(x[-3:-5:-1])"
   ]
  },
  {
   "cell_type": "code",
   "execution_count": 44,
   "id": "27c0ed84",
   "metadata": {},
   "outputs": [
    {
     "name": "stdout",
     "output_type": "stream",
     "text": [
      "45\n",
      "b    45\n",
      "c    55\n",
      "d    79\n",
      "dtype: int64\n",
      "b    45\n",
      "c    55\n",
      "d    79\n",
      "e    98\n",
      "f    89\n",
      "dtype: int64\n",
      "c    55\n",
      "d    79\n",
      "e    98\n",
      "f    89\n",
      "dtype: int64\n"
     ]
    }
   ],
   "source": [
    "x =pd.Series([34,45,55,79,98,89],index =[\"a\",\"b\",\"c\",\"d\",\"e\",\"f\"])\n",
    "print(x[\"b\"])\n",
    "print(x[\"b\":\"d\"])\n",
    "print(x[\"b\":])\n",
    "print(x[\"c\":])\n"
   ]
  },
  {
   "cell_type": "code",
   "execution_count": 48,
   "id": "450a51c2",
   "metadata": {},
   "outputs": [
    {
     "name": "stdout",
     "output_type": "stream",
     "text": [
      "f    89\n",
      "e    98\n",
      "d    79\n",
      "c    55\n",
      "b    45\n",
      "a    34\n",
      "dtype: int64\n"
     ]
    }
   ],
   "source": [
    "print(x[\"f\":\"a\":-1])"
   ]
  },
  {
   "cell_type": "code",
   "execution_count": 4,
   "id": "7222c904",
   "metadata": {},
   "outputs": [
    {
     "name": "stdout",
     "output_type": "stream",
     "text": [
      "['sat', 'thrus', 'tues', 'sun']\n"
     ]
    }
   ],
   "source": [
    "x = [\"sun\",\"mon\",\"tues\",\"wed\",\"thrus\",\"fri\",\"sat\"]\n",
    "print(x[-1::-2])"
   ]
  },
  {
   "cell_type": "code",
   "execution_count": 51,
   "id": "b1dabce0",
   "metadata": {},
   "outputs": [
    {
     "name": "stdout",
     "output_type": "stream",
     "text": [
      "0     20\n",
      "1     40\n",
      "2     60\n",
      "3     80\n",
      "4    100\n",
      "5    120\n",
      "6    140\n",
      "dtype: int64\n",
      "0     100\n",
      "1     400\n",
      "2     900\n",
      "3    1600\n",
      "4    2500\n",
      "5    3600\n",
      "6    4900\n",
      "dtype: int64\n",
      "0    1.0\n",
      "1    1.0\n",
      "2    1.0\n",
      "3    1.0\n",
      "4    1.0\n",
      "5    1.0\n",
      "6    1.0\n",
      "dtype: float64\n"
     ]
    }
   ],
   "source": [
    "x1 =pd.Series([10,20,30,40,50,60,70])\n",
    "x2 =pd.Series([10,20,30,40,50,60,70])\n",
    "x = x1+x2\n",
    "y =  x1*x2\n",
    "z = x1/x2\n",
    "\n",
    "print(x)\n",
    "print(y)\n",
    "print(z)"
   ]
  },
  {
   "cell_type": "code",
   "execution_count": 52,
   "id": "21260643",
   "metadata": {},
   "outputs": [
    {
     "name": "stdout",
     "output_type": "stream",
     "text": [
      "0    20.0\n",
      "1    40.0\n",
      "2    60.0\n",
      "3    80.0\n",
      "4     NaN\n",
      "5     NaN\n",
      "6     NaN\n",
      "dtype: float64\n",
      "0     100.0\n",
      "1     400.0\n",
      "2     900.0\n",
      "3    1600.0\n",
      "4       NaN\n",
      "5       NaN\n",
      "6       NaN\n",
      "dtype: float64\n",
      "0    1.0\n",
      "1    1.0\n",
      "2    1.0\n",
      "3    1.0\n",
      "4    NaN\n",
      "5    NaN\n",
      "6    NaN\n",
      "dtype: float64\n"
     ]
    }
   ],
   "source": [
    "x1 =pd.Series([10,20,30,40,50,60,70])\n",
    "x2 =pd.Series([10,20,30,40])\n",
    "x = x1+x2\n",
    "y =  x1*x2\n",
    "z = x1/x2\n",
    "\n",
    "print(x)\n",
    "print(y)\n",
    "print(z)"
   ]
  },
  {
   "cell_type": "code",
   "execution_count": 53,
   "id": "f44faf34",
   "metadata": {},
   "outputs": [
    {
     "name": "stdout",
     "output_type": "stream",
     "text": [
      "0    15\n",
      "1    25\n",
      "2    35\n",
      "3    45\n",
      "4    55\n",
      "dtype: int64\n"
     ]
    }
   ],
   "source": [
    "x1=pd.Series([10,20,30,40,50])\n",
    "print(x1+5)"
   ]
  },
  {
   "cell_type": "code",
   "execution_count": 54,
   "id": "4e9a5060",
   "metadata": {},
   "outputs": [
    {
     "name": "stdout",
     "output_type": "stream",
     "text": [
      "0     8\n",
      "1    18\n",
      "2    28\n",
      "3    38\n",
      "4    48\n",
      "dtype: int64\n",
      "0     20\n",
      "1     40\n",
      "2     60\n",
      "3     80\n",
      "4    100\n",
      "dtype: int64\n"
     ]
    }
   ],
   "source": [
    "print(x1-2)\n",
    "print(x1*2)\n",
    "print()"
   ]
  },
  {
   "cell_type": "code",
   "execution_count": null,
   "id": "4a612a6a",
   "metadata": {},
   "outputs": [],
   "source": [
    "im "
   ]
  }
 ],
 "metadata": {
  "kernelspec": {
   "display_name": "Python 3 (ipykernel)",
   "language": "python",
   "name": "python3"
  },
  "language_info": {
   "codemirror_mode": {
    "name": "ipython",
    "version": 3
   },
   "file_extension": ".py",
   "mimetype": "text/x-python",
   "name": "python",
   "nbconvert_exporter": "python",
   "pygments_lexer": "ipython3",
   "version": "3.10.2"
  }
 },
 "nbformat": 4,
 "nbformat_minor": 5
}
