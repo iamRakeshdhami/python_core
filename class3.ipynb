{
 "cells": [
  {
   "cell_type": "code",
   "execution_count": 1,
   "id": "0a008ee1",
   "metadata": {},
   "outputs": [],
   "source": [
    "import pandas as pd\n",
    "# data frames\n"
   ]
  },
  {
   "cell_type": "code",
   "execution_count": null,
   "id": "db6bc716",
   "metadata": {},
   "outputs": [],
   "source": []
  },
  {
   "cell_type": "code",
   "execution_count": 9,
   "id": "4b995ece",
   "metadata": {},
   "outputs": [
    {
     "name": "stdout",
     "output_type": "stream",
     "text": [
      "   fruits  cost\n",
      "0   apple   100\n",
      "1   mango   180\n",
      "2  banana    60\n",
      "<class 'pandas.core.frame.DataFrame'>\n",
      "3\n"
     ]
    }
   ],
   "source": [
    "x = pd.DataFrame({\"fruits\":[\"apple\",\"mango\",\"banana\"],\"cost\":[100,180,60]})\n",
    "print(x)\n",
    "print(type(x))\n",
    "print(len(x))"
   ]
  },
  {
   "cell_type": "code",
   "execution_count": 10,
   "id": "890bdf08",
   "metadata": {},
   "outputs": [
    {
     "name": "stdout",
     "output_type": "stream",
     "text": [
      "   fruits  cost\n",
      "a   apple   100\n",
      "b   mango   180\n",
      "c  banana    60\n",
      "d  litchi    80\n",
      "Index(['a', 'b', 'c', 'd'], dtype='object')\n"
     ]
    }
   ],
   "source": [
    "x = pd.DataFrame({\"fruits\":[\"apple\",\"mango\",\"banana\",\"litchi\"],\"cost\":[100,180,60,80]},index =[\"a\",\"b\",\"c\",\"d\"])\n",
    "print(x)\n",
    "print(x.index)"
   ]
  },
  {
   "cell_type": "code",
   "execution_count": 11,
   "id": "4fa123a9",
   "metadata": {},
   "outputs": [
    {
     "name": "stdout",
     "output_type": "stream",
     "text": [
      "     name  marks\n",
      "1   akash     80\n",
      "2  mukesh     60\n",
      "3   binni     70\n",
      "4  laxman     50\n",
      "Index(['1', '2', '3', '4'], dtype='object')\n"
     ]
    }
   ],
   "source": [
    "x = pd.DataFrame({\"name\":[\"akash\",\"mukesh\",\"binni\",\"laxman\"],\"marks\":[80,60,70,50]},index =[\"1\",\"2\",\"3\",\"4\"])\n",
    "print(x)\n",
    "print(x.index)"
   ]
  },
  {
   "cell_type": "code",
   "execution_count": 12,
   "id": "160eeee1",
   "metadata": {},
   "outputs": [
    {
     "name": "stdout",
     "output_type": "stream",
     "text": [
      "     one  two\n",
      "a  10.45   10\n",
      "b  45.56   18\n",
      "c  55.55   36\n",
      "d  33.33   25\n",
      "Index(['a', 'b', 'c', 'd'], dtype='object')\n"
     ]
    }
   ],
   "source": [
    "x = pd.DataFrame({\"one\":[\"10.45\",\"45.56\",\"55.55\",\"33.33\"],\"two\":[10,18,36,25]},index =[\"a\",\"b\",\"c\",\"d\"])\n",
    "print(x)\n",
    "print(x.index)"
   ]
  },
  {
   "cell_type": "code",
   "execution_count": 13,
   "id": "38376597",
   "metadata": {},
   "outputs": [
    {
     "name": "stdout",
     "output_type": "stream",
     "text": [
      "   fruits  cost          quality\n",
      "a   apple   100  good for health\n",
      "b   mango   180            sweet\n",
      "c  banana    60            yummy\n",
      "d  litchi    80        delicious\n",
      "Index(['a', 'b', 'c', 'd'], dtype='object')\n"
     ]
    }
   ],
   "source": [
    "x = pd.DataFrame({\"fruits\":[\"apple\",\"mango\",\"banana\",\"litchi\"],\"cost\":[100,180,60,80],\"quality\":[\"good for health\",\"sweet\",\"yummy\",\"delicious\"]},index =[\"a\",\"b\",\"c\",\"d\"])\n",
    "print(x)\n",
    "print(x.index)"
   ]
  },
  {
   "cell_type": "code",
   "execution_count": 15,
   "id": "19a3b0ad",
   "metadata": {},
   "outputs": [
    {
     "name": "stdout",
     "output_type": "stream",
     "text": [
      "           quality  fruits  cost\n",
      "a  good for health   apple   100\n",
      "b            sweet   mango   180\n",
      "c            yummy  banana    60\n",
      "d        delicious  litchi    80\n"
     ]
    }
   ],
   "source": [
    "x = pd.DataFrame({\"fruits\":[\"apple\",\"mango\",\"banana\",\"litchi\"],\"cost\":[100,180,60,80],\"quality\":[\"good for health\",\"sweet\",\"yummy\",\"delicious\"]},index =[\"a\",\"b\",\"c\",\"d\"],columns =[\"quality\",\"fruits\",\"cost\"])\n",
    "print(x)"
   ]
  },
  {
   "cell_type": "code",
   "execution_count": 2,
   "id": "165b1066",
   "metadata": {},
   "outputs": [
    {
     "name": "stdout",
     "output_type": "stream",
     "text": [
      "     name  marks result\n",
      "a     ram     55   pass\n",
      "b   shyam     30   fail\n",
      "c    sita     98   pass\n",
      "d    gita     57   pass\n",
      "e   pappu     33   pass\n",
      "f  gabbar     20   fail\n",
      "g      pk     72   pass\n",
      "h  rancho     84   pass\n"
     ]
    }
   ],
   "source": [
    "x = pd.DataFrame({\"name\":[\"ram\",\"shyam\",\"sita\",\"gita\",\"pappu\",\"gabbar\",\"pk\",\"rancho\"],\"marks\":[55,30,98,57,33,20,72,84],\"result\":[\"pass\",\"fail\",\"pass\",\"pass\",\"pass\",\"fail\",\"pass\",\"pass\"]},index=[\"a\",\"b\",\"c\",\"d\",\"e\",\"f\",\"g\",\"h\"])\n",
    "print(x)"
   ]
  },
  {
   "cell_type": "code",
   "execution_count": 3,
   "id": "da4b44e6",
   "metadata": {},
   "outputs": [
    {
     "name": "stdout",
     "output_type": "stream",
     "text": [
      "    name  marks result\n",
      "a    ram     55   pass\n",
      "b  shyam     30   fail\n",
      "c   sita     98   pass\n",
      "d   gita     57   pass\n",
      "e  pappu     33   pass\n"
     ]
    }
   ],
   "source": [
    "print(x.head())"
   ]
  },
  {
   "cell_type": "code",
   "execution_count": 4,
   "id": "6ff9711d",
   "metadata": {},
   "outputs": [
    {
     "name": "stdout",
     "output_type": "stream",
     "text": [
      "     name  marks result\n",
      "d    gita     57   pass\n",
      "e   pappu     33   pass\n",
      "f  gabbar     20   fail\n",
      "g      pk     72   pass\n",
      "h  rancho     84   pass\n"
     ]
    }
   ],
   "source": [
    "print(x.tail())"
   ]
  },
  {
   "cell_type": "code",
   "execution_count": 5,
   "id": "e5e0fd9a",
   "metadata": {},
   "outputs": [
    {
     "name": "stdout",
     "output_type": "stream",
     "text": [
      "     name  marks result\n",
      "a     ram     55   pass\n",
      "b   shyam     30   fail\n",
      "c    sita     98   pass\n",
      "d    gita     57   pass\n",
      "e   pappu     33   pass\n",
      "f  gabbar     20   fail\n"
     ]
    }
   ],
   "source": [
    "print(x.head(6))"
   ]
  },
  {
   "cell_type": "code",
   "execution_count": 6,
   "id": "a21e7ddf",
   "metadata": {},
   "outputs": [
    {
     "name": "stdout",
     "output_type": "stream",
     "text": [
      "(8, 3)\n"
     ]
    }
   ],
   "source": [
    "print(x.shape)"
   ]
  },
  {
   "cell_type": "code",
   "execution_count": 7,
   "id": "223fb9da",
   "metadata": {},
   "outputs": [
    {
     "name": "stdout",
     "output_type": "stream",
     "text": [
      "          marks\n",
      "count   8.00000\n",
      "mean   56.12500\n",
      "std    27.53407\n",
      "min    20.00000\n",
      "25%    32.25000\n",
      "50%    56.00000\n",
      "75%    75.00000\n",
      "max    98.00000\n"
     ]
    }
   ],
   "source": [
    "print(x.describe())"
   ]
  },
  {
   "cell_type": "code",
   "execution_count": 8,
   "id": "b92e269a",
   "metadata": {},
   "outputs": [],
   "source": [
    "# the difference b/w ..iloc and .iloc method  is we passed index in the .iloc method and we passed the coloumn\n",
    "# names in the .loc method and all values are the inclusive.\n"
   ]
  },
  {
   "cell_type": "code",
   "execution_count": 9,
   "id": "7c81e40d",
   "metadata": {},
   "outputs": [],
   "source": [
    "# use of .iloc[]\n",
    "# how we can extract values from data sets,rows wise or column wise"
   ]
  },
  {
   "cell_type": "code",
   "execution_count": 10,
   "id": "1d2a4c1b",
   "metadata": {},
   "outputs": [
    {
     "name": "stdout",
     "output_type": "stream",
     "text": [
      "    name  marks\n",
      "a    ram     55\n",
      "b  shyam     30\n",
      "c   sita     98\n"
     ]
    }
   ],
   "source": [
    "z = x.iloc[0:3,0:2]  # first parameter represent the rows, and second parameter represent\n",
    "print(z)\n"
   ]
  },
  {
   "cell_type": "code",
   "execution_count": null,
   "id": "4fe688c2",
   "metadata": {},
   "outputs": [],
   "source": []
  }
 ],
 "metadata": {
  "kernelspec": {
   "display_name": "Python 3 (ipykernel)",
   "language": "python",
   "name": "python3"
  },
  "language_info": {
   "codemirror_mode": {
    "name": "ipython",
    "version": 3
   },
   "file_extension": ".py",
   "mimetype": "text/x-python",
   "name": "python",
   "nbconvert_exporter": "python",
   "pygments_lexer": "ipython3",
   "version": "3.10.2"
  }
 },
 "nbformat": 4,
 "nbformat_minor": 5
}
