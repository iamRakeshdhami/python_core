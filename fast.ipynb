{
 "cells": [
  {
   "cell_type": "code",
   "execution_count": 1,
   "id": "334400b3",
   "metadata": {},
   "outputs": [],
   "source": [
    "# A-Z a-z  0-9 _ "
   ]
  },
  {
   "cell_type": "code",
   "execution_count": 2,
   "id": "2fbce8fb",
   "metadata": {},
   "outputs": [],
   "source": [
    "total121_121=121"
   ]
  },
  {
   "cell_type": "code",
   "execution_count": 3,
   "id": "9d54de43",
   "metadata": {},
   "outputs": [
    {
     "ename": "SyntaxError",
     "evalue": "cannot assign to literal (Temp/ipykernel_5696/1137361802.py, line 1)",
     "output_type": "error",
     "traceback": [
      "\u001b[1;36m  File \u001b[1;32m\"C:\\Users\\Hp\\AppData\\Local\\Temp/ipykernel_5696/1137361802.py\"\u001b[1;36m, line \u001b[1;32m1\u001b[0m\n\u001b[1;33m    121_121 = 1212\u001b[0m\n\u001b[1;37m    ^\u001b[0m\n\u001b[1;31mSyntaxError\u001b[0m\u001b[1;31m:\u001b[0m cannot assign to literal\n"
     ]
    }
   ],
   "source": [
    "121_121 = 1212"
   ]
  },
  {
   "cell_type": "code",
   "execution_count": 4,
   "id": "e6ab1383",
   "metadata": {},
   "outputs": [],
   "source": [
    "_ = 89"
   ]
  },
  {
   "cell_type": "code",
   "execution_count": 5,
   "id": "c713ed59",
   "metadata": {},
   "outputs": [
    {
     "ename": "SyntaxError",
     "evalue": "invalid syntax (Temp/ipykernel_5696/1220743751.py, line 1)",
     "output_type": "error",
     "traceback": [
      "\u001b[1;36m  File \u001b[1;32m\"C:\\Users\\Hp\\AppData\\Local\\Temp/ipykernel_5696/1220743751.py\"\u001b[1;36m, line \u001b[1;32m1\u001b[0m\n\u001b[1;33m    assert  =  112\u001b[0m\n\u001b[1;37m            ^\u001b[0m\n\u001b[1;31mSyntaxError\u001b[0m\u001b[1;31m:\u001b[0m invalid syntax\n"
     ]
    }
   ],
   "source": [
    "assert  =  112"
   ]
  },
  {
   "cell_type": "code",
   "execution_count": 6,
   "id": "b62e419d",
   "metadata": {},
   "outputs": [
    {
     "data": {
      "text/plain": [
       "['False',\n",
       " 'None',\n",
       " 'True',\n",
       " '__peg_parser__',\n",
       " 'and',\n",
       " 'as',\n",
       " 'assert',\n",
       " 'async',\n",
       " 'await',\n",
       " 'break',\n",
       " 'class',\n",
       " 'continue',\n",
       " 'def',\n",
       " 'del',\n",
       " 'elif',\n",
       " 'else',\n",
       " 'except',\n",
       " 'finally',\n",
       " 'for',\n",
       " 'from',\n",
       " 'global',\n",
       " 'if',\n",
       " 'import',\n",
       " 'in',\n",
       " 'is',\n",
       " 'lambda',\n",
       " 'nonlocal',\n",
       " 'not',\n",
       " 'or',\n",
       " 'pass',\n",
       " 'raise',\n",
       " 'return',\n",
       " 'try',\n",
       " 'while',\n",
       " 'with',\n",
       " 'yield']"
      ]
     },
     "execution_count": 6,
     "metadata": {},
     "output_type": "execute_result"
    }
   ],
   "source": [
    "import keyword\n",
    "keyword.kwlist "
   ]
  },
  {
   "cell_type": "code",
   "execution_count": 7,
   "id": "7585ac9e",
   "metadata": {},
   "outputs": [],
   "source": [
    "a = 12\n",
    "b  =121"
   ]
  },
  {
   "cell_type": "code",
   "execution_count": 8,
   "id": "715daf28",
   "metadata": {},
   "outputs": [],
   "source": [
    "a,c = 12,12"
   ]
  },
  {
   "cell_type": "code",
   "execution_count": 9,
   "id": "4a3fb020",
   "metadata": {},
   "outputs": [],
   "source": [
    "a = b = c = 12121"
   ]
  },
  {
   "cell_type": "code",
   "execution_count": 10,
   "id": "e019615b",
   "metadata": {},
   "outputs": [],
   "source": [
    "a = 2,1,21,21,2,12"
   ]
  },
  {
   "cell_type": "code",
   "execution_count": 11,
   "id": "4bc6c2da",
   "metadata": {},
   "outputs": [],
   "source": [
    "a,*b = 2,1,21,21,2,12"
   ]
  },
  {
   "cell_type": "code",
   "execution_count": 12,
   "id": "71b370fe",
   "metadata": {},
   "outputs": [
    {
     "data": {
      "text/plain": [
       "2"
      ]
     },
     "execution_count": 12,
     "metadata": {},
     "output_type": "execute_result"
    }
   ],
   "source": [
    "a"
   ]
  },
  {
   "cell_type": "code",
   "execution_count": 13,
   "id": "568368b8",
   "metadata": {},
   "outputs": [
    {
     "data": {
      "text/plain": [
       "[1, 21, 21, 2, 12]"
      ]
     },
     "execution_count": 13,
     "metadata": {},
     "output_type": "execute_result"
    }
   ],
   "source": [
    "b"
   ]
  },
  {
   "cell_type": "code",
   "execution_count": 14,
   "id": "778762ec",
   "metadata": {},
   "outputs": [
    {
     "data": {
      "text/plain": [
       "int"
      ]
     },
     "execution_count": 14,
     "metadata": {},
     "output_type": "execute_result"
    }
   ],
   "source": [
    "###\n",
    "int"
   ]
  },
  {
   "cell_type": "code",
   "execution_count": 15,
   "id": "db45e591",
   "metadata": {},
   "outputs": [],
   "source": [
    "a = 90"
   ]
  },
  {
   "cell_type": "code",
   "execution_count": 16,
   "id": "bba6fdca",
   "metadata": {},
   "outputs": [
    {
     "data": {
      "text/plain": [
       "int"
      ]
     },
     "execution_count": 16,
     "metadata": {},
     "output_type": "execute_result"
    }
   ],
   "source": [
    "type(a)"
   ]
  },
  {
   "cell_type": "code",
   "execution_count": 17,
   "id": "916bb09d",
   "metadata": {},
   "outputs": [
    {
     "data": {
      "text/plain": [
       "2447351305360"
      ]
     },
     "execution_count": 17,
     "metadata": {},
     "output_type": "execute_result"
    }
   ],
   "source": [
    "id(a)"
   ]
  },
  {
   "cell_type": "code",
   "execution_count": 18,
   "id": "e272998c",
   "metadata": {},
   "outputs": [],
   "source": [
    "a = 90\n",
    "b = 43"
   ]
  },
  {
   "cell_type": "code",
   "execution_count": 19,
   "id": "ada5b8da",
   "metadata": {},
   "outputs": [
    {
     "data": {
      "text/plain": [
       "False"
      ]
     },
     "execution_count": 19,
     "metadata": {},
     "output_type": "execute_result"
    }
   ],
   "source": [
    "a is b"
   ]
  },
  {
   "cell_type": "code",
   "execution_count": 20,
   "id": "7b8122b9",
   "metadata": {},
   "outputs": [
    {
     "data": {
      "text/plain": [
       "True"
      ]
     },
     "execution_count": 20,
     "metadata": {},
     "output_type": "execute_result"
    }
   ],
   "source": [
    "a = 100\n",
    "b = 100\n",
    "a is b"
   ]
  },
  {
   "cell_type": "code",
   "execution_count": 21,
   "id": "d75206d3",
   "metadata": {},
   "outputs": [
    {
     "data": {
      "text/plain": [
       "True"
      ]
     },
     "execution_count": 21,
     "metadata": {},
     "output_type": "execute_result"
    }
   ],
   "source": [
    "a = 256\n",
    "b = 256\n",
    "a is b"
   ]
  },
  {
   "cell_type": "code",
   "execution_count": 22,
   "id": "6c132d08",
   "metadata": {},
   "outputs": [
    {
     "data": {
      "text/plain": [
       "False"
      ]
     },
     "execution_count": 22,
     "metadata": {},
     "output_type": "execute_result"
    }
   ],
   "source": [
    "a = 257\n",
    "b = 257\n",
    "a is b"
   ]
  },
  {
   "cell_type": "code",
   "execution_count": 23,
   "id": "881ccbf9",
   "metadata": {},
   "outputs": [
    {
     "data": {
      "text/plain": [
       "323"
      ]
     },
     "execution_count": 23,
     "metadata": {},
     "output_type": "execute_result"
    }
   ],
   "source": [
    "int(323)"
   ]
  },
  {
   "cell_type": "code",
   "execution_count": 24,
   "id": "b116d656",
   "metadata": {},
   "outputs": [
    {
     "data": {
      "text/plain": [
       "23"
      ]
     },
     "execution_count": 24,
     "metadata": {},
     "output_type": "execute_result"
    }
   ],
   "source": [
    "int(23.23)"
   ]
  },
  {
   "cell_type": "code",
   "execution_count": 25,
   "id": "d8ab42cd",
   "metadata": {},
   "outputs": [
    {
     "data": {
      "text/plain": [
       "223"
      ]
     },
     "execution_count": 25,
     "metadata": {},
     "output_type": "execute_result"
    }
   ],
   "source": [
    "int('223')"
   ]
  },
  {
   "cell_type": "code",
   "execution_count": 26,
   "id": "9c1801eb",
   "metadata": {},
   "outputs": [
    {
     "ename": "ValueError",
     "evalue": "invalid literal for int() with base 10: '23.223'",
     "output_type": "error",
     "traceback": [
      "\u001b[1;31m---------------------------------------------------------------------------\u001b[0m",
      "\u001b[1;31mValueError\u001b[0m                                Traceback (most recent call last)",
      "\u001b[1;32m~\\AppData\\Local\\Temp/ipykernel_5696/2944505052.py\u001b[0m in \u001b[0;36m<module>\u001b[1;34m\u001b[0m\n\u001b[1;32m----> 1\u001b[1;33m \u001b[0mint\u001b[0m\u001b[1;33m(\u001b[0m\u001b[1;34m'23.223'\u001b[0m\u001b[1;33m)\u001b[0m\u001b[1;33m\u001b[0m\u001b[1;33m\u001b[0m\u001b[0m\n\u001b[0m",
      "\u001b[1;31mValueError\u001b[0m: invalid literal for int() with base 10: '23.223'"
     ]
    }
   ],
   "source": [
    "int('23.223')"
   ]
  },
  {
   "cell_type": "code",
   "execution_count": 27,
   "id": "edd48888",
   "metadata": {},
   "outputs": [
    {
     "data": {
      "text/plain": [
       "float"
      ]
     },
     "execution_count": 27,
     "metadata": {},
     "output_type": "execute_result"
    }
   ],
   "source": [
    "float"
   ]
  },
  {
   "cell_type": "code",
   "execution_count": 28,
   "id": "67c1d116",
   "metadata": {},
   "outputs": [],
   "source": [
    "f = 90.0"
   ]
  },
  {
   "cell_type": "code",
   "execution_count": 29,
   "id": "7970c1af",
   "metadata": {},
   "outputs": [
    {
     "data": {
      "text/plain": [
       "float"
      ]
     },
     "execution_count": 29,
     "metadata": {},
     "output_type": "execute_result"
    }
   ],
   "source": [
    "type(f)"
   ]
  },
  {
   "cell_type": "code",
   "execution_count": 30,
   "id": "2d4e65a1",
   "metadata": {},
   "outputs": [
    {
     "data": {
      "text/plain": [
       "2447424943760"
      ]
     },
     "execution_count": 30,
     "metadata": {},
     "output_type": "execute_result"
    }
   ],
   "source": [
    "id(f)"
   ]
  },
  {
   "cell_type": "code",
   "execution_count": 31,
   "id": "b8b392b7",
   "metadata": {},
   "outputs": [],
   "source": [
    "f = 12e2"
   ]
  },
  {
   "cell_type": "code",
   "execution_count": 32,
   "id": "a6fb44ac",
   "metadata": {},
   "outputs": [
    {
     "data": {
      "text/plain": [
       "1200.0"
      ]
     },
     "execution_count": 32,
     "metadata": {},
     "output_type": "execute_result"
    }
   ],
   "source": [
    "f"
   ]
  },
  {
   "cell_type": "code",
   "execution_count": 33,
   "id": "e5e4d253",
   "metadata": {},
   "outputs": [
    {
     "data": {
      "text/plain": [
       "121.0"
      ]
     },
     "execution_count": 33,
     "metadata": {},
     "output_type": "execute_result"
    }
   ],
   "source": [
    "float(121)"
   ]
  },
  {
   "cell_type": "code",
   "execution_count": 34,
   "id": "4d90582d",
   "metadata": {},
   "outputs": [
    {
     "data": {
      "text/plain": [
       "23.23"
      ]
     },
     "execution_count": 34,
     "metadata": {},
     "output_type": "execute_result"
    }
   ],
   "source": [
    "float(23.23)"
   ]
  },
  {
   "cell_type": "code",
   "execution_count": 35,
   "id": "6c42a4c0",
   "metadata": {},
   "outputs": [
    {
     "data": {
      "text/plain": [
       "3232.0"
      ]
     },
     "execution_count": 35,
     "metadata": {},
     "output_type": "execute_result"
    }
   ],
   "source": [
    "float('3232')"
   ]
  },
  {
   "cell_type": "code",
   "execution_count": 36,
   "id": "940c72ad",
   "metadata": {},
   "outputs": [
    {
     "data": {
      "text/plain": [
       "232.323"
      ]
     },
     "execution_count": 36,
     "metadata": {},
     "output_type": "execute_result"
    }
   ],
   "source": [
    "float('232.323')"
   ]
  },
  {
   "cell_type": "code",
   "execution_count": 37,
   "id": "a988e53b",
   "metadata": {},
   "outputs": [],
   "source": [
    "#"
   ]
  },
  {
   "cell_type": "code",
   "execution_count": 38,
   "id": "b2afda76",
   "metadata": {},
   "outputs": [
    {
     "data": {
      "text/plain": [
       "bool"
      ]
     },
     "execution_count": 38,
     "metadata": {},
     "output_type": "execute_result"
    }
   ],
   "source": [
    "bool"
   ]
  },
  {
   "cell_type": "code",
   "execution_count": 40,
   "id": "bd3326ff",
   "metadata": {},
   "outputs": [
    {
     "data": {
      "text/plain": [
       "True"
      ]
     },
     "execution_count": 40,
     "metadata": {},
     "output_type": "execute_result"
    }
   ],
   "source": [
    "True"
   ]
  },
  {
   "cell_type": "code",
   "execution_count": 42,
   "id": "72f08358",
   "metadata": {},
   "outputs": [
    {
     "data": {
      "text/plain": [
       "False"
      ]
     },
     "execution_count": 42,
     "metadata": {},
     "output_type": "execute_result"
    }
   ],
   "source": [
    "False"
   ]
  },
  {
   "cell_type": "code",
   "execution_count": 43,
   "id": "3afa7f73",
   "metadata": {},
   "outputs": [
    {
     "data": {
      "text/plain": [
       "2"
      ]
     },
     "execution_count": 43,
     "metadata": {},
     "output_type": "execute_result"
    }
   ],
   "source": [
    "True+ True"
   ]
  },
  {
   "cell_type": "code",
   "execution_count": 44,
   "id": "327d4729",
   "metadata": {},
   "outputs": [
    {
     "data": {
      "text/plain": [
       "complex"
      ]
     },
     "execution_count": 44,
     "metadata": {},
     "output_type": "execute_result"
    }
   ],
   "source": [
    "complex"
   ]
  },
  {
   "cell_type": "code",
   "execution_count": 45,
   "id": "bfe8e5f4",
   "metadata": {},
   "outputs": [],
   "source": [
    "c = 23 + 32j"
   ]
  },
  {
   "cell_type": "code",
   "execution_count": 46,
   "id": "4439d72b",
   "metadata": {},
   "outputs": [
    {
     "data": {
      "text/plain": [
       "23.0"
      ]
     },
     "execution_count": 46,
     "metadata": {},
     "output_type": "execute_result"
    }
   ],
   "source": [
    "c.real"
   ]
  },
  {
   "cell_type": "code",
   "execution_count": 47,
   "id": "d696c928",
   "metadata": {},
   "outputs": [
    {
     "data": {
      "text/plain": [
       "32.0"
      ]
     },
     "execution_count": 47,
     "metadata": {},
     "output_type": "execute_result"
    }
   ],
   "source": [
    "c.imag"
   ]
  },
  {
   "cell_type": "code",
   "execution_count": 48,
   "id": "eebf614a",
   "metadata": {},
   "outputs": [
    {
     "data": {
      "text/plain": [
       "(23+23j)"
      ]
     },
     "execution_count": 48,
     "metadata": {},
     "output_type": "execute_result"
    }
   ],
   "source": [
    "complex(23,23)"
   ]
  },
  {
   "cell_type": "code",
   "execution_count": 49,
   "id": "ad1e3dd1",
   "metadata": {},
   "outputs": [
    {
     "data": {
      "text/plain": [
       "(2+0j)"
      ]
     },
     "execution_count": 49,
     "metadata": {},
     "output_type": "execute_result"
    }
   ],
   "source": [
    "complex(2)"
   ]
  },
  {
   "cell_type": "code",
   "execution_count": 50,
   "id": "210836b5",
   "metadata": {},
   "outputs": [
    {
     "data": {
      "text/plain": [
       "(232+0j)"
      ]
     },
     "execution_count": 50,
     "metadata": {},
     "output_type": "execute_result"
    }
   ],
   "source": [
    "complex('232')"
   ]
  },
  {
   "cell_type": "code",
   "execution_count": 51,
   "id": "c79d3492",
   "metadata": {},
   "outputs": [
    {
     "ename": "ValueError",
     "evalue": "complex() arg is a malformed string",
     "output_type": "error",
     "traceback": [
      "\u001b[1;31m---------------------------------------------------------------------------\u001b[0m",
      "\u001b[1;31mValueError\u001b[0m                                Traceback (most recent call last)",
      "\u001b[1;32m~\\AppData\\Local\\Temp/ipykernel_5696/3806050312.py\u001b[0m in \u001b[0;36m<module>\u001b[1;34m\u001b[0m\n\u001b[1;32m----> 1\u001b[1;33m \u001b[0mcomplex\u001b[0m\u001b[1;33m(\u001b[0m\u001b[1;34m'232 + 232j'\u001b[0m\u001b[1;33m)\u001b[0m\u001b[1;33m\u001b[0m\u001b[1;33m\u001b[0m\u001b[0m\n\u001b[0m",
      "\u001b[1;31mValueError\u001b[0m: complex() arg is a malformed string"
     ]
    }
   ],
   "source": [
    "complex('232 + 232j')"
   ]
  },
  {
   "cell_type": "code",
   "execution_count": 52,
   "id": "fdd343d1",
   "metadata": {},
   "outputs": [
    {
     "data": {
      "text/plain": [
       "(232+232j)"
      ]
     },
     "execution_count": 52,
     "metadata": {},
     "output_type": "execute_result"
    }
   ],
   "source": [
    "complex('232+232j')"
   ]
  },
  {
   "cell_type": "code",
   "execution_count": 53,
   "id": "4ceb7882",
   "metadata": {},
   "outputs": [],
   "source": [
    "##list"
   ]
  },
  {
   "cell_type": "code",
   "execution_count": 54,
   "id": "2daa8bc6",
   "metadata": {},
   "outputs": [],
   "source": [
    "ls = []"
   ]
  },
  {
   "cell_type": "code",
   "execution_count": 55,
   "id": "0e710d1b",
   "metadata": {},
   "outputs": [],
   "source": [
    "ls = [12,23,34,45,56,[12,3,3,45,6,90]]"
   ]
  },
  {
   "cell_type": "code",
   "execution_count": 56,
   "id": "0a164e24",
   "metadata": {},
   "outputs": [
    {
     "data": {
      "text/plain": [
       "[12, 3, 3, 45, 6, 90]"
      ]
     },
     "execution_count": 56,
     "metadata": {},
     "output_type": "execute_result"
    }
   ],
   "source": [
    "ls[-1]"
   ]
  },
  {
   "cell_type": "code",
   "execution_count": 57,
   "id": "f5c81e39",
   "metadata": {},
   "outputs": [
    {
     "data": {
      "text/plain": [
       "[90, 6, 45, 3, 3, 12]"
      ]
     },
     "execution_count": 57,
     "metadata": {},
     "output_type": "execute_result"
    }
   ],
   "source": [
    "ls[-1][::-1]"
   ]
  },
  {
   "cell_type": "code",
   "execution_count": 58,
   "id": "130d2b87",
   "metadata": {},
   "outputs": [],
   "source": [
    "ls = []"
   ]
  },
  {
   "cell_type": "code",
   "execution_count": 59,
   "id": "13bb030b",
   "metadata": {},
   "outputs": [],
   "source": [
    "ls = [10]+ls"
   ]
  },
  {
   "cell_type": "code",
   "execution_count": 60,
   "id": "8cf39c56",
   "metadata": {},
   "outputs": [
    {
     "data": {
      "text/plain": [
       "[10]"
      ]
     },
     "execution_count": 60,
     "metadata": {},
     "output_type": "execute_result"
    }
   ],
   "source": [
    "ls"
   ]
  },
  {
   "cell_type": "code",
   "execution_count": 61,
   "id": "ed74afbf",
   "metadata": {},
   "outputs": [],
   "source": [
    "ls = [11]+ls"
   ]
  },
  {
   "cell_type": "code",
   "execution_count": 62,
   "id": "8edea7ec",
   "metadata": {},
   "outputs": [
    {
     "data": {
      "text/plain": [
       "[11, 10]"
      ]
     },
     "execution_count": 62,
     "metadata": {},
     "output_type": "execute_result"
    }
   ],
   "source": [
    "ls"
   ]
  },
  {
   "cell_type": "code",
   "execution_count": 63,
   "id": "4cb4e7b0",
   "metadata": {},
   "outputs": [],
   "source": [
    "ls = ls + [11]"
   ]
  },
  {
   "cell_type": "code",
   "execution_count": 64,
   "id": "fc4c9537",
   "metadata": {},
   "outputs": [
    {
     "data": {
      "text/plain": [
       "[11, 10, 11]"
      ]
     },
     "execution_count": 64,
     "metadata": {},
     "output_type": "execute_result"
    }
   ],
   "source": [
    "ls"
   ]
  },
  {
   "cell_type": "code",
   "execution_count": 65,
   "id": "3ea8e76a",
   "metadata": {},
   "outputs": [
    {
     "data": {
      "text/plain": [
       "[11, 10, 11, 11, 10, 11, 11, 10, 11]"
      ]
     },
     "execution_count": 65,
     "metadata": {},
     "output_type": "execute_result"
    }
   ],
   "source": [
    "ls*3"
   ]
  },
  {
   "cell_type": "code",
   "execution_count": 68,
   "id": "9d251115",
   "metadata": {},
   "outputs": [
    {
     "data": {
      "text/plain": [
       "[0, 0, 0, 0, 0, 0, 0, 0, 0, 0, 0, 0, 0, 0, 0, 0, 0, 0, 0, 0, 0, 0, 0]"
      ]
     },
     "execution_count": 68,
     "metadata": {},
     "output_type": "execute_result"
    }
   ],
   "source": [
    "[0]*23"
   ]
  },
  {
   "cell_type": "code",
   "execution_count": 71,
   "id": "01f04b38",
   "metadata": {},
   "outputs": [
    {
     "data": {
      "text/plain": [
       "['append',\n",
       " 'clear',\n",
       " 'copy',\n",
       " 'count',\n",
       " 'extend',\n",
       " 'index',\n",
       " 'insert',\n",
       " 'pop',\n",
       " 'remove',\n",
       " 'reverse',\n",
       " 'sort']"
      ]
     },
     "execution_count": 71,
     "metadata": {},
     "output_type": "execute_result"
    }
   ],
   "source": [
    "[x for x in dir(list) if not x.startswith('_')]"
   ]
  },
  {
   "cell_type": "code",
   "execution_count": 72,
   "id": "ab46ec8e",
   "metadata": {},
   "outputs": [
    {
     "data": {
      "text/plain": [
       "['count', 'index']"
      ]
     },
     "execution_count": 72,
     "metadata": {},
     "output_type": "execute_result"
    }
   ],
   "source": [
    "[x for x in dir(tuple) if not x.startswith('_')]"
   ]
  },
  {
   "cell_type": "code",
   "execution_count": 73,
   "id": "eb500bfc",
   "metadata": {},
   "outputs": [
    {
     "data": {
      "text/plain": [
       "['clear',\n",
       " 'copy',\n",
       " 'fromkeys',\n",
       " 'get',\n",
       " 'items',\n",
       " 'keys',\n",
       " 'pop',\n",
       " 'popitem',\n",
       " 'setdefault',\n",
       " 'update',\n",
       " 'values']"
      ]
     },
     "execution_count": 73,
     "metadata": {},
     "output_type": "execute_result"
    }
   ],
   "source": [
    "[x for x in dir(dict) if not x.startswith('_')]"
   ]
  },
  {
   "cell_type": "code",
   "execution_count": 74,
   "id": "220bbd96",
   "metadata": {},
   "outputs": [
    {
     "data": {
      "text/plain": [
       "str"
      ]
     },
     "execution_count": 74,
     "metadata": {},
     "output_type": "execute_result"
    }
   ],
   "source": [
    "str"
   ]
  },
  {
   "cell_type": "code",
   "execution_count": 75,
   "id": "dfadd20a",
   "metadata": {},
   "outputs": [],
   "source": [
    "s = ''"
   ]
  },
  {
   "cell_type": "code",
   "execution_count": 76,
   "id": "f07b7561",
   "metadata": {},
   "outputs": [],
   "source": [
    "s = \"\""
   ]
  },
  {
   "cell_type": "code",
   "execution_count": 77,
   "id": "980885b9",
   "metadata": {},
   "outputs": [],
   "source": [
    "s = \"\"\"\n",
    "\n",
    "\n",
    "\n",
    "q\n",
    "\n",
    "\n",
    "\"\"\""
   ]
  },
  {
   "cell_type": "code",
   "execution_count": 78,
   "id": "cf40ca3d",
   "metadata": {},
   "outputs": [
    {
     "ename": "TypeError",
     "evalue": "can only concatenate str (not \"int\") to str",
     "output_type": "error",
     "traceback": [
      "\u001b[1;31m---------------------------------------------------------------------------\u001b[0m",
      "\u001b[1;31mTypeError\u001b[0m                                 Traceback (most recent call last)",
      "\u001b[1;32m~\\AppData\\Local\\Temp/ipykernel_5696/549624228.py\u001b[0m in \u001b[0;36m<module>\u001b[1;34m\u001b[0m\n\u001b[1;32m----> 1\u001b[1;33m \u001b[1;34m'total = '\u001b[0m\u001b[1;33m+\u001b[0m \u001b[1;36m34\u001b[0m\u001b[1;33m\u001b[0m\u001b[1;33m\u001b[0m\u001b[0m\n\u001b[0m",
      "\u001b[1;31mTypeError\u001b[0m: can only concatenate str (not \"int\") to str"
     ]
    }
   ],
   "source": [
    "'total = '+ 34"
   ]
  },
  {
   "cell_type": "code",
   "execution_count": 79,
   "id": "6b560d5d",
   "metadata": {},
   "outputs": [
    {
     "data": {
      "text/plain": [
       "'total = 34'"
      ]
     },
     "execution_count": 79,
     "metadata": {},
     "output_type": "execute_result"
    }
   ],
   "source": [
    "'total = '+ str(34)"
   ]
  },
  {
   "cell_type": "code",
   "execution_count": 80,
   "id": "4fe33a32",
   "metadata": {},
   "outputs": [
    {
     "data": {
      "text/plain": [
       "'******************************'"
      ]
     },
     "execution_count": 80,
     "metadata": {},
     "output_type": "execute_result"
    }
   ],
   "source": [
    "'*'*30"
   ]
  },
  {
   "cell_type": "code",
   "execution_count": 81,
   "id": "f11f7d3e",
   "metadata": {},
   "outputs": [],
   "source": [
    "s = 'sf sd fsd fd fds fds f'"
   ]
  },
  {
   "cell_type": "code",
   "execution_count": 82,
   "id": "22f912a0",
   "metadata": {},
   "outputs": [
    {
     "data": {
      "text/plain": [
       "'f sdf sdf df dsf ds fs'"
      ]
     },
     "execution_count": 82,
     "metadata": {},
     "output_type": "execute_result"
    }
   ],
   "source": [
    "s[::-1]"
   ]
  },
  {
   "cell_type": "code",
   "execution_count": 83,
   "id": "f4112b56",
   "metadata": {},
   "outputs": [
    {
     "data": {
      "text/plain": [
       "' a = 343 , b = 4545'"
      ]
     },
     "execution_count": 83,
     "metadata": {},
     "output_type": "execute_result"
    }
   ],
   "source": [
    "a = 343\n",
    "b = 4545\n",
    "f\" a = {a} , b = {b}\""
   ]
  },
  {
   "cell_type": "code",
   "execution_count": 84,
   "id": "b560b1ea",
   "metadata": {},
   "outputs": [
    {
     "data": {
      "text/plain": [
       "'a = 343 , b = 4545'"
      ]
     },
     "execution_count": 84,
     "metadata": {},
     "output_type": "execute_result"
    }
   ],
   "source": [
    "a = 343\n",
    "b = 4545\n",
    "\"a = {} , b = {}\".format(a,b)"
   ]
  },
  {
   "cell_type": "code",
   "execution_count": 85,
   "id": "5b9abf04",
   "metadata": {},
   "outputs": [
    {
     "data": {
      "text/plain": [
       "'a = 343 , b = 4545'"
      ]
     },
     "execution_count": 85,
     "metadata": {},
     "output_type": "execute_result"
    }
   ],
   "source": [
    "a = 343\n",
    "b = 4545\n",
    "\"a = %d , b = %d\"%(a,b)"
   ]
  },
  {
   "cell_type": "code",
   "execution_count": 87,
   "id": "b6912012",
   "metadata": {},
   "outputs": [],
   "source": [
    "s = 'TypeError: can only concatenate str (not \"int\") to str'"
   ]
  },
  {
   "cell_type": "code",
   "execution_count": 88,
   "id": "a8abc4f0",
   "metadata": {},
   "outputs": [
    {
     "data": {
      "text/plain": [
       "'TypeError: can only concatenate str (not \"int\") to str'"
      ]
     },
     "execution_count": 88,
     "metadata": {},
     "output_type": "execute_result"
    }
   ],
   "source": [
    "s"
   ]
  },
  {
   "cell_type": "code",
   "execution_count": 89,
   "id": "7cd77241",
   "metadata": {},
   "outputs": [
    {
     "data": {
      "text/plain": [
       "b'TypeError: can only concatenate str (not \"int\") to str'"
      ]
     },
     "execution_count": 89,
     "metadata": {},
     "output_type": "execute_result"
    }
   ],
   "source": [
    "bytes(s, 'utf-8')"
   ]
  },
  {
   "cell_type": "code",
   "execution_count": 90,
   "id": "1a8678fb",
   "metadata": {},
   "outputs": [
    {
     "data": {
      "text/plain": [
       "b'TypeError: can only concatenate str (not \"int\") to str'"
      ]
     },
     "execution_count": 90,
     "metadata": {},
     "output_type": "execute_result"
    }
   ],
   "source": [
    "s.encode()"
   ]
  },
  {
   "cell_type": "code",
   "execution_count": 91,
   "id": "aaf81089",
   "metadata": {},
   "outputs": [],
   "source": [
    "b = b'TypeError: can only concatenate str (not \"int\") to str'"
   ]
  },
  {
   "cell_type": "code",
   "execution_count": 92,
   "id": "55e37620",
   "metadata": {},
   "outputs": [
    {
     "data": {
      "text/plain": [
       "'TypeError: can only concatenate str (not \"int\") to str'"
      ]
     },
     "execution_count": 92,
     "metadata": {},
     "output_type": "execute_result"
    }
   ],
   "source": [
    "b.decode()"
   ]
  },
  {
   "cell_type": "code",
   "execution_count": 93,
   "id": "2756f541",
   "metadata": {},
   "outputs": [
    {
     "data": {
      "text/plain": [
       "'TypeError: can only concatenate str (not \"int\") to str'"
      ]
     },
     "execution_count": 93,
     "metadata": {},
     "output_type": "execute_result"
    }
   ],
   "source": [
    "str(b, 'utf-8')"
   ]
  },
  {
   "cell_type": "code",
   "execution_count": 94,
   "id": "9df7e8f6",
   "metadata": {},
   "outputs": [],
   "source": [
    "ba = bytearray(s , 'utf-8')"
   ]
  },
  {
   "cell_type": "code",
   "execution_count": 95,
   "id": "320a2a3c",
   "metadata": {},
   "outputs": [
    {
     "data": {
      "text/plain": [
       "bytearray(b'TypeError: can only concatenate str (not \"int\") to str')"
      ]
     },
     "execution_count": 95,
     "metadata": {},
     "output_type": "execute_result"
    }
   ],
   "source": [
    "ba"
   ]
  },
  {
   "cell_type": "code",
   "execution_count": 96,
   "id": "8d544177",
   "metadata": {},
   "outputs": [
    {
     "data": {
      "text/plain": [
       "84"
      ]
     },
     "execution_count": 96,
     "metadata": {},
     "output_type": "execute_result"
    }
   ],
   "source": [
    "ba[0]"
   ]
  },
  {
   "cell_type": "code",
   "execution_count": 97,
   "id": "140791b8",
   "metadata": {},
   "outputs": [],
   "source": [
    "ba[0] = 85"
   ]
  },
  {
   "cell_type": "code",
   "execution_count": 98,
   "id": "87c81835",
   "metadata": {},
   "outputs": [
    {
     "data": {
      "text/plain": [
       "bytearray(b'UypeError: can only concatenate str (not \"int\") to str')"
      ]
     },
     "execution_count": 98,
     "metadata": {},
     "output_type": "execute_result"
    }
   ],
   "source": [
    "ba"
   ]
  },
  {
   "cell_type": "code",
   "execution_count": 99,
   "id": "bcad9096",
   "metadata": {},
   "outputs": [
    {
     "data": {
      "text/plain": [
       "tuple"
      ]
     },
     "execution_count": 99,
     "metadata": {},
     "output_type": "execute_result"
    }
   ],
   "source": [
    "tuple"
   ]
  },
  {
   "cell_type": "code",
   "execution_count": 100,
   "id": "730b74a8",
   "metadata": {},
   "outputs": [],
   "source": [
    "t = ()"
   ]
  },
  {
   "cell_type": "code",
   "execution_count": 101,
   "id": "f04cf329",
   "metadata": {},
   "outputs": [
    {
     "data": {
      "text/plain": [
       "int"
      ]
     },
     "execution_count": 101,
     "metadata": {},
     "output_type": "execute_result"
    }
   ],
   "source": [
    "t = (23)\n",
    "type(t)"
   ]
  },
  {
   "cell_type": "code",
   "execution_count": 102,
   "id": "e315fbdd",
   "metadata": {},
   "outputs": [
    {
     "data": {
      "text/plain": [
       "tuple"
      ]
     },
     "execution_count": 102,
     "metadata": {},
     "output_type": "execute_result"
    }
   ],
   "source": [
    "t = (23,)\n",
    "type(t)"
   ]
  },
  {
   "cell_type": "code",
   "execution_count": 103,
   "id": "f5000a91",
   "metadata": {},
   "outputs": [],
   "source": [
    "##############"
   ]
  },
  {
   "cell_type": "code",
   "execution_count": 104,
   "id": "96d60478",
   "metadata": {},
   "outputs": [
    {
     "data": {
      "text/plain": [
       "set"
      ]
     },
     "execution_count": 104,
     "metadata": {},
     "output_type": "execute_result"
    }
   ],
   "source": [
    "set"
   ]
  },
  {
   "cell_type": "code",
   "execution_count": 105,
   "id": "4927c31d",
   "metadata": {},
   "outputs": [
    {
     "data": {
      "text/plain": [
       "dict"
      ]
     },
     "execution_count": 105,
     "metadata": {},
     "output_type": "execute_result"
    }
   ],
   "source": [
    "s = {}\n",
    "type(s)"
   ]
  },
  {
   "cell_type": "code",
   "execution_count": 106,
   "id": "3efb52f8",
   "metadata": {},
   "outputs": [
    {
     "data": {
      "text/plain": [
       "set"
      ]
     },
     "execution_count": 106,
     "metadata": {},
     "output_type": "execute_result"
    }
   ],
   "source": [
    "s = {1}\n",
    "type(s)"
   ]
  },
  {
   "cell_type": "code",
   "execution_count": 107,
   "id": "ea9db532",
   "metadata": {},
   "outputs": [
    {
     "data": {
      "text/plain": [
       "set"
      ]
     },
     "execution_count": 107,
     "metadata": {},
     "output_type": "execute_result"
    }
   ],
   "source": [
    "s = {1,1,11,2,2,3,3,}\n",
    "type(s)"
   ]
  },
  {
   "cell_type": "code",
   "execution_count": 108,
   "id": "a3f1da24",
   "metadata": {},
   "outputs": [
    {
     "data": {
      "text/plain": [
       "{1, 2, 3, 11}"
      ]
     },
     "execution_count": 108,
     "metadata": {},
     "output_type": "execute_result"
    }
   ],
   "source": [
    "s"
   ]
  },
  {
   "cell_type": "code",
   "execution_count": 109,
   "id": "fe16ccc1",
   "metadata": {},
   "outputs": [],
   "source": [
    "s.add(121)"
   ]
  },
  {
   "cell_type": "code",
   "execution_count": 110,
   "id": "a3c1c1a1",
   "metadata": {},
   "outputs": [],
   "source": [
    "fs = frozenset(s)"
   ]
  },
  {
   "cell_type": "code",
   "execution_count": 111,
   "id": "ccf234f7",
   "metadata": {},
   "outputs": [
    {
     "data": {
      "text/plain": [
       "frozenset({1, 2, 3, 11, 121})"
      ]
     },
     "execution_count": 111,
     "metadata": {},
     "output_type": "execute_result"
    }
   ],
   "source": [
    "fs"
   ]
  },
  {
   "cell_type": "code",
   "execution_count": 112,
   "id": "e68bd27b",
   "metadata": {},
   "outputs": [
    {
     "data": {
      "text/plain": [
       "frozenset({1, 2, 3, 11, 121})"
      ]
     },
     "execution_count": 112,
     "metadata": {},
     "output_type": "execute_result"
    }
   ],
   "source": [
    "fs"
   ]
  },
  {
   "cell_type": "code",
   "execution_count": 113,
   "id": "6bacf0ed",
   "metadata": {},
   "outputs": [],
   "source": [
    "###"
   ]
  },
  {
   "cell_type": "code",
   "execution_count": 114,
   "id": "7884372a",
   "metadata": {},
   "outputs": [],
   "source": [
    "d = {'a':23, 'v':43}"
   ]
  },
  {
   "cell_type": "code",
   "execution_count": 116,
   "id": "17f8e881",
   "metadata": {},
   "outputs": [
    {
     "data": {
      "text/plain": [
       "23"
      ]
     },
     "execution_count": 116,
     "metadata": {},
     "output_type": "execute_result"
    }
   ],
   "source": [
    "d['a']"
   ]
  },
  {
   "cell_type": "code",
   "execution_count": 117,
   "id": "6d5d69ff",
   "metadata": {},
   "outputs": [],
   "source": [
    "d['a'] = 999"
   ]
  },
  {
   "cell_type": "code",
   "execution_count": 118,
   "id": "806aa4ed",
   "metadata": {},
   "outputs": [
    {
     "data": {
      "text/plain": [
       "{'a': 999, 'v': 43}"
      ]
     },
     "execution_count": 118,
     "metadata": {},
     "output_type": "execute_result"
    }
   ],
   "source": [
    "d"
   ]
  },
  {
   "cell_type": "code",
   "execution_count": 119,
   "id": "92697db7",
   "metadata": {},
   "outputs": [],
   "source": [
    "d['z'] = 999"
   ]
  },
  {
   "cell_type": "code",
   "execution_count": 120,
   "id": "f2a4aa2f",
   "metadata": {},
   "outputs": [
    {
     "data": {
      "text/plain": [
       "{'a': 999, 'v': 43, 'z': 999}"
      ]
     },
     "execution_count": 120,
     "metadata": {},
     "output_type": "execute_result"
    }
   ],
   "source": [
    "d"
   ]
  },
  {
   "cell_type": "code",
   "execution_count": 121,
   "id": "dc04c04d",
   "metadata": {},
   "outputs": [
    {
     "data": {
      "text/plain": [
       "dict_keys(['a', 'v', 'z'])"
      ]
     },
     "execution_count": 121,
     "metadata": {},
     "output_type": "execute_result"
    }
   ],
   "source": [
    "d.keys()"
   ]
  },
  {
   "cell_type": "code",
   "execution_count": 122,
   "id": "889bb4af",
   "metadata": {},
   "outputs": [
    {
     "data": {
      "text/plain": [
       "dict_values([999, 43, 999])"
      ]
     },
     "execution_count": 122,
     "metadata": {},
     "output_type": "execute_result"
    }
   ],
   "source": [
    "d.values()"
   ]
  },
  {
   "cell_type": "code",
   "execution_count": 123,
   "id": "30c9e2cf",
   "metadata": {},
   "outputs": [
    {
     "data": {
      "text/plain": [
       "dict_items([('a', 999), ('v', 43), ('z', 999)])"
      ]
     },
     "execution_count": 123,
     "metadata": {},
     "output_type": "execute_result"
    }
   ],
   "source": [
    "d.items()"
   ]
  },
  {
   "cell_type": "code",
   "execution_count": 124,
   "id": "884b3e64",
   "metadata": {},
   "outputs": [
    {
     "data": {
      "text/plain": [
       "999"
      ]
     },
     "execution_count": 124,
     "metadata": {},
     "output_type": "execute_result"
    }
   ],
   "source": [
    "d.get('a')"
   ]
  },
  {
   "cell_type": "code",
   "execution_count": 125,
   "id": "67915066",
   "metadata": {},
   "outputs": [
    {
     "data": {
      "text/plain": [
       "'not'"
      ]
     },
     "execution_count": 125,
     "metadata": {},
     "output_type": "execute_result"
    }
   ],
   "source": [
    "d.get('sdsd','not')"
   ]
  },
  {
   "cell_type": "code",
   "execution_count": 126,
   "id": "09a519c7",
   "metadata": {},
   "outputs": [
    {
     "data": {
      "text/plain": [
       "{'asa': None, 'dfdfd': None, 'gdfgfg': None}"
      ]
     },
     "execution_count": 126,
     "metadata": {},
     "output_type": "execute_result"
    }
   ],
   "source": [
    "dict.fromkeys(['asa','dfdfd','gdfgfg'])"
   ]
  },
  {
   "cell_type": "code",
   "execution_count": 127,
   "id": "af8615ad",
   "metadata": {},
   "outputs": [
    {
     "data": {
      "text/plain": [
       "{'asa': 2, 'dfdfd': 2, 'gdfgfg': 2}"
      ]
     },
     "execution_count": 127,
     "metadata": {},
     "output_type": "execute_result"
    }
   ],
   "source": [
    "dict.fromkeys(['asa','dfdfd','gdfgfg'],2)"
   ]
  },
  {
   "cell_type": "code",
   "execution_count": 128,
   "id": "72c03c8b",
   "metadata": {},
   "outputs": [
    {
     "data": {
      "text/plain": [
       "{'a': 2323, 'name': 3434}"
      ]
     },
     "execution_count": 128,
     "metadata": {},
     "output_type": "execute_result"
    }
   ],
   "source": [
    "dict(a = 2323,\n",
    "    name = 3434)"
   ]
  },
  {
   "cell_type": "code",
   "execution_count": 129,
   "id": "57bcc375",
   "metadata": {},
   "outputs": [],
   "source": [
    "################"
   ]
  },
  {
   "cell_type": "code",
   "execution_count": 130,
   "id": "a0e3a7f5",
   "metadata": {},
   "outputs": [
    {
     "data": {
      "text/plain": [
       "10.08695652173913"
      ]
     },
     "execution_count": 130,
     "metadata": {},
     "output_type": "execute_result"
    }
   ],
   "source": [
    "232/23"
   ]
  },
  {
   "cell_type": "code",
   "execution_count": 131,
   "id": "a814aada",
   "metadata": {},
   "outputs": [
    {
     "data": {
      "text/plain": [
       "221"
      ]
     },
     "execution_count": 131,
     "metadata": {},
     "output_type": "execute_result"
    }
   ],
   "source": [
    "442//2\n"
   ]
  },
  {
   "cell_type": "code",
   "execution_count": 132,
   "id": "2e0b356a",
   "metadata": {},
   "outputs": [
    {
     "data": {
      "text/plain": [
       "1712"
      ]
     },
     "execution_count": 132,
     "metadata": {},
     "output_type": "execute_result"
    }
   ],
   "source": [
    "34234%2323"
   ]
  },
  {
   "cell_type": "code",
   "execution_count": 133,
   "id": "767c99a7",
   "metadata": {},
   "outputs": [
    {
     "data": {
      "text/plain": [
       "8589934592"
      ]
     },
     "execution_count": 133,
     "metadata": {},
     "output_type": "execute_result"
    }
   ],
   "source": [
    "2**33"
   ]
  },
  {
   "cell_type": "code",
   "execution_count": 134,
   "id": "cd679503",
   "metadata": {},
   "outputs": [
    {
     "data": {
      "text/plain": [
       "True"
      ]
     },
     "execution_count": 134,
     "metadata": {},
     "output_type": "execute_result"
    }
   ],
   "source": [
    "'py' in 'python'"
   ]
  },
  {
   "cell_type": "code",
   "execution_count": 136,
   "id": "278bb8f9",
   "metadata": {},
   "outputs": [
    {
     "data": {
      "text/plain": [
       "True"
      ]
     },
     "execution_count": 136,
     "metadata": {},
     "output_type": "execute_result"
    }
   ],
   "source": [
    "32 in [12,12,1,21,21,2,32]"
   ]
  },
  {
   "cell_type": "code",
   "execution_count": 137,
   "id": "806c06ab",
   "metadata": {},
   "outputs": [
    {
     "data": {
      "text/plain": [
       "True"
      ]
     },
     "execution_count": 137,
     "metadata": {},
     "output_type": "execute_result"
    }
   ],
   "source": [
    "'a' in {'a':34, 'b':78}"
   ]
  },
  {
   "cell_type": "code",
   "execution_count": 138,
   "id": "2632dd2f",
   "metadata": {},
   "outputs": [
    {
     "data": {
      "text/plain": [
       "False"
      ]
     },
     "execution_count": 138,
     "metadata": {},
     "output_type": "execute_result"
    }
   ],
   "source": [
    "34 in {'a':34, 'b':78}"
   ]
  },
  {
   "cell_type": "code",
   "execution_count": 139,
   "id": "a36f16f4",
   "metadata": {},
   "outputs": [
    {
     "data": {
      "text/plain": [
       "True"
      ]
     },
     "execution_count": 139,
     "metadata": {},
     "output_type": "execute_result"
    }
   ],
   "source": [
    "34 in {'a':34, 'b':78}.values()"
   ]
  },
  {
   "cell_type": "code",
   "execution_count": 140,
   "id": "f152742f",
   "metadata": {},
   "outputs": [
    {
     "data": {
      "text/plain": [
       "False"
      ]
     },
     "execution_count": 140,
     "metadata": {},
     "output_type": "execute_result"
    }
   ],
   "source": [
    "34 not in {'a':34, 'b':78}.values()"
   ]
  },
  {
   "cell_type": "code",
   "execution_count": 141,
   "id": "1b14fbae",
   "metadata": {},
   "outputs": [
    {
     "data": {
      "text/plain": [
       "True"
      ]
     },
     "execution_count": 141,
     "metadata": {},
     "output_type": "execute_result"
    }
   ],
   "source": [
    "type(23) is int"
   ]
  },
  {
   "cell_type": "code",
   "execution_count": 142,
   "id": "4ae8bc47",
   "metadata": {},
   "outputs": [
    {
     "data": {
      "text/plain": [
       "False"
      ]
     },
     "execution_count": 142,
     "metadata": {},
     "output_type": "execute_result"
    }
   ],
   "source": [
    "type([23]) is int"
   ]
  },
  {
   "cell_type": "code",
   "execution_count": 143,
   "id": "0b234e20",
   "metadata": {},
   "outputs": [
    {
     "data": {
      "text/plain": [
       "True"
      ]
     },
     "execution_count": 143,
     "metadata": {},
     "output_type": "execute_result"
    }
   ],
   "source": [
    "type([23]) is list"
   ]
  },
  {
   "cell_type": "code",
   "execution_count": 144,
   "id": "31a4eb43",
   "metadata": {},
   "outputs": [
    {
     "data": {
      "text/plain": [
       "False"
      ]
     },
     "execution_count": 144,
     "metadata": {},
     "output_type": "execute_result"
    }
   ],
   "source": [
    "type([23]) is not list"
   ]
  },
  {
   "cell_type": "code",
   "execution_count": 145,
   "id": "bda350fa",
   "metadata": {},
   "outputs": [],
   "source": [
    "la = [12,23]\n",
    "lb = la"
   ]
  },
  {
   "cell_type": "code",
   "execution_count": 146,
   "id": "0a3a560f",
   "metadata": {},
   "outputs": [
    {
     "data": {
      "text/plain": [
       "True"
      ]
     },
     "execution_count": 146,
     "metadata": {},
     "output_type": "execute_result"
    }
   ],
   "source": [
    "la is lb"
   ]
  },
  {
   "cell_type": "code",
   "execution_count": 147,
   "id": "c4dca7d0",
   "metadata": {},
   "outputs": [],
   "source": [
    "la = [12,23]\n",
    "lb = la.copy()"
   ]
  },
  {
   "cell_type": "code",
   "execution_count": 148,
   "id": "2b2ba75d",
   "metadata": {},
   "outputs": [
    {
     "data": {
      "text/plain": [
       "False"
      ]
     },
     "execution_count": 148,
     "metadata": {},
     "output_type": "execute_result"
    }
   ],
   "source": [
    "la is lb"
   ]
  },
  {
   "cell_type": "code",
   "execution_count": 149,
   "id": "59dfd5e6",
   "metadata": {},
   "outputs": [],
   "source": [
    "#############"
   ]
  },
  {
   "cell_type": "code",
   "execution_count": 150,
   "id": "36b39b9b",
   "metadata": {},
   "outputs": [],
   "source": [
    "# and or not"
   ]
  },
  {
   "cell_type": "code",
   "execution_count": 153,
   "id": "4d59d029",
   "metadata": {},
   "outputs": [
    {
     "data": {
      "text/plain": [
       "23"
      ]
     },
     "execution_count": 153,
     "metadata": {},
     "output_type": "execute_result"
    }
   ],
   "source": [
    "12 and 34 and 12 and 23"
   ]
  },
  {
   "cell_type": "code",
   "execution_count": 154,
   "id": "2968f0d8",
   "metadata": {},
   "outputs": [
    {
     "data": {
      "text/plain": [
       "12"
      ]
     },
     "execution_count": 154,
     "metadata": {},
     "output_type": "execute_result"
    }
   ],
   "source": [
    "12 or 23"
   ]
  },
  {
   "cell_type": "code",
   "execution_count": 155,
   "id": "4411f76d",
   "metadata": {},
   "outputs": [
    {
     "data": {
      "text/plain": [
       "False"
      ]
     },
     "execution_count": 155,
     "metadata": {},
     "output_type": "execute_result"
    }
   ],
   "source": [
    "12>10 and 12<9"
   ]
  },
  {
   "cell_type": "code",
   "execution_count": 156,
   "id": "de3ea138",
   "metadata": {},
   "outputs": [
    {
     "data": {
      "text/plain": [
       "False"
      ]
     },
     "execution_count": 156,
     "metadata": {},
     "output_type": "execute_result"
    }
   ],
   "source": [
    "not 32"
   ]
  },
  {
   "cell_type": "code",
   "execution_count": 157,
   "id": "fbbf666f",
   "metadata": {},
   "outputs": [
    {
     "data": {
      "text/plain": [
       "True"
      ]
     },
     "execution_count": 157,
     "metadata": {},
     "output_type": "execute_result"
    }
   ],
   "source": [
    "not 0"
   ]
  },
  {
   "cell_type": "code",
   "execution_count": 158,
   "id": "fdbd335b",
   "metadata": {},
   "outputs": [],
   "source": [
    "################"
   ]
  },
  {
   "cell_type": "code",
   "execution_count": 159,
   "id": "e171197a",
   "metadata": {},
   "outputs": [
    {
     "data": {
      "text/plain": [
       "False"
      ]
     },
     "execution_count": 159,
     "metadata": {},
     "output_type": "execute_result"
    }
   ],
   "source": [
    "bool(0)"
   ]
  },
  {
   "cell_type": "code",
   "execution_count": 160,
   "id": "9e830c40",
   "metadata": {},
   "outputs": [
    {
     "data": {
      "text/plain": [
       "True"
      ]
     },
     "execution_count": 160,
     "metadata": {},
     "output_type": "execute_result"
    }
   ],
   "source": [
    "bool(1)"
   ]
  },
  {
   "cell_type": "code",
   "execution_count": 161,
   "id": "218c06df",
   "metadata": {},
   "outputs": [],
   "source": [
    "################"
   ]
  },
  {
   "cell_type": "code",
   "execution_count": 162,
   "id": "f965f32b",
   "metadata": {},
   "outputs": [],
   "source": [
    "# if dfd:\n",
    "#     sfsdf\n",
    "#     sdf\n",
    "#     sdf\n",
    "#     sdf\n",
    "#     f\n",
    "#     if dfdsf:\n",
    "#         as\n",
    "#         das\n",
    "#         d\n",
    "    \n",
    "    \n",
    "    "
   ]
  },
  {
   "cell_type": "code",
   "execution_count": 165,
   "id": "37d64b3e",
   "metadata": {},
   "outputs": [
    {
     "data": {
      "text/plain": [
       "True"
      ]
     },
     "execution_count": 165,
     "metadata": {},
     "output_type": "execute_result"
    }
   ],
   "source": [
    "year = 2012\n",
    "(year%400 == 0) or (year%4 == 0 and year%100 != 0)"
   ]
  },
  {
   "cell_type": "code",
   "execution_count": 166,
   "id": "77d7f7ad",
   "metadata": {},
   "outputs": [
    {
     "name": "stdout",
     "output_type": "stream",
     "text": [
      "leep year\n"
     ]
    }
   ],
   "source": [
    "year = 2012\n",
    "if (year%400 == 0) or (year%4 == 0 and year%100 != 0):\n",
    "    print('leep year')\n",
    "else:\n",
    "    print('not leep year')"
   ]
  },
  {
   "cell_type": "code",
   "execution_count": 168,
   "id": "cc212f18",
   "metadata": {},
   "outputs": [
    {
     "name": "stdout",
     "output_type": "stream",
     "text": [
      "2020\n",
      "2034\n",
      "1923\n",
      "1947\n"
     ]
    }
   ],
   "source": [
    "ls  = [2020,2034,1923,1947]\n",
    "for v in ls:\n",
    "    print(v)"
   ]
  },
  {
   "cell_type": "code",
   "execution_count": 170,
   "id": "47ab65c4",
   "metadata": {},
   "outputs": [
    {
     "name": "stdout",
     "output_type": "stream",
     "text": [
      "2020 leep year\n",
      "2034 not leep year\n",
      "1923 not leep year\n",
      "1947 not leep year\n"
     ]
    }
   ],
   "source": [
    "ls  = [2020,2034,1923,1947]\n",
    "for year in ls:\n",
    "    if (year%400 == 0) or (year%4 == 0 and year%100 != 0):\n",
    "        print(year,'leep year')\n",
    "    else:\n",
    "        print(year,'not leep year')"
   ]
  },
  {
   "cell_type": "code",
   "execution_count": 171,
   "id": "01625a66",
   "metadata": {},
   "outputs": [
    {
     "name": "stdout",
     "output_type": "stream",
     "text": [
      "1947 not leep year\n",
      "1948 leep year\n",
      "1949 not leep year\n",
      "1950 not leep year\n",
      "1951 not leep year\n",
      "1952 leep year\n",
      "1953 not leep year\n",
      "1954 not leep year\n",
      "1955 not leep year\n",
      "1956 leep year\n",
      "1957 not leep year\n",
      "1958 not leep year\n",
      "1959 not leep year\n",
      "1960 leep year\n",
      "1961 not leep year\n",
      "1962 not leep year\n",
      "1963 not leep year\n",
      "1964 leep year\n",
      "1965 not leep year\n",
      "1966 not leep year\n",
      "1967 not leep year\n",
      "1968 leep year\n",
      "1969 not leep year\n",
      "1970 not leep year\n",
      "1971 not leep year\n",
      "1972 leep year\n",
      "1973 not leep year\n",
      "1974 not leep year\n",
      "1975 not leep year\n",
      "1976 leep year\n",
      "1977 not leep year\n",
      "1978 not leep year\n",
      "1979 not leep year\n",
      "1980 leep year\n",
      "1981 not leep year\n",
      "1982 not leep year\n",
      "1983 not leep year\n",
      "1984 leep year\n",
      "1985 not leep year\n",
      "1986 not leep year\n",
      "1987 not leep year\n",
      "1988 leep year\n",
      "1989 not leep year\n",
      "1990 not leep year\n",
      "1991 not leep year\n",
      "1992 leep year\n",
      "1993 not leep year\n",
      "1994 not leep year\n",
      "1995 not leep year\n",
      "1996 leep year\n",
      "1997 not leep year\n",
      "1998 not leep year\n",
      "1999 not leep year\n",
      "2000 leep year\n",
      "2001 not leep year\n",
      "2002 not leep year\n",
      "2003 not leep year\n",
      "2004 leep year\n",
      "2005 not leep year\n",
      "2006 not leep year\n",
      "2007 not leep year\n",
      "2008 leep year\n",
      "2009 not leep year\n",
      "2010 not leep year\n",
      "2011 not leep year\n",
      "2012 leep year\n",
      "2013 not leep year\n",
      "2014 not leep year\n",
      "2015 not leep year\n",
      "2016 leep year\n",
      "2017 not leep year\n",
      "2018 not leep year\n",
      "2019 not leep year\n",
      "2020 leep year\n",
      "2021 not leep year\n",
      "2022 not leep year\n"
     ]
    }
   ],
   "source": [
    "ls  = [2020,2034,1923,1947]\n",
    "for year in range(1947,2023):\n",
    "    if (year%400 == 0) or (year%4 == 0 and year%100 != 0):\n",
    "        print(year,'leep year')\n",
    "    else:\n",
    "        print(year,'not leep year')"
   ]
  },
  {
   "cell_type": "code",
   "execution_count": 172,
   "id": "0f8d1190",
   "metadata": {},
   "outputs": [
    {
     "name": "stdout",
     "output_type": "stream",
     "text": [
      "1948\n",
      "1952\n",
      "1956\n",
      "1960\n",
      "1964\n",
      "1968\n",
      "1972\n",
      "1976\n",
      "1980\n",
      "1984\n",
      "1988\n",
      "1992\n",
      "1996\n",
      "2000\n",
      "2004\n",
      "2008\n",
      "2012\n",
      "2016\n",
      "2020\n"
     ]
    }
   ],
   "source": [
    "ls  = [2020,2034,1923,1947]\n",
    "for year in range(1947,2023):\n",
    "    if (year%400 == 0) or (year%4 == 0 and year%100 != 0):\n",
    "        print(year)\n"
   ]
  },
  {
   "cell_type": "code",
   "execution_count": 4,
   "id": "3488ce14",
   "metadata": {},
   "outputs": [
    {
     "name": "stdout",
     "output_type": "stream",
     "text": [
      "inner loop\n",
      "100 101 102 103 104 105 106 107 108 109 110 outer loop\n",
      "inner loop\n",
      "100 101 102 103 104 105 106 107 108 109 110 outer loop\n",
      "inner loop\n",
      "100 101 102 103 104 105 106 107 108 109 110 outer loop\n",
      "inner loop\n",
      "100 101 102 103 104 105 106 107 108 109 110 outer loop\n"
     ]
    }
   ],
   "source": [
    "import time\n",
    "for r in range(1,5):\n",
    "    print('inner loop')\n",
    "    for c in range(100,111):\n",
    "        print(c, end = ' ')\n",
    "        time.sleep(1)\n",
    "    print('outer loop')"
   ]
  },
  {
   "cell_type": "code",
   "execution_count": 1,
   "id": "3843f4d4",
   "metadata": {},
   "outputs": [],
   "source": [
    "l1 = ['hello', 'take']\n",
    "l2 =['dear', 'sir']"
   ]
  },
  {
   "cell_type": "code",
   "execution_count": 3,
   "id": "4fff4a26",
   "metadata": {},
   "outputs": [
    {
     "name": "stdout",
     "output_type": "stream",
     "text": [
      "hello dear\n",
      "hello sir\n",
      "take dear\n",
      "take sir\n"
     ]
    }
   ],
   "source": [
    "for l in l1:\n",
    "    \n",
    "    for k in l2:\n",
    "        print(l, k)"
   ]
  },
  {
   "cell_type": "code",
   "execution_count": 5,
   "id": "94d8a1a5",
   "metadata": {},
   "outputs": [],
   "source": [
    "# while 23232:\n",
    "#     print('')"
   ]
  },
  {
   "cell_type": "code",
   "execution_count": 6,
   "id": "cf241305",
   "metadata": {},
   "outputs": [
    {
     "name": "stdout",
     "output_type": "stream",
     "text": [
      "10 9 8 7 6 5 4 3 2 1 "
     ]
    }
   ],
   "source": [
    "n = 10\n",
    "while n:\n",
    "    print(n,end = ' ')\n",
    "    n = n - 1"
   ]
  },
  {
   "cell_type": "code",
   "execution_count": 7,
   "id": "035af78e",
   "metadata": {},
   "outputs": [],
   "source": [
    "n = 0\n",
    "while n:\n",
    "    print(n,end = ' ')\n",
    "    n = n - 1"
   ]
  },
  {
   "cell_type": "code",
   "execution_count": 8,
   "id": "8ec18a0f",
   "metadata": {},
   "outputs": [
    {
     "name": "stdout",
     "output_type": "stream",
     "text": [
      "0 1 2 3 4 5 6 7 8 9 10 "
     ]
    }
   ],
   "source": [
    "n = 0\n",
    "while n<=10:\n",
    "    print(n,end = ' ')\n",
    "    n = n + 1"
   ]
  },
  {
   "cell_type": "code",
   "execution_count": 9,
   "id": "0f2437b3",
   "metadata": {},
   "outputs": [
    {
     "name": "stdout",
     "output_type": "stream",
     "text": [
      "100 101 102 103 104 105 106 107 108 109 110 "
     ]
    }
   ],
   "source": [
    "n = 100\n",
    "while n:\n",
    "    print(n,end = ' ')\n",
    "    n = n + 1\n",
    "    if n == 111:break"
   ]
  },
  {
   "cell_type": "code",
   "execution_count": 11,
   "id": "e472df90",
   "metadata": {},
   "outputs": [
    {
     "name": "stdout",
     "output_type": "stream",
     "text": [
      "5\n",
      "4\n",
      "3\n",
      "2\n",
      "1\n",
      "cccc\n"
     ]
    }
   ],
   "source": [
    "n = 5\n",
    "while n:\n",
    "    print(n)\n",
    "    n = n-1\n",
    "else:\n",
    "    print('cccc')"
   ]
  },
  {
   "cell_type": "code",
   "execution_count": 13,
   "id": "3e19cc08",
   "metadata": {},
   "outputs": [
    {
     "name": "stdout",
     "output_type": "stream",
     "text": [
      "*\n",
      "**\n",
      "***\n",
      "****\n"
     ]
    }
   ],
   "source": [
    "i = 1\n",
    "while 1:\n",
    "    print('*'*i)\n",
    "    i = i +1\n",
    "    if i == 5:break"
   ]
  },
  {
   "cell_type": "code",
   "execution_count": 14,
   "id": "72a7fe21",
   "metadata": {},
   "outputs": [
    {
     "name": "stdout",
     "output_type": "stream",
     "text": [
      "**********\n",
      "*********\n",
      "********\n",
      "*******\n",
      "******\n",
      "*****\n",
      "****\n",
      "***\n",
      "**\n",
      "*\n"
     ]
    }
   ],
   "source": [
    "i = 10\n",
    "while i:\n",
    "    print('*'*i)\n",
    "    i = i -1\n",
    "    "
   ]
  },
  {
   "cell_type": "code",
   "execution_count": 17,
   "id": "ed3ff04a",
   "metadata": {},
   "outputs": [
    {
     "name": "stdout",
     "output_type": "stream",
     "text": [
      "                              *\n",
      "                              **\n",
      "                              ***\n",
      "                              ****\n",
      "                              *****\n",
      "                              ******\n",
      "                              *******\n",
      "                              ********\n"
     ]
    }
   ],
   "source": [
    "i = 1\n",
    "x = 30\n",
    "while 1:\n",
    "    print(' '*x, end = '')\n",
    "    print('*'*i)\n",
    "    i = i +1\n",
    "    \n",
    "    if i == 9:break"
   ]
  },
  {
   "cell_type": "code",
   "execution_count": 20,
   "id": "5a5d1c75",
   "metadata": {},
   "outputs": [
    {
     "name": "stdout",
     "output_type": "stream",
     "text": [
      "                              *\n",
      "                             **\n",
      "                            ***\n",
      "                           ****\n",
      "                          *****\n",
      "                         ******\n",
      "                        *******\n",
      "                       ********\n"
     ]
    }
   ],
   "source": [
    "i = 1\n",
    "x = 30\n",
    "while 1:\n",
    "    print(' '*x, end = '')\n",
    "    print('*'*i)\n",
    "    i = i +1\n",
    "    x = x-1\n",
    "    if i == 9:break"
   ]
  },
  {
   "cell_type": "code",
   "execution_count": 22,
   "id": "c66f0677",
   "metadata": {},
   "outputs": [
    {
     "name": "stdout",
     "output_type": "stream",
     "text": [
      "Enter Any number ? 34\n",
      "Enter Any number ? 34\n",
      "sum  68\n"
     ]
    }
   ],
   "source": [
    "na = int(input('Enter Any number ? '))\n",
    "nb = int(input('Enter Any number ? '))\n",
    "print('sum ', na+nb)"
   ]
  },
  {
   "cell_type": "code",
   "execution_count": 23,
   "id": "1b3c6aa4",
   "metadata": {},
   "outputs": [],
   "source": [
    "def calc():\n",
    "    na = int(input('Enter Any number ? '))\n",
    "    nb = int(input('Enter Any number ? '))\n",
    "    print('sum ', na+nb)"
   ]
  },
  {
   "cell_type": "code",
   "execution_count": 24,
   "id": "bc932410",
   "metadata": {},
   "outputs": [
    {
     "name": "stdout",
     "output_type": "stream",
     "text": [
      "Enter Any number ? 23\n",
      "Enter Any number ? 23\n",
      "sum  46\n"
     ]
    }
   ],
   "source": [
    "calc()"
   ]
  },
  {
   "cell_type": "code",
   "execution_count": 25,
   "id": "e5513124",
   "metadata": {},
   "outputs": [
    {
     "name": "stdout",
     "output_type": "stream",
     "text": [
      "Enter Any number ? 34\n",
      "Enter Any number ? 34\n",
      "sum  68\n"
     ]
    }
   ],
   "source": [
    "calc()"
   ]
  },
  {
   "cell_type": "code",
   "execution_count": 26,
   "id": "5c77ae05",
   "metadata": {},
   "outputs": [
    {
     "name": "stdout",
     "output_type": "stream",
     "text": [
      "Enter Any number ? 23\n",
      "Enter Any number ? 23\n",
      "sum  46\n"
     ]
    }
   ],
   "source": [
    "calc()"
   ]
  },
  {
   "cell_type": "code",
   "execution_count": 27,
   "id": "19bed0f9",
   "metadata": {},
   "outputs": [],
   "source": [
    "def calc(na,nb):\n",
    "\n",
    "    print('sum ', na+nb)"
   ]
  },
  {
   "cell_type": "code",
   "execution_count": 28,
   "id": "cecd6939",
   "metadata": {},
   "outputs": [
    {
     "name": "stdout",
     "output_type": "stream",
     "text": [
      "sum  176\n"
     ]
    }
   ],
   "source": [
    "calc(na = 89, nb = 87)"
   ]
  },
  {
   "cell_type": "code",
   "execution_count": 29,
   "id": "b2cba905",
   "metadata": {},
   "outputs": [
    {
     "name": "stdout",
     "output_type": "stream",
     "text": [
      "sum  176\n"
     ]
    },
    {
     "ename": "TypeError",
     "evalue": "unsupported operand type(s) for +: 'NoneType' and 'int'",
     "output_type": "error",
     "traceback": [
      "\u001b[1;31m---------------------------------------------------------------------------\u001b[0m",
      "\u001b[1;31mTypeError\u001b[0m                                 Traceback (most recent call last)",
      "\u001b[1;32m~\\AppData\\Local\\Temp/ipykernel_7256/4120898886.py\u001b[0m in \u001b[0;36m<module>\u001b[1;34m\u001b[0m\n\u001b[1;32m----> 1\u001b[1;33m \u001b[0mcalc\u001b[0m\u001b[1;33m(\u001b[0m\u001b[0mna\u001b[0m \u001b[1;33m=\u001b[0m \u001b[1;36m89\u001b[0m\u001b[1;33m,\u001b[0m \u001b[0mnb\u001b[0m \u001b[1;33m=\u001b[0m \u001b[1;36m87\u001b[0m\u001b[1;33m)\u001b[0m  \u001b[1;33m+\u001b[0m \u001b[1;36m1\u001b[0m\u001b[1;33m\u001b[0m\u001b[1;33m\u001b[0m\u001b[0m\n\u001b[0m",
      "\u001b[1;31mTypeError\u001b[0m: unsupported operand type(s) for +: 'NoneType' and 'int'"
     ]
    }
   ],
   "source": [
    "calc(na = 89, nb = 87)  + 1"
   ]
  },
  {
   "cell_type": "code",
   "execution_count": 30,
   "id": "658a5187",
   "metadata": {},
   "outputs": [],
   "source": [
    "def calc(na,nb):\n",
    "    return na+nb\n",
    "\n",
    "  "
   ]
  },
  {
   "cell_type": "code",
   "execution_count": 32,
   "id": "c7123d0b",
   "metadata": {},
   "outputs": [
    {
     "data": {
      "text/plain": [
       "58"
      ]
     },
     "execution_count": 32,
     "metadata": {},
     "output_type": "execute_result"
    }
   ],
   "source": [
    "calc(12,34)  +12"
   ]
  },
  {
   "cell_type": "code",
   "execution_count": 33,
   "id": "4ac551ef",
   "metadata": {},
   "outputs": [],
   "source": [
    "def calc(na,nb):\n",
    "    return 0\n",
    "    return na+nb"
   ]
  },
  {
   "cell_type": "code",
   "execution_count": 34,
   "id": "670d1875",
   "metadata": {},
   "outputs": [
    {
     "data": {
      "text/plain": [
       "0"
      ]
     },
     "execution_count": 34,
     "metadata": {},
     "output_type": "execute_result"
    }
   ],
   "source": [
    "calc(12,21)"
   ]
  },
  {
   "cell_type": "code",
   "execution_count": 35,
   "id": "7a7dd7f2",
   "metadata": {},
   "outputs": [],
   "source": [
    "def is_leap(year):\n",
    "    if (year%400 == 0) or (year%4 == 0 and year%100 != 0):\n",
    "        print(year,'leep year')\n",
    "    else:\n",
    "        print(year,'not leep year')"
   ]
  },
  {
   "cell_type": "code",
   "execution_count": 36,
   "id": "366d73f2",
   "metadata": {},
   "outputs": [
    {
     "name": "stdout",
     "output_type": "stream",
     "text": [
      "2022 not leep year\n"
     ]
    }
   ],
   "source": [
    "is_leap(2022)"
   ]
  },
  {
   "cell_type": "code",
   "execution_count": 37,
   "id": "8a562907",
   "metadata": {},
   "outputs": [],
   "source": [
    "def is_leap(year):\n",
    "    return (year%400 == 0) or (year%4 == 0 and year%100 != 0)\n"
   ]
  },
  {
   "cell_type": "code",
   "execution_count": 38,
   "id": "334e30f0",
   "metadata": {},
   "outputs": [],
   "source": [
    "add = lambda :33"
   ]
  },
  {
   "cell_type": "code",
   "execution_count": 39,
   "id": "124465cf",
   "metadata": {},
   "outputs": [
    {
     "data": {
      "text/plain": [
       "33"
      ]
     },
     "execution_count": 39,
     "metadata": {},
     "output_type": "execute_result"
    }
   ],
   "source": [
    "add()"
   ]
  },
  {
   "cell_type": "code",
   "execution_count": 40,
   "id": "78bece48",
   "metadata": {},
   "outputs": [],
   "source": [
    "add = lambda a,b :a+b"
   ]
  },
  {
   "cell_type": "code",
   "execution_count": 41,
   "id": "5b0cd548",
   "metadata": {},
   "outputs": [
    {
     "data": {
      "text/plain": [
       "14"
      ]
     },
     "execution_count": 41,
     "metadata": {},
     "output_type": "execute_result"
    }
   ],
   "source": [
    "add(2,12)"
   ]
  },
  {
   "cell_type": "code",
   "execution_count": 43,
   "id": "95a4f07d",
   "metadata": {},
   "outputs": [],
   "source": [
    "even = lambda x: x%2==0"
   ]
  },
  {
   "cell_type": "code",
   "execution_count": 44,
   "id": "7db3df45",
   "metadata": {},
   "outputs": [
    {
     "data": {
      "text/plain": [
       "False"
      ]
     },
     "execution_count": 44,
     "metadata": {},
     "output_type": "execute_result"
    }
   ],
   "source": [
    "even(33)"
   ]
  },
  {
   "cell_type": "code",
   "execution_count": 45,
   "id": "2420aa1c",
   "metadata": {},
   "outputs": [
    {
     "data": {
      "text/plain": [
       "[234, 4556, 5677, 678]"
      ]
     },
     "execution_count": 45,
     "metadata": {},
     "output_type": "execute_result"
    }
   ],
   "source": [
    "[x for x in [234,4556,5677,678]]"
   ]
  },
  {
   "cell_type": "code",
   "execution_count": 48,
   "id": "4fa1d3c4",
   "metadata": {},
   "outputs": [
    {
     "data": {
      "text/plain": [
       "[0, 0, 1, 0]"
      ]
     },
     "execution_count": 48,
     "metadata": {},
     "output_type": "execute_result"
    }
   ],
   "source": [
    "[x%2 for x in [234,4556,5677,678]]"
   ]
  },
  {
   "cell_type": "code",
   "execution_count": 49,
   "id": "332893c8",
   "metadata": {},
   "outputs": [
    {
     "name": "stdout",
     "output_type": "stream",
     "text": [
      "> 1 1 1 312 312 321 3 23 232 \n"
     ]
    },
    {
     "data": {
      "text/plain": [
       "'1 1 1 312 312 321 3 23 232 '"
      ]
     },
     "execution_count": 49,
     "metadata": {},
     "output_type": "execute_result"
    }
   ],
   "source": [
    "input('> ')"
   ]
  },
  {
   "cell_type": "code",
   "execution_count": 50,
   "id": "0ad829ac",
   "metadata": {},
   "outputs": [
    {
     "data": {
      "text/plain": [
       "['1', '1', '1', '312', '312', '321', '3', '23', '232']"
      ]
     },
     "execution_count": 50,
     "metadata": {},
     "output_type": "execute_result"
    }
   ],
   "source": [
    "'1 1 1 312 312 321 3 23 232 '.split()"
   ]
  },
  {
   "cell_type": "code",
   "execution_count": 51,
   "id": "e0038330",
   "metadata": {},
   "outputs": [
    {
     "name": "stdout",
     "output_type": "stream",
     "text": [
      ">>> 12 34 45 56 67 78\n"
     ]
    },
    {
     "data": {
      "text/plain": [
       "['12', '34', '45', '56', '67', '78']"
      ]
     },
     "execution_count": 51,
     "metadata": {},
     "output_type": "execute_result"
    }
   ],
   "source": [
    "[x for x in input('>>> ').split()]"
   ]
  },
  {
   "cell_type": "code",
   "execution_count": 52,
   "id": "02ece330",
   "metadata": {},
   "outputs": [
    {
     "name": "stdout",
     "output_type": "stream",
     "text": [
      ">>> 1 2 3 4 5 6 7 8\n"
     ]
    },
    {
     "data": {
      "text/plain": [
       "[1, 2, 3, 4, 5, 6, 7, 8]"
      ]
     },
     "execution_count": 52,
     "metadata": {},
     "output_type": "execute_result"
    }
   ],
   "source": [
    "[int(x) for x in input('>>> ').split()]"
   ]
  },
  {
   "cell_type": "code",
   "execution_count": 53,
   "id": "f2303c80",
   "metadata": {},
   "outputs": [
    {
     "name": "stdout",
     "output_type": "stream",
     "text": [
      ">>> 1 2 3 4 5 6\n"
     ]
    }
   ],
   "source": [
    "x = [int(x) for x in input('>>> ').split()]"
   ]
  },
  {
   "cell_type": "code",
   "execution_count": 54,
   "id": "229bdc47",
   "metadata": {},
   "outputs": [
    {
     "data": {
      "text/plain": [
       "[1, 2, 3, 4, 5, 6]"
      ]
     },
     "execution_count": 54,
     "metadata": {},
     "output_type": "execute_result"
    }
   ],
   "source": [
    "x"
   ]
  },
  {
   "cell_type": "code",
   "execution_count": 55,
   "id": "358ad06f",
   "metadata": {
    "collapsed": true
   },
   "outputs": [
    {
     "data": {
      "text/plain": [
       "21"
      ]
     },
     "execution_count": 55,
     "metadata": {},
     "output_type": "execute_result"
    }
   ],
   "source": [
    "sum(x)"
   ]
  },
  {
   "cell_type": "code",
   "execution_count": 56,
   "id": "6d08cb0a",
   "metadata": {
    "collapsed": true
   },
   "outputs": [
    {
     "name": "stdout",
     "output_type": "stream",
     "text": [
      ">>> 1 2 3 4 5 6 7 8 9 10\n"
     ]
    },
    {
     "data": {
      "text/plain": [
       "55"
      ]
     },
     "execution_count": 56,
     "metadata": {},
     "output_type": "execute_result"
    }
   ],
   "source": [
    "sum([int(x) for x in input('>>> ').split()])"
   ]
  },
  {
   "cell_type": "code",
   "execution_count": null,
   "id": "a3d7d79f",
   "metadata": {},
   "outputs": [],
   "source": []
  }
 ],
 "metadata": {
  "kernelspec": {
   "display_name": "Python 3 (ipykernel)",
   "language": "python",
   "name": "python3"
  },
  "language_info": {
   "codemirror_mode": {
    "name": "ipython",
    "version": 3
   },
   "file_extension": ".py",
   "mimetype": "text/x-python",
   "name": "python",
   "nbconvert_exporter": "python",
   "pygments_lexer": "ipython3",
   "version": "3.10.2"
  }
 },
 "nbformat": 4,
 "nbformat_minor": 5
}
