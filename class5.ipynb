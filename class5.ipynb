{
 "cells": [
  {
   "cell_type": "code",
   "execution_count": 1,
   "id": "7ce63f71",
   "metadata": {},
   "outputs": [],
   "source": [
    "import pandas as pd"
   ]
  },
  {
   "cell_type": "code",
   "execution_count": 2,
   "id": "d7b78858",
   "metadata": {},
   "outputs": [
    {
     "name": "stdout",
     "output_type": "stream",
     "text": [
      "0        akash\n",
      "1         amit\n",
      "2    babu bhai\n",
      "3    shaktiman\n",
      "4           pk\n",
      "5       rancho\n",
      "dtype: object\n"
     ]
    }
   ],
   "source": [
    "x=pd.Series([\"Akash\",\"Amit\",\"Babu Bhai\",\"shaktiman\",\"pk\",\"rancho\"])\n",
    "print(x.str.lower())"
   ]
  },
  {
   "cell_type": "code",
   "execution_count": 3,
   "id": "aab021bc",
   "metadata": {},
   "outputs": [
    {
     "name": "stdout",
     "output_type": "stream",
     "text": [
      "0        AKASH\n",
      "1         AMIT\n",
      "2    BABU BHAI\n",
      "3    SHAKTIMAN\n",
      "4           PK\n",
      "5       RANCHO\n",
      "dtype: object\n"
     ]
    }
   ],
   "source": [
    "print(x.str.upper())"
   ]
  },
  {
   "cell_type": "code",
   "execution_count": 4,
   "id": "951d2d0f",
   "metadata": {},
   "outputs": [
    {
     "name": "stdout",
     "output_type": "stream",
     "text": [
      "0    5\n",
      "1    4\n",
      "2    9\n",
      "3    9\n",
      "4    2\n",
      "5    6\n",
      "dtype: int64\n"
     ]
    }
   ],
   "source": [
    "print(x.str.len())"
   ]
  },
  {
   "cell_type": "code",
   "execution_count": 6,
   "id": "532ce7d7",
   "metadata": {},
   "outputs": [
    {
     "name": "stdout",
     "output_type": "stream",
     "text": [
      "6\n"
     ]
    }
   ],
   "source": [
    "print(len(x))"
   ]
  },
  {
   "cell_type": "code",
   "execution_count": null,
   "id": "0047f402",
   "metadata": {},
   "outputs": [],
   "source": []
  },
  {
   "cell_type": "code",
   "execution_count": 7,
   "id": "26a8dc04",
   "metadata": {},
   "outputs": [],
   "source": [
    "# strip"
   ]
  },
  {
   "cell_type": "code",
   "execution_count": 8,
   "id": "a17c7587",
   "metadata": {},
   "outputs": [
    {
     "name": "stdout",
     "output_type": "stream",
     "text": [
      "0        Akash\n",
      "1         Amit\n",
      "2    Babu Bhai\n",
      "3    shaktiman\n",
      "4           pk\n",
      "5       rancho\n",
      "dtype: object\n"
     ]
    }
   ],
   "source": [
    "a=pd.Series([\"   Akash\",   \"Amit\",   \"Babu Bhai\",   \"shaktiman\",\"pk\",\"rancho\"])\n",
    "print(a)\n"
   ]
  },
  {
   "cell_type": "code",
   "execution_count": 10,
   "id": "691fb2e7",
   "metadata": {},
   "outputs": [
    {
     "name": "stdout",
     "output_type": "stream",
     "text": [
      "0        Akash\n",
      "1         Amit\n",
      "2    Babu Bhai\n",
      "3    shaktiman\n",
      "4           pk\n",
      "5       rancho\n",
      "dtype: object\n"
     ]
    }
   ],
   "source": [
    "print(a.str.strip())"
   ]
  },
  {
   "cell_type": "code",
   "execution_count": 11,
   "id": "5d16d366",
   "metadata": {},
   "outputs": [],
   "source": [
    "# split\n"
   ]
  },
  {
   "cell_type": "code",
   "execution_count": 12,
   "id": "4da8da2a",
   "metadata": {},
   "outputs": [
    {
     "name": "stdout",
     "output_type": "stream",
     "text": [
      "0         [Akash]\n",
      "1          [Amit]\n",
      "2    [Babu, Bhai]\n",
      "3     [shaktiman]\n",
      "4            [pk]\n",
      "5        [rancho]\n",
      "dtype: object\n"
     ]
    }
   ],
   "source": [
    "print(a.str.split())"
   ]
  },
  {
   "cell_type": "code",
   "execution_count": 14,
   "id": "5ac72343",
   "metadata": {},
   "outputs": [],
   "source": [
    "# use of cat(sep = pattern)\n",
    "# concatenates the series/index elements with given seperator."
   ]
  },
  {
   "cell_type": "code",
   "execution_count": 15,
   "id": "dd2df436",
   "metadata": {},
   "outputs": [
    {
     "name": "stdout",
     "output_type": "stream",
     "text": [
      "Akash ** Amit ** Babu Bhai ** shaktiman ** pk ** rancho\n"
     ]
    }
   ],
   "source": [
    "x=pd.Series([\"Akash\",\"Amit\",\"Babu Bhai\",\"shaktiman\",\"pk\",\"rancho\"])\n",
    "print(x.str.cat(sep =\" ** \"))"
   ]
  },
  {
   "cell_type": "code",
   "execution_count": 16,
   "id": "461df731",
   "metadata": {},
   "outputs": [],
   "source": [
    "# use of contains(',')\n",
    "# returns a boolean value True for each element if the substring contains in  the element,else false:\n"
   ]
  },
  {
   "cell_type": "code",
   "execution_count": 18,
   "id": "fcac2a8e",
   "metadata": {},
   "outputs": [
    {
     "name": "stdout",
     "output_type": "stream",
     "text": [
      "0    False\n",
      "1    False\n",
      "2     True\n",
      "3    False\n",
      "4    False\n",
      "5    False\n",
      "dtype: bool\n"
     ]
    }
   ],
   "source": [
    "x=pd.Series([\"Akash\",\"Amit\",\"Babu Bhai\",\"shaktiman\",\"pk\",\"rancho\"])\n",
    "print(x.str.contains(\"bu\"))"
   ]
  },
  {
   "cell_type": "code",
   "execution_count": null,
   "id": "9b119695",
   "metadata": {},
   "outputs": [],
   "source": []
  },
  {
   "cell_type": "code",
   "execution_count": 19,
   "id": "00ed6e5c",
   "metadata": {},
   "outputs": [],
   "source": [
    "# use of replace"
   ]
  },
  {
   "cell_type": "code",
   "execution_count": 20,
   "id": "f53af95e",
   "metadata": {},
   "outputs": [
    {
     "name": "stdout",
     "output_type": "stream",
     "text": [
      "0        Akash\n",
      "1        sumit\n",
      "2    Babu Bhai\n",
      "3    shaktiman\n",
      "4           pk\n",
      "5       rancho\n",
      "dtype: object\n"
     ]
    }
   ],
   "source": [
    "x=pd.Series([\"Akash\",\"Amit\",\"Babu Bhai\",\"shaktiman\",\"pk\",\"rancho\"])\n",
    "print(x.str.replace('Am','sum'))"
   ]
  },
  {
   "cell_type": "code",
   "execution_count": 39,
   "id": "987c45c6",
   "metadata": {},
   "outputs": [
    {
     "name": "stdout",
     "output_type": "stream",
     "text": [
      "0                Akash Akash Akash \n",
      "1                   Amit Amit Amit \n",
      "2    Babu Bhai Babu Bhai Babu Bhai \n",
      "3    shaktiman shaktiman shaktiman \n",
      "4                         pk pk pk \n",
      "5             rancho rancho rancho \n",
      "dtype: object\n"
     ]
    }
   ],
   "source": [
    "# use of repeat(values)\n",
    "x=pd.Series([\"Akash \",\"Amit \",\"Babu Bhai \",\"shaktiman \",\"pk \",\"rancho \"])\n",
    "\n",
    "print(x.str.repeat(3))"
   ]
  },
  {
   "cell_type": "code",
   "execution_count": 34,
   "id": "d71fb102",
   "metadata": {},
   "outputs": [],
   "source": [
    "# count"
   ]
  },
  {
   "cell_type": "code",
   "execution_count": 35,
   "id": "a68ccf54",
   "metadata": {},
   "outputs": [
    {
     "name": "stdout",
     "output_type": "stream",
     "text": [
      "0    1\n",
      "1    1\n",
      "2    0\n",
      "3    0\n",
      "4    0\n",
      "5    0\n",
      "dtype: int64\n"
     ]
    }
   ],
   "source": [
    "x=pd.Series([\"Akash \",\"Amit \",\"Babu Bhai \",\"shaktiman \",\"pk \",\"rancho \"])\n",
    "print(x.str.count(\"A\"))"
   ]
  },
  {
   "cell_type": "code",
   "execution_count": 38,
   "id": "1ea819c0",
   "metadata": {},
   "outputs": [
    {
     "name": "stdout",
     "output_type": "stream",
     "text": [
      "0    0\n",
      "1    1\n",
      "2    0\n",
      "3    0\n",
      "4    0\n",
      "5    0\n",
      "dtype: int64\n"
     ]
    }
   ],
   "source": [
    " print(x.str.count(\"Am\"))"
   ]
  },
  {
   "cell_type": "code",
   "execution_count": 44,
   "id": "ab13e07f",
   "metadata": {},
   "outputs": [
    {
     "name": "stdout",
     "output_type": "stream",
     "text": [
      "0     True\n",
      "1     True\n",
      "2    False\n",
      "3    False\n",
      "4    False\n",
      "5    False\n",
      "dtype: bool\n",
      "0    False\n",
      "1    False\n",
      "2    False\n",
      "3     True\n",
      "4    False\n",
      "5    False\n",
      "dtype: bool\n"
     ]
    }
   ],
   "source": [
    "# use of ends with (pattern)\n",
    "\n",
    "x=pd.Series([\"Akash\",\"Amit\",\"Babu Bhai\",\"shaktiman\",\"pk\",\"rancho\"])\n",
    "print(x.str.startswith(\"A\"))\n",
    "print(x.str.startswith(\"s\"))\n"
   ]
  },
  {
   "cell_type": "code",
   "execution_count": 45,
   "id": "af51645f",
   "metadata": {},
   "outputs": [
    {
     "name": "stdout",
     "output_type": "stream",
     "text": [
      "0    False\n",
      "1    False\n",
      "2     True\n",
      "3    False\n",
      "4    False\n",
      "5    False\n",
      "dtype: bool\n"
     ]
    }
   ],
   "source": [
    "#  use of end with (pattern)\n",
    "# \n",
    "print(x.str.endswith(\"i\"))"
   ]
  },
  {
   "cell_type": "code",
   "execution_count": 50,
   "id": "f691ec8c",
   "metadata": {},
   "outputs": [
    {
     "name": "stdout",
     "output_type": "stream",
     "text": [
      "0    1\n",
      "1   -1\n",
      "2   -1\n",
      "3    3\n",
      "4    1\n",
      "5   -1\n",
      "dtype: int64\n",
      "0   -1\n",
      "1   -1\n",
      "2   -1\n",
      "3   -1\n",
      "4   -1\n",
      "5    3\n",
      "dtype: int64\n"
     ]
    }
   ],
   "source": [
    "# use of find patter\n",
    "# find(pattern): returns the first position of the first occurrence of the pattern\n",
    "# \"-1\" denoted that there is no such pattern available in the element\n",
    "\n",
    "\n",
    "z=pd.Series([\"Akash\",\"Amit\",\"Babu Bhai\",\"shaktiman\",\"pk\",\"ranocho\"])\n",
    "print(z.str.find(\"k\"))\n",
    "print(z.str.find(\"o\"))"
   ]
  },
  {
   "cell_type": "code",
   "execution_count": 51,
   "id": "b15a9754",
   "metadata": {},
   "outputs": [],
   "source": [
    "# use of findal method\n",
    "# return a list of all occurance of the pattern"
   ]
  },
  {
   "cell_type": "code",
   "execution_count": 52,
   "id": "2fdc7bac",
   "metadata": {},
   "outputs": [
    {
     "name": "stdout",
     "output_type": "stream",
     "text": [
      "0     []\n",
      "1    [m]\n",
      "2     []\n",
      "3    [m]\n",
      "4     []\n",
      "5     []\n",
      "dtype: object\n"
     ]
    }
   ],
   "source": [
    "x=pd.Series([\"Akash\",\"Amit\",\"Babu Bhai\",\"shaktiman\",\"pk\",\"rancho\"])\n",
    "print(x.str.findall(\"m\"))"
   ]
  },
  {
   "cell_type": "code",
   "execution_count": 53,
   "id": "1a94c674",
   "metadata": {},
   "outputs": [],
   "source": [
    "# swap case\n",
    "#  swap the case lower to upper and upper to lower\n"
   ]
  },
  {
   "cell_type": "code",
   "execution_count": 54,
   "id": "ed8f61ef",
   "metadata": {},
   "outputs": [
    {
     "name": "stdout",
     "output_type": "stream",
     "text": [
      "0        aKASH\n",
      "1         rAJU\n",
      "2    bABU bHAI\n",
      "3    SHAKTIMAN\n",
      "4           PK\n",
      "5          RAM\n",
      "dtype: object\n"
     ]
    }
   ],
   "source": [
    "x=pd.Series([\"Akash\",\"Raju\",\"Babu Bhai\",\"shaktiman\",\"pk\",\"ram\"])\n",
    "print(x.str.swapcase())"
   ]
  },
  {
   "cell_type": "code",
   "execution_count": 55,
   "id": "e06a75b9",
   "metadata": {},
   "outputs": [],
   "source": [
    "# isupper()\n",
    "# check whether all character in each string in the series/index in upper case or not\n",
    "# return boolean\n",
    "\n",
    "\n"
   ]
  },
  {
   "cell_type": "code",
   "execution_count": 57,
   "id": "c5c4e7cd",
   "metadata": {},
   "outputs": [
    {
     "name": "stdout",
     "output_type": "stream",
     "text": [
      "0    False\n",
      "1    False\n",
      "2    False\n",
      "3    False\n",
      "4     True\n",
      "5    False\n",
      "dtype: bool\n"
     ]
    }
   ],
   "source": [
    "x=pd.Series([\"Akash\",\"Amit\",\"Babu Bhai\",\"shaktiman\",\"PK\",\"rancho\"])\n",
    "print(x.str.isupper())"
   ]
  },
  {
   "cell_type": "code",
   "execution_count": null,
   "id": "7dc35c6f",
   "metadata": {},
   "outputs": [],
   "source": [
    "a = [10,20,30,40,50]\n",
    "b = input()\n",
    "while b:\n",
    "    if b == \"done\":\n",
    "        break\n",
    "print(a[b])\n"
   ]
  },
  {
   "cell_type": "code",
   "execution_count": null,
   "id": "e6f9d2ae",
   "metadata": {},
   "outputs": [],
   "source": []
  }
 ],
 "metadata": {
  "kernelspec": {
   "display_name": "Python 3 (ipykernel)",
   "language": "python",
   "name": "python3"
  },
  "language_info": {
   "codemirror_mode": {
    "name": "ipython",
    "version": 3
   },
   "file_extension": ".py",
   "mimetype": "text/x-python",
   "name": "python",
   "nbconvert_exporter": "python",
   "pygments_lexer": "ipython3",
   "version": "3.10.2"
  }
 },
 "nbformat": 4,
 "nbformat_minor": 5
}
