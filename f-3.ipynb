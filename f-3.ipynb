{
 "cells": [
  {
   "cell_type": "code",
   "execution_count": 275,
   "id": "7e9181d2",
   "metadata": {},
   "outputs": [],
   "source": [
    "def  fect(x):\n",
    "    f = 1\n",
    "    while x:\n",
    "        f = x*f\n",
    "        x = x-1\n",
    "    return f"
   ]
  },
  {
   "cell_type": "code",
   "execution_count": 276,
   "id": "e0823aae",
   "metadata": {},
   "outputs": [
    {
     "data": {
      "text/plain": [
       "120"
      ]
     },
     "execution_count": 276,
     "metadata": {},
     "output_type": "execute_result"
    }
   ],
   "source": [
    "fect(5)"
   ]
  },
  {
   "cell_type": "code",
   "execution_count": 277,
   "id": "a24cf246",
   "metadata": {},
   "outputs": [],
   "source": [
    "def combination (n,k):\n",
    "    return fect(n) / (fect(k)*fect(n-k))"
   ]
  },
  {
   "cell_type": "code",
   "execution_count": 279,
   "id": "cba9dd65",
   "metadata": {},
   "outputs": [
    {
     "data": {
      "text/plain": [
       "126.0"
      ]
     },
     "execution_count": 279,
     "metadata": {},
     "output_type": "execute_result"
    }
   ],
   "source": [
    "combination(9,5)"
   ]
  },
  {
   "cell_type": "code",
   "execution_count": 11,
   "id": "7e28fe1c",
   "metadata": {},
   "outputs": [],
   "source": [
    "def prime(x):\n",
    "    if x<=1:\n",
    "        return False\n",
    "    for i in range(2,x):\n",
    "        if x%i == 0:\n",
    "            return False\n",
    "    return True\n",
    "            "
   ]
  },
  {
   "cell_type": "code",
   "execution_count": 16,
   "id": "ba3edd42",
   "metadata": {},
   "outputs": [
    {
     "data": {
      "text/plain": [
       "False"
      ]
     },
     "execution_count": 16,
     "metadata": {},
     "output_type": "execute_result"
    }
   ],
   "source": [
    "prime(12)"
   ]
  },
  {
   "cell_type": "code",
   "execution_count": 289,
   "id": "3a87c28b",
   "metadata": {},
   "outputs": [],
   "source": [
    "def prime_bw(s,e):\n",
    "    ls = []\n",
    "    for i in range(s,e+1):\n",
    "        if prime(i):\n",
    "            ls = ls+[i]\n",
    "    return ls\n",
    "            "
   ]
  },
  {
   "cell_type": "code",
   "execution_count": 290,
   "id": "a7a77cf9",
   "metadata": {},
   "outputs": [
    {
     "data": {
      "text/plain": [
       "[2, 3, 5, 7, 11, 13, 17, 19]"
      ]
     },
     "execution_count": 290,
     "metadata": {},
     "output_type": "execute_result"
    }
   ],
   "source": [
    "prime_bw(1,20)"
   ]
  },
  {
   "cell_type": "code",
   "execution_count": 291,
   "id": "96f6bba1",
   "metadata": {},
   "outputs": [],
   "source": [
    "#######################################################"
   ]
  },
  {
   "cell_type": "code",
   "execution_count": 292,
   "id": "2a4f6f72",
   "metadata": {},
   "outputs": [
    {
     "data": {
      "text/plain": [
       "list"
      ]
     },
     "execution_count": 292,
     "metadata": {},
     "output_type": "execute_result"
    }
   ],
   "source": [
    "list"
   ]
  },
  {
   "cell_type": "code",
   "execution_count": 293,
   "id": "4265bd70",
   "metadata": {},
   "outputs": [],
   "source": [
    "ls = []"
   ]
  },
  {
   "cell_type": "code",
   "execution_count": 294,
   "id": "c7b231d1",
   "metadata": {},
   "outputs": [],
   "source": [
    "ls = list()"
   ]
  },
  {
   "cell_type": "code",
   "execution_count": 295,
   "id": "950a082f",
   "metadata": {},
   "outputs": [],
   "source": [
    "ls.append(100)"
   ]
  },
  {
   "cell_type": "code",
   "execution_count": 296,
   "id": "e5c1dd22",
   "metadata": {},
   "outputs": [
    {
     "data": {
      "text/plain": [
       "[100]"
      ]
     },
     "execution_count": 296,
     "metadata": {},
     "output_type": "execute_result"
    }
   ],
   "source": [
    "ls"
   ]
  },
  {
   "cell_type": "code",
   "execution_count": 297,
   "id": "4dc2923b",
   "metadata": {},
   "outputs": [],
   "source": [
    "ls.append(200)"
   ]
  },
  {
   "cell_type": "code",
   "execution_count": 298,
   "id": "893ffe1a",
   "metadata": {},
   "outputs": [
    {
     "data": {
      "text/plain": [
       "[100, 200]"
      ]
     },
     "execution_count": 298,
     "metadata": {},
     "output_type": "execute_result"
    }
   ],
   "source": [
    "ls"
   ]
  },
  {
   "cell_type": "code",
   "execution_count": 299,
   "id": "ff87c06e",
   "metadata": {},
   "outputs": [],
   "source": [
    "ls.append([1,1,1])"
   ]
  },
  {
   "cell_type": "code",
   "execution_count": 300,
   "id": "73db1b03",
   "metadata": {},
   "outputs": [
    {
     "data": {
      "text/plain": [
       "[100, 200, [1, 1, 1]]"
      ]
     },
     "execution_count": 300,
     "metadata": {},
     "output_type": "execute_result"
    }
   ],
   "source": [
    "ls"
   ]
  },
  {
   "cell_type": "code",
   "execution_count": 301,
   "id": "accb09bb",
   "metadata": {},
   "outputs": [],
   "source": [
    "ls.insert(0,321)"
   ]
  },
  {
   "cell_type": "code",
   "execution_count": 302,
   "id": "753c5458",
   "metadata": {},
   "outputs": [
    {
     "data": {
      "text/plain": [
       "[321, 100, 200, [1, 1, 1]]"
      ]
     },
     "execution_count": 302,
     "metadata": {},
     "output_type": "execute_result"
    }
   ],
   "source": [
    "ls"
   ]
  },
  {
   "cell_type": "code",
   "execution_count": 303,
   "id": "d17aad0c",
   "metadata": {},
   "outputs": [],
   "source": [
    "ls.extend([12,34,45,56,6,787,65,54])"
   ]
  },
  {
   "cell_type": "code",
   "execution_count": 304,
   "id": "370f46f3",
   "metadata": {},
   "outputs": [
    {
     "data": {
      "text/plain": [
       "[321, 100, 200, [1, 1, 1], 12, 34, 45, 56, 6, 787, 65, 54]"
      ]
     },
     "execution_count": 304,
     "metadata": {},
     "output_type": "execute_result"
    }
   ],
   "source": [
    "ls"
   ]
  },
  {
   "cell_type": "code",
   "execution_count": 305,
   "id": "0fccd9f6",
   "metadata": {},
   "outputs": [
    {
     "ename": "TypeError",
     "evalue": "'<' not supported between instances of 'list' and 'int'",
     "output_type": "error",
     "traceback": [
      "\u001b[1;31m---------------------------------------------------------------------------\u001b[0m",
      "\u001b[1;31mTypeError\u001b[0m                                 Traceback (most recent call last)",
      "\u001b[1;32m~\\AppData\\Local\\Temp/ipykernel_9088/2829101876.py\u001b[0m in \u001b[0;36m<module>\u001b[1;34m\u001b[0m\n\u001b[1;32m----> 1\u001b[1;33m \u001b[0mls\u001b[0m\u001b[1;33m.\u001b[0m\u001b[0msort\u001b[0m\u001b[1;33m(\u001b[0m\u001b[1;33m)\u001b[0m\u001b[1;33m\u001b[0m\u001b[1;33m\u001b[0m\u001b[0m\n\u001b[0m",
      "\u001b[1;31mTypeError\u001b[0m: '<' not supported between instances of 'list' and 'int'"
     ]
    }
   ],
   "source": [
    "ls.sort()"
   ]
  },
  {
   "cell_type": "code",
   "execution_count": 306,
   "id": "4f730a8e",
   "metadata": {},
   "outputs": [
    {
     "data": {
      "text/plain": [
       "[1, 1, 1]"
      ]
     },
     "execution_count": 306,
     "metadata": {},
     "output_type": "execute_result"
    }
   ],
   "source": [
    "ls.pop(3)"
   ]
  },
  {
   "cell_type": "code",
   "execution_count": 307,
   "id": "2afba6fb",
   "metadata": {},
   "outputs": [
    {
     "data": {
      "text/plain": [
       "[100, 200, 321, 12, 34, 45, 56, 6, 787, 65, 54]"
      ]
     },
     "execution_count": 307,
     "metadata": {},
     "output_type": "execute_result"
    }
   ],
   "source": [
    "ls"
   ]
  },
  {
   "cell_type": "code",
   "execution_count": 308,
   "id": "ec440d9a",
   "metadata": {},
   "outputs": [],
   "source": [
    "x = ls.pop()"
   ]
  },
  {
   "cell_type": "code",
   "execution_count": 309,
   "id": "2cc5a8fc",
   "metadata": {},
   "outputs": [
    {
     "data": {
      "text/plain": [
       "54"
      ]
     },
     "execution_count": 309,
     "metadata": {},
     "output_type": "execute_result"
    }
   ],
   "source": [
    "x"
   ]
  },
  {
   "cell_type": "code",
   "execution_count": 310,
   "id": "930a1dfb",
   "metadata": {},
   "outputs": [],
   "source": [
    "ls.reverse()"
   ]
  },
  {
   "cell_type": "code",
   "execution_count": 311,
   "id": "7fec11b4",
   "metadata": {},
   "outputs": [
    {
     "data": {
      "text/plain": [
       "[65, 787, 6, 56, 45, 34, 12, 321, 200, 100]"
      ]
     },
     "execution_count": 311,
     "metadata": {},
     "output_type": "execute_result"
    }
   ],
   "source": [
    "ls"
   ]
  },
  {
   "cell_type": "code",
   "execution_count": 312,
   "id": "6001365a",
   "metadata": {},
   "outputs": [],
   "source": [
    "ls.sort()"
   ]
  },
  {
   "cell_type": "code",
   "execution_count": 313,
   "id": "487c3514",
   "metadata": {},
   "outputs": [
    {
     "data": {
      "text/plain": [
       "[6, 12, 34, 45, 56, 65, 100, 200, 321, 787]"
      ]
     },
     "execution_count": 313,
     "metadata": {},
     "output_type": "execute_result"
    }
   ],
   "source": [
    "ls"
   ]
  },
  {
   "cell_type": "code",
   "execution_count": 314,
   "id": "f17e7bfb",
   "metadata": {},
   "outputs": [],
   "source": [
    "ls.sort(reverse = True)"
   ]
  },
  {
   "cell_type": "code",
   "execution_count": 315,
   "id": "526861d8",
   "metadata": {},
   "outputs": [
    {
     "data": {
      "text/plain": [
       "[787, 321, 200, 100, 65, 56, 45, 34, 12, 6]"
      ]
     },
     "execution_count": 315,
     "metadata": {},
     "output_type": "execute_result"
    }
   ],
   "source": [
    "ls"
   ]
  },
  {
   "cell_type": "code",
   "execution_count": 316,
   "id": "53c9afc5",
   "metadata": {},
   "outputs": [
    {
     "data": {
      "text/plain": [
       "1"
      ]
     },
     "execution_count": 316,
     "metadata": {},
     "output_type": "execute_result"
    }
   ],
   "source": [
    "ls.count(12)"
   ]
  },
  {
   "cell_type": "code",
   "execution_count": 317,
   "id": "c25a306f",
   "metadata": {},
   "outputs": [
    {
     "data": {
      "text/plain": [
       "2"
      ]
     },
     "execution_count": 317,
     "metadata": {},
     "output_type": "execute_result"
    }
   ],
   "source": [
    "ls.index(200)"
   ]
  },
  {
   "cell_type": "code",
   "execution_count": 318,
   "id": "c79cffb4",
   "metadata": {},
   "outputs": [
    {
     "data": {
      "text/plain": [
       "0"
      ]
     },
     "execution_count": 318,
     "metadata": {},
     "output_type": "execute_result"
    }
   ],
   "source": [
    "ls.count(10101)"
   ]
  },
  {
   "cell_type": "code",
   "execution_count": 319,
   "id": "f1f9429f",
   "metadata": {},
   "outputs": [
    {
     "ename": "ValueError",
     "evalue": "19898 is not in list",
     "output_type": "error",
     "traceback": [
      "\u001b[1;31m---------------------------------------------------------------------------\u001b[0m",
      "\u001b[1;31mValueError\u001b[0m                                Traceback (most recent call last)",
      "\u001b[1;32m~\\AppData\\Local\\Temp/ipykernel_9088/946992205.py\u001b[0m in \u001b[0;36m<module>\u001b[1;34m\u001b[0m\n\u001b[1;32m----> 1\u001b[1;33m \u001b[0mls\u001b[0m\u001b[1;33m.\u001b[0m\u001b[0mindex\u001b[0m\u001b[1;33m(\u001b[0m\u001b[1;36m19898\u001b[0m\u001b[1;33m)\u001b[0m\u001b[1;33m\u001b[0m\u001b[1;33m\u001b[0m\u001b[0m\n\u001b[0m",
      "\u001b[1;31mValueError\u001b[0m: 19898 is not in list"
     ]
    }
   ],
   "source": [
    "ls.index(19898)"
   ]
  },
  {
   "cell_type": "code",
   "execution_count": 320,
   "id": "120cec34",
   "metadata": {},
   "outputs": [],
   "source": [
    "ls.extend([200,200,200])"
   ]
  },
  {
   "cell_type": "code",
   "execution_count": 323,
   "id": "3d7c6b2b",
   "metadata": {},
   "outputs": [
    {
     "data": {
      "text/plain": [
       "4"
      ]
     },
     "execution_count": 323,
     "metadata": {},
     "output_type": "execute_result"
    }
   ],
   "source": [
    "ls.count(200)"
   ]
  },
  {
   "cell_type": "code",
   "execution_count": 325,
   "id": "0e975192",
   "metadata": {},
   "outputs": [
    {
     "name": "stdout",
     "output_type": "stream",
     "text": [
      "0\n",
      "1\n",
      "2\n",
      "3\n"
     ]
    }
   ],
   "source": [
    "for i in  range(ls.count(200)):\n",
    "    print(i)"
   ]
  },
  {
   "cell_type": "code",
   "execution_count": 326,
   "id": "b49fc30b",
   "metadata": {},
   "outputs": [],
   "source": [
    "for i in  range(ls.count(200)):\n",
    "    ls.remove(200)"
   ]
  },
  {
   "cell_type": "code",
   "execution_count": 327,
   "id": "a47a2de8",
   "metadata": {},
   "outputs": [
    {
     "data": {
      "text/plain": [
       "[787, 321, 100, 65, 56, 45, 34, 12, 6]"
      ]
     },
     "execution_count": 327,
     "metadata": {},
     "output_type": "execute_result"
    }
   ],
   "source": [
    "ls"
   ]
  },
  {
   "cell_type": "code",
   "execution_count": 328,
   "id": "9417437d",
   "metadata": {},
   "outputs": [],
   "source": [
    "ls.extend([200,200,200,23,2,4,200,3,4,200])"
   ]
  },
  {
   "cell_type": "code",
   "execution_count": 329,
   "id": "d07caf99",
   "metadata": {},
   "outputs": [
    {
     "data": {
      "text/plain": [
       "[787, 321, 100, 65, 56, 45, 34, 12, 6, 200, 200, 200, 23, 2, 4, 200, 3, 4, 200]"
      ]
     },
     "execution_count": 329,
     "metadata": {},
     "output_type": "execute_result"
    }
   ],
   "source": [
    "ls"
   ]
  },
  {
   "cell_type": "code",
   "execution_count": 330,
   "id": "0812106f",
   "metadata": {},
   "outputs": [
    {
     "data": {
      "text/plain": [
       "<enumerate at 0x217ce704ec0>"
      ]
     },
     "execution_count": 330,
     "metadata": {},
     "output_type": "execute_result"
    }
   ],
   "source": [
    "enumerate(ls)"
   ]
  },
  {
   "cell_type": "code",
   "execution_count": 332,
   "id": "8ada3ae7",
   "metadata": {},
   "outputs": [
    {
     "name": "stdout",
     "output_type": "stream",
     "text": [
      "(9, 200)\n",
      "(10, 200)\n",
      "(11, 200)\n",
      "(15, 200)\n",
      "(18, 200)\n"
     ]
    }
   ],
   "source": [
    "for d in enumerate(ls):\n",
    "    if d[1] == 200:\n",
    "        print(d)"
   ]
  },
  {
   "cell_type": "code",
   "execution_count": 334,
   "id": "9768cff2",
   "metadata": {},
   "outputs": [
    {
     "name": "stdout",
     "output_type": "stream",
     "text": [
      "9 200\n",
      "10 200\n",
      "11 200\n",
      "15 200\n",
      "18 200\n"
     ]
    }
   ],
   "source": [
    "for i ,d in enumerate(ls):\n",
    "    if d == 200:\n",
    "        print(i,d)"
   ]
  },
  {
   "cell_type": "code",
   "execution_count": 337,
   "id": "18ff6506",
   "metadata": {},
   "outputs": [],
   "source": [
    "d = (1,87676)"
   ]
  },
  {
   "cell_type": "code",
   "execution_count": 338,
   "id": "ddc475af",
   "metadata": {},
   "outputs": [
    {
     "data": {
      "text/plain": [
       "87676"
      ]
     },
     "execution_count": 338,
     "metadata": {},
     "output_type": "execute_result"
    }
   ],
   "source": [
    "d[1]"
   ]
  },
  {
   "cell_type": "code",
   "execution_count": null,
   "id": "20d6e430",
   "metadata": {},
   "outputs": [],
   "source": []
  },
  {
   "cell_type": "code",
   "execution_count": 339,
   "id": "96cf1e28",
   "metadata": {},
   "outputs": [],
   "source": [
    "ls.clear()"
   ]
  },
  {
   "cell_type": "code",
   "execution_count": 340,
   "id": "c5eb04e3",
   "metadata": {},
   "outputs": [
    {
     "data": {
      "text/plain": [
       "[]"
      ]
     },
     "execution_count": 340,
     "metadata": {},
     "output_type": "execute_result"
    }
   ],
   "source": [
    "ls"
   ]
  },
  {
   "cell_type": "code",
   "execution_count": 341,
   "id": "27930ee2",
   "metadata": {},
   "outputs": [],
   "source": [
    "ls = [1,2,3]"
   ]
  },
  {
   "cell_type": "code",
   "execution_count": 342,
   "id": "10c7d90a",
   "metadata": {},
   "outputs": [],
   "source": [
    "del ls[0]"
   ]
  },
  {
   "cell_type": "code",
   "execution_count": 343,
   "id": "05bec01e",
   "metadata": {},
   "outputs": [],
   "source": [
    "##########"
   ]
  },
  {
   "cell_type": "code",
   "execution_count": 344,
   "id": "f6ddf03e",
   "metadata": {},
   "outputs": [],
   "source": [
    "ls = [10,20]"
   ]
  },
  {
   "cell_type": "code",
   "execution_count": 345,
   "id": "2e405388",
   "metadata": {},
   "outputs": [],
   "source": [
    "ls1 = ls2 = ls"
   ]
  },
  {
   "cell_type": "code",
   "execution_count": 346,
   "id": "eb25b5d3",
   "metadata": {},
   "outputs": [],
   "source": [
    "ls[0] = 100"
   ]
  },
  {
   "cell_type": "code",
   "execution_count": 347,
   "id": "3df555c7",
   "metadata": {},
   "outputs": [
    {
     "data": {
      "text/plain": [
       "[100, 20]"
      ]
     },
     "execution_count": 347,
     "metadata": {},
     "output_type": "execute_result"
    }
   ],
   "source": [
    "ls1"
   ]
  },
  {
   "cell_type": "code",
   "execution_count": 348,
   "id": "3626cab2",
   "metadata": {},
   "outputs": [
    {
     "data": {
      "text/plain": [
       "[100, 20]"
      ]
     },
     "execution_count": 348,
     "metadata": {},
     "output_type": "execute_result"
    }
   ],
   "source": [
    "ls2"
   ]
  },
  {
   "cell_type": "code",
   "execution_count": 349,
   "id": "9803f1fd",
   "metadata": {},
   "outputs": [],
   "source": [
    "###############"
   ]
  },
  {
   "cell_type": "code",
   "execution_count": 350,
   "id": "4bc13b1a",
   "metadata": {},
   "outputs": [],
   "source": [
    "ls = [10,20]"
   ]
  },
  {
   "cell_type": "code",
   "execution_count": 351,
   "id": "38ee0aaf",
   "metadata": {},
   "outputs": [],
   "source": [
    "ls1 = ls.copy()"
   ]
  },
  {
   "cell_type": "code",
   "execution_count": 352,
   "id": "06042dfb",
   "metadata": {},
   "outputs": [],
   "source": [
    "ls1[0] = 98"
   ]
  },
  {
   "cell_type": "code",
   "execution_count": 353,
   "id": "0e96cd68",
   "metadata": {},
   "outputs": [
    {
     "data": {
      "text/plain": [
       "[10, 20]"
      ]
     },
     "execution_count": 353,
     "metadata": {},
     "output_type": "execute_result"
    }
   ],
   "source": [
    "ls"
   ]
  },
  {
   "cell_type": "code",
   "execution_count": 354,
   "id": "ec06c612",
   "metadata": {},
   "outputs": [
    {
     "data": {
      "text/plain": [
       "[98, 20]"
      ]
     },
     "execution_count": 354,
     "metadata": {},
     "output_type": "execute_result"
    }
   ],
   "source": [
    "ls1"
   ]
  },
  {
   "cell_type": "code",
   "execution_count": 355,
   "id": "6996d67e",
   "metadata": {},
   "outputs": [],
   "source": [
    "##############"
   ]
  },
  {
   "cell_type": "code",
   "execution_count": 358,
   "id": "fa114140",
   "metadata": {},
   "outputs": [],
   "source": [
    "ls = [10,20,[1,2]]"
   ]
  },
  {
   "cell_type": "code",
   "execution_count": 359,
   "id": "ea54329a",
   "metadata": {},
   "outputs": [],
   "source": [
    "ls1 = ls.copy()"
   ]
  },
  {
   "cell_type": "markdown",
   "id": "d52c3704",
   "metadata": {},
   "source": []
  },
  {
   "cell_type": "code",
   "execution_count": 360,
   "id": "2564e119",
   "metadata": {},
   "outputs": [],
   "source": [
    "ls1[0] = 988"
   ]
  },
  {
   "cell_type": "code",
   "execution_count": 361,
   "id": "5d1a71d0",
   "metadata": {},
   "outputs": [
    {
     "data": {
      "text/plain": [
       "[10, 20, [1, 2]]"
      ]
     },
     "execution_count": 361,
     "metadata": {},
     "output_type": "execute_result"
    }
   ],
   "source": [
    "ls"
   ]
  },
  {
   "cell_type": "code",
   "execution_count": 362,
   "id": "02b3c5f2",
   "metadata": {},
   "outputs": [
    {
     "data": {
      "text/plain": [
       "[1, 2]"
      ]
     },
     "execution_count": 362,
     "metadata": {},
     "output_type": "execute_result"
    }
   ],
   "source": [
    "ls[-1]"
   ]
  },
  {
   "cell_type": "code",
   "execution_count": 364,
   "id": "09476325",
   "metadata": {},
   "outputs": [
    {
     "data": {
      "text/plain": [
       "2"
      ]
     },
     "execution_count": 364,
     "metadata": {},
     "output_type": "execute_result"
    }
   ],
   "source": [
    "ls[-1][1]"
   ]
  },
  {
   "cell_type": "code",
   "execution_count": 365,
   "id": "2b2a8a26",
   "metadata": {},
   "outputs": [],
   "source": [
    "ls[-1][1] = 232888"
   ]
  },
  {
   "cell_type": "code",
   "execution_count": 366,
   "id": "7f3987b1",
   "metadata": {},
   "outputs": [
    {
     "data": {
      "text/plain": [
       "[10, 20, [1, 232888]]"
      ]
     },
     "execution_count": 366,
     "metadata": {},
     "output_type": "execute_result"
    }
   ],
   "source": [
    "ls"
   ]
  },
  {
   "cell_type": "code",
   "execution_count": 367,
   "id": "8ddd9337",
   "metadata": {},
   "outputs": [
    {
     "data": {
      "text/plain": [
       "[988, 20, [1, 232888]]"
      ]
     },
     "execution_count": 367,
     "metadata": {},
     "output_type": "execute_result"
    }
   ],
   "source": [
    "ls1"
   ]
  },
  {
   "cell_type": "code",
   "execution_count": 368,
   "id": "198952dd",
   "metadata": {},
   "outputs": [
    {
     "data": {
      "text/plain": [
       "True"
      ]
     },
     "execution_count": 368,
     "metadata": {},
     "output_type": "execute_result"
    }
   ],
   "source": [
    "ls[-1] is ls1[-1]"
   ]
  },
  {
   "cell_type": "code",
   "execution_count": 369,
   "id": "4ddb6a46",
   "metadata": {},
   "outputs": [
    {
     "data": {
      "text/plain": [
       "[988, 20, [1, 232888]]"
      ]
     },
     "execution_count": 369,
     "metadata": {},
     "output_type": "execute_result"
    }
   ],
   "source": [
    "ls1"
   ]
  },
  {
   "cell_type": "code",
   "execution_count": 370,
   "id": "63e8d546",
   "metadata": {},
   "outputs": [],
   "source": [
    "################"
   ]
  },
  {
   "cell_type": "code",
   "execution_count": 371,
   "id": "f2cd5c94",
   "metadata": {},
   "outputs": [],
   "source": [
    "import copy"
   ]
  },
  {
   "cell_type": "code",
   "execution_count": 372,
   "id": "104f45af",
   "metadata": {},
   "outputs": [],
   "source": [
    "ls2 = copy.deepcopy(ls)"
   ]
  },
  {
   "cell_type": "code",
   "execution_count": 373,
   "id": "2729250d",
   "metadata": {},
   "outputs": [
    {
     "data": {
      "text/plain": [
       "False"
      ]
     },
     "execution_count": 373,
     "metadata": {},
     "output_type": "execute_result"
    }
   ],
   "source": [
    "ls2[-1] is ls[-1]"
   ]
  },
  {
   "cell_type": "code",
   "execution_count": 374,
   "id": "bc8a20f9",
   "metadata": {},
   "outputs": [],
   "source": [
    "#################"
   ]
  },
  {
   "cell_type": "code",
   "execution_count": 375,
   "id": "74f0c2f3",
   "metadata": {},
   "outputs": [],
   "source": [
    "t = ()"
   ]
  },
  {
   "cell_type": "code",
   "execution_count": 376,
   "id": "31570ff7",
   "metadata": {},
   "outputs": [],
   "source": [
    "t = (1,2,3,4)"
   ]
  },
  {
   "cell_type": "code",
   "execution_count": 377,
   "id": "62ee829c",
   "metadata": {},
   "outputs": [
    {
     "data": {
      "text/plain": [
       "1"
      ]
     },
     "execution_count": 377,
     "metadata": {},
     "output_type": "execute_result"
    }
   ],
   "source": [
    "t.count(1)"
   ]
  },
  {
   "cell_type": "code",
   "execution_count": 378,
   "id": "79f6eab7",
   "metadata": {},
   "outputs": [
    {
     "data": {
      "text/plain": [
       "0"
      ]
     },
     "execution_count": 378,
     "metadata": {},
     "output_type": "execute_result"
    }
   ],
   "source": [
    "t.index(1)"
   ]
  },
  {
   "cell_type": "code",
   "execution_count": null,
   "id": "7f5c1827",
   "metadata": {},
   "outputs": [],
   "source": []
  }
 ],
 "metadata": {
  "kernelspec": {
   "display_name": "Python 3 (ipykernel)",
   "language": "python",
   "name": "python3"
  },
  "language_info": {
   "codemirror_mode": {
    "name": "ipython",
    "version": 3
   },
   "file_extension": ".py",
   "mimetype": "text/x-python",
   "name": "python",
   "nbconvert_exporter": "python",
   "pygments_lexer": "ipython3",
   "version": "3.10.2"
  }
 },
 "nbformat": 4,
 "nbformat_minor": 5
}
