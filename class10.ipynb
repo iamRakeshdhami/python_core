{
 "cells": [
  {
   "cell_type": "code",
   "execution_count": 1,
   "id": "10e4e6b7",
   "metadata": {},
   "outputs": [],
   "source": [
    "import pandas as pd"
   ]
  },
  {
   "cell_type": "code",
   "execution_count": 4,
   "id": "1b1d431a",
   "metadata": {},
   "outputs": [
    {
     "name": "stdout",
     "output_type": "stream",
     "text": [
      "     name class  grade  rollno\n",
      "0    sonu      A     b       1\n",
      "1  rakesh    600     b       2\n",
      "2    dani      C     a       3\n",
      "3  mukesh      D     a       4\n",
      "4  lokesh      E     c       5\n"
     ]
    }
   ],
   "source": [
    "x = pd.read_excel(\"C:/Users/acer/OneDrive/Documents/junglebook.xlsx\")\n",
    "x.iloc[1,1]=600\n",
    "print(x)"
   ]
  },
  {
   "cell_type": "code",
   "execution_count": 5,
   "id": "6e14f3f4",
   "metadata": {},
   "outputs": [
    {
     "data": {
      "text/html": [
       "<div>\n",
       "<style scoped>\n",
       "    .dataframe tbody tr th:only-of-type {\n",
       "        vertical-align: middle;\n",
       "    }\n",
       "\n",
       "    .dataframe tbody tr th {\n",
       "        vertical-align: top;\n",
       "    }\n",
       "\n",
       "    .dataframe thead th {\n",
       "        text-align: right;\n",
       "    }\n",
       "</style>\n",
       "<table border=\"1\" class=\"dataframe\">\n",
       "  <thead>\n",
       "    <tr style=\"text-align: right;\">\n",
       "      <th></th>\n",
       "      <th>name</th>\n",
       "      <th>class</th>\n",
       "      <th>grade</th>\n",
       "      <th>rollno</th>\n",
       "    </tr>\n",
       "  </thead>\n",
       "  <tbody>\n",
       "    <tr>\n",
       "      <th>0</th>\n",
       "      <td>sonu</td>\n",
       "      <td>A</td>\n",
       "      <td>b</td>\n",
       "      <td>1</td>\n",
       "    </tr>\n",
       "    <tr>\n",
       "      <th>1</th>\n",
       "      <td>rakesh</td>\n",
       "      <td>B</td>\n",
       "      <td>b</td>\n",
       "      <td>2</td>\n",
       "    </tr>\n",
       "    <tr>\n",
       "      <th>2</th>\n",
       "      <td>dani</td>\n",
       "      <td>C</td>\n",
       "      <td>a</td>\n",
       "      <td>3</td>\n",
       "    </tr>\n",
       "    <tr>\n",
       "      <th>3</th>\n",
       "      <td>mukesh</td>\n",
       "      <td>D</td>\n",
       "      <td>a</td>\n",
       "      <td>4</td>\n",
       "    </tr>\n",
       "    <tr>\n",
       "      <th>4</th>\n",
       "      <td>lokesh</td>\n",
       "      <td>E</td>\n",
       "      <td>c</td>\n",
       "      <td>5</td>\n",
       "    </tr>\n",
       "  </tbody>\n",
       "</table>\n",
       "</div>"
      ],
      "text/plain": [
       "     name class  grade  rollno\n",
       "0    sonu      A     b       1\n",
       "1  rakesh      B     b       2\n",
       "2    dani      C     a       3\n",
       "3  mukesh      D     a       4\n",
       "4  lokesh      E     c       5"
      ]
     },
     "execution_count": 5,
     "metadata": {},
     "output_type": "execute_result"
    }
   ],
   "source": [
    "a= pd.read_excel(\"C:/Users/acer/OneDrive/Documents/junglebook.xlsx\",sheet_name=\"Sheet1\")\n",
    "a"
   ]
  },
  {
   "cell_type": "code",
   "execution_count": 6,
   "id": "cdef029f",
   "metadata": {},
   "outputs": [
    {
     "data": {
      "text/html": [
       "<div>\n",
       "<style scoped>\n",
       "    .dataframe tbody tr th:only-of-type {\n",
       "        vertical-align: middle;\n",
       "    }\n",
       "\n",
       "    .dataframe tbody tr th {\n",
       "        vertical-align: top;\n",
       "    }\n",
       "\n",
       "    .dataframe thead th {\n",
       "        text-align: right;\n",
       "    }\n",
       "</style>\n",
       "<table border=\"1\" class=\"dataframe\">\n",
       "  <thead>\n",
       "    <tr style=\"text-align: right;\">\n",
       "      <th></th>\n",
       "      <th>Unnamed: 0</th>\n",
       "      <th>Unnamed: 1</th>\n",
       "      <th>Unnamed: 2</th>\n",
       "    </tr>\n",
       "  </thead>\n",
       "  <tbody>\n",
       "    <tr>\n",
       "      <th>0</th>\n",
       "      <td>NaN</td>\n",
       "      <td>fruits</td>\n",
       "      <td>rupees</td>\n",
       "    </tr>\n",
       "    <tr>\n",
       "      <th>1</th>\n",
       "      <td>NaN</td>\n",
       "      <td>mango</td>\n",
       "      <td>150</td>\n",
       "    </tr>\n",
       "    <tr>\n",
       "      <th>2</th>\n",
       "      <td>NaN</td>\n",
       "      <td>litchi</td>\n",
       "      <td>60</td>\n",
       "    </tr>\n",
       "    <tr>\n",
       "      <th>3</th>\n",
       "      <td>NaN</td>\n",
       "      <td>banana</td>\n",
       "      <td>60</td>\n",
       "    </tr>\n",
       "    <tr>\n",
       "      <th>4</th>\n",
       "      <td>NaN</td>\n",
       "      <td>papaya</td>\n",
       "      <td>70</td>\n",
       "    </tr>\n",
       "  </tbody>\n",
       "</table>\n",
       "</div>"
      ],
      "text/plain": [
       "   Unnamed: 0 Unnamed: 1 Unnamed: 2\n",
       "0         NaN     fruits     rupees\n",
       "1         NaN      mango        150\n",
       "2         NaN     litchi         60\n",
       "3         NaN     banana         60\n",
       "4         NaN     papaya         70"
      ]
     },
     "execution_count": 6,
     "metadata": {},
     "output_type": "execute_result"
    }
   ],
   "source": [
    "b  = pd.read_excel(\"C:/Users/acer/OneDrive/Documents/junglebook.xlsx\",sheet_name =\"Sheet2\")\n",
    "b"
   ]
  },
  {
   "cell_type": "code",
   "execution_count": 9,
   "id": "852b56ba",
   "metadata": {},
   "outputs": [
    {
     "data": {
      "text/html": [
       "<div>\n",
       "<style scoped>\n",
       "    .dataframe tbody tr th:only-of-type {\n",
       "        vertical-align: middle;\n",
       "    }\n",
       "\n",
       "    .dataframe tbody tr th {\n",
       "        vertical-align: top;\n",
       "    }\n",
       "\n",
       "    .dataframe thead th {\n",
       "        text-align: right;\n",
       "    }\n",
       "</style>\n",
       "<table border=\"1\" class=\"dataframe\">\n",
       "  <thead>\n",
       "    <tr style=\"text-align: right;\">\n",
       "      <th></th>\n",
       "      <th>Unnamed: 0</th>\n",
       "      <th>Unnamed: 1</th>\n",
       "    </tr>\n",
       "  </thead>\n",
       "  <tbody>\n",
       "    <tr>\n",
       "      <th>0</th>\n",
       "      <td>expenses</td>\n",
       "      <td>rs</td>\n",
       "    </tr>\n",
       "    <tr>\n",
       "      <th>1</th>\n",
       "      <td>rent</td>\n",
       "      <td>6000</td>\n",
       "    </tr>\n",
       "    <tr>\n",
       "      <th>2</th>\n",
       "      <td>electric</td>\n",
       "      <td>2000</td>\n",
       "    </tr>\n",
       "    <tr>\n",
       "      <th>3</th>\n",
       "      <td>water</td>\n",
       "      <td>500</td>\n",
       "    </tr>\n",
       "    <tr>\n",
       "      <th>4</th>\n",
       "      <td>food</td>\n",
       "      <td>6000</td>\n",
       "    </tr>\n",
       "    <tr>\n",
       "      <th>5</th>\n",
       "      <td>other mis.</td>\n",
       "      <td>2000</td>\n",
       "    </tr>\n",
       "  </tbody>\n",
       "</table>\n",
       "</div>"
      ],
      "text/plain": [
       "   Unnamed: 0 Unnamed: 1\n",
       "0    expenses         rs\n",
       "1        rent       6000\n",
       "2    electric       2000\n",
       "3       water        500\n",
       "4        food       6000\n",
       "5  other mis.       2000"
      ]
     },
     "execution_count": 9,
     "metadata": {},
     "output_type": "execute_result"
    }
   ],
   "source": [
    "c  = pd.read_excel(\"C:/Users/acer/OneDrive/Documents/junglebook.xlsx\",sheet_name =\"Sheet3\")\n",
    "c"
   ]
  },
  {
   "cell_type": "code",
   "execution_count": 23,
   "id": "c36c5918",
   "metadata": {},
   "outputs": [
    {
     "name": "stdout",
     "output_type": "stream",
     "text": [
      "  vegetable  marks\n",
      "A    potato     78\n",
      "B    tomato     79\n",
      "C      peas     69\n"
     ]
    }
   ],
   "source": [
    "x = pd.read_excel(\"C:/Users/acer/OneDrive/Documents/junglebook.xlsx\")\n",
    "with pd.ExcelWriter(\"alone.xlsx\")as writer:\n",
    "    x = pd.DataFrame({\"name\":[\"kajal\",\"koyal\",\"kiran\"],\"marks\":[78,79,69]},index = [1,2,3])\n",
    "    x.to_excel(writer,sheet_name =\"Sheet1\")\n",
    "    x = pd.DataFrame({\"fruits\":[\"mango\",\"apple\",\"banana\"],\"marks\":[78,79,69]},index = [\"a\",\"b\",\"c\"])\n",
    "    x.to_excel(writer,sheet_name =\"Sheet2\")\n",
    "    x = pd.DataFrame({\"vegetable\":[\"potato\",\"tomato\",\"peas\"],\"marks\":[78,79,69]},index = [\"A\",\"B\",\"C\"])\n",
    "    x.to_excel(writer,sheet_name =\"Sheet3\")\n",
    "    print(x)\n"
   ]
  },
  {
   "cell_type": "code",
   "execution_count": 20,
   "id": "3d0aa746",
   "metadata": {},
   "outputs": [
    {
     "name": "stdout",
     "output_type": "stream",
     "text": [
      "   fruits  marks\n",
      "a   mango   9000\n",
      "b   apple     79\n",
      "c  banana     69\n"
     ]
    }
   ],
   "source": [
    "with pd.ExcelWriter(\"alone.xlsx\")as writer:\n",
    "   \n",
    "    x = pd.DataFrame({\"fruits\":[\"mango\",\"apple\",\"banana\"],\"marks\":[78,79,69]},index = [\"a\",\"b\",\"c\"])\n",
    "    x.iloc[0,1]=9000\n",
    "    x.to_excel(writer,sheet_name =\"Sheet2\")\n",
    "    \n",
    "    print(x)\n"
   ]
  },
  {
   "cell_type": "code",
   "execution_count": 18,
   "id": "345c4049",
   "metadata": {},
   "outputs": [
    {
     "name": "stdout",
     "output_type": "stream",
     "text": [
      "    name  marks\n",
      "1  kajal     33\n",
      "2  koyal     79\n",
      "3  kiran     69\n"
     ]
    }
   ],
   "source": [
    "with pd.ExcelWriter(\"alone.xlsx\")as writer:\n",
    "    x = pd.DataFrame({\"name\":[\"kajal\",\"koyal\",\"kiran\"],\"marks\":[78,79,69]},index = [1,2,3])\n",
    "    x.iloc[0,1]=33\n",
    "    x.to_excel(writer,sheet_name =\"Sheet1\")\n",
    "    print(x)"
   ]
  },
  {
   "cell_type": "code",
   "execution_count": 32,
   "id": "9df7c97f",
   "metadata": {},
   "outputs": [
    {
     "name": "stdout",
     "output_type": "stream",
     "text": [
      "     movie  rate\n",
      "1       pk     8\n",
      "2  3 idiot     9\n",
      "3  golmaal     5\n",
      "   fruits  marks\n",
      "a   mango     78\n",
      "b   apple     79\n",
      "c  banana     69\n",
      "  vegetable  marks\n",
      "A    potato     78\n",
      "B    tomato     79\n",
      "C      peas     69\n",
      "            Game  marks\n",
      "A            gta     78\n",
      "B       downhill     79\n",
      "C  motal combate     69\n"
     ]
    }
   ],
   "source": [
    "with pd.ExcelWriter(\"cocacola.xlsx\")as writer:\n",
    "    a = pd.DataFrame({\"movie\":[\"pk\",\"3 idiot\",\"golmaal\"],\"rate\":[8,9,5]},index = [1,2,3])\n",
    "    a.to_excel(writer,sheet_name =\"Sheet1\")\n",
    "    b = pd.DataFrame({\"fruits\":[\"mango\",\"apple\",\"banana\"],\"marks\":[78,79,69]},index = [\"a\",\"b\",\"c\"])\n",
    "    b.to_excel(writer,sheet_name =\"Sheet2\")\n",
    "    c = pd.DataFrame({\"vegetable\":[\"potato\",\"tomato\",\"peas\"],\"marks\":[78,79,69]},index = [\"A\",\"B\",\"C\"])\n",
    "    c.to_excel(writer,sheet_name =\"Sheet3\")\n",
    "    d = pd.DataFrame({\"Game\":[\"gta\",\"downhill\",\"motal combate\"],\"marks\":[78,79,69]},index = [\"A\",\"B\",\"C\"])\n",
    "    d.to_excel(writer,sheet_name =\"Sheet4\")\n",
    "    print(a)\n",
    "    print(b)\n",
    "    print(c)\n",
    "    print(d)"
   ]
  },
  {
   "cell_type": "code",
   "execution_count": null,
   "id": "1d60128b",
   "metadata": {},
   "outputs": [],
   "source": []
  },
  {
   "cell_type": "code",
   "execution_count": null,
   "id": "2a570d51",
   "metadata": {},
   "outputs": [],
   "source": []
  },
  {
   "cell_type": "code",
   "execution_count": null,
   "id": "2712178d",
   "metadata": {},
   "outputs": [],
   "source": []
  }
 ],
 "metadata": {
  "kernelspec": {
   "display_name": "Python 3 (ipykernel)",
   "language": "python",
   "name": "python3"
  },
  "language_info": {
   "codemirror_mode": {
    "name": "ipython",
    "version": 3
   },
   "file_extension": ".py",
   "mimetype": "text/x-python",
   "name": "python",
   "nbconvert_exporter": "python",
   "pygments_lexer": "ipython3",
   "version": "3.10.2"
  }
 },
 "nbformat": 4,
 "nbformat_minor": 5
}
