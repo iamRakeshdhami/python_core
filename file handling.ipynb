{
 "cells": [
  {
   "cell_type": "code",
   "execution_count": 5,
   "id": "c20d9e78",
   "metadata": {},
   "outputs": [],
   "source": [
    "f = open('MYDATA.xlsx', 'r')"
   ]
  },
  {
   "cell_type": "code",
   "execution_count": 6,
   "id": "0e909196",
   "metadata": {},
   "outputs": [
    {
     "data": {
      "text/plain": [
       "True"
      ]
     },
     "execution_count": 6,
     "metadata": {},
     "output_type": "execute_result"
    }
   ],
   "source": [
    "f.readable()"
   ]
  },
  {
   "cell_type": "code",
   "execution_count": 7,
   "id": "caf24973",
   "metadata": {},
   "outputs": [
    {
     "data": {
      "text/plain": [
       "False"
      ]
     },
     "execution_count": 7,
     "metadata": {},
     "output_type": "execute_result"
    }
   ],
   "source": [
    "f.writable()"
   ]
  },
  {
   "cell_type": "code",
   "execution_count": 8,
   "id": "04af1361",
   "metadata": {},
   "outputs": [],
   "source": [
    "################"
   ]
  },
  {
   "cell_type": "code",
   "execution_count": 14,
   "id": "bd1c1979",
   "metadata": {},
   "outputs": [],
   "source": [
    "f = open('MYDATA.txt', 'w')\n",
    "f.write('https:// meet.google.com \\n')\n",
    "f.write('https:// meet.google.com \\n')\n",
    "f.write('https:// meet.google.com \\n')\n",
    "f.close()"
   ]
  },
  {
   "cell_type": "code",
   "execution_count": 15,
   "id": "4fc68a15",
   "metadata": {},
   "outputs": [],
   "source": [
    "with open('MYDATA.txt', 'w') as f:\n",
    "    f.write('https:// meet.google.com \\n')\n",
    "    f.write('https:// meet.google.com \\n')\n",
    "    f.write('https:// meet.google.com \\n')\n"
   ]
  },
  {
   "cell_type": "code",
   "execution_count": 17,
   "id": "9930fbdc",
   "metadata": {},
   "outputs": [],
   "source": [
    "with open('MYDATA.txt', 'a') as f:\n",
    "    f.write('https:// meet.google.com \\n')\n",
    "    f.write('https:// meet.google.com \\n')\n",
    "    f.write('https:// meet.google.com \\n')"
   ]
  },
  {
   "cell_type": "code",
   "execution_count": 18,
   "id": "2c70e3ea",
   "metadata": {},
   "outputs": [
    {
     "data": {
      "text/plain": [
       "'https:// meet.google.com \\nhttps:// meet.google.com \\nhttps:// meet.google.com \\nhttps:// meet.google.com \\nhttps:// meet.google.com \\nhttps:// meet.google.com \\nhttps:// meet.google.com \\nhttps:// meet.google.com \\nhttps:// meet.google.com \\n'"
      ]
     },
     "execution_count": 18,
     "metadata": {},
     "output_type": "execute_result"
    }
   ],
   "source": [
    "file = open('MYDATA.txt', 'r')\n",
    "file.read()"
   ]
  },
  {
   "cell_type": "code",
   "execution_count": 20,
   "id": "15c14820",
   "metadata": {},
   "outputs": [
    {
     "name": "stdout",
     "output_type": "stream",
     "text": [
      "https:// meet.google.com \n",
      "https:// meet.google.com \n",
      "https:// meet.google.com \n",
      "https:// meet.google.com \n",
      "https:// meet.google.com \n",
      "https:// meet.google.com \n",
      "https:// meet.google.com \n",
      "https:// meet.google.com \n",
      "https:// meet.google.com \n",
      "\n"
     ]
    }
   ],
   "source": [
    "file = open('MYDATA.txt')\n",
    "print(file.read())"
   ]
  },
  {
   "cell_type": "code",
   "execution_count": 21,
   "id": "306e6d29",
   "metadata": {},
   "outputs": [
    {
     "name": "stdout",
     "output_type": "stream",
     "text": [
      "https:// meet.google.com \n",
      "\n"
     ]
    }
   ],
   "source": [
    "file = open('MYDATA.txt')\n",
    "print(file.readline())"
   ]
  },
  {
   "cell_type": "code",
   "execution_count": 22,
   "id": "c8de070b",
   "metadata": {},
   "outputs": [
    {
     "name": "stdout",
     "output_type": "stream",
     "text": [
      "https:// meet.google.com \n",
      "\n"
     ]
    }
   ],
   "source": [
    "print(file.readline())"
   ]
  },
  {
   "cell_type": "code",
   "execution_count": 23,
   "id": "089eff4b",
   "metadata": {},
   "outputs": [
    {
     "name": "stdout",
     "output_type": "stream",
     "text": [
      "https:// meet.google.com \n",
      "\n"
     ]
    }
   ],
   "source": [
    "print(file.readline())"
   ]
  },
  {
   "cell_type": "code",
   "execution_count": 24,
   "id": "b80a0c19",
   "metadata": {},
   "outputs": [],
   "source": [
    "text = \"\"\"\n",
    "pygame.mixer.music.load\n",
    "Load a music file for playback\n",
    "pygame.mixer.music.unload\n",
    "Unload the currently loaded music to free up resources\n",
    "pygame.mixer.music.play\n",
    "Start the playback of the music stream\n",
    "pygame.mixer.music.rewind\n",
    "restart music\n",
    "pygame.mixer.music.stop\n",
    "stop the music playback\n",
    "pygame.mixer.music.pause\n",
    "temporarily stop music playback\n",
    "\"\"\""
   ]
  },
  {
   "cell_type": "code",
   "execution_count": 25,
   "id": "c59e857b",
   "metadata": {},
   "outputs": [],
   "source": [
    "file = open('file.txt', 'a')\n",
    "file.write(text)\n",
    "file.close()"
   ]
  },
  {
   "cell_type": "code",
   "execution_count": 26,
   "id": "afe44830",
   "metadata": {},
   "outputs": [],
   "source": [
    "f = open('file.txt', 'r')\n"
   ]
  },
  {
   "cell_type": "code",
   "execution_count": 27,
   "id": "ba3e6b5e",
   "metadata": {},
   "outputs": [
    {
     "data": {
      "text/plain": [
       "'\\n'"
      ]
     },
     "execution_count": 27,
     "metadata": {},
     "output_type": "execute_result"
    }
   ],
   "source": [
    "f.readline()"
   ]
  },
  {
   "cell_type": "code",
   "execution_count": 28,
   "id": "bbe2b24c",
   "metadata": {},
   "outputs": [
    {
     "data": {
      "text/plain": [
       "'pygame.mixer.music.load\\n'"
      ]
     },
     "execution_count": 28,
     "metadata": {},
     "output_type": "execute_result"
    }
   ],
   "source": [
    "f.readline()"
   ]
  },
  {
   "cell_type": "code",
   "execution_count": 29,
   "id": "3f62551a",
   "metadata": {},
   "outputs": [
    {
     "data": {
      "text/plain": [
       "'Load a music file for playback\\n'"
      ]
     },
     "execution_count": 29,
     "metadata": {},
     "output_type": "execute_result"
    }
   ],
   "source": [
    "f.readline()"
   ]
  },
  {
   "cell_type": "code",
   "execution_count": 30,
   "id": "cffc9ee8",
   "metadata": {},
   "outputs": [
    {
     "name": "stdout",
     "output_type": "stream",
     "text": [
      "pygame.mix\n"
     ]
    }
   ],
   "source": [
    "print(f.read(10))"
   ]
  },
  {
   "cell_type": "code",
   "execution_count": 31,
   "id": "18ecabe9",
   "metadata": {},
   "outputs": [
    {
     "name": "stdout",
     "output_type": "stream",
     "text": [
      "er.music.unload\n",
      "Unload the currently loaded music to free up resources\n",
      "pygame.mixer.music.play\n",
      "Start the playback of the music stream\n",
      "pygame.mixer.music.rewind\n",
      "restart music\n",
      "pygame.mixer.music.stop\n",
      "stop the music playback\n",
      "pygame.mixer.music.pause\n",
      "temporarily stop music playback\n",
      "\n"
     ]
    }
   ],
   "source": [
    "print(f.read())"
   ]
  },
  {
   "cell_type": "code",
   "execution_count": 32,
   "id": "0d963596",
   "metadata": {},
   "outputs": [
    {
     "name": "stdout",
     "output_type": "stream",
     "text": [
      "\n"
     ]
    }
   ],
   "source": [
    "print(f.read())"
   ]
  },
  {
   "cell_type": "code",
   "execution_count": 33,
   "id": "0bdcc68d",
   "metadata": {},
   "outputs": [
    {
     "data": {
      "text/plain": [
       "358"
      ]
     },
     "execution_count": 33,
     "metadata": {},
     "output_type": "execute_result"
    }
   ],
   "source": [
    "f.tell()"
   ]
  },
  {
   "cell_type": "code",
   "execution_count": 34,
   "id": "931845ec",
   "metadata": {},
   "outputs": [
    {
     "data": {
      "text/plain": [
       "0"
      ]
     },
     "execution_count": 34,
     "metadata": {},
     "output_type": "execute_result"
    }
   ],
   "source": [
    "f.seek(0)"
   ]
  },
  {
   "cell_type": "code",
   "execution_count": 35,
   "id": "97deba0d",
   "metadata": {},
   "outputs": [
    {
     "data": {
      "text/plain": [
       "0"
      ]
     },
     "execution_count": 35,
     "metadata": {},
     "output_type": "execute_result"
    }
   ],
   "source": [
    "f.tell()"
   ]
  },
  {
   "cell_type": "code",
   "execution_count": 36,
   "id": "1ff2bcc1",
   "metadata": {},
   "outputs": [
    {
     "name": "stdout",
     "output_type": "stream",
     "text": [
      "\n",
      "pygame.mixer.music.load\n",
      "Load a music file for playback\n",
      "pygame.mixer.music.unload\n",
      "Unload the currently loaded music to free up resources\n",
      "pygame.mixer.music.play\n",
      "Start the playback of the music stream\n",
      "pygame.mixer.music.rewind\n",
      "restart music\n",
      "pygame.mixer.music.stop\n",
      "stop the music playback\n",
      "pygame.mixer.music.pause\n",
      "temporarily stop music playback\n",
      "\n"
     ]
    }
   ],
   "source": [
    "print(f.read())"
   ]
  },
  {
   "cell_type": "code",
   "execution_count": 37,
   "id": "c4303e24",
   "metadata": {},
   "outputs": [
    {
     "name": "stdout",
     "output_type": "stream",
     "text": [
      "\n",
      "\n",
      "pygame.mixer.music.load\n",
      "\n",
      "Load a music file for playback\n",
      "\n",
      "pygame.mixer.music.unload\n",
      "\n",
      "Unload the currently loaded music to free up resources\n",
      "\n",
      "pygame.mixer.music.play\n",
      "\n",
      "Start the playback of the music stream\n",
      "\n",
      "pygame.mixer.music.rewind\n",
      "\n",
      "restart music\n",
      "\n",
      "pygame.mixer.music.stop\n",
      "\n",
      "stop the music playback\n",
      "\n",
      "pygame.mixer.music.pause\n",
      "\n",
      "temporarily stop music playback\n",
      "\n"
     ]
    }
   ],
   "source": [
    "f.seek(0)\n",
    "for line in f:\n",
    "    print(line)"
   ]
  },
  {
   "cell_type": "code",
   "execution_count": 38,
   "id": "40abecee",
   "metadata": {},
   "outputs": [
    {
     "data": {
      "text/plain": [
       "['\\n',\n",
       " 'pygame.mixer.music.load\\n',\n",
       " 'Load a music file for playback\\n',\n",
       " 'pygame.mixer.music.unload\\n',\n",
       " 'Unload the currently loaded music to free up resources\\n',\n",
       " 'pygame.mixer.music.play\\n',\n",
       " 'Start the playback of the music stream\\n',\n",
       " 'pygame.mixer.music.rewind\\n',\n",
       " 'restart music\\n',\n",
       " 'pygame.mixer.music.stop\\n',\n",
       " 'stop the music playback\\n',\n",
       " 'pygame.mixer.music.pause\\n',\n",
       " 'temporarily stop music playback\\n']"
      ]
     },
     "execution_count": 38,
     "metadata": {},
     "output_type": "execute_result"
    }
   ],
   "source": [
    "f.seek(0)\n",
    "f.readlines()"
   ]
  },
  {
   "cell_type": "code",
   "execution_count": 39,
   "id": "b310b3dc",
   "metadata": {},
   "outputs": [
    {
     "name": "stdout",
     "output_type": "stream",
     "text": [
      "name,age\n",
      "a,23\n",
      "b,34\n",
      "c,67\n"
     ]
    }
   ],
   "source": [
    "f = open('detail.csv')\n",
    "print(f.read())"
   ]
  },
  {
   "cell_type": "code",
   "execution_count": 40,
   "id": "723f848f",
   "metadata": {},
   "outputs": [
    {
     "name": "stdout",
     "output_type": "stream",
     "text": [
      "Enter Your Name ? kajal\n",
      "Enter Age ? 23\n",
      "[yes | no]\n",
      "Enter Your Name ? kanika\n",
      "Enter Age ? 21\n",
      "[yes | no]\n",
      "Enter Your Name ? rakesh\n",
      "Enter Age ? 25\n",
      "[yes | no]\n",
      "Enter Your Name ? akash\n",
      "Enter Age ? 26\n",
      "[yes | no]\n",
      "Enter Your Name ? laksh\n",
      "Enter Age ? 18\n",
      "[yes | no]hemlata\n",
      "Enter Your Name ? hemlata\n",
      "Enter Age ? 22\n",
      "[yes | no]no\n"
     ]
    }
   ],
   "source": [
    "f = open('student.csv', 'w')\n",
    "f.write('name,age\\n')\n",
    "\n",
    "while 1:\n",
    "    name = input('Enter Your Name ? ')\n",
    "    age = input(\"Enter Age ? \")\n",
    "    s = f\"{name},{age}\\n\"\n",
    "    f.write(s)\n",
    "    c = input('[yes | no]')\n",
    "    if c == 'no':\n",
    "        f.close()\n",
    "        break\n",
    "    "
   ]
  },
  {
   "cell_type": "code",
   "execution_count": 41,
   "id": "185e77ba",
   "metadata": {},
   "outputs": [
    {
     "name": "stdout",
     "output_type": "stream",
     "text": [
      "kajal,23\n",
      "\n",
      "kanika,21\n",
      "\n",
      "rakesh,25\n",
      "\n",
      "akash,26\n",
      "\n",
      "laksh,18\n",
      "\n",
      "hemlata,22\n",
      "\n"
     ]
    }
   ],
   "source": [
    "f = open('student.csv', 'r')\n",
    "col = f.readline()\n",
    "for data in f:\n",
    "    print(data)"
   ]
  },
  {
   "cell_type": "code",
   "execution_count": 44,
   "id": "5bdf509b",
   "metadata": {},
   "outputs": [
    {
     "name": "stdout",
     "output_type": "stream",
     "text": [
      "23\n",
      "21\n",
      "25\n",
      "26\n",
      "18\n",
      "22\n"
     ]
    }
   ],
   "source": [
    "f = open('student.csv', 'r')\n",
    "col = f.readline()\n",
    "for data in f:\n",
    "    print(int(data.split(',')[1]))"
   ]
  },
  {
   "cell_type": "code",
   "execution_count": 46,
   "id": "b1c8d39c",
   "metadata": {},
   "outputs": [
    {
     "name": "stdout",
     "output_type": "stream",
     "text": [
      "sum =  135\n",
      "avg =  22.5\n"
     ]
    }
   ],
   "source": [
    "f = open('student.csv', 'r')\n",
    "col = f.readline()\n",
    "s = 0\n",
    "i = 0\n",
    "for data in f:\n",
    "    s = s+(int(data.split(',')[1]))\n",
    "    i = i+1\n",
    "print('sum = ', s)\n",
    "print('avg = ', s/i)"
   ]
  },
  {
   "cell_type": "code",
   "execution_count": null,
   "id": "23eb34dd",
   "metadata": {},
   "outputs": [],
   "source": []
  }
 ],
 "metadata": {
  "kernelspec": {
   "display_name": "Python 3 (ipykernel)",
   "language": "python",
   "name": "python3"
  },
  "language_info": {
   "codemirror_mode": {
    "name": "ipython",
    "version": 3
   },
   "file_extension": ".py",
   "mimetype": "text/x-python",
   "name": "python",
   "nbconvert_exporter": "python",
   "pygments_lexer": "ipython3",
   "version": "3.10.2"
  }
 },
 "nbformat": 4,
 "nbformat_minor": 5
}
